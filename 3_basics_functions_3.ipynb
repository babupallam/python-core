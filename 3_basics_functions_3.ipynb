{
 "cells": [
  {
   "attachments": {},
   "cell_type": "markdown",
   "metadata": {},
   "source": [
    "# Python Functions\n",
    "    # - block of code exicute independantly to change the state"
   ]
  },
  {
   "cell_type": "code",
   "execution_count": 1,
   "metadata": {},
   "outputs": [
    {
     "name": "stdout",
     "output_type": "stream",
     "text": [
      "Hello from a function\n"
     ]
    }
   ],
   "source": [
    "\n",
    "def my_function():\n",
    "  print(\"Hello from a function\")\n",
    "\n",
    "my_function()\n"
   ]
  },
  {
   "cell_type": "code",
   "execution_count": 2,
   "metadata": {},
   "outputs": [
    {
     "name": "stdout",
     "output_type": "stream",
     "text": [
      "Emil Refsnes\n",
      "Tobias Refsnes\n",
      "Linus Refsnes\n"
     ]
    }
   ],
   "source": [
    "#function with arguments\n",
    "def my_function(fname):\n",
    "  print(fname + \" Refsnes\")\n",
    "\n",
    "my_function(\"Emil\")\n",
    "my_function(\"Tobias\")\n",
    "my_function(\"Linus\")"
   ]
  },
  {
   "cell_type": "code",
   "execution_count": 3,
   "metadata": {},
   "outputs": [
    {
     "name": "stdout",
     "output_type": "stream",
     "text": [
      "The youngest child is Linus\n"
     ]
    }
   ],
   "source": [
    "#arbitrary arguments *args\n",
    "    # - if no of arguments is not known or more\n",
    "\n",
    "def my_function(*kids):\n",
    "  print(\"The youngest child is \" + kids[2])\n",
    "\n",
    "my_function(\"Emil\", \"Tobias\", \"Linus\")\n"
   ]
  },
  {
   "cell_type": "code",
   "execution_count": 4,
   "metadata": {},
   "outputs": [
    {
     "name": "stdout",
     "output_type": "stream",
     "text": [
      "The youngest child is Linus\n"
     ]
    }
   ],
   "source": [
    "#keyword arguments\n",
    "#  - send arguments with the key = value syntax.\n",
    "#  - order of arguments are not mattered\n",
    "\n",
    "def my_function(child3, child2, child1):\n",
    "  print(\"The youngest child is \" + child3)\n",
    "\n",
    "my_function(child1 = \"Emil\", child2 = \"Tobias\", child3 = \"Linus\")\n",
    "\n"
   ]
  },
  {
   "cell_type": "code",
   "execution_count": 5,
   "metadata": {},
   "outputs": [
    {
     "name": "stdout",
     "output_type": "stream",
     "text": [
      "His last name is Refsnes\n"
     ]
    }
   ],
   "source": [
    "# Arbitrary Keyword Arguments, **kwargs\n",
    "    # - This way the function will receive a dictionary \n",
    "    # of arguments, and can access the items accordingly:\n",
    "\n",
    "\n",
    "\n",
    "def my_function(**kid):\n",
    "  print(\"His last name is \" + kid[\"lname\"])\n",
    "\n",
    "my_function(fname = \"Tobias\", lname = \"Refsnes\")\n"
   ]
  },
  {
   "cell_type": "code",
   "execution_count": 6,
   "metadata": {},
   "outputs": [
    {
     "name": "stdout",
     "output_type": "stream",
     "text": [
      "I am from Sweden\n",
      "I am from India\n",
      "I am from Norway\n",
      "I am from Brazil\n"
     ]
    }
   ],
   "source": [
    "#default parameter\n",
    "def my_function(country = \"Norway\"):\n",
    "  print(\"I am from \" + country)\n",
    "\n",
    "my_function(\"Sweden\")\n",
    "my_function(\"India\")\n",
    "my_function()\n",
    "my_function(\"Brazil\")\n"
   ]
  },
  {
   "cell_type": "code",
   "execution_count": 7,
   "metadata": {},
   "outputs": [
    {
     "name": "stdout",
     "output_type": "stream",
     "text": [
      "15\n",
      "25\n",
      "45\n"
     ]
    }
   ],
   "source": [
    "#returning values\n",
    "\n",
    "def my_function(x):\n",
    "  return 5 * x\n",
    "\n",
    "print(my_function(3))\n",
    "print(my_function(5))\n",
    "print(my_function(9))\n"
   ]
  },
  {
   "cell_type": "code",
   "execution_count": 8,
   "metadata": {},
   "outputs": [
    {
     "name": "stdout",
     "output_type": "stream",
     "text": [
      "720\n"
     ]
    }
   ],
   "source": [
    "# Recursion\n",
    "    # - function call itself\n",
    "\n",
    "def factorial(n):\n",
    "    if(n==1):\n",
    "        return 1\n",
    "    else:\n",
    "        return n*factorial(n-1)\n",
    "print(factorial(6))"
   ]
  },
  {
   "attachments": {},
   "cell_type": "markdown",
   "metadata": {},
   "source": [
    "# Python Lambda\n",
    "\n",
    "\n",
    "    - it is a small anonymous function\n",
    "    - can take any number of arguments but only one expression\n",
    "\n",
    "Syntax:\n",
    "    lambda arguments: expression\n"
   ]
  },
  {
   "cell_type": "code",
   "execution_count": 9,
   "metadata": {},
   "outputs": [
    {
     "name": "stdout",
     "output_type": "stream",
     "text": [
      "15\n"
     ]
    }
   ],
   "source": [
    "x= lambda a: a+10\n",
    "print(x(5)) #15\n"
   ]
  },
  {
   "cell_type": "code",
   "execution_count": 10,
   "metadata": {},
   "outputs": [
    {
     "name": "stdout",
     "output_type": "stream",
     "text": [
      "12\n"
     ]
    }
   ],
   "source": [
    "x= lambda a,b:a*b\n",
    "print(x(3,4))#12"
   ]
  },
  {
   "attachments": {},
   "cell_type": "markdown",
   "metadata": {},
   "source": [
    "Why Use Lambda Functions?\n",
    "\n",
    "    - The power of lambda is better shown when you use them as an anonymous function inside another function.\n",
    "    - used for creating partial functions\n",
    "    - similar to the concept of clousues in JS\n",
    "    "
   ]
  },
  {
   "cell_type": "code",
   "execution_count": 12,
   "metadata": {},
   "outputs": [
    {
     "name": "stdout",
     "output_type": "stream",
     "text": [
      "22\n"
     ]
    }
   ],
   "source": [
    "\n",
    "#example1\n",
    "def myfunc(n):\n",
    "  return lambda a : a * n\n",
    "\n",
    "multiplyBy2 = myfunc(2)\n",
    "\n",
    "print(multiplyBy2(11))"
   ]
  },
  {
   "cell_type": "code",
   "execution_count": 1,
   "metadata": {},
   "outputs": [
    {
     "name": "stdout",
     "output_type": "stream",
     "text": [
      "Hello\n",
      "Welcome\n",
      "to\n",
      "GeeksforGeeks\n"
     ]
    }
   ],
   "source": [
    "# Arbitrary Keyword  Arguments\n",
    "\n",
    "#*args in Python (Non-Keyword Arguments)\n",
    "# Python program to illustrate\n",
    "# *args for variable number of arguments\n",
    "def myFun(*argv):\n",
    "\tfor arg in argv:\n",
    "\t\tprint(arg)\n",
    "\n",
    "\n",
    "myFun('Hello', 'Welcome', 'to', 'GeeksforGeeks')\n",
    "\n"
   ]
  },
  {
   "cell_type": "code",
   "execution_count": 4,
   "metadata": {},
   "outputs": [
    {
     "name": "stdout",
     "output_type": "stream",
     "text": [
      "{'first': 'Geeks', 'mid': 'for', 'last': 'Geeks'}\n",
      "first == Geeks\n",
      "mid == for\n",
      "last == Geeks\n"
     ]
    }
   ],
   "source": [
    "#**kwargs in Python (Keyword Arguments)\n",
    "\n",
    "# Python program to illustrate\n",
    "# *kwargs for variable number of keyword arguments\n",
    "\n",
    "\n",
    "def myFun(**kwargs):\n",
    "\tprint(kwargs)#dictionary\n",
    "\tfor key, value in kwargs.items():\n",
    "\t\tprint(\"%s == %s\" % (key, value))\n",
    "\n",
    "\n",
    "# Driver code\n",
    "myFun(first='Geeks', mid='for', last='Geeks')\n"
   ]
  },
  {
   "attachments": {},
   "cell_type": "markdown",
   "metadata": {},
   "source": [
    "//===============================\n",
    "\n",
    "    ob:\n",
    "    *args receives arguments as a tuple.\n",
    "    **kwargs receives arguments as a dictionary.\n",
    "\n",
    "//===============================\n"
   ]
  },
  {
   "cell_type": "code",
   "execution_count": 7,
   "metadata": {},
   "outputs": [
    {
     "name": "stdout",
     "output_type": "stream",
     "text": [
      "args:  ('geeks', 'for', 'geeks')\n",
      "kwargs:  {'first': 'Geeks', 'mid': 'for', 'last': 'Geeks'}\n"
     ]
    }
   ],
   "source": [
    "def myFun(*args, **kwargs):\n",
    "\tprint(\"args: \", args)\n",
    "\tprint(\"kwargs: \", kwargs)\n",
    "\n",
    "\n",
    "# Now we can use both *args ,**kwargs\n",
    "# to pass arguments to this function :\n",
    "myFun('geeks', 'for', 'geeks', first=\"Geeks\", mid=\"for\", last=\"Geeks\")\n",
    "\n"
   ]
  },
  {
   "cell_type": "code",
   "execution_count": 5,
   "metadata": {},
   "outputs": [
    {
     "name": "stdout",
     "output_type": "stream",
     "text": [
      "[20, 11, 12, 13, 14, 15]\n"
     ]
    }
   ],
   "source": [
    "# Pass by Reference and Pass by Value\n",
    "    # - in python everything is pass by reference\n",
    "\n",
    "# Here x is a new reference to same list lst\n",
    "def myFun(x):\n",
    "\tx[0] = 20\n",
    "\n",
    "# Driver Code (Note that lst is modified\n",
    "# after function call.\n",
    "lst = [10, 11, 12, 13, 14, 15]\n",
    "myFun(lst)\n",
    "print(lst)\n"
   ]
  },
  {
   "cell_type": "code",
   "execution_count": 6,
   "metadata": {},
   "outputs": [
    {
     "name": "stdout",
     "output_type": "stream",
     "text": [
      "2\n",
      "3\n"
     ]
    }
   ],
   "source": [
    "def swap(x, y):\n",
    "\ttemp = x\n",
    "\tx = y\n",
    "\ty = temp\n",
    "\n",
    "\n",
    "# Driver code\n",
    "x = 2\n",
    "y = 3\n",
    "swap(x, y)\n",
    "print(x)\n",
    "print(y)\n"
   ]
  },
  {
   "attachments": {},
   "cell_type": "markdown",
   "metadata": {},
   "source": []
  },
  {
   "attachments": {},
   "cell_type": "markdown",
   "metadata": {},
   "source": [
    "#yeild vs return\n",
    "\n",
    "    - yeild \n",
    "        - The yield statement suspends a function’s execution and sends a value back to the caller\n",
    "        - yeild allows to produce sequence of code suing a function exicution\n"
   ]
  },
  {
   "cell_type": "code",
   "execution_count": 3,
   "metadata": {},
   "outputs": [
    {
     "name": "stdout",
     "output_type": "stream",
     "text": [
      "[1, 2, 3]\n",
      "()\n"
     ]
    }
   ],
   "source": [
    "#yeild example1\n",
    "\n",
    "def fun1():\n",
    "    yield(1)\n",
    "    yield(2)\n",
    "    yield(3)\n",
    "result = fun1()\n",
    "#result will be an object\n",
    "print(list(result))\n",
    "#ob: we have to get the result in list "
   ]
  },
  {
   "cell_type": "code",
   "execution_count": 4,
   "metadata": {},
   "outputs": [
    {
     "name": "stdout",
     "output_type": "stream",
     "text": [
      "1\n",
      "4\n",
      "9\n",
      "16\n",
      "25\n",
      "36\n",
      "49\n",
      "64\n",
      "81\n",
      "100\n"
     ]
    }
   ],
   "source": [
    "#yeild example2\n",
    "#find square of numbers which is less than 101\n",
    "\n",
    "def displaySquares():\n",
    "    i=1\n",
    "    while(True):\n",
    "        yield i*i\n",
    "        i+=1\n",
    "\n",
    "for i in displaySquares():\n",
    "    if(i<101):\n",
    "        print(i)\n",
    "    else:\n",
    "        break\n",
    "\n"
   ]
  },
  {
   "attachments": {},
   "cell_type": "markdown",
   "metadata": {},
   "source": [
    "# Generators in Python\n",
    "\n",
    "        Generator-Function: \n",
    "                - A generator-function is defined like a normal function, \n",
    "                but whenever it needs to generate a value, it does so with the yield keyword rather than return. \n",
    "                - If the body of a def contains yield, the function automatically becomes a generator function.\n",
    "\n",
    "                - In Python, similar to defining a normal function, we can define a generator function using the def keyword, but instead of the return statement we use the yield statement. \n",
    "\n",
    "                - When the generator function is called, it does not execute the function body immediately. Instead, it returns a generator object that can be iterated over to produce the values."
   ]
  },
  {
   "cell_type": "code",
   "execution_count": 16,
   "metadata": {},
   "outputs": [
    {
     "name": "stdout",
     "output_type": "stream",
     "text": [
      "Way-1\n",
      "1\n",
      "2\n",
      "3\n",
      "Way-2\n",
      "1\n",
      "2\n",
      "3\n"
     ]
    }
   ],
   "source": [
    "# A generator function that yields 1 for first time,\n",
    "# 2 second time and 3 third time\n",
    "def simpleGeneratorFun():\n",
    "\tyield 1\t\t\n",
    "\tyield 2\t\t\n",
    "\tyield 3\t\t\n",
    "\n",
    "# //way-1\n",
    "print(\"Way-1\")\n",
    "x=simpleGeneratorFun();\n",
    "print(next(x))\n",
    "print(next(x))\n",
    "print(next(x))\n",
    "\n",
    "#way 2\n",
    "print(\"Way-2\")\n",
    "# Driver code to check above generator function\n",
    "for value in simpleGeneratorFun():\n",
    "\tprint(value)\n"
   ]
  },
  {
   "cell_type": "code",
   "execution_count": 8,
   "metadata": {},
   "outputs": [
    {
     "name": "stdout",
     "output_type": "stream",
     "text": [
      "1\n",
      "2\n",
      "3\n"
     ]
    }
   ],
   "source": [
    "def simpleGeneratorFun():\n",
    "\tyield 1\n",
    "\tyield 2\n",
    "\tyield 3\n",
    "\n",
    "# x is a generator object\n",
    "x = simpleGeneratorFun()\n",
    "\n",
    "print(next(x)) # In Python 3, __next__()\n",
    "print(next(x))\n",
    "print(next(x))\n",
    "# print(next(x))#error\n"
   ]
  },
  {
   "cell_type": "code",
   "execution_count": 14,
   "metadata": {},
   "outputs": [
    {
     "name": "stdout",
     "output_type": "stream",
     "text": [
      "0\n",
      "1\n",
      "1\n",
      "2\n",
      "3\n",
      "\n",
      "Using for in loop\n",
      "0 1 1 2 3 "
     ]
    }
   ],
   "source": [
    "#fibonacci numbers\n",
    "\n",
    "def fib(limit):\n",
    "\ta, b = 0, 1\n",
    "\twhile a < limit:\n",
    "\t\tyield a\n",
    "\t\ta, b = b, a + b\n",
    "\n",
    "# Create a generator object\n",
    "x = fib(5)\n",
    "\n",
    "# Iterating over the generator object using next\n",
    "print(next(x)) # In Python 3, __next__()\n",
    "print(next(x))\n",
    "print(next(x))\n",
    "print(next(x))\n",
    "print(next(x))\n",
    "\n",
    "# Iterating over the generator object using for\n",
    "# in loop.\n",
    "print(\"\\nUsing for in loop\")\n",
    "for i in fib(5):\n",
    "\tprint(i, end=\" \")\n",
    "\n",
    "# ob: \n",
    "#     So a generator function returns an generator object that is iterable, \n",
    "#     i.e., can be used as an Iterators . \n",
    "#     As another example, below is a generator for Fibonacci Numbers. "
   ]
  },
  {
   "cell_type": "code",
   "execution_count": 20,
   "metadata": {},
   "outputs": [
    {
     "name": "stdout",
     "output_type": "stream",
     "text": [
      "1 2 3 4 5 6 7 8 9 10 "
     ]
    }
   ],
   "source": [
    "#example 4 generator function counter()\n",
    "\n",
    "def counter(n):\n",
    "    i=1\n",
    "    while(i<=n):\n",
    "        yield i\n",
    "        i+=1\n",
    "\n",
    "n=10\n",
    "for i in counter(n):\n",
    "    print(i,end=\" \")\n",
    "\n"
   ]
  },
  {
   "cell_type": "code",
   "execution_count": 23,
   "metadata": {},
   "outputs": [
    {
     "name": "stdout",
     "output_type": "stream",
     "text": [
      "<generator object <genexpr> at 0x7fecd8261700>\n"
     ]
    }
   ],
   "source": [
    "# Example 2: Python Generator Expression\n",
    "\n",
    "# syntx: (expression for item in iterable)\n",
    "\n",
    "print(i*i for i in range(5))"
   ]
  },
  {
   "cell_type": "code",
   "execution_count": 22,
   "metadata": {},
   "outputs": [
    {
     "name": "stdout",
     "output_type": "stream",
     "text": [
      "0 1 4 9 16 "
     ]
    }
   ],
   "source": [
    "#example 5 square generator\n",
    "\n",
    "squareGen = (i*i for i in range(5))\n",
    "\n",
    "for i in squareGen:\n",
    "    print(i, end=\" \")"
   ]
  },
  {
   "attachments": {},
   "cell_type": "markdown",
   "metadata": {},
   "source": [
    "# First Class functions in Python\n",
    "    - A programming language is said to support first-class functions if it treats functions as first-class objects. Python supports the concept of First Class functions.\n",
    "    - Properties of first class functions:\n",
    "        A function is an instance of the Object type.\n",
    "        You can store the function in a variable.\n",
    "        You can pass the function as a parameter to another function.\n",
    "        You can return the function from a function.\n",
    "        You can store them in data structures such as hash tables, lists, …"
   ]
  },
  {
   "cell_type": "code",
   "execution_count": 25,
   "metadata": {},
   "outputs": [
    {
     "name": "stdout",
     "output_type": "stream",
     "text": [
      "HELLO\n",
      "PALLAM\n"
     ]
    }
   ],
   "source": [
    "# 1. Functions are objects\n",
    "def shout(text):\n",
    "    return text.upper()\n",
    "\n",
    "print(shout(\"hello\"))\n",
    "\n",
    "yell = shout;\n",
    "# . This assignment doesn’t call the function. \n",
    "# It takes the function object referenced by shout and creates a second name pointing \n",
    "# to it, yell.\n",
    "\n",
    "print(yell(\"pallam\"))"
   ]
  },
  {
   "cell_type": "code",
   "execution_count": 26,
   "metadata": {},
   "outputs": [
    {
     "name": "stdout",
     "output_type": "stream",
     "text": [
      "HI, I AM CREATED BY A FUNCTION\n",
      "\t\t\t\t\tPASSED AS AN ARGUMENT.\n",
      "hi, i am created by a function\n",
      "\t\t\t\t\tpassed as an argument.\n"
     ]
    }
   ],
   "source": [
    "#2. Functions can be passed as arguments to other functions: \n",
    "\n",
    "def shout(text):\n",
    "\treturn text.upper()\n",
    "\n",
    "def whisper(text):\n",
    "\treturn text.lower()\n",
    "\n",
    "def greet(func):\n",
    "\tgreeting = func(\"\"\"Hi, I am created by a function\n",
    "\t\t\t\t\tpassed as an argument.\"\"\")\n",
    "\tprint (greeting)\n",
    "\n",
    "greet(shout)\n",
    "greet(whisper)\n"
   ]
  },
  {
   "cell_type": "code",
   "execution_count": 27,
   "metadata": {},
   "outputs": [
    {
     "name": "stdout",
     "output_type": "stream",
     "text": [
      "25\n",
      "20\n",
      "100\n"
     ]
    }
   ],
   "source": [
    "#3. Functions can return another function: \n",
    "#   this introduces closure concept\n",
    "def create_adder(x):\n",
    "\tdef adder(y):\n",
    "\t\treturn x+y\n",
    "\n",
    "\treturn adder\n",
    "\n",
    "add_15 = create_adder(15)\n",
    "\n",
    "print (add_15(10))#25\n",
    "\n",
    "#example 2\n",
    "\n",
    "def multiplyBy(x):\n",
    "\treturn lambda y: y*x\n",
    "\n",
    "multiplyBy10 = multiplyBy(10)\n",
    "\n",
    "print(multiplyBy10(2))#20\n",
    "print(multiplyBy10(10))#100\n"
   ]
  },
  {
   "attachments": {},
   "cell_type": "markdown",
   "metadata": {},
   "source": [
    "# Python Closures\n",
    "    - A function that is defined inside another function is known as a nested function. Nested functions are able to access variables of the enclosing scope. "
   ]
  },
  {
   "cell_type": "code",
   "execution_count": 34,
   "metadata": {},
   "outputs": [
    {
     "name": "stdout",
     "output_type": "stream",
     "text": [
      "1\n",
      "1   2\n",
      "1   2   3   not-null\n"
     ]
    }
   ],
   "source": [
    "def one():\n",
    "    x=1\n",
    "    print(x)\n",
    "    def two():\n",
    "        y=2\n",
    "        xx=\"null\"\n",
    "        print(x,\" \",y)\n",
    "        def three():\n",
    "            z=3\n",
    "            xx =\"not-null\"\n",
    "            print(x,\" \",y,\" \",z,\" \", xx)\n",
    "        three()\n",
    "    two()\n",
    "one()\n",
    "\n",
    "# ob: \n",
    "#     - scope chaining is there in python\n",
    "#     - every functions are lexically scoped --> python is a lexically scoped language\n",
    "\n",
    "# When there is lexical scope, the innermost, inner and outermost functions \n",
    "# may access all variables from their parent scopes all the way up to the global scope."
   ]
  },
  {
   "attachments": {},
   "cell_type": "markdown",
   "metadata": {},
   "source": [
    "What are Python Closures\n",
    "\n",
    "    - A Closure in Python is a function object that remembers values in enclosing scopes even if they are not present in memory. \n",
    "    - A closure—unlike a plain function—allows the function to access those captured variables through the closure’s copies of their values or references, even when the function is invoked outside their scope.\n",
    "\n"
   ]
  },
  {
   "cell_type": "code",
   "execution_count": 35,
   "metadata": {},
   "outputs": [
    {
     "name": "stdout",
     "output_type": "stream",
     "text": [
      "25\n",
      "20\n",
      "100\n"
     ]
    }
   ],
   "source": [
    "#demo 1\n",
    "def create_adder(x):\n",
    "\tdef adder(y):\n",
    "\t\treturn x+y\n",
    "\n",
    "\treturn adder\n",
    "\n",
    "add_15 = create_adder(15)\n",
    "\n",
    "print (add_15(10))#25\n",
    "\n",
    "#example 2\n",
    "\n",
    "def multiplyBy(x):\n",
    "\treturn lambda y: y*x\n",
    "\n",
    "multiplyBy10 = multiplyBy(10)\n",
    "\n",
    "print(multiplyBy10(2))#20\n",
    "print(multiplyBy10(10))#100"
   ]
  },
  {
   "cell_type": "code",
   "execution_count": 36,
   "metadata": {},
   "outputs": [
    {
     "name": "stdout",
     "output_type": "stream",
     "text": [
      "6\n",
      "9\n",
      "5\n",
      "10\n"
     ]
    }
   ],
   "source": [
    "#demo 2\n",
    "# Python program to illustrate\n",
    "# closures\n",
    "import logging\n",
    "logging.basicConfig(filename='example.log',\n",
    "\t\t\t\t\tlevel=logging.INFO)\n",
    "\n",
    "def logger(func):\n",
    "\tdef log_func(*args):\n",
    "\t\tlogging.info(\n",
    "\t\t\t'Running \"{}\" with arguments {}'.format(func.__name__,\n",
    "\t\t\t\t\t\t\t\t\t\t\t\t\targs))\n",
    "\t\tprint(func(*args))\n",
    "\t\t\n",
    "\t# Necessary for closure to\n",
    "\t# work (returning WITHOUT parenthesis)\n",
    "\treturn log_func\t\t\t\n",
    "\n",
    "def add(x, y):\n",
    "\treturn x+y\n",
    "\n",
    "def sub(x, y):\n",
    "\treturn x-y\n",
    "\n",
    "add_logger = logger(add)\n",
    "sub_logger = logger(sub)\n",
    "\n",
    "add_logger(3, 3)\n",
    "add_logger(4, 5)\n",
    "\n",
    "sub_logger(10, 5)\n",
    "sub_logger(20, 10)\n"
   ]
  },
  {
   "attachments": {},
   "cell_type": "markdown",
   "metadata": {},
   "source": [
    "When and Why to Use Closures\n",
    "\n",
    "    - As Python closures are used as callback functions, they provide some sort of data hiding. This helps us to reduce the use of global variables.\n",
    "    - When we have few functions in our code, closures in Python prove to be an efficient way. But if we need to have many functions, then go for class (OOP).\n",
    "    - We may have variables in the global scope that are not used by many functions at times. Instead of defining variables in global scope, consider using a closure. They can be defined in the outer function and used in the inner function. Python Closures are also useful for avoiding the use of a global scope.\n",
    "    - A class in the Python programming language always has the __init__ method. If you only have one extra method, an elegant solution would be to use a closure rather than a class. Because this improves code readability and even reduces the programmer’s workload. Closures in Python can thus be used to avoid the needless use of a class."
   ]
  },
  {
   "attachments": {},
   "cell_type": "markdown",
   "metadata": {},
   "source": [
    "# Decorators in Python\n",
    "\n",
    "    - Decorators are a very powerful and useful tool in Python \n",
    "        since it allows  => \n",
    "            programmers to modify the behaviour of a function or class. \n",
    "    - Decorators allow us to wrap another function in order to extend \n",
    "            the behaviour of the wrapped function, \n",
    "            without permanently modifying it.\n"
   ]
  },
  {
   "cell_type": "code",
   "execution_count": 37,
   "metadata": {},
   "outputs": [
    {
     "name": "stdout",
     "output_type": "stream",
     "text": [
      "3628800\n",
      "Total time taken in :  factorial 2.002283811569214\n"
     ]
    }
   ],
   "source": [
    "#demo 1\n",
    "# importing libraries\n",
    "import time\n",
    "import math\n",
    "\n",
    "# decorator to calculate duration\n",
    "# taken by any function.\n",
    "def calculate_time(func):\n",
    "\t\n",
    "\t# added arguments inside the inner1,\n",
    "\t# if function takes any arguments,\n",
    "\t# can be added like this.\n",
    "\tdef inner1(*args, **kwargs):\n",
    "\n",
    "\t\t# storing time before function execution\n",
    "\t\tbegin = time.time()\n",
    "\t\t\n",
    "\t\tfunc(*args, **kwargs)\n",
    "\n",
    "\t\t# storing time after function execution\n",
    "\t\tend = time.time()\n",
    "\t\tprint(\"Total time taken in : \", func.__name__, end - begin)\n",
    "\n",
    "\treturn inner1\n",
    "\n",
    "\n",
    "\n",
    "# this can be added to any function present,\n",
    "# in this case to calculate a factorial\n",
    "@calculate_time\n",
    "def factorial(num):\n",
    "\n",
    "\t# sleep 2 seconds because it takes very less time\n",
    "\t# so that you can see the actual difference\n",
    "\ttime.sleep(2)\n",
    "\tprint(math.factorial(num))\n",
    "\n",
    "# calling the function.\n",
    "factorial(10)\n"
   ]
  },
  {
   "cell_type": "code",
   "execution_count": 38,
   "metadata": {},
   "outputs": [
    {
     "name": "stdout",
     "output_type": "stream",
     "text": [
      "before Execution\n",
      "Inside the function\n",
      "after Execution\n",
      "Sum = 3\n"
     ]
    }
   ],
   "source": [
    "#demo 2\n",
    "def hello_decorator(func):\n",
    "\tdef inner1(*args, **kwargs):\n",
    "\t\t\n",
    "\t\tprint(\"before Execution\")\n",
    "\t\t\n",
    "\t\t# getting the returned value\n",
    "\t\treturned_value = func(*args, **kwargs)\n",
    "\t\tprint(\"after Execution\")\n",
    "\t\t\n",
    "\t\t# returning the value to the original frame\n",
    "\t\treturn returned_value\n",
    "\t\t\n",
    "\treturn inner1\n",
    "\n",
    "\n",
    "# adding decorator to the function\n",
    "@hello_decorator\n",
    "def sum_two_numbers(a, b):\n",
    "\tprint(\"Inside the function\")\n",
    "\treturn a + b\n",
    "\n",
    "a, b = 1, 2\n",
    "\n",
    "# getting the value through return of the function\n",
    "print(\"Sum =\", sum_two_numbers(a, b))\n"
   ]
  },
  {
   "cell_type": "code",
   "execution_count": 39,
   "metadata": {},
   "outputs": [
    {
     "name": "stdout",
     "output_type": "stream",
     "text": [
      "400\n",
      "200\n"
     ]
    }
   ],
   "source": [
    "#CHaining decorators\n",
    "#demo 3\n",
    "\n",
    "# code for testing decorator chaining\n",
    "def decor1(func):\n",
    "\tdef inner():\n",
    "\t\tx = func()\n",
    "\t\treturn x * x\n",
    "\treturn inner\n",
    "\n",
    "def decor(func):\n",
    "\tdef inner():\n",
    "\t\tx = func()\n",
    "\t\treturn 2 * x\n",
    "\treturn inner\n",
    "\n",
    "@decor1\n",
    "@decor\n",
    "def num():\n",
    "\treturn 10\n",
    "\n",
    "@decor\n",
    "@decor1\n",
    "def num2():\n",
    "\treturn 10\n",
    "\n",
    "print(num())\n",
    "print(num2())\n"
   ]
  },
  {
   "cell_type": "code",
   "execution_count": 43,
   "metadata": {},
   "outputs": [
    {
     "name": "stdout",
     "output_type": "stream",
     "text": [
      "3628800\n",
      "Total time taken for exicution =  2.0022695064544678\n",
      "120\n",
      "Total time taken for exicution =  2.0003368854522705\n"
     ]
    }
   ],
   "source": [
    "#demo 4\n",
    "#common exicution time calculator that can be applied for every function exicution\n",
    "\n",
    "import time\n",
    "import math\n",
    "def funExTimeCalc(fun):\n",
    "    def inner(*args):\n",
    "        start = time.time()\n",
    "        fun(*args)\n",
    "        stop = time.time()\n",
    "        print(\"Total time taken for exicution = \", stop-start)\n",
    "    return inner\n",
    "\n",
    "@funExTimeCalc\n",
    "def fact(num):\n",
    "    time.sleep(2)\n",
    "    print(math.factorial(num))\n",
    "\n",
    "fact(10)\n",
    "fact(5)"
   ]
  },
  {
   "attachments": {},
   "cell_type": "markdown",
   "metadata": {},
   "source": [
    "#Decorators with parameters in Python\n",
    "\n",
    "\n",
    "\tsyntax:\n",
    "\n",
    "\tdef decorators(*args, **kwargs):\n",
    "\t\tdef inner(func):\n",
    "\t\t\t'''\n",
    "\t\t\tdo operations with func\n",
    "\t\t\t'''\n",
    "\t\t\treturn func\n",
    "\t\treturn inner #this is the fun_obj mentioned in the above content\n",
    "\n",
    "\t@decorators(params)\n",
    "\tdef func():\n",
    "\t\t\"\"\"\n",
    "\t\t\tfunction implementation\n",
    "\t\t\"\"\"\n"
   ]
  },
  {
   "cell_type": "code",
   "execution_count": 48,
   "metadata": {},
   "outputs": [
    {
     "name": "stdout",
     "output_type": "stream",
     "text": [
      "Inside decorator\n",
      "Inside inner function\n",
      "Decorated the function\n",
      "Inside actual function\n"
     ]
    }
   ],
   "source": [
    "# Python code to illustrate\n",
    "# Decorators with parameters in Python\n",
    "\n",
    "def decorator_fun(func):\n",
    "    print(\"Inside decorator\")\n",
    "\n",
    "    def inner(*args, **kwargs):\n",
    "        print(\"Inside inner function\")\n",
    "        print(\"Decorated the function\")\n",
    "        \n",
    "        func()\n",
    "        \n",
    "    return inner\n",
    "\n",
    "\n",
    "def func_to():\n",
    "\tprint(\"Inside actual function\")\n",
    "\n",
    "# another way of using decorators\n",
    "decorator_fun(func_to)()\n"
   ]
  },
  {
   "cell_type": "code",
   "execution_count": 49,
   "metadata": {},
   "outputs": [
    {
     "name": "stdout",
     "output_type": "stream",
     "text": [
      "Inside decorator\n",
      "Inside inner function\n",
      "I like geeksforgeeks\n",
      "Inside actual function\n"
     ]
    }
   ],
   "source": [
    "# Python code to illustrate\n",
    "# Decorators with parameters in Python\n",
    "\n",
    "def decorator(*args, **kwargs):\n",
    "\tprint(\"Inside decorator\")\n",
    "\t\n",
    "\tdef inner(func):\n",
    "\t\t\n",
    "\t\t# code functionality here\n",
    "\t\tprint(\"Inside inner function\")\n",
    "\t\tprint(\"I like\", kwargs['like'])\n",
    "\t\t\n",
    "\t\tfunc()\n",
    "\t\t\n",
    "\t# returning inner function\n",
    "\treturn inner\n",
    "\n",
    "@decorator(like = \"geeksforgeeks\")\n",
    "def my_func():\n",
    "\tprint(\"Inside actual function\")\n"
   ]
  },
  {
   "cell_type": "code",
   "execution_count": 50,
   "metadata": {},
   "outputs": [
    {
     "name": "stdout",
     "output_type": "stream",
     "text": [
      "I like Geeksforgeeks\n",
      "Summation of values - 27\n",
      "Geeks\n",
      "for\n",
      "Geeks\n"
     ]
    }
   ],
   "source": [
    "# Python code to illustrate\n",
    "# Decorators with parameters in Python\n",
    "\n",
    "def decorator_func(x, y):\n",
    "\n",
    "\tdef Inner(func):\n",
    "\n",
    "\t\tdef wrapper(*args, **kwargs):\n",
    "\t\t\tprint(\"I like Geeksforgeeks\")\n",
    "\t\t\tprint(\"Summation of values - {}\".format(x+y) )\n",
    "\n",
    "\t\t\tfunc(*args, **kwargs)\n",
    "\t\t\t\n",
    "\t\treturn wrapper\n",
    "\treturn Inner\n",
    "\n",
    "\n",
    "# Not using decorator\n",
    "def my_fun(*args):\n",
    "\tfor ele in args:\n",
    "\t\tprint(ele)\n",
    "\n",
    "# another way of using decorators\n",
    "decorator_func(12, 15)(my_fun)('Geeks', 'for', 'Geeks')\n"
   ]
  },
  {
   "cell_type": "code",
   "execution_count": 51,
   "metadata": {},
   "outputs": [
    {
     "name": "stdout",
     "output_type": "stream",
     "text": [
      "Decorator for 'stringJoin'\n",
      "Decorator for 'summation'\n",
      "\n",
      "stringJoin started ...\n",
      "I like Geeksforgeeks\n",
      "\n",
      "summation started ...\n",
      "1729\n"
     ]
    }
   ],
   "source": [
    "#example 3\n",
    "\n",
    "# Python code to illustrate\n",
    "# Decorators with parameters in Python (Multi-level Decorators)\n",
    "\n",
    "\n",
    "def decodecorator(dataType, message1, message2):\n",
    "\tdef decorator(fun):\n",
    "\t\tprint(message1)\n",
    "\t\tdef wrapper(*args, **kwargs):\n",
    "\t\t\tprint(message2)\n",
    "\t\t\tif all([type(arg) == dataType for arg in args]):\n",
    "\t\t\t\treturn fun(*args, **kwargs)\n",
    "\t\t\treturn \"Invalid Input\"\n",
    "\t\treturn wrapper\n",
    "\treturn decorator\n",
    "\n",
    "\n",
    "@decodecorator(str, \"Decorator for 'stringJoin'\", \"stringJoin started ...\")\n",
    "def stringJoin(*args):\n",
    "\tst = ''\n",
    "\tfor i in args:\n",
    "\t\tst += i\n",
    "\treturn st\n",
    "\n",
    "\n",
    "@decodecorator(int, \"Decorator for 'summation'\\n\", \"summation started ...\")\n",
    "def summation(*args):\n",
    "\tsumm = 0\n",
    "\tfor arg in args:\n",
    "\t\tsumm += arg\n",
    "\treturn summ\n",
    "\n",
    "\n",
    "print(stringJoin(\"I \", 'like ', \"Geeks\", 'for', \"geeks\"))\n",
    "print()\n",
    "print(summation(19, 2, 8, 533, 67, 981, 119))\n"
   ]
  },
  {
   "attachments": {},
   "cell_type": "markdown",
   "metadata": {},
   "source": [
    "# Memoization using decorators in Python\n",
    "\n",
    "        -  Memoization is a technique of recording the intermediate results so that it can be used to avoid repeated calculations and speed up the programs. \n",
    "        -  It can be used to optimize the programs that use recursion. In Python, memoization can be done with the help of function decorators. "
   ]
  },
  {
   "cell_type": "code",
   "execution_count": 52,
   "metadata": {},
   "outputs": [
    {
     "name": "stdout",
     "output_type": "stream",
     "text": [
      "result saved in memory\n",
      "result saved in memory\n",
      "result saved in memory\n",
      "result saved in memory\n",
      "result saved in memory\n",
      "120\n",
      "returning result from saved memory\n",
      "120\n"
     ]
    }
   ],
   "source": [
    "# Factorial program with memoization using\n",
    "# decorators.\n",
    "\n",
    "# A decorator function for function 'f' passed\n",
    "# as parameter\n",
    "memory = {}\n",
    "def memoize_factorial(f):\n",
    "\t\n",
    "\t# This inner function has access to memory\n",
    "\t# and 'f'\n",
    "\tdef inner(num):\n",
    "\t\tif num not in memory:\n",
    "\t\t\tmemory[num] = f(num)\n",
    "\t\t\tprint('result saved in memory')\n",
    "\t\telse:\n",
    "\t\t\tprint('returning result from saved memory')\n",
    "\t\treturn memory[num]\n",
    "\n",
    "\treturn inner\n",
    "\t\n",
    "@memoize_factorial\n",
    "def facto(num):\n",
    "\tif num == 1:\n",
    "\t\treturn 1\n",
    "\telse:\n",
    "\t\treturn num * facto(num-1)\n",
    "\n",
    "print(facto(5))\n",
    "print(facto(5)) # directly coming from saved memory\n"
   ]
  },
  {
   "cell_type": "code",
   "execution_count": null,
   "metadata": {},
   "outputs": [],
   "source": []
  },
  {
   "cell_type": "code",
   "execution_count": null,
   "metadata": {},
   "outputs": [],
   "source": []
  },
  {
   "cell_type": "code",
   "execution_count": null,
   "metadata": {},
   "outputs": [],
   "source": []
  },
  {
   "attachments": {},
   "cell_type": "markdown",
   "metadata": {},
   "source": [
    "# Python JSON\n",
    "\n",
    "    - json is a syntx of storing and transporting data\n",
    "    - it is a text written in JS object notation"
   ]
  },
  {
   "cell_type": "code",
   "execution_count": 2,
   "metadata": {},
   "outputs": [
    {
     "name": "stdout",
     "output_type": "stream",
     "text": [
      "{'name': 'John', 'age': 30, 'city': 'New York'}\n",
      "30\n"
     ]
    }
   ],
   "source": [
    "# JSON to python\n",
    "\n",
    "import json\n",
    "\n",
    "# some JSON:\n",
    "x =  '{ \"name\":\"John\", \"age\":30, \"city\":\"New York\"}'\n",
    "# parse x:\n",
    "y = json.loads(x)\n",
    "print(y)#{'name': 'John', 'age': 30, 'city': 'New York'}\n",
    "#ob:  the result is a Python dictionary:\n",
    "print(y[\"age\"])"
   ]
  },
  {
   "cell_type": "code",
   "execution_count": 3,
   "metadata": {},
   "outputs": [
    {
     "name": "stdout",
     "output_type": "stream",
     "text": [
      "{\"name\": \"John\", \"age\": 30, \"city\": \"New York\"}\n"
     ]
    }
   ],
   "source": [
    "# Python to JSON\n",
    "\n",
    "import json\n",
    "\n",
    "# a Python object (dict):\n",
    "x = {\n",
    "  \"name\": \"John\",\n",
    "  \"age\": 30,\n",
    "  \"city\": \"New York\"\n",
    "}\n",
    "\n",
    "# convert into JSON:\n",
    "y = json.dumps(x)\n",
    "\n",
    "# the result is a JSON string:\n",
    "print(y)\n"
   ]
  },
  {
   "cell_type": "code",
   "execution_count": 6,
   "metadata": {},
   "outputs": [
    {
     "name": "stdout",
     "output_type": "stream",
     "text": [
      "{\"name\": \"John\", \"age\": 30}\n",
      "[\"apple\", \"bananas\"]\n",
      "[\"apple\", \"bananas\"]\n",
      "\"hello\"\n",
      "42\n",
      "31.76\n",
      "true\n",
      "false\n",
      "null\n"
     ]
    }
   ],
   "source": [
    "import json\n",
    "\n",
    "# types allowed to convert into json string from python:\n",
    "    # 1. dict, list, tuple,\n",
    "    # 2. int, float, string\n",
    "    # 3. true, false, none\n",
    "\n",
    "print(json.dumps({\"name\": \"John\", \"age\": 30}))\n",
    "# print(json.dumps({\"name\", \"age\"}))#error-- set is not allowed\n",
    "print(json.dumps([\"apple\", \"bananas\"]))\n",
    "print(json.dumps((\"apple\", \"bananas\")))\n",
    "print(json.dumps(\"hello\"))\n",
    "print(json.dumps(42))\n",
    "print(json.dumps(31.76))\n",
    "print(json.dumps(True))\n",
    "print(json.dumps(False))\n",
    "print(json.dumps(None))"
   ]
  },
  {
   "cell_type": "code",
   "execution_count": 7,
   "metadata": {},
   "outputs": [
    {
     "name": "stdout",
     "output_type": "stream",
     "text": [
      "{\"name\": \"John\", \"age\": 30, \"married\": true, \"divorced\": false, \"children\": [\"Ann\", \"Billy\"], \"pets\": null, \"cars\": [{\"model\": \"BMW 230\", \"mpg\": 27.5}, {\"model\": \"Ford Edge\", \"mpg\": 24.1}]}\n"
     ]
    }
   ],
   "source": [
    "# exmaple1\n",
    "\n",
    "import json\n",
    "\n",
    "x = {\n",
    "  \"name\": \"John\",\n",
    "  \"age\": 30,\n",
    "  \"married\": True,\n",
    "  \"divorced\": False,\n",
    "  \"children\": (\"Ann\",\"Billy\"),\n",
    "  \"pets\": None,\n",
    "  \"cars\": [\n",
    "    {\"model\": \"BMW 230\", \"mpg\": 27.5},\n",
    "    {\"model\": \"Ford Edge\", \"mpg\": 24.1}\n",
    "  ]\n",
    "}\n",
    "\n",
    "print(json.dumps(x))"
   ]
  },
  {
   "attachments": {},
   "cell_type": "markdown",
   "metadata": {},
   "source": [
    "# User Inputs\n",
    "\n",
    "    -\n",
    "    "
   ]
  },
  {
   "cell_type": "code",
   "execution_count": 20,
   "metadata": {},
   "outputs": [
    {
     "name": "stdout",
     "output_type": "stream",
     "text": [
      "Username entered is :  babupallam\n"
     ]
    }
   ],
   "source": [
    "username =input(\"Enter username: \")\n",
    "print(\"Username entered is : \", username)"
   ]
  }
 ],
 "metadata": {
  "kernelspec": {
   "display_name": "Python 3",
   "language": "python",
   "name": "python3"
  },
  "language_info": {
   "codemirror_mode": {
    "name": "ipython",
    "version": 3
   },
   "file_extension": ".py",
   "mimetype": "text/x-python",
   "name": "python",
   "nbconvert_exporter": "python",
   "pygments_lexer": "ipython3",
   "version": "3.10.6"
  },
  "orig_nbformat": 4
 },
 "nbformat": 4,
 "nbformat_minor": 2
}
