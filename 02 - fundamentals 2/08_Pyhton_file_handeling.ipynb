{
 "cells": [
  {
   "attachments": {},
   "cell_type": "markdown",
   "metadata": {},
   "source": [
    "File Handeling:\n",
    "\n",
    "he key function for working with files in Python is the open() function.\n",
    "\n",
    "The open() function takes two parameters; filename, and mode.\n",
    "\n",
    "There are four different methods (modes) for opening a file:\n",
    "\n",
    "1) \"r\" - Read - Default value. Opens a file for reading, error if the file does not exist\n",
    "\n",
    "2) \"a\" - Append - Opens a file for appending, creates the file if it does not exist\n",
    "\n",
    "3) \"w\" - Write - Opens a file for writing, creates the file if it does not exist\n",
    "\n",
    "4) \"x\" - Create - Creates the specified file, returns an error if the file exists\n",
    "\n",
    "In addition you can specify if the file should be handled as binary or text mode\n",
    "\n",
    "\"t\" - Text - Default value. Text mode\n",
    "\n",
    "\"b\" - Binary - Binary mode (e.g. images)\n",
    "\n"
   ]
  },
  {
   "cell_type": "code",
   "execution_count": null,
   "metadata": {},
   "outputs": [],
   "source": [
    "open_var = open('E:\\Py_tutorials\\demofile.txt', 'r')\n",
    "\n",
    "read_var = open_var.read()\n",
    "\n",
    "read_var"
   ]
  },
  {
   "cell_type": "code",
   "execution_count": null,
   "metadata": {},
   "outputs": [],
   "source": [
    "open_var1 = open('E:\\Py_tutorials\\demofile.txt', 'r')\n",
    "\n",
    "part_file_var = open_var1.read(5)\n",
    "\n",
    "part_file_var"
   ]
  },
  {
   "cell_type": "code",
   "execution_count": null,
   "metadata": {},
   "outputs": [],
   "source": [
    "open_var2 = open('E:\\Py_tutorials\\demofile.txt', 'r')\n",
    "\n",
    "print(open_var2.readline())\n",
    "print(open_var2.readline())\n",
    "print(open_var2.readline())\n",
    "print(open_var2.readline())\n",
    "\n",
    "open_var2.close()"
   ]
  },
  {
   "cell_type": "code",
   "execution_count": null,
   "metadata": {},
   "outputs": [],
   "source": [
    "for x in  open_var2:\n",
    "    print(x)"
   ]
  },
  {
   "attachments": {},
   "cell_type": "markdown",
   "metadata": {},
   "source": [
    "File write\n",
    "\n",
    "To write to an existing file, you must add a parameter to the open() function:\n",
    "\n",
    "\"a\" - Append - will append to the end of the file\n",
    "\n",
    "\"w\" - Write - will overwrite any existing content"
   ]
  },
  {
   "cell_type": "code",
   "execution_count": null,
   "metadata": {},
   "outputs": [],
   "source": [
    "open_var = open('E:\\Py_tutorials\\demofile.txt', 'a')\n",
    "open_var.write('\\nNow the file has more content!')\n",
    "open_var.close()\n",
    "\n",
    "open_var = open('E:\\Py_tutorials\\demofile.txt', 'r')\n",
    "print(open_var.read())"
   ]
  },
  {
   "cell_type": "code",
   "execution_count": 21,
   "metadata": {},
   "outputs": [
    {
     "name": "stdout",
     "output_type": "stream",
     "text": [
      "\n",
      "Woops! I have deleted the content!\n"
     ]
    }
   ],
   "source": [
    "open_var = open('E:\\Py_tutorials\\demofile.txt', 'w')\n",
    "open_var.write('\\nWoops! I have deleted the content!')\n",
    "open_var.close()\n",
    "\n",
    "open_var = open('E:\\Py_tutorials\\demofile.txt', 'r')\n",
    "print(open_var.read())"
   ]
  },
  {
   "cell_type": "code",
   "execution_count": 26,
   "metadata": {},
   "outputs": [],
   "source": [
    "fl=open('E:\\Py_tutorials\\demofile3.txt', 'x')\n",
    "fl.close()"
   ]
  },
  {
   "cell_type": "code",
   "execution_count": 27,
   "metadata": {},
   "outputs": [],
   "source": [
    "import os\n",
    "\n",
    "os.remove('E:\\Py_tutorials\\demofile3.txt')"
   ]
  },
  {
   "cell_type": "code",
   "execution_count": null,
   "metadata": {},
   "outputs": [],
   "source": []
  }
 ],
 "metadata": {
  "kernelspec": {
   "display_name": "Python 3",
   "language": "python",
   "name": "python3"
  },
  "language_info": {
   "codemirror_mode": {
    "name": "ipython",
    "version": 3
   },
   "file_extension": ".py",
   "mimetype": "text/x-python",
   "name": "python",
   "nbconvert_exporter": "python",
   "pygments_lexer": "ipython3",
   "version": "3.10.2"
  },
  "orig_nbformat": 4
 },
 "nbformat": 4,
 "nbformat_minor": 2
}
