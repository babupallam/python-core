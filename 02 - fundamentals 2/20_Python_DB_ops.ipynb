{
 "cells": [
  {
   "attachments": {},
   "cell_type": "markdown",
   "metadata": {},
   "source": [
    "Python provides several libraries for connecting to SQL databases, but one of the most common ones is `pyodbc`. Here is how you would generally perform CRUD operations in MSSQL using Python:\n",
    "\n",
    "First, let's install the necessary libraries.\n",
    "\n",
    "```python\n",
    "pip install pyodbc\n",
    "```\n",
    "\n",
    "Then, we will need to import pyodbc:\n",
    "\n"
   ]
  },
  {
   "cell_type": "code",
   "execution_count": null,
   "metadata": {},
   "outputs": [],
   "source": [
    "import pyodbc"
   ]
  },
  {
   "attachments": {},
   "cell_type": "markdown",
   "metadata": {},
   "source": [
    "\n",
    "Then, you can connect to your database using something similar to the following, just replace the placeholders with your actual data:\n"
   ]
  },
  {
   "cell_type": "code",
   "execution_count": null,
   "metadata": {},
   "outputs": [],
   "source": [
    "cnxn = pyodbc.connect('DRIVER={SQL Server};SERVER=<server_name>;DATABASE=<db_name>;UID=<username>;PWD=<password>')\n",
    "cursor = cnxn.cursor()"
   ]
  },
  {
   "attachments": {},
   "cell_type": "markdown",
   "metadata": {},
   "source": [
    "With a connection established, you can perform various operations.\n",
    "\n",
    "1. **Create**"
   ]
  },
  {
   "cell_type": "code",
   "execution_count": null,
   "metadata": {},
   "outputs": [],
   "source": [
    "cursor.execute('''\n",
    "    CREATE TABLE Employee(\n",
    "        ID int,\n",
    "        Name nvarchar(50),\n",
    "        Age int,\n",
    "        Salary float\n",
    "    )\n",
    "''')\n",
    "cnxn.commit()"
   ]
  },
  {
   "attachments": {},
   "cell_type": "markdown",
   "metadata": {},
   "source": [
    "2. **Read**\n",
    "\n",
    "Reading data from a table:"
   ]
  },
  {
   "cell_type": "code",
   "execution_count": null,
   "metadata": {},
   "outputs": [],
   "source": [
    "a=cursor.execute('SELECT * FROM Employee')\n",
    "\n",
    "print (a)"
   ]
  },
  {
   "attachments": {},
   "cell_type": "markdown",
   "metadata": {},
   "source": [
    "3. **Update**\n",
    "\n",
    "Updating data in a table:"
   ]
  },
  {
   "cell_type": "code",
   "execution_count": null,
   "metadata": {},
   "outputs": [],
   "source": [
    "cursor.execute('''\n",
    "    UPDATE Employee\n",
    "    SET Salary = 5000\n",
    "    WHERE ID = 1\n",
    "''')\n",
    "cnxn.commit()"
   ]
  },
  {
   "attachments": {},
   "cell_type": "markdown",
   "metadata": {},
   "source": [
    "4. **Delete**\n",
    "\n",
    "Deleting data from a table:"
   ]
  },
  {
   "cell_type": "code",
   "execution_count": null,
   "metadata": {},
   "outputs": [],
   "source": [
    "cursor.execute('''\n",
    "    DELETE FROM Employee\n",
    "    WHERE ID = 1\n",
    "''')\n",
    "cnxn.commit()"
   ]
  },
  {
   "attachments": {},
   "cell_type": "markdown",
   "metadata": {},
   "source": [
    "5. **Commit & Rollback**\n",
    "\n",
    "Commit is used to save the changes. As you can see in the above operations, `cnxn.commit()` is used after each operation to save the changes.\n",
    "\n",
    "Rollback is used to undo changes. For example:\n"
   ]
  },
  {
   "cell_type": "code",
   "execution_count": null,
   "metadata": {},
   "outputs": [],
   "source": [
    "try:\n",
    "    cursor.execute('''\n",
    "        UPDATE Employee\n",
    "        SET Salary = 5000\n",
    "        WHERE ID = 1\n",
    "    ''')\n",
    "    cnxn.commit()\n",
    "except Exception as e:\n",
    "    print(e)\n",
    "    cnxn.rollback()"
   ]
  },
  {
   "attachments": {},
   "cell_type": "markdown",
   "metadata": {},
   "source": [
    "6. **SQL Related Exception Handling**\n",
    "\n",
    "In the above example, you can see how to handle exceptions during a SQL operation. The `try/except` block is used to catch any exceptions that occur when executing the SQL command. In this case, if an error occurs, it is printed out and the transaction is rolled back using `cnxn.rollback()`.\n",
    "\n",
    "Keep in mind that you need to close the connection once you're done with it:"
   ]
  },
  {
   "cell_type": "code",
   "execution_count": null,
   "metadata": {},
   "outputs": [],
   "source": [
    "cnxn.close()"
   ]
  },
  {
   "attachments": {},
   "cell_type": "markdown",
   "metadata": {},
   "source": [
    "Please ensure to replace the placeholders `<server_name>`, `<db_name>`, `<username>` and `<password>` with your actual server name, database name, username, and password, respectively. \n",
    "\n",
    "Also, this is a basic example to perform CRUD operations in SQL using Python. Depending on your requirements, you might need to modify or write complex SQL statements."
   ]
  }
 ],
 "metadata": {
  "language_info": {
   "name": "python"
  },
  "orig_nbformat": 4
 },
 "nbformat": 4,
 "nbformat_minor": 2
}
