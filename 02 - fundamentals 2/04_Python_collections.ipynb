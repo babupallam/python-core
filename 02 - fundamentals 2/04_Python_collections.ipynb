{
 "cells": [
  {
   "attachments": {},
   "cell_type": "markdown",
   "metadata": {},
   "source": [
    "Python Collections (Arrays)\n",
    "\n",
    "There are four collection data types in the Python programming language:\n",
    "\n",
    "List- is a collection which is ordered and changeable.Allows duplicate members.\n",
    "\n",
    "Tuple- is a collection which is ordered and unchangeable.Allows duplicate members.\n",
    "\n",
    "Set- is a collection which is unordered, unchangeable*, and unindexed. No duplicate members.\n",
    "\n",
    "Dictionary- is a collection which is ordered** and changeable. No duplicate members."
   ]
  },
  {
   "attachments": {},
   "cell_type": "markdown",
   "metadata": {},
   "source": [
    "List\n",
    "\n",
    "Lists are used to store multiple items in a single variable.\n",
    "\n",
    "Lists are one of 4 built-in data types in Python used to store collections of data, the other 3 are Tuple, Set, and Dictionary, all with different qualities and usage.\n",
    "\n",
    "Lists are created using square brackets\n",
    "\n",
    "List items are ordered, changeable, and allow duplicate values.\n",
    "\n",
    "List items are indexed, the first item has index [0], the second item has index [1] etc.\n",
    "\n"
   ]
  },
  {
   "cell_type": "code",
   "execution_count": 6,
   "metadata": {},
   "outputs": [
    {
     "name": "stdout",
     "output_type": "stream",
     "text": [
      "[1, 2, 3, 'abc', 4.5, 'def12', True, False]\n"
     ]
    }
   ],
   "source": [
    "mylist = [1,2,3,'abc',4.5,'def12'\n",
    "          ,True,False]\n",
    "\n",
    "print(mylist)"
   ]
  },
  {
   "cell_type": "code",
   "execution_count": 7,
   "metadata": {},
   "outputs": [
    {
     "name": "stdout",
     "output_type": "stream",
     "text": [
      "8\n"
     ]
    }
   ],
   "source": [
    "print(len(mylist))"
   ]
  },
  {
   "cell_type": "code",
   "execution_count": 8,
   "metadata": {},
   "outputs": [
    {
     "name": "stdout",
     "output_type": "stream",
     "text": [
      "1\n",
      "[1, 2, 3]\n",
      "[1, 2, 3, 'abc', 4.5, 'def12']\n"
     ]
    }
   ],
   "source": [
    "print(mylist[0])\n",
    "print(mylist[0:3])\n",
    "print(mylist[:6])"
   ]
  },
  {
   "cell_type": "code",
   "execution_count": 9,
   "metadata": {},
   "outputs": [
    {
     "name": "stdout",
     "output_type": "stream",
     "text": [
      "3 is in mylist\n"
     ]
    }
   ],
   "source": [
    "if 3 in mylist:\n",
    "    print('3 is in mylist')"
   ]
  },
  {
   "cell_type": "code",
   "execution_count": 10,
   "metadata": {},
   "outputs": [
    {
     "name": "stdout",
     "output_type": "stream",
     "text": [
      "[100, 2, 3, 'abc', 4.5, 'def12', True, False]\n"
     ]
    }
   ],
   "source": [
    "mylist[0] = 100\n",
    "\n",
    "print(mylist)"
   ]
  },
  {
   "cell_type": "code",
   "execution_count": 12,
   "metadata": {},
   "outputs": [
    {
     "name": "stdout",
     "output_type": "stream",
     "text": [
      "[200, 200, 100, 2, 3, 'abc', 4.5, 'def12', True, False]\n"
     ]
    }
   ],
   "source": [
    "mylist.insert(0,200)\n",
    "print(mylist)"
   ]
  },
  {
   "cell_type": "code",
   "execution_count": 13,
   "metadata": {},
   "outputs": [],
   "source": [
    "mylist.append(300)"
   ]
  },
  {
   "cell_type": "code",
   "execution_count": 14,
   "metadata": {},
   "outputs": [
    {
     "name": "stdout",
     "output_type": "stream",
     "text": [
      "[200, 200, 100, 2, 3, 'abc', 4.5, 'def12', True, False, 300]\n"
     ]
    }
   ],
   "source": [
    "print(mylist)"
   ]
  },
  {
   "cell_type": "code",
   "execution_count": 15,
   "metadata": {},
   "outputs": [
    {
     "name": "stdout",
     "output_type": "stream",
     "text": [
      "[1, 2, 3, 4, 5, 6]\n"
     ]
    }
   ],
   "source": [
    "a=[1,2,3]\n",
    "b=[4,5,6]\n",
    "\n",
    "a.extend(b)\n",
    "print(a)"
   ]
  },
  {
   "cell_type": "code",
   "execution_count": 16,
   "metadata": {},
   "outputs": [
    {
     "name": "stdout",
     "output_type": "stream",
     "text": [
      "[200, 100, 2, 3, 'abc', 4.5, 'def12', True, False, 300]\n"
     ]
    }
   ],
   "source": [
    "mylist.remove(200)\n",
    "print(mylist)"
   ]
  },
  {
   "cell_type": "code",
   "execution_count": 19,
   "metadata": {},
   "outputs": [
    {
     "data": {
      "text/plain": [
       "[100, 2, 3, 4.5, 'def12', True, False, 300]"
      ]
     },
     "execution_count": 19,
     "metadata": {},
     "output_type": "execute_result"
    }
   ],
   "source": [
    "mylist.pop(3)\n",
    "mylist"
   ]
  },
  {
   "cell_type": "code",
   "execution_count": 20,
   "metadata": {},
   "outputs": [
    {
     "data": {
      "text/plain": [
       "[100, 2, 3, 4.5, 'def12', True, 300]"
      ]
     },
     "execution_count": 20,
     "metadata": {},
     "output_type": "execute_result"
    }
   ],
   "source": [
    "del mylist[6]\n",
    "mylist"
   ]
  },
  {
   "cell_type": "code",
   "execution_count": 21,
   "metadata": {},
   "outputs": [
    {
     "data": {
      "text/plain": [
       "[]"
      ]
     },
     "execution_count": 21,
     "metadata": {},
     "output_type": "execute_result"
    }
   ],
   "source": [
    "mylist.clear()\n",
    "mylist"
   ]
  },
  {
   "cell_type": "code",
   "execution_count": 22,
   "metadata": {},
   "outputs": [],
   "source": [
    "fruits=['apple','banana','cherry','orange','kiwi','melon','mango']\n"
   ]
  },
  {
   "cell_type": "code",
   "execution_count": 23,
   "metadata": {},
   "outputs": [
    {
     "name": "stdout",
     "output_type": "stream",
     "text": [
      "apple\n",
      "banana\n",
      "cherry\n",
      "orange\n",
      "kiwi\n",
      "melon\n",
      "mango\n"
     ]
    }
   ],
   "source": [
    "for x in fruits:\n",
    "    print(x)"
   ]
  },
  {
   "cell_type": "code",
   "execution_count": 24,
   "metadata": {},
   "outputs": [
    {
     "name": "stdout",
     "output_type": "stream",
     "text": [
      "apple\n",
      "banana\n",
      "cherry\n",
      "orange\n",
      "kiwi\n",
      "melon\n",
      "mango\n"
     ]
    }
   ],
   "source": [
    "for i in range(len(fruits)):\n",
    "    print(fruits[i])"
   ]
  },
  {
   "cell_type": "code",
   "execution_count": 28,
   "metadata": {},
   "outputs": [
    {
     "name": "stdout",
     "output_type": "stream",
     "text": [
      "apple\n",
      "banana\n",
      "cherry\n",
      "orange\n",
      "kiwi\n",
      "melon\n",
      "mango\n"
     ]
    }
   ],
   "source": [
    "i=0\n",
    "while i < len(fruits):\n",
    "    print(fruits[i])\n",
    "    i += 1"
   ]
  },
  {
   "cell_type": "code",
   "execution_count": 29,
   "metadata": {},
   "outputs": [
    {
     "name": "stdout",
     "output_type": "stream",
     "text": [
      "apple\n",
      "banana\n",
      "cherry\n",
      "orange\n",
      "kiwi\n",
      "melon\n",
      "mango\n"
     ]
    },
    {
     "data": {
      "text/plain": [
       "[None, None, None, None, None, None, None]"
      ]
     },
     "execution_count": 29,
     "metadata": {},
     "output_type": "execute_result"
    }
   ],
   "source": [
    "[print(x) for x in fruits]"
   ]
  },
  {
   "cell_type": "code",
   "execution_count": 30,
   "metadata": {},
   "outputs": [
    {
     "name": "stdout",
     "output_type": "stream",
     "text": [
      "['apple', 'banana', 'cherry', 'orange', 'kiwi', 'melon', 'mango']\n"
     ]
    }
   ],
   "source": [
    "fruits=['apple','banana','cherry','orange','kiwi','melon','mango']\n",
    "emptylist=[]\n",
    "\n",
    "for x in fruits:\n",
    "        emptylist.append(x)\n",
    "print(emptylist)"
   ]
  },
  {
   "cell_type": "code",
   "execution_count": 31,
   "metadata": {},
   "outputs": [
    {
     "data": {
      "text/plain": [
       "['apple', 'banana', 'cherry', 'orange', 'kiwi', 'melon', 'mango']"
      ]
     },
     "execution_count": 31,
     "metadata": {},
     "output_type": "execute_result"
    }
   ],
   "source": [
    "newlist=[x for x in fruits]\n",
    "newlist"
   ]
  },
  {
   "cell_type": "code",
   "execution_count": 34,
   "metadata": {},
   "outputs": [
    {
     "name": "stdout",
     "output_type": "stream",
     "text": [
      "[1, 2, 3, 5, 12, 20, 30]\n",
      "[30, 20, 12, 5, 3, 2, 1]\n"
     ]
    }
   ],
   "source": [
    "a=[2,3,5,20,30,12,1]\n",
    "a.sort()\n",
    "print(a)\n",
    "a.sort(reverse=True)\n",
    "print(a)"
   ]
  },
  {
   "cell_type": "code",
   "execution_count": 35,
   "metadata": {},
   "outputs": [
    {
     "data": {
      "text/plain": [
       "[30, 20, 12, 5, 3, 2, 1]"
      ]
     },
     "execution_count": 35,
     "metadata": {},
     "output_type": "execute_result"
    }
   ],
   "source": [
    "b=a.copy()\n",
    "b"
   ]
  },
  {
   "cell_type": "code",
   "execution_count": 36,
   "metadata": {},
   "outputs": [
    {
     "name": "stdout",
     "output_type": "stream",
     "text": [
      "[1, 2, 3, 4, 5, 6]\n"
     ]
    }
   ],
   "source": [
    "a=[1,2,3]\n",
    "b=[4,5,6]\n",
    "\n",
    "print(a+b)"
   ]
  },
  {
   "attachments": {},
   "cell_type": "markdown",
   "metadata": {},
   "source": [
    "Method\tDescription\n",
    "\n",
    "append()-Adds an element at the end of the list\n",
    "\n",
    "clear()-Removes all the elements from the list\n",
    "\n",
    "copy()-Returns a copy of the list\n",
    "\n",
    "count()-Returns the number of elements with the specified value\n",
    "\n",
    "extend()-Add the elements of a list (or any iterable), to the end of the current list\n",
    "\n",
    "index()-Returns the index of the first element with the specified value\n",
    "\n",
    "insert()-Adds an element at the specified position\n",
    "\n",
    "pop()-Removes the element at the specified position\n",
    "\n",
    "remove()-Removes the item with the specified value\n",
    "\n",
    "reverse()-Reverses the order of the list\n",
    "\n",
    "sort()-Sorts the list"
   ]
  },
  {
   "cell_type": "code",
   "execution_count": null,
   "metadata": {},
   "outputs": [],
   "source": []
  }
 ],
 "metadata": {
  "kernelspec": {
   "display_name": "Python 3",
   "language": "python",
   "name": "python3"
  },
  "language_info": {
   "codemirror_mode": {
    "name": "ipython",
    "version": 3
   },
   "file_extension": ".py",
   "mimetype": "text/x-python",
   "name": "python",
   "nbconvert_exporter": "python",
   "pygments_lexer": "ipython3",
   "version": "3.10.2"
  },
  "orig_nbformat": 4
 },
 "nbformat": 4,
 "nbformat_minor": 2
}
