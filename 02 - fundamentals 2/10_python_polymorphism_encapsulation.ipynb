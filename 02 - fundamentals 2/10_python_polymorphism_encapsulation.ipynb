{
 "cells": [
  {
   "attachments": {},
   "cell_type": "markdown",
   "metadata": {},
   "source": [
    "The word \"polymorphism\" means \"many forms\", and in programming it refers to methods/functions/operators with the same name that can be executed on many objects or classes."
   ]
  },
  {
   "cell_type": "code",
   "execution_count": 1,
   "metadata": {},
   "outputs": [
    {
     "name": "stdout",
     "output_type": "stream",
     "text": [
      "11\n"
     ]
    }
   ],
   "source": [
    "print (len(\"Hello World\"))"
   ]
  },
  {
   "cell_type": "code",
   "execution_count": 2,
   "metadata": {},
   "outputs": [
    {
     "name": "stdout",
     "output_type": "stream",
     "text": [
      "5\n"
     ]
    }
   ],
   "source": [
    "mytuple=(1,2,3,4,5)\n",
    "\n",
    "print (len(mytuple))"
   ]
  },
  {
   "cell_type": "code",
   "execution_count": 3,
   "metadata": {},
   "outputs": [
    {
     "name": "stdout",
     "output_type": "stream",
     "text": [
      "3\n"
     ]
    }
   ],
   "source": [
    "thisdict = {\n",
    "  \"brand\": \"Ford\",\n",
    "  \"model\": \"Mustang\",\n",
    "  \"year\": 1964\n",
    "}\n",
    "\n",
    "print(len(thisdict))"
   ]
  },
  {
   "cell_type": "code",
   "execution_count": 1,
   "metadata": {},
   "outputs": [
    {
     "name": "stdout",
     "output_type": "stream",
     "text": [
      "Ford Mustang is moving\n",
      "ibiza yatch is moving\n",
      "Boeing 747 is moving\n"
     ]
    }
   ],
   "source": [
    "class car:\n",
    "    def __init__(self,brand,model):\n",
    "        self.brand=brand\n",
    "        self.model=model\n",
    "    def move(self):\n",
    "        print(self.brand,self.model,\"is moving\")\n",
    "\n",
    "class boat:\n",
    "    def __init__(self,brand,model):\n",
    "        self.brand=brand\n",
    "        self.model=model\n",
    "    def move(self):\n",
    "        # print(\"Sail\")\n",
    "        print(self.brand,self.model,\"is moving\")\n",
    "\n",
    "class plane:\n",
    "    def __init__(self,brand,model):\n",
    "        self.brand=brand\n",
    "        self.model=model\n",
    "    def move(self):\n",
    "        # print(\"Fly\")\n",
    "        print(self.brand,self.model,\"is moving\")\n",
    "\n",
    "\n",
    "car1=car(\"Ford\",\"Mustang\")\n",
    "boat1=boat(\"ibiza\",\"yatch\")\n",
    "plane1=plane(\"Boeing\",\"747\")\n",
    "\n",
    "\n",
    "for vehicle in (car1,boat1,plane1):\n",
    "    vehicle.move()"
   ]
  },
  {
   "attachments": {},
   "cell_type": "markdown",
   "metadata": {},
   "source": [
    "Encapsulation\n",
    "\n",
    "Encapsulation is one of the fundamental concepts in object-oriented programming (OOP). It describes the idea of wrapping data and the methods that work on data within one unit. This puts restrictions on accessing variables and methods directly and can prevent the accidental modification of data. To prevent accidental change, an object’s variable can only be changed by an object’s method. Those types of variables are known as private variables.\n",
    "\n",
    "A class is an example of encapsulation as it encapsulates all the data that is member functions, variables, etc. The goal of information hiding is to ensure that an object’s state is always valid by controlling access"
   ]
  },
  {
   "cell_type": "code",
   "execution_count": 2,
   "metadata": {},
   "outputs": [
    {
     "name": "stdout",
     "output_type": "stream",
     "text": [
      "calling protected member of base class: 10\n",
      "calling protected member of outside class: 100\n",
      "acccessing protected member of base class: 10\n",
      "acccessing protected member of derived class: 100\n"
     ]
    }
   ],
   "source": [
    "class base:\n",
    "    def __init__(self):\n",
    "        self._a=10\n",
    "        self._b=20\n",
    "    \n",
    "class derived(base):\n",
    "    def __init__(self):\n",
    "        base.__init__(self)\n",
    "        print(\"calling protected member of base class:\",self._a)\n",
    "\n",
    "        self._a=100\n",
    "        print(\"calling protected member of outside class:\",self._a)\n",
    "\n",
    "obj1=derived()\n",
    "obj2=base()\n",
    "\n",
    "print(\"acccessing protected member of base class:\",obj2._a)\n",
    "print(\"acccessing protected member of derived class:\",obj1._a)"
   ]
  },
  {
   "cell_type": "code",
   "execution_count": null,
   "metadata": {},
   "outputs": [],
   "source": []
  }
 ],
 "metadata": {
  "kernelspec": {
   "display_name": "Python 3",
   "language": "python",
   "name": "python3"
  },
  "language_info": {
   "codemirror_mode": {
    "name": "ipython",
    "version": 3
   },
   "file_extension": ".py",
   "mimetype": "text/x-python",
   "name": "python",
   "nbconvert_exporter": "python",
   "pygments_lexer": "ipython3",
   "version": "3.10.2"
  },
  "orig_nbformat": 4
 },
 "nbformat": 4,
 "nbformat_minor": 2
}
