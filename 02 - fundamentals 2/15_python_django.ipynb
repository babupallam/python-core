{
 "cells": [
  {
   "attachments": {},
   "cell_type": "markdown",
   "metadata": {},
   "source": [
    "### 1. Creating a Simple Web App\n",
    "\n",
    "First, let's start by creating a very simple Django web application. If you haven't already, install Django using pip:\n",
    "```bash\n",
    "pip install Django\n",
    "```\n",
    "\n",
    "Now we will create a new Django project:\n",
    "```bash\n",
    "django-admin startproject helloworld\n",
    "```\n",
    "Navigate to your new project:\n",
    "```bash\n",
    "cd helloworld\n",
    "```\n",
    "And start a new app within the project:\n",
    "```bash\n",
    "python manage.py startapp helloapp\n",
    "```\n",
    "Now you have a directory structure resembling a Django project. In the helloapp/views.py file, define a simple view:"
   ]
  },
  {
   "cell_type": "code",
   "execution_count": null,
   "metadata": {},
   "outputs": [],
   "source": [
    "from django.http import HttpResponse\n",
    "from django.shortcuts import render\n",
    "\n",
    "def hello(request):\n",
    "    return HttpResponse(\"Hello, World!\")"
   ]
  },
  {
   "attachments": {},
   "cell_type": "markdown",
   "metadata": {},
   "source": [
    "\n",
    "In the helloworld/urls.py file, set the URL configuration:"
   ]
  },
  {
   "cell_type": "code",
   "execution_count": null,
   "metadata": {},
   "outputs": [],
   "source": [
    "from django.contrib import admin\n",
    "from django.urls import path\n",
    "from helloapp.views import hello\n",
    "\n",
    "urlpatterns = [\n",
    "    path('admin/', admin.site.urls),\n",
    "    path('hello/', hello),\n",
    "]\n",
    "\n"
   ]
  },
  {
   "attachments": {},
   "cell_type": "markdown",
   "metadata": {},
   "source": [
    "Now you can start the server:\n",
    "```bash\n",
    "python manage.py runserver\n",
    "```\n",
    "Visit http://localhost:8000/hello in your browser to see your web application in action.\n",
    "\n",
    "### 2. Application Structure\n",
    "\n",
    "A Django project structure might look like this:"
   ]
  },
  {
   "cell_type": "code",
   "execution_count": null,
   "metadata": {},
   "outputs": [],
   "source": [
    "helloworld/\n",
    "    manage.py\n",
    "    helloworld/\n",
    "        __init__.py\n",
    "        settings.py\n",
    "        urls.py\n",
    "        asgi.py\n",
    "        wsgi.py\n",
    "    helloapp/\n",
    "        migrations/\n",
    "            __init__.py\n",
    "        __init__.py\n",
    "        admin.py\n",
    "        apps.py\n",
    "        models.py\n",
    "        tests.py\n",
    "        views.py\n"
   ]
  },
  {
   "attachments": {},
   "cell_type": "markdown",
   "metadata": {},
   "source": [
    "- `manage.py`: A command-line utility that lets you interact with your Django project.\n",
    "- `__init__.py`: An empty file that tells Python that this directory should be considered a Python package.\n",
    "- `settings.py`: Settings/configuration for this Django project.\n",
    "- `urls.py`: The URL declarations for this Django project.\n",
    "- `asgi.py`/`wsgi.py`: An entry-point for ASGI/WSGI-compatible web servers to serve your project.\n",
    "- `models.py`: Defines the data structure via classes. Each class maps to a single database table.\n",
    "- `views.py`: Handles request/response logic for each app.\n",
    "\n",
    "### 3. Personal Website Creation\n",
    "\n",
    "For this, you'll need to use Django's built-in tools to create more complex views, connect with a database, and manage users and permissions. You would typically create different apps for different functionality - for example, a `blog` app for blog posts, a `pages` app for static pages, and a `users` app for user management.\n",
    "\n",
    "#### Simple Code\n",
    "\n",
    "Here's a simple example of a view that could be used to display a homepage on a personal website:\n",
    "\n"
   ]
  },
  {
   "cell_type": "code",
   "execution_count": null,
   "metadata": {},
   "outputs": [],
   "source": [
    "from django.shortcuts import render\n",
    "\n",
    "def home(request):\n",
    "    return render(request, 'home.html')\n",
    "\n"
   ]
  },
  {
   "attachments": {},
   "cell_type": "markdown",
   "metadata": {},
   "source": [
    "This view function renders a template `home.html` located in the `templates` directory of the app. This HTML file could contain your personal introduction, your work, portfolio, contact information, etc. \n",
    "\n",
    "In Django, you can use a templating language that allows you to insert Python-like code in your HTML files. This means you can pass data from your view and display it in your template. \n",
    "\n",
    "Remember to add the route to your `urls.py` file:\n",
    "\n"
   ]
  },
  {
   "cell_type": "code",
   "execution_count": null,
   "metadata": {},
   "outputs": [],
   "source": [
    "from django.urls import path\n",
    "from .views import home\n",
    "\n",
    "urlpatterns = [\n",
    "    path('', home, name='home'),\n",
    "]\n",
    "\n"
   ]
  },
  {
   "attachments": {},
   "cell_type": "markdown",
   "metadata": {},
   "source": [
    "Finally, to create more complex websites, you'd want to explore more advanced topics such as working with databases, handling user authentication, and handling forms in Django.\n"
   ]
  },
  {
   "attachments": {},
   "cell_type": "markdown",
   "metadata": {},
   "source": []
  }
 ],
 "metadata": {
  "language_info": {
   "name": "python"
  },
  "orig_nbformat": 4
 },
 "nbformat": 4,
 "nbformat_minor": 2
}
