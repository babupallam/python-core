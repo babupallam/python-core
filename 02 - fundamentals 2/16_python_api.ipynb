{
 "cells": [
  {
   "attachments": {},
   "cell_type": "markdown",
   "metadata": {},
   "source": [
    "# 1. Google Text to Speech\n",
    "\n",
    "Google Text-to-Speech is a screen reader application developed by Google for its Android operating system. It uses Google's text-to-speech (TTS) technology to convert written text into spoken words.\n",
    "\n",
    "There's a Python library named gTTS (Google Text-to-Speech) that interfaces with Google Translate's text-to-speech API. Here's an example:\n",
    "\n",
    "First, you'll need to install the `gTTS` package. You can do this using pip:\n",
    "\n",
    "```shell\n",
    "pip install gTTS\n",
    "```\n"
   ]
  },
  {
   "cell_type": "code",
   "execution_count": null,
   "metadata": {},
   "outputs": [],
   "source": [
    "from gtts import gTTS\n",
    "import os\n",
    "\n",
    "text = \"Hello, world\"\n",
    "tts = gTTS(text=text, lang='en')\n",
    "tts.save(\"hello_world.mp3\")\n",
    "\n",
    "os.system(\"start hello_world.mp3\")"
   ]
  },
  {
   "attachments": {},
   "cell_type": "markdown",
   "metadata": {},
   "source": [
    "In above script, we first import the `gTTS` class from the `gtts` module. Then, we create a `gTTS` object with the text and language we want to use. Finally, we save the speech audio into a file and use the `os.system` function to play it.\n",
    "\n",
    "# 2. Google Speech to Text\n",
    "\n",
    "Google's Speech-to-Text (STT) can convert audio to text. This can be very useful in applications like voice assistants, transcription services, etc. Here's how you can use it:\n",
    "\n",
    "First, you'll need to install the `SpeechRecognition` package. You can do this using pip:\n",
    "\n",
    "```shell\n",
    "pip install SpeechRecognition\n",
    "```\n",
    "\n",
    "\n"
   ]
  },
  {
   "cell_type": "code",
   "execution_count": null,
   "metadata": {},
   "outputs": [],
   "source": [
    "import speech_recognition as sr\n",
    "\n",
    "# Initialize recognizer class (for recognizing the speech)\n",
    "r = sr.Recognizer()\n",
    "\n",
    "# Reading Microphone as source\n",
    "# listening the speech and store in audio_text variable\n",
    "\n",
    "with sr.Microphone() as source:\n",
    "    print(\"Talk\")\n",
    "    audio_text = r.listen(source)\n",
    "    print(\"Time over, thanks\")\n",
    "# recoginize_() method will throw a request error if the API is unreachable, hence using exception handling\n",
    "    \n",
    "    try:\n",
    "        # using google speech recognition\n",
    "        print(\"Text: \"+r.recognize_google(audio_text))\n",
    "    except:\n",
    "         print(\"Sorry, I did not get that\")"
   ]
  },
  {
   "attachments": {},
   "cell_type": "markdown",
   "metadata": {},
   "source": [
    "In this script, we first create a `Recognizer` instance, which will allow us to perform the speech recognition. Then, we use the `Microphone` class as a source of audio. The `listen` function captures the audio from the microphone, and `recognize_google` is used to recognize the speech using Google's Speech Recognition API.\n",
    "\n",
    "# 3. OpenWeatherMap\n",
    "\n",
    "OpenWeatherMap is an online service that provides weather data, including current weather data, forecasts, and historical data to the developers of web services and mobile applications.\n",
    "\n",
    "First, you'll need to install the `requests` package. You can do this using pip:\n",
    "\n",
    "```shell\n",
    "pip install requests\n",
    "```\n",
    "\n",
    "Before you can make a request, you'll need to sign up for a free API key on their website."
   ]
  },
  {
   "cell_type": "code",
   "execution_count": null,
   "metadata": {},
   "outputs": [],
   "source": [
    "import requests\n",
    "\n",
    "api_key = \"your_api_key_here\"\n",
    "base_url = \"http://api.openweathermap.org/data/2.5/weather?\"\n",
    "\n",
    "city_name = \"New York\"\n",
    "\n",
    "complete_url = base_url + \"appid=\" + api_key + \"&q=\" + city_name\n",
    "\n",
    "response = requests.get(complete_url)\n",
    "\n",
    "data = response.json()\n",
    "\n",
    "if data[\"cod\"] != \"404\":\n",
    "    main = data[\"main\"]\n",
    "    temperature = main[\"temp\"]\n",
    "    humidity = main[\"humidity\"]\n",
    "    weather_description = data[\"weather\"][0][\"description\"]\n",
    "\n",
    "    print(\"Temperature : \" + str(temperature) +\n",
    "          \"\\nHumidity : \" + str(humidity) +\n",
    "          \"\\nDescription : \" + str(weather_description))\n",
    "else:\n",
    "    print(\"City Not Found!\")\n"
   ]
  },
  {
   "attachments": {},
   "cell_type": "markdown",
   "metadata": {},
   "source": [
    "In this script, we first construct the URL for the API request. We then use the `requests.get` function to make the API request. The response is converted to JSON format using the `json` function. Finally, we extract the weather data from the JSON object and print it."
   ]
  },
  {
   "attachments": {},
   "cell_type": "markdown",
   "metadata": {},
   "source": []
  }
 ],
 "metadata": {
  "language_info": {
   "name": "python"
  },
  "orig_nbformat": 4
 },
 "nbformat": 4,
 "nbformat_minor": 2
}
