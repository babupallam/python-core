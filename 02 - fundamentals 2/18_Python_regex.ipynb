{
 "cells": [
  {
   "attachments": {},
   "cell_type": "markdown",
   "metadata": {},
   "source": [
    "**1) Regex Syntax**\n",
    "\n",
    "Regular Expressions (RegEx) are sequences of characters that define a search pattern. This pattern is used to match, find, or replace text in a string. \n",
    "\n",
    "**2) Quantifiers**\n",
    "\n",
    "In RegEx, quantifiers determine how often an element can occur. Here are the main ones:\n",
    "\n",
    "- `*`: 0 or more occurrences\n",
    "- `+`: 1 or more occurrences\n",
    "- `?`: 0 or 1 occurrence\n",
    "- `{n}`: exactly n occurrences\n",
    "- `{n,}`: n or more occurrences\n",
    "- `{,n}`: up to n occurrences\n",
    "- `{n,m}`: at least n, but not more than m occurrences"
   ]
  },
  {
   "cell_type": "code",
   "execution_count": 4,
   "metadata": {},
   "outputs": [
    {
     "name": "stdout",
     "output_type": "stream",
     "text": [
      "['123', '4444', '1']\n"
     ]
    }
   ],
   "source": [
    "import re\n",
    "\n",
    "txt = \"I have 123 cats, 4444 dogs, and 1 bird.\"\n",
    "print(re.findall(\"\\d+\", txt)) # matches one or more digits"
   ]
  },
  {
   "attachments": {},
   "cell_type": "markdown",
   "metadata": {},
   "source": [
    "\n",
    "\n",
    "\n",
    "**3) Metacharacters**\n",
    "\n",
    "Metacharacters are characters with a special meaning:\n",
    "\n",
    "- `.`: Any character (except newline character)\n",
    "- `^`: Starts with\n",
    "- `$`: Ends with\n",
    "- `*`: Zero or more occurrences\n",
    "- `+`: One or more occurrences\n",
    "- `?`: Zero or one occurrences\n",
    "- `{}`: Exactly the specified number of occurrences\n",
    "- `|`: Either or\n",
    "- `()`: Capture and group"
   ]
  },
  {
   "cell_type": "code",
   "execution_count": 5,
   "metadata": {},
   "outputs": [
    {
     "name": "stdout",
     "output_type": "stream",
     "text": [
      "['I love']\n"
     ]
    }
   ],
   "source": [
    "import re\n",
    "\n",
    "txt = \"I love cats and dogs.\"\n",
    "print(re.findall(\"^I love\", txt)) # matches string starting with 'I love'"
   ]
  },
  {
   "attachments": {},
   "cell_type": "markdown",
   "metadata": {},
   "source": [
    "**4) Special Sequences**\n",
    "\n",
    "- `\\A`: Returns a match if the specified characters are at the beginning of the string\n",
    "- `\\b`: Returns a match where the specified characters are at the beginning or at the end of a word\n",
    "- `\\B`: Returns a match where the specified characters are present, but NOT at the beginning (or at the end) of a word\n",
    "- `\\d`: Returns a match where the string contains digits (numbers from 0-9)\n",
    "- `\\D`: Returns a match where the string DOES NOT contain digits\n",
    "- `\\s`: Returns a match where the string contains a white space character\n",
    "- `\\S`: Returns a match where the string DOES NOT contain a white space character\n",
    "- `\\w`: Returns a match where the string contains any word characters (characters from a to Z, digits from 0-9, and the underscore _ character)\n",
    "- `\\W`: Returns a match where the string DOES NOT contain any word characters\n",
    "- `\\Z`: Returns a match if the specified characters are at the end of the string"
   ]
  },
  {
   "cell_type": "code",
   "execution_count": 6,
   "metadata": {},
   "outputs": [
    {
     "name": "stdout",
     "output_type": "stream",
     "text": [
      "['3', '2']\n"
     ]
    }
   ],
   "source": [
    "import re\n",
    "\n",
    "txt = \"3 cats, 2 dogs.\"\n",
    "print(re.findall(\"\\d\", txt)) # matches all digits in the string"
   ]
  },
  {
   "attachments": {},
   "cell_type": "markdown",
   "metadata": {},
   "source": [
    "\n",
    "**5) Sets**\n",
    "\n",
    "- `[]`: A set of characters\n",
    "- `\\`: Signals a special sequence (can also be used to escape special characters)\n",
    "- `. ^ $ * + ? {} [] \\ | ()`: Metacharacters\n",
    "- `[]`: A set of characters\n",
    "- `[^]`: Matches every character except the ones in brackets\n",
    "- `[abc]`: Matches 'a', 'b', or 'c'\n",
    "- `[a-z]`: Any lowercase letter\n",
    "- `[A-Z]`: Any uppercase letter\n",
    "- `[0-9]`: Any digit\n",
    "- `[0123]`: Matches '0', '1', '2', or '3'"
   ]
  },
  {
   "cell_type": "code",
   "execution_count": 7,
   "metadata": {},
   "outputs": [
    {
     "name": "stdout",
     "output_type": "stream",
     "text": [
      "['c', 'a', 'a', 'd', 'd', 'g']\n"
     ]
    }
   ],
   "source": [
    "import re\n",
    "\n",
    "txt = \"I love cats and dogs.\"\n",
    "print(re.findall(\"[acdg]\", txt)) # matches"
   ]
  },
  {
   "attachments": {},
   "cell_type": "markdown",
   "metadata": {},
   "source": [
    "**6) Python re module**\n",
    "\n",
    "The `re` module in Python provides support for regular expressions. Here are some commonly used methods:\n",
    "\n",
    "- `re.findall()`: Returns a list containing all matches\n",
    "- `re.search()`: Returns a Match object if there is a match anywhere in the string\n",
    "- `re.split()`: Returns a list where the string has been split at each match\n",
    "- `re.sub()`: Replaces one or many matches with a string"
   ]
  },
  {
   "cell_type": "code",
   "execution_count": 8,
   "metadata": {},
   "outputs": [
    {
     "name": "stdout",
     "output_type": "stream",
     "text": [
      "['123', '4444', '1']\n"
     ]
    }
   ],
   "source": [
    "import re\n",
    "\n",
    "txt = \"I have 123 cats, 4444 dogs, and 1 bird.\"\n",
    "x = re.findall(\"\\d+\", txt) # find all groups of digits\n",
    "print(x)"
   ]
  },
  {
   "attachments": {},
   "cell_type": "markdown",
   "metadata": {},
   "source": [
    "**7) Methods with regex usage**"
   ]
  },
  {
   "cell_type": "code",
   "execution_count": 9,
   "metadata": {},
   "outputs": [
    {
     "name": "stdout",
     "output_type": "stream",
     "text": [
      "123-456-7890\n",
      "['123-456-7890']\n",
      "['Hello,', 'my', 'name', 'is', 'John', 'Doe', 'and', 'my', 'phone', 'number', 'is', '123-456-7890.']\n",
      "Hello, my name is John Doe and my phone number is XXX-XXX-XXXX.\n"
     ]
    }
   ],
   "source": [
    "import re\n",
    "\n",
    "txt = \"Hello, my name is John Doe and my phone number is 123-456-7890.\"\n",
    "\n",
    "# Using re.search(): Find the first phone number in the string\n",
    "x = re.search(\"\\d{3}-\\d{3}-\\d{4}\", txt)\n",
    "print(x.group())\n",
    "\n",
    "# Using re.findall(): Find all phone numbers in the string\n",
    "x = re.findall(\"\\d{3}-\\d{3}-\\d{4}\", txt)\n",
    "print(x)\n",
    "\n",
    "# Using re.split(): Split the string at every white-space character\n",
    "x = re.split(\"\\s\", txt)\n",
    "print(x)\n",
    "\n",
    "# Using re.sub(): Replace all digits in the string with \"X\"\n",
    "x = re.sub(\"\\d\", \"X\", txt)\n",
    "print(x)"
   ]
  }
 ],
 "metadata": {
  "kernelspec": {
   "display_name": "Python 3",
   "language": "python",
   "name": "python3"
  },
  "language_info": {
   "codemirror_mode": {
    "name": "ipython",
    "version": 3
   },
   "file_extension": ".py",
   "mimetype": "text/x-python",
   "name": "python",
   "nbconvert_exporter": "python",
   "pygments_lexer": "ipython3",
   "version": "3.10.2"
  },
  "orig_nbformat": 4
 },
 "nbformat": 4,
 "nbformat_minor": 2
}
