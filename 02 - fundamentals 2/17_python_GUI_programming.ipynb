{
 "cells": [
  {
   "attachments": {},
   "cell_type": "markdown",
   "metadata": {},
   "source": [
    "**1) Introduction:**\n",
    "PyQt5 is a comprehensive set of Python bindings for Qt libraries. It is used to create desktop applications. PyQt5 is a module you can use to create graphical user interfaces (GUI).\n",
    "\n",
    "Installation:\n",
    "\n",
    "```python\n",
    "pip install pyqt5\n",
    "```\n",
    "\n",
    "**2) Components and Events:**\n",
    "Components in PyQt5 are called widgets. There are many types of widgets in PyQt5 such as QPushButton, QLabel, and QLineEdit, etc. Events are user actions such as mouse click, key press, or window resize.\n",
    "\n",
    "**3) An Example GUI:**\n",
    "Here's an example of a simple PyQt5 GUI:"
   ]
  },
  {
   "cell_type": "code",
   "execution_count": null,
   "metadata": {},
   "outputs": [],
   "source": [
    "from PyQt5.QtWidgets import QApplication, QWidget\n",
    "\n",
    "app = QApplication([])\n",
    "\n",
    "window = QWidget()\n",
    "window.setWindowTitle('PyQt5 App')\n",
    "window.show()\n",
    "\n",
    "app.exec_()\n",
    "\n",
    "# This code creates a blank PyQt5 window."
   ]
  },
  {
   "attachments": {},
   "cell_type": "markdown",
   "metadata": {},
   "source": [
    "**4) Widgets:**\n",
    "PyQt5 offers a wide range of different widgets. A widget could be a button, text box, or a list box, etc. Here's an example of using QLabel and QPushButton:"
   ]
  },
  {
   "cell_type": "code",
   "execution_count": null,
   "metadata": {},
   "outputs": [],
   "source": [
    "from PyQt5.QtWidgets import QApplication, QWidget, QLabel, QPushButton\n",
    "\n",
    "app = QApplication([])\n",
    "\n",
    "window = QWidget()\n",
    "window.setWindowTitle('PyQt5 App')\n",
    "\n",
    "label = QLabel('Hello World!', parent=window)\n",
    "label.move(60, 30)\n",
    "\n",
    "button = QPushButton('Click me', parent=window)\n",
    "button.move(60, 60)\n",
    "\n",
    "window.show()\n",
    "\n",
    "app.exec_()"
   ]
  },
  {
   "attachments": {},
   "cell_type": "markdown",
   "metadata": {},
   "source": [
    "\n",
    "**5) Layout Management:**\n",
    "PyQt5 has layout classes which help in alignment of widgets. The QHBoxLayout, QVBoxLayout, and QGridLayout classes are a few examples. Here's an example of using QVBoxLayout:"
   ]
  },
  {
   "cell_type": "code",
   "execution_count": null,
   "metadata": {},
   "outputs": [],
   "source": [
    "from PyQt5.QtWidgets import QApplication, QWidget, QVBoxLayout, QPushButton\n",
    "\n",
    "app = QApplication([])\n",
    "\n",
    "window = QWidget()\n",
    "window.setWindowTitle('PyQt5 App')\n",
    "layout = QVBoxLayout()\n",
    "\n",
    "layout.addWidget(QPushButton('Top'))\n",
    "layout.addWidget(QPushButton('Bottom'))\n",
    "\n",
    "window.setLayout(layout)\n",
    "\n",
    "window.show()\n",
    "\n",
    "app.exec_()"
   ]
  },
  {
   "attachments": {},
   "cell_type": "markdown",
   "metadata": {},
   "source": [
    "**6) Signals & Slots:**\n",
    "A signal in PyQt5 is essentially an event like a button click or a key press. A slot is a python callable. If a signal is connected to a slot then the slot is called when the signal is emitted. Here's an example:\n",
    "\n"
   ]
  },
  {
   "cell_type": "code",
   "execution_count": null,
   "metadata": {},
   "outputs": [],
   "source": [
    "from PyQt5.QtWidgets import QApplication, QWidget, QVBoxLayout, QPushButton\n",
    "\n",
    "def greeting():\n",
    "  print('Hello World!')\n",
    "\n",
    "app = QApplication([])\n",
    "\n",
    "window = QWidget()\n",
    "window.setWindowTitle('PyQt5 App')\n",
    "layout = QVBoxLayout()\n",
    "\n",
    "button = QPushButton('Greet')\n",
    "button.clicked.connect(greeting)  # Connect clicked to greeting()\n",
    "\n",
    "layout.addWidget(button)\n",
    "\n",
    "window.setLayout(layout)\n",
    "\n",
    "window.show()\n",
    "\n",
    "app.exec_()\n"
   ]
  },
  {
   "attachments": {},
   "cell_type": "markdown",
   "metadata": {},
   "source": [
    "**7) QMessagesBox, QDialog:**\n",
    "QMessageBox is a commonly used modal dialog to display some informational message and optionally ask the user to respond by clicking any one of the standard buttons on it. QDialog is the base class of dialog windows.\n"
   ]
  },
  {
   "cell_type": "code",
   "execution_count": null,
   "metadata": {},
   "outputs": [],
   "source": [
    "from PyQt5.QtWidgets import QApplication, QWidget, QMessageBox, QVBoxLayout, QPushButton\n",
    "\n",
    "def show_message():\n",
    "    QMessageBox.information(window, \"Hello!\", \"Hello, PyQt!\")\n",
    "\n",
    "app = QApplication([])\n",
    "\n",
    "window = QWidget()\n",
    "window.setWindowTitle('PyQt5 App')\n",
    "layout = QVBoxLayout()\n",
    "\n",
    "button = QPushButton('Show message')\n",
    "button.clicked.connect(show_message)  # Connect clicked to show_message()\n",
    "\n",
    "layout.addWidget(button)\n",
    "\n",
    "window.setLayout(layout)\n",
    "\n",
    "window.show()\n",
    "\n",
    "app.exec_()\n"
   ]
  },
  {
   "attachments": {},
   "cell_type": "markdown",
   "metadata": {},
   "source": [
    "**8) Database Handling:**\n",
    "We can use PyQt5 to handle databases. PyQt5 has a module, PyQt5.QtSql, which provides classes that can be used to provide data to view classes. The model classes provide a standard interface for accessing database data in PyQt5 applications."
   ]
  },
  {
   "cell_type": "code",
   "execution_count": null,
   "metadata": {},
   "outputs": [],
   "source": [
    "\n",
    "from PyQt5.QtSql import QSqlDatabase\n",
    "\n",
    "def create_database():\n",
    "    db = QSqlDatabase.addDatabase('QSQLITE')\n",
    "    db.setDatabaseName('test_db.sqlite')\n",
    "\n",
    "    if not db.open():\n",
    "        print(\"Error: connection with database failed\")\n",
    "    else:\n",
    "        print(\"Database: connection succeeded\")\n",
    "\n",
    "create_database()"
   ]
  },
  {
   "cell_type": "code",
   "execution_count": null,
   "metadata": {},
   "outputs": [],
   "source": []
  }
 ],
 "metadata": {
  "kernelspec": {
   "display_name": "Python 3",
   "language": "python",
   "name": "python3"
  },
  "language_info": {
   "codemirror_mode": {
    "name": "ipython",
    "version": 3
   },
   "file_extension": ".py",
   "mimetype": "text/x-python",
   "name": "python",
   "nbconvert_exporter": "python",
   "pygments_lexer": "ipython3",
   "version": "3.10.2"
  },
  "orig_nbformat": 4
 },
 "nbformat": 4,
 "nbformat_minor": 2
}
