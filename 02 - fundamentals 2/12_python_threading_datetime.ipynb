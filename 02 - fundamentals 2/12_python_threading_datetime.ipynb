{
 "cells": [
  {
   "attachments": {},
   "cell_type": "markdown",
   "metadata": {},
   "source": [
    "1. Process:\n",
    "\n",
    "In Python, a process is an instance of a running program. It is an independent unit that consists of its own memory space, stack, and resources. Each process runs in a separate address space, which means they do not share memory with other processes by default. Processes are managed by the operating system, and they can run concurrently or in parallel on multi-core systems. In Python, you can create and manage processes using the `multiprocessing` module.\n",
    "\n",
    "2. Thread:\n",
    "\n",
    "A thread is a lightweight execution unit within a process. Unlike processes, threads share the same memory space and resources of the process they belong to. Multiple threads can exist within a single process and can execute concurrently. Threads are useful for achieving concurrency in programs, allowing multiple tasks to be executed simultaneously. Python provides a built-in `threading` module to create and manage threads.\n",
    "\n",
    "3. Multithreading:\n",
    "\n",
    "Multithreading refers to the concurrent execution of multiple threads within a single process. It allows different threads to execute code simultaneously, making efficient use of system resources. In Python, multithreading can be achieved using the `threading` module. However, due to the Global Interpreter Lock (GIL) in CPython (the reference implementation of Python), multithreading does not always result in true parallel execution on multi-core systems. The GIL restricts multiple threads from executing Python bytecodes simultaneously, although I/O-bound tasks can still benefit from multithreading.\n",
    "\n",
    "4. Time Complexity:\n",
    "\n",
    "Time complexity is a measure of how the runtime of an algorithm grows with the size of its input. It helps analyze and compare the efficiency of algorithms in terms of the input size. Time complexity is usually expressed using Big O notation. It provides an upper bound on the growth rate of the algorithm's runtime as the input size increases. Common time complexity classes include O(1) (constant time), O(log n) (logarithmic time), O(n) (linear time), O(n^2) (quadratic time), O(n log n) (linearithmic time), and so on. By analyzing the time complexity of an algorithm, you can determine how it will scale with larger inputs and make informed decisions about algorithm selection and optimization."
   ]
  },
  {
   "attachments": {},
   "cell_type": "markdown",
   "metadata": {},
   "source": [
    "**Thread life cycle**\n",
    "\n",
    "The life cycle of a thread refers to its different stages or states that it goes through during its execution. In Python, the `threading` module provides functionality for creating and managing threads. The typical life cycle of a thread includes the following stages:\n",
    "\n",
    "1. New: This is the initial state of a thread. In this state, the thread is created but not yet started. The necessary resources, such as thread ID and stack space, are allocated.\n",
    "\n",
    "2. Runnable/Ready: After the thread is created, it enters the runnable or ready state. In this state, the thread is ready to run, but it may not be currently executing. The operating system's scheduler determines when the thread gets actual CPU time to execute.\n",
    "\n",
    "3. Running: When the thread gets its turn to execute, it enters the running state. In this state, the thread's code is being executed by the CPU.\n",
    "\n",
    "4. Blocked/Waiting: A thread can enter the blocked or waiting state for various reasons. It might be waiting for a particular condition to be satisfied, waiting for input/output operations to complete, or waiting for a lock to be released. While in this state, the thread does not consume CPU time.\n",
    "\n",
    "5. Terminated: The thread enters the terminated state when it completes its execution or is explicitly terminated. Once a thread is terminated, it cannot be resumed or restarted.\n",
    "\n",
    "Note that these stages are sequential, and a thread transitions from one stage to another based on various factors such as CPU scheduling, synchronization mechanisms, and thread operations. The transitions between states are managed by the operating system and the `threading` module in Python."
   ]
  },
  {
   "cell_type": "code",
   "execution_count": 1,
   "metadata": {},
   "outputs": [
    {
     "name": "stdout",
     "output_type": "stream",
     "text": [
      "ID of process running main program: 10468\n",
      "Main thread name: MainThread\n",
      "Task 1 assigned to thread: t1\n",
      "ID of process running task 1: 10468\n",
      "Task 2 assigned to thread: t2\n",
      "ID of process running task 2: 10468\n"
     ]
    }
   ],
   "source": [
    "# Python program to illustrate the concept of threading\n",
    "import threading\n",
    "import os\n",
    "\n",
    "def task1():\n",
    "\tprint(\"Task 1 assigned to thread: {}\".format(threading.current_thread().name))\n",
    "\tprint(\"ID of process running task 1: {}\".format(os.getpid()))\n",
    "\n",
    "def task2():\n",
    "\tprint(\"Task 2 assigned to thread: {}\".format(threading.current_thread().name))\n",
    "\tprint(\"ID of process running task 2: {}\".format(os.getpid()))\n",
    "\n",
    "# print ID of current process\n",
    "print(\"ID of process running main program: {}\".format(os.getpid()))\n",
    "\n",
    "# print name of main thread\n",
    "print(\"Main thread name: {}\".format(threading.current_thread().name))\n",
    "\n",
    "# creating threads\n",
    "t1 = threading.Thread(target=task1, name='t1')\n",
    "t2 = threading.Thread(target=task2, name='t2')\n",
    "\n",
    "# starting threads\n",
    "t1.start()\n",
    "t2.start()\n",
    "\n",
    "# wait until all threads finish\n",
    "t1.join()\n",
    "t2.join()\n"
   ]
  },
  {
   "attachments": {},
   "cell_type": "markdown",
   "metadata": {},
   "source": [
    "**Datetime**\n",
    "\n",
    "In Python, date and time are not a data type of their own, but a module named datetime can be imported to work with the date as well as time. Python Datetime module comes built into Python, so there is no need to install it externally. \n",
    "\n",
    "The DateTime module is categorized into 6 main classes – \n",
    "\n",
    "1. date – An idealized naive date, assuming the current Gregorian calendar always was, and always will be, in effect. Its attributes are year, month and day.\n",
    "2. time – An idealized time, independent of any particular day, assuming that every day has exactly 24*60*60 seconds. Its attributes are hour, minute, second, microsecond, and tzinfo.\n",
    "3. datetime – Its a combination of date and time along with the attributes year, month, day, hour, minute, second, microsecond, and tzinfo.\n",
    "4. timedelta – A duration expressing the difference between two date, time, or datetime instances to microsecond resolution.\n",
    "5. tzinfo – It provides time zone information objects.\n",
    "6. timezone – A class that implements the tzinfo abstract base class as a fixed offset from the UTC (New in version 3.2)."
   ]
  },
  {
   "cell_type": "code",
   "execution_count": 2,
   "metadata": {},
   "outputs": [
    {
     "name": "stdout",
     "output_type": "stream",
     "text": [
      "Date passed as argument is 1996-12-11\n"
     ]
    }
   ],
   "source": [
    "\n",
    "# import the date class\n",
    "from datetime import date\n",
    "\n",
    "# initializing constructor and passing arguments in the format year, month, date\n",
    "my_date = date(1996, 12, 11)\n",
    "\n",
    "print(\"Date passed as argument is\", my_date)"
   ]
  },
  {
   "cell_type": "code",
   "execution_count": 4,
   "metadata": {},
   "outputs": [
    {
     "name": "stdout",
     "output_type": "stream",
     "text": [
      "Today's date is 2023-05-28\n"
     ]
    }
   ],
   "source": [
    "# Python program to print current date\n",
    "\n",
    "from datetime import date\n",
    "\n",
    "# calling the today function of date class\n",
    "today = date.today()\n",
    "\n",
    "print(\"Today's date is\", today)\n"
   ]
  },
  {
   "cell_type": "code",
   "execution_count": 2,
   "metadata": {},
   "outputs": [
    {
     "name": "stdout",
     "output_type": "stream",
     "text": [
      "Current year: 2023\n",
      "Current month: 5\n",
      "Current day: 31\n"
     ]
    }
   ],
   "source": [
    "from datetime import date\n",
    "\n",
    "# date object of today's date\n",
    "today = date.today()\n",
    "\n",
    "print(\"Current year:\", today.year)\n",
    "print(\"Current month:\", today.month)\n",
    "print(\"Current day:\", today.day)"
   ]
  },
  {
   "cell_type": "code",
   "execution_count": 3,
   "metadata": {},
   "outputs": [
    {
     "name": "stdout",
     "output_type": "stream",
     "text": [
      "Datetime from timestamp: 2029-10-25 21:47:48\n",
      "Output 2: 09:47:48 PM\n"
     ]
    }
   ],
   "source": [
    "from datetime import datetime\n",
    "\n",
    "# Getting Datetime from timestamp\n",
    "date_time = datetime.fromtimestamp(1887639468)\n",
    "print(\"Datetime from timestamp:\", date_time)\n",
    "\n",
    "#hardcode a timestamp and retun in hh:mm:ss am pm format\n",
    "from datetime import datetime\n",
    "date_time = datetime.fromtimestamp(1887639468)\n",
    "d = date_time.strftime(\"%I:%M:%S %p\")\n",
    "print(\"Output 2:\", d)\n"
   ]
  },
  {
   "cell_type": "code",
   "execution_count": 7,
   "metadata": {},
   "outputs": [
    {
     "name": "stdout",
     "output_type": "stream",
     "text": [
      "String Representation 2023-05-28\n",
      "<class 'str'>\n"
     ]
    }
   ],
   "source": [
    "from datetime import date\n",
    "\n",
    "# calling the today function of date class\n",
    "today = date.today()\n",
    "\n",
    "# Converting the date to the string\n",
    "Str = date.isoformat(today)\n",
    "print(\"String Representation\", Str)\n",
    "print(type(Str))\n"
   ]
  },
  {
   "attachments": {},
   "cell_type": "markdown",
   "metadata": {},
   "source": [
    "**List of Date class Methods**\n",
    "\n",
    "***Function Name - Description***\n",
    "1. ctime()-Return a string representing the date\n",
    "2. fromisocalendar()-Returns a date corresponding to the ISO calendar\n",
    "3. fromisoformat()-Returns a date object from the string representation of the date\n",
    "4. fromordinal()-Returns a date object from the proleptic Gregorian ordinal, where January 1 of year 1 has ordinal 1\n",
    "5. fromtimestamp()-Returns a date object from the POSIX timestamp\n",
    "6. isocalendar()-Returns a tuple year, week, and weekday\n",
    "7. isoformat()-Returns the string representation of the date\n",
    "8. isoweekday()-Returns the day of the week as integer where Monday is 1 and Sunday is 7\n",
    "9. replace()-Changes the value of the date object with the given parameter\n",
    "10. strftime()-Returns a string representation of the date with the given format\n",
    "11. timetuple()-Returns an object of type time.struct_time\n",
    "12. today()-Returns the current local date\n",
    "13. toordinal()-Return the proleptic Gregorian ordinal of the date, where January 1 of year 1 has ordinal 1\n",
    "14. weekday()-Returns the day of the week as integer where Monday is 0 and Sunday is 6"
   ]
  },
  {
   "cell_type": "code",
   "execution_count": 8,
   "metadata": {},
   "outputs": [
    {
     "name": "stdout",
     "output_type": "stream",
     "text": [
      "hour = 11\n",
      "minute = 34\n",
      "second = 56\n",
      "microsecond = 0\n"
     ]
    }
   ],
   "source": [
    "from datetime import time\n",
    "\n",
    "Time = time(11, 34, 56)\n",
    "\n",
    "print(\"hour =\", Time.hour)\n",
    "print(\"minute =\", Time.minute)\n",
    "print(\"second =\", Time.second)\n",
    "print(\"microsecond =\", Time.microsecond)\n"
   ]
  },
  {
   "cell_type": "code",
   "execution_count": 9,
   "metadata": {},
   "outputs": [
    {
     "name": "stdout",
     "output_type": "stream",
     "text": [
      "Current date and time is 2023-05-28 12:28:28.169239\n"
     ]
    }
   ],
   "source": [
    "from datetime import datetime\n",
    "\n",
    "# Calling now() function\n",
    "today = datetime.now()\n",
    "\n",
    "print(\"Current date and time is\", today)\n"
   ]
  },
  {
   "cell_type": "code",
   "execution_count": null,
   "metadata": {},
   "outputs": [],
   "source": []
  },
  {
   "attachments": {},
   "cell_type": "markdown",
   "metadata": {},
   "source": [
    "**List of Datetime Class Methods**\n",
    "**Function Name-Description**\n",
    "1. astimezone()-Returns the DateTime object containing timezone information.\n",
    "2. combine()-Combines the date and time objects and return a DateTime object\n",
    "3. ctime()-Returns a string representation of date and time\n",
    "4. date()-Return the Date class object\n",
    "5. fromisoformat()-Returns a datetime object from the string representation of the date and time\n",
    "6. fromordinal()-Returns a date object from the proleptic Gregorian ordinal, where January 1 of year 1 has ordinal 1. The hour, minute, second, and microsecond are 0\n",
    "7. fromtimestamp()-Return date and time from POSIX timestamp\n",
    "8. isocalendar()-Returns a tuple year, week, and weekday\n",
    "9. isoformat()-Return the string representation of date and time\n",
    "10. isoweekday()-Returns the day of the week as integer where Monday is 1 and Sunday is 7\n",
    "11. now()-Returns current local date and time with tz parameter\n",
    "12. replace()-Changes the specific attributes of the DateTime object\n",
    "13. strftime()-Returns a string representation of the DateTime object with the given format\n",
    "14. strptime()-Returns a DateTime object corresponding to the date string\n",
    "15. time()-Return the Time class object\n",
    "16. timetuple()-Returns an object of type time.struct_time\n",
    "17. timetz()-Return the Time class object\n",
    "18. today()-Return local DateTime with tzinfo as None\n",
    "19. toordinal()-Return the proleptic Gregorian ordinal of the date, where January 1 of year 1 has ordinal 1\n",
    "20. tzname()-Returns the name of the timezone\n",
    "21. utcfromtimestamp()-Return UTC from POSIX timestamp\n",
    "22. utcoffset()-Returns the UTC offset\n",
    "23. utcnow()-Return current UTC date and time\n",
    "24. weekday()-Returns the day of the week as integer where Monday is 0 and Sunday is 6"
   ]
  },
  {
   "cell_type": "code",
   "execution_count": 10,
   "metadata": {},
   "outputs": [
    {
     "name": "stdout",
     "output_type": "stream",
     "text": [
      "initial_date 2023-05-28 12:31:32.425683\n",
      "future_date_after_2yrs: 2025-05-27 12:31:32.425683\n",
      "future_date_after_2days: 2023-05-30 12:31:32.425683\n"
     ]
    }
   ],
   "source": [
    "# Timedelta function demonstration\n",
    "\n",
    "from datetime import datetime, timedelta\n",
    "\n",
    "\n",
    "# Using current time\n",
    "ini_time_for_now = datetime.now()\n",
    "\n",
    "# printing initial_date\n",
    "print(\"initial_date\", str(ini_time_for_now))\n",
    "\n",
    "# Calculating future dates\n",
    "# for two years\n",
    "future_date_after_2yrs = ini_time_for_now + timedelta(days=730)\n",
    "\n",
    "future_date_after_2days = ini_time_for_now + timedelta(days=2)\n",
    "\n",
    "# printing calculated future_dates\n",
    "print('future_date_after_2yrs:', str(future_date_after_2yrs))\n",
    "print('future_date_after_2days:', str(future_date_after_2days))\n"
   ]
  },
  {
   "cell_type": "code",
   "execution_count": 11,
   "metadata": {},
   "outputs": [
    {
     "name": "stdout",
     "output_type": "stream",
     "text": [
      "initial_date 2023-05-28 12:31:38.041216\n",
      "new_final_time 2023-05-30 12:31:38.041216\n",
      "Time difference: 2 days, 0:00:00\n"
     ]
    }
   ],
   "source": [
    "# Timedelta function demonstration\n",
    "from datetime import datetime, timedelta\n",
    "\n",
    "# Using current time\n",
    "ini_time_for_now = datetime.now()\n",
    "\n",
    "# printing initial_date\n",
    "print(\"initial_date\", str(ini_time_for_now))\n",
    "\n",
    "# Some another datetime\n",
    "new_final_time = ini_time_for_now + \\\n",
    "\ttimedelta(days=2)\n",
    "\n",
    "# printing new final_date\n",
    "print(\"new_final_time\", str(new_final_time))\n",
    "\n",
    "\n",
    "# printing calculated past_dates\n",
    "print('Time difference:', str(new_final_time -\n",
    "\t\t\t\t\t\t\tini_time_for_now))\n"
   ]
  },
  {
   "cell_type": "code",
   "execution_count": 13,
   "metadata": {},
   "outputs": [],
   "source": [
    "import time\n",
    "time.sleep(5)"
   ]
  },
  {
   "cell_type": "code",
   "execution_count": null,
   "metadata": {},
   "outputs": [],
   "source": []
  }
 ],
 "metadata": {
  "kernelspec": {
   "display_name": "Python 3",
   "language": "python",
   "name": "python3"
  },
  "language_info": {
   "codemirror_mode": {
    "name": "ipython",
    "version": 3
   },
   "file_extension": ".py",
   "mimetype": "text/x-python",
   "name": "python",
   "nbconvert_exporter": "python",
   "pygments_lexer": "ipython3",
   "version": "3.10.2"
  },
  "orig_nbformat": 4
 },
 "nbformat": 4,
 "nbformat_minor": 2
}
