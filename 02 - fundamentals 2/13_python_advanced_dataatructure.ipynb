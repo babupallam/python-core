{
 "cells": [
  {
   "attachments": {},
   "cell_type": "markdown",
   "metadata": {},
   "source": [
    "1. deque:\n",
    "\n",
    "The 'deque' (short for \"double-ended queue\") is a data structure in Python that allows efficient insertion and deletion at both ends. It is implemented in the `collections` module. It provides O(1) time complexity for append and pop operations on both ends, making it useful for implementing queues and stacks.\n"
   ]
  },
  {
   "cell_type": "code",
   "execution_count": 1,
   "metadata": {},
   "outputs": [
    {
     "name": "stdout",
     "output_type": "stream",
     "text": [
      "deque([1, 2, 3])\n",
      "1\n",
      "3\n"
     ]
    }
   ],
   "source": [
    "from collections import deque\n",
    "\n",
    "# Create a deque\n",
    "my_deque = deque()\n",
    "\n",
    "# Append elements\n",
    "my_deque.append(1)\n",
    "my_deque.append(2)\n",
    "my_deque.append(3)\n",
    "\n",
    "print(my_deque)\n",
    "\n",
    "# Pop elements from the left\n",
    "left_element = my_deque.popleft()\n",
    "print(left_element)  # Output: 1\n",
    "\n",
    "# Pop elements from the right\n",
    "right_element = my_deque.pop()\n",
    "print(right_element)  # Output: 3\n"
   ]
  },
  {
   "attachments": {},
   "cell_type": "markdown",
   "metadata": {},
   "source": [
    "2. `namedtuple`:\n",
    "`namedtuple` is a factory function from the `collections` module that creates tuple subclasses with named fields. It allows accessing tuple elements by name instead of index, providing more readability and self-documenting code.\n"
   ]
  },
  {
   "cell_type": "code",
   "execution_count": 2,
   "metadata": {},
   "outputs": [
    {
     "name": "stdout",
     "output_type": "stream",
     "text": [
      "Person(name='Alice', age=25, city='New York')\n",
      "Alice\n",
      "25\n",
      "New York\n"
     ]
    }
   ],
   "source": [
    "from collections import namedtuple\n",
    "\n",
    "# Define a namedtuple class\n",
    "Person = namedtuple('Person', ['name', 'age', 'city'])\n",
    "\n",
    "# Create an instance of the Person class\n",
    "person1 = Person('Alice', 25, 'New York')\n",
    "\n",
    "# Access fields by name\n",
    "print(person1)\n",
    "print(person1.name)  # Output: Alice\n",
    "print(person1.age)   # Output: 25\n",
    "print(person1.city)  # Output: New York"
   ]
  },
  {
   "attachments": {},
   "cell_type": "markdown",
   "metadata": {},
   "source": [
    "3. `ChainMap`:\n",
    "`ChainMap` is a class from the `collections` module that provides a way to chain multiple dictionaries or other mappings together as a single unit. It allows looking up keys in multiple dictionaries in the chain, in the order they were added.\n"
   ]
  },
  {
   "cell_type": "code",
   "execution_count": 4,
   "metadata": {},
   "outputs": [
    {
     "name": "stdout",
     "output_type": "stream",
     "text": [
      "ChainMap({'a': 1, 'b': 2}, {'c': 3, 'd': 4})\n",
      "1\n",
      "3\n",
      "ChainMap({'c': 3, 'd': 4}, {'a': 1, 'b': 2})\n",
      "3\n",
      "1\n"
     ]
    }
   ],
   "source": [
    "from collections import ChainMap\n",
    "\n",
    "# Define two dictionaries\n",
    "dict1 = {'a': 1, 'b': 2}\n",
    "dict2 = {'c': 3, 'd': 4}\n",
    "\n",
    "# Create a ChainMap\n",
    "chain_map = ChainMap(dict1, dict2)\n",
    "chain_map1=ChainMap(dict2,dict1)\n",
    "\n",
    "# Access values using keys\n",
    "print(chain_map)\n",
    "print(chain_map['a'])  # Output: 1\n",
    "print(chain_map['c'])  # Output: 3\n",
    "\n",
    "#accessing chainmap1\n",
    "print(chain_map1)\n",
    "print(chain_map1['c'])\n",
    "print(chain_map1['a'])"
   ]
  },
  {
   "attachments": {},
   "cell_type": "markdown",
   "metadata": {},
   "source": [
    "4. `Counter`:\n",
    "`Counter` is a class from the `collections` module that is used to count the occurrences of elements in a collection. It is implemented as a subclass of `dict` and provides a convenient way to perform counting tasks.\n"
   ]
  },
  {
   "cell_type": "code",
   "execution_count": 5,
   "metadata": {},
   "outputs": [
    {
     "name": "stdout",
     "output_type": "stream",
     "text": [
      "Counter({1: 3, 2: 3, 3: 2, 4: 1})\n",
      "3\n",
      "3\n",
      "1\n"
     ]
    }
   ],
   "source": [
    "from collections import Counter\n",
    "\n",
    "# Create a Counter\n",
    "my_list = [1, 2, 3, 2, 1, 3, 4, 2, 1]\n",
    "counter = Counter(my_list)\n",
    "\n",
    "# Count occurrences of elements\n",
    "print(counter)  # Output: Counter({1: 3, 2: 3, 3: 2, 4: 1})\n",
    "print(counter[1])  # Output: 3 (1 occurs 3 times)\n",
    "print(counter[2])  # Output: 3 (2 occurs 3 times)\n",
    "print(counter[4])  # Output: 1 (4 occurs 1 time)"
   ]
  },
  {
   "attachments": {},
   "cell_type": "markdown",
   "metadata": {},
   "source": [
    "5. `OrderedDict`:\n",
    "`OrderedDict` is a dictionary subclass from the `collections` module that remembers the order of key-value pairs inserted into it. It maintains a doubly-linked list to preserve the insertion order. Iterating over an `OrderedDict` will always return the items in the order they were added.\n"
   ]
  },
  {
   "cell_type": "code",
   "execution_count": 6,
   "metadata": {},
   "outputs": [
    {
     "name": "stdout",
     "output_type": "stream",
     "text": [
      "a 1\n",
      "b 2\n",
      "c 3\n"
     ]
    }
   ],
   "source": [
    "from collections import OrderedDict\n",
    "\n",
    "# Create an OrderedDict\n",
    "my_dict = OrderedDict()\n",
    "\n",
    "# Add key-value pairs\n",
    "my_dict['a'] = 1\n",
    "my_dict['b'] = 2\n",
    "my_dict['c'] = 3\n",
    "\n",
    "# Iterate over the OrderedDict\n",
    "for key, value in my_dict.items():\n",
    "    print(key, value)"
   ]
  },
  {
   "attachments": {},
   "cell_type": "markdown",
   "metadata": {},
   "source": [
    "6. Normal Dictionary:\n",
    "\n",
    "A normal dictionary, or simply a dictionary, is a built-in data structure in Python that stores a collection of key-value pairs. It provides an efficient way to retrieve values based on their corresponding keys. Dictionaries are unordered, meaning the order of elements may vary during iteration.\n"
   ]
  },
  {
   "cell_type": "code",
   "execution_count": 1,
   "metadata": {},
   "outputs": [
    {
     "name": "stdout",
     "output_type": "stream",
     "text": [
      "5\n",
      "apple 3\n",
      "banana 5\n",
      "orange 2\n",
      "grape 4\n"
     ]
    }
   ],
   "source": [
    "# Create a dictionary\n",
    "my_dict = {'apple': 3, 'banana': 5, 'orange': 2}\n",
    "\n",
    "# Access values using keys\n",
    "print(my_dict['banana'])  # Output: 5\n",
    "\n",
    "# Add a new key-value pair\n",
    "my_dict['grape'] = 4\n",
    "\n",
    "# Iterate over the dictionary\n",
    "for key, value in my_dict.items():\n",
    "    print(key, value)\n"
   ]
  }
 ],
 "metadata": {
  "kernelspec": {
   "display_name": "Python 3",
   "language": "python",
   "name": "python3"
  },
  "language_info": {
   "codemirror_mode": {
    "name": "ipython",
    "version": 3
   },
   "file_extension": ".py",
   "mimetype": "text/x-python",
   "name": "python",
   "nbconvert_exporter": "python",
   "pygments_lexer": "ipython3",
   "version": "3.10.2"
  },
  "orig_nbformat": 4
 },
 "nbformat": 4,
 "nbformat_minor": 2
}
