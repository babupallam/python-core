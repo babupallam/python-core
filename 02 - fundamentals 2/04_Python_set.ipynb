{
 "cells": [
  {
   "attachments": {},
   "cell_type": "markdown",
   "metadata": {},
   "source": [
    "Sets:\n",
    "\n",
    "Un ordered, Un changeable and unindexed"
   ]
  },
  {
   "cell_type": "code",
   "execution_count": 1,
   "metadata": {},
   "outputs": [
    {
     "data": {
      "text/plain": [
       "{'apple', 'banana', 'cherry'}"
      ]
     },
     "execution_count": 1,
     "metadata": {},
     "output_type": "execute_result"
    }
   ],
   "source": [
    "myset={'apple','banana','cherry'}\n",
    "myset"
   ]
  },
  {
   "cell_type": "code",
   "execution_count": 2,
   "metadata": {},
   "outputs": [
    {
     "data": {
      "text/plain": [
       "{'apple', 'banana', 'cherry', 'orange'}"
      ]
     },
     "execution_count": 2,
     "metadata": {},
     "output_type": "execute_result"
    }
   ],
   "source": [
    "myset.add('orange')\n",
    "myset"
   ]
  },
  {
   "cell_type": "code",
   "execution_count": 3,
   "metadata": {},
   "outputs": [
    {
     "data": {
      "text/plain": [
       "{'apple', 'banana', 'cherry', 'grapes', 'mango', 'orange'}"
      ]
     },
     "execution_count": 3,
     "metadata": {},
     "output_type": "execute_result"
    }
   ],
   "source": [
    "myset2={'mango','grapes'}\n",
    "\n",
    "myset.update(myset2)\n",
    "\n",
    "myset"
   ]
  },
  {
   "cell_type": "code",
   "execution_count": 4,
   "metadata": {},
   "outputs": [
    {
     "data": {
      "text/plain": [
       "{'apple', 'cherry', 'grapes', 'mango', 'orange'}"
      ]
     },
     "execution_count": 4,
     "metadata": {},
     "output_type": "execute_result"
    }
   ],
   "source": [
    "myset.remove('banana')\n",
    "myset"
   ]
  },
  {
   "attachments": {},
   "cell_type": "markdown",
   "metadata": {},
   "source": [
    "Set methods:\n",
    "\n",
    "Method-Description\n",
    "\n",
    "add()-Adds an element to the set\n",
    "\n",
    "clear()-Removes all the elements from the set\n",
    "\n",
    "copy()-Returns a copy of the set\n",
    "\n",
    "difference()-Returns a set containing the difference between two or more sets\n",
    "\n",
    "difference_update()-Removes the items in this set that are also \n",
    "included in another, specified set\n",
    "\n",
    "discard()-Remove the specified item\n",
    "\n",
    "intersection()-Returns a set, that is the intersection of two other sets\n",
    "\n",
    "intersection_update()-Removes the items in this set that are not present in other, specified set(s)\n",
    "\n",
    "isdisjoint()-Returns whether two sets have a intersection or not\n",
    "\n",
    "issubset()-Returns whether another set contains this set or not\n",
    "\n",
    "issuperset()-Returns whether this set contains another set or not\n",
    "\n",
    "pop()-Removes an element from the set\n",
    "\n",
    "remove()-Removes the specified element\n",
    "\n",
    "symmetric_difference()-Returns a set with the symmetric differences of two sets\n",
    "\n",
    "symmetric_difference_update()-inserts the symmetric differences from this set and another\n",
    "\n",
    "union()-Return a set containing the union of sets\n",
    "\n",
    "update()-Update the set with the union of this set and others"
   ]
  },
  {
   "attachments": {},
   "cell_type": "markdown",
   "metadata": {},
   "source": []
  }
 ],
 "metadata": {
  "kernelspec": {
   "display_name": "Python 3",
   "language": "python",
   "name": "python3"
  },
  "language_info": {
   "codemirror_mode": {
    "name": "ipython",
    "version": 3
   },
   "file_extension": ".py",
   "mimetype": "text/x-python",
   "name": "python",
   "nbconvert_exporter": "python",
   "pygments_lexer": "ipython3",
   "version": "3.10.2"
  },
  "orig_nbformat": 4
 },
 "nbformat": 4,
 "nbformat_minor": 2
}
