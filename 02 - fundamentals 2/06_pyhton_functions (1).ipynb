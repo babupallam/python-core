{
 "cells": [
  {
   "attachments": {},
   "cell_type": "markdown",
   "metadata": {},
   "source": [
    "A function is a block of code which only runs when it is called.\n",
    "\n",
    "You can pass data, known as parameters, into a function.\n",
    "\n",
    "A function can return data as a result."
   ]
  },
  {
   "cell_type": "code",
   "execution_count": 1,
   "metadata": {},
   "outputs": [],
   "source": [
    "def my_func():\n",
    "    print(\"Hello World\")"
   ]
  },
  {
   "cell_type": "code",
   "execution_count": 2,
   "metadata": {},
   "outputs": [
    {
     "name": "stdout",
     "output_type": "stream",
     "text": [
      "Hello World\n"
     ]
    }
   ],
   "source": [
    "my_func()"
   ]
  },
  {
   "attachments": {},
   "cell_type": "markdown",
   "metadata": {},
   "source": [
    "Arguments\n",
    "\n",
    "Information can be passed into functions as arguments.\n",
    "\n",
    "Arguments are specified after the function name, inside the parentheses. You can add as many arguments as you want, just separate them with a comma."
   ]
  },
  {
   "cell_type": "code",
   "execution_count": 3,
   "metadata": {},
   "outputs": [
    {
     "name": "stdout",
     "output_type": "stream",
     "text": [
      "Hello John\n",
      "Hello Mary\n",
      "Hello Bob\n"
     ]
    }
   ],
   "source": [
    "def my_func2(name):\n",
    "    print(\"Hello \" + name)\n",
    "\n",
    "my_func2(\"John\")\n",
    "my_func2(\"Mary\")\n",
    "my_func2(\"Bob\")"
   ]
  },
  {
   "cell_type": "code",
   "execution_count": 4,
   "metadata": {},
   "outputs": [
    {
     "name": "stdout",
     "output_type": "stream",
     "text": [
      "Hello John you are 36\n",
      "Hello Mary you are 25\n",
      "Hello Bob you are 40\n"
     ]
    }
   ],
   "source": [
    "def my_func3(name, age):\n",
    "    print(\"Hello \" + name + \" you are \" + str(age))\n",
    "\n",
    "my_func3(\"John\", 36)\n",
    "my_func3(\"Mary\", 25)\n",
    "my_func3(\"Bob\", 40)"
   ]
  },
  {
   "attachments": {},
   "cell_type": "markdown",
   "metadata": {},
   "source": [
    "Arbitrary Arguments, *args\n",
    "\n",
    "If you do not know how many arguments that will be passed into your function, add a * before the parameter name in the function definition.\n",
    "\n",
    "This way the function will receive a tuple of arguments, and can access the items accordingly."
   ]
  },
  {
   "cell_type": "code",
   "execution_count": 6,
   "metadata": {},
   "outputs": [
    {
     "name": "stdout",
     "output_type": "stream",
     "text": [
      "('John', 36, 'Mary', 25, 'Bob', 40)\n",
      "John\n",
      "36\n"
     ]
    }
   ],
   "source": [
    "def my_func_args(*args):\n",
    "    print(args)\n",
    "    print(args[0])\n",
    "    print(args[1])\n",
    "\n",
    "my_func_args(\"John\", 36, \"Mary\", 25, \"Bob\", 40)"
   ]
  },
  {
   "attachments": {},
   "cell_type": "markdown",
   "metadata": {},
   "source": [
    "Keyword Arguments\n",
    "\n",
    "You can also send arguments with the key = value syntax."
   ]
  },
  {
   "cell_type": "code",
   "execution_count": 8,
   "metadata": {},
   "outputs": [
    {
     "name": "stdout",
     "output_type": "stream",
     "text": [
      "The eldest  child is Bob\n"
     ]
    }
   ],
   "source": [
    "def child(child1, child2, child3):\n",
    "    print(\"The eldest  child is \" + child3)\n",
    "\n",
    "child(child1 = \"John\", child2 = \"Mary\", child3 = \"Bob\")"
   ]
  },
  {
   "attachments": {},
   "cell_type": "markdown",
   "metadata": {},
   "source": [
    "Arbitrary Keyword Arguments, **kwargs\n",
    "\n",
    "If you do not know how many keyword arguments that will be passed into your function, add two asterisk: ** before the parameter name in the function definition."
   ]
  },
  {
   "cell_type": "code",
   "execution_count": 10,
   "metadata": {},
   "outputs": [
    {
     "name": "stdout",
     "output_type": "stream",
     "text": [
      "His last name is Doe\n"
     ]
    }
   ],
   "source": [
    "def kid(**kid):\n",
    "    print(\"His last name is \" + kid[\"lname\"])\n",
    "\n",
    "kid(fname = \"John\", lname = \"Doe\", age = 36, country = \"Norway\", city = \"Oslo\")"
   ]
  },
  {
   "cell_type": "code",
   "execution_count": 11,
   "metadata": {},
   "outputs": [
    {
     "name": "stdout",
     "output_type": "stream",
     "text": [
      "I am from Sweden\n",
      "I am from India\n",
      "I am from Norway\n",
      "I am from Brazil\n"
     ]
    }
   ],
   "source": [
    "def default_country(country = \"Norway\"):\n",
    "    print(\"I am from \" + country)\n",
    "\n",
    "default_country(\"Sweden\")\n",
    "default_country(\"India\")\n",
    "default_country()\n",
    "default_country(\"Brazil\")"
   ]
  },
  {
   "cell_type": "code",
   "execution_count": 12,
   "metadata": {},
   "outputs": [
    {
     "name": "stdout",
     "output_type": "stream",
     "text": [
      "apple\n",
      "banana\n",
      "cherry\n"
     ]
    }
   ],
   "source": [
    "def loop_function(food):\n",
    "    for x in food:\n",
    "        print(x)\n",
    "\n",
    "fruits = [\"apple\", \"banana\", \"cherry\"]\n",
    "\n",
    "loop_function(fruits)"
   ]
  },
  {
   "cell_type": "code",
   "execution_count": 14,
   "metadata": {},
   "outputs": [
    {
     "name": "stdout",
     "output_type": "stream",
     "text": [
      "15\n",
      "25\n",
      "50\n"
     ]
    }
   ],
   "source": [
    "def return_function(x):\n",
    "    return 5 * x\n",
    "\n",
    "print(return_function(3))\n",
    "print(return_function(5))\n",
    "print(return_function(10))"
   ]
  },
  {
   "cell_type": "code",
   "execution_count": 17,
   "metadata": {},
   "outputs": [],
   "source": [
    "def pass_function(x):\n",
    "    a=100*x\n",
    "    pass\n",
    "\n",
    "pass_function(10)"
   ]
  },
  {
   "attachments": {},
   "cell_type": "markdown",
   "metadata": {},
   "source": [
    "Lambda\n",
    "\n",
    "A lambda function can take any number of arguments, but can only have one expression."
   ]
  },
  {
   "cell_type": "code",
   "execution_count": 18,
   "metadata": {},
   "outputs": [
    {
     "name": "stdout",
     "output_type": "stream",
     "text": [
      "15\n"
     ]
    }
   ],
   "source": [
    "x = lambda a : a + 10\n",
    "print(x(5))"
   ]
  },
  {
   "cell_type": "code",
   "execution_count": 19,
   "metadata": {},
   "outputs": [
    {
     "name": "stdout",
     "output_type": "stream",
     "text": [
      "30\n"
     ]
    }
   ],
   "source": [
    "x = lambda a, b : a * b\n",
    "print(x(5, 6))"
   ]
  },
  {
   "cell_type": "code",
   "execution_count": 23,
   "metadata": {},
   "outputs": [
    {
     "data": {
      "text/plain": [
       "22"
      ]
     },
     "execution_count": 23,
     "metadata": {},
     "output_type": "execute_result"
    }
   ],
   "source": [
    "def myfunc(n):\n",
    "    return lambda a : a * n\n",
    "\n",
    "value=myfunc(2)\n",
    "\n",
    "value(11)"
   ]
  },
  {
   "cell_type": "code",
   "execution_count": 27,
   "metadata": {},
   "outputs": [
    {
     "data": {
      "text/plain": [
       "33"
      ]
     },
     "execution_count": 27,
     "metadata": {},
     "output_type": "execute_result"
    }
   ],
   "source": [
    "def myfunc(n):\n",
    "    return lambda a : a * n\n",
    "\n",
    "doubler=myfunc(2)\n",
    "print(doubler(11))\n",
    "\n",
    "tripler=myfunc(3)\n",
    "print(tripler(11))"
   ]
  },
  {
   "cell_type": "code",
   "execution_count": 6,
   "metadata": {},
   "outputs": [
    {
     "name": "stdout",
     "output_type": "stream",
     "text": [
      "1\n",
      "2\n",
      "3\n"
     ]
    }
   ],
   "source": [
    "def my_function():\n",
    "    i = 1\n",
    "    while i < 6:\n",
    "        if i == 4:\n",
    "            break\n",
    "        print(i)\n",
    "        i += 1\n",
    "\n",
    "my_function()"
   ]
  },
  {
   "attachments": {},
   "cell_type": "markdown",
   "metadata": {},
   "source": [
    "Attert statement\n",
    "\n",
    "In Python, the assert statement is used to test if a given condition is true. If the condition is true, the program continues its execution normally. However, if the condition is false, an AssertionError is raised, and the program stops executing."
   ]
  },
  {
   "cell_type": "code",
   "execution_count": 8,
   "metadata": {},
   "outputs": [
    {
     "name": "stdout",
     "output_type": "stream",
     "text": [
      "5.0\n"
     ]
    },
    {
     "ename": "AssertionError",
     "evalue": "Divisor cannot be zero",
     "output_type": "error",
     "traceback": [
      "\u001b[1;31m---------------------------------------------------------------------------\u001b[0m",
      "\u001b[1;31mAssertionError\u001b[0m                            Traceback (most recent call last)",
      "Cell \u001b[1;32mIn[8], line 6\u001b[0m\n\u001b[0;32m      3\u001b[0m     \u001b[39mreturn\u001b[39;00m x\u001b[39m/\u001b[39my\n\u001b[0;32m      5\u001b[0m \u001b[39mprint\u001b[39m(divide(\u001b[39m10\u001b[39m,\u001b[39m2\u001b[39m))\n\u001b[1;32m----> 6\u001b[0m \u001b[39mprint\u001b[39m(divide(\u001b[39m10\u001b[39;49m,\u001b[39m0\u001b[39;49m))\n",
      "Cell \u001b[1;32mIn[8], line 2\u001b[0m, in \u001b[0;36mdivide\u001b[1;34m(x, y)\u001b[0m\n\u001b[0;32m      1\u001b[0m \u001b[39mdef\u001b[39;00m \u001b[39mdivide\u001b[39m(x,y):\n\u001b[1;32m----> 2\u001b[0m     \u001b[39massert\u001b[39;00m y \u001b[39m!=\u001b[39m \u001b[39m0\u001b[39m, \u001b[39m\"\u001b[39m\u001b[39mDivisor cannot be zero\u001b[39m\u001b[39m\"\u001b[39m\n\u001b[0;32m      3\u001b[0m     \u001b[39mreturn\u001b[39;00m x\u001b[39m/\u001b[39my\n",
      "\u001b[1;31mAssertionError\u001b[0m: Divisor cannot be zero"
     ]
    }
   ],
   "source": [
    "def divide(x,y):\n",
    "    assert y != 0, \"Divisor cannot be zero\"\n",
    "    return x/y\n",
    "\n",
    "print(divide(10,2))\n",
    "print(divide(10,0))"
   ]
  },
  {
   "cell_type": "code",
   "execution_count": 1,
   "metadata": {},
   "outputs": [
    {
     "name": "stdout",
     "output_type": "stream",
     "text": [
      "[2, 4, 6, 8, 10]\n"
     ]
    }
   ],
   "source": [
    "num_list=[1,2,3,4,5,6,7,8,9,10]\n",
    "\n",
    "filter_lst=list(filter(lambda x: (x%2==0),num_list))\n",
    "\n",
    "print(filter_lst)"
   ]
  },
  {
   "cell_type": "code",
   "execution_count": 2,
   "metadata": {},
   "outputs": [
    {
     "name": "stdout",
     "output_type": "stream",
     "text": [
      "[2, 4, 6, 8, 10, 12, 14, 16, 18, 20]\n"
     ]
    }
   ],
   "source": [
    "map_list=list(map(lambda x: x*2, num_list))\n",
    "\n",
    "print(map_list)"
   ]
  },
  {
   "attachments": {},
   "cell_type": "markdown",
   "metadata": {},
   "source": [
    "Doc strings:"
   ]
  },
  {
   "cell_type": "code",
   "execution_count": null,
   "metadata": {},
   "outputs": [],
   "source": [
    "''' I have declarea two variables x and y with the vales of 10 and 20 respectively. '''\n",
    "\n",
    "y=10\n",
    "z=20\n",
    "\n",
    "\"\"\"\n",
    "O ahve declared a variavle x to to\n",
    "hold the summed values of the variable y and z.\n",
    "This isan an arithmetic operation.\n",
    "\"\"\"\n",
    "x= y+z"
   ]
  },
  {
   "attachments": {},
   "cell_type": "markdown",
   "metadata": {},
   "source": [
    "Scope of variable\n",
    "\n",
    "1) local variable\n",
    "2) Global variable"
   ]
  },
  {
   "cell_type": "code",
   "execution_count": 9,
   "metadata": {},
   "outputs": [
    {
     "name": "stdout",
     "output_type": "stream",
     "text": [
      "10\n",
      "20\n"
     ]
    }
   ],
   "source": [
    "global_var=10\n",
    "\n",
    "def my_func():\n",
    "    local_var=20\n",
    "    print(global_var)\n",
    "    print(local_var)\n",
    "\n",
    "my_func()\n"
   ]
  },
  {
   "cell_type": "code",
   "execution_count": 10,
   "metadata": {},
   "outputs": [
    {
     "name": "stdout",
     "output_type": "stream",
     "text": [
      "10\n"
     ]
    },
    {
     "ename": "NameError",
     "evalue": "name 'local_var' is not defined",
     "output_type": "error",
     "traceback": [
      "\u001b[1;31m---------------------------------------------------------------------------\u001b[0m",
      "\u001b[1;31mNameError\u001b[0m                                 Traceback (most recent call last)",
      "Cell \u001b[1;32mIn[10], line 2\u001b[0m\n\u001b[0;32m      1\u001b[0m \u001b[39mprint\u001b[39m(global_var)\n\u001b[1;32m----> 2\u001b[0m \u001b[39mprint\u001b[39m(local_var)\n",
      "\u001b[1;31mNameError\u001b[0m: name 'local_var' is not defined"
     ]
    }
   ],
   "source": [
    "print(global_var)\n",
    "print(local_var)"
   ]
  },
  {
   "cell_type": "code",
   "execution_count": 5,
   "metadata": {},
   "outputs": [
    {
     "name": "stdout",
     "output_type": "stream",
     "text": [
      "55\n",
      "[2, 4, 6, 8, 10, 12, 14, 16, 18, 20]\n"
     ]
    }
   ],
   "source": [
    "from functools import reduce\n",
    "\n",
    "numbers=[1,2,3,4,5,6,7,8,9,10]\n",
    "\n",
    "total=reduce(lambda x,y: x+y, numbers)\n",
    "map_list=list(map(lambda x: x*2, numbers))\n",
    "\n",
    "print(total)\n",
    "print(map_list)"
   ]
  },
  {
   "cell_type": "code",
   "execution_count": null,
   "metadata": {},
   "outputs": [],
   "source": []
  }
 ],
 "metadata": {
  "kernelspec": {
   "display_name": "Python 3",
   "language": "python",
   "name": "python3"
  },
  "language_info": {
   "codemirror_mode": {
    "name": "ipython",
    "version": 3
   },
   "file_extension": ".py",
   "mimetype": "text/x-python",
   "name": "python",
   "nbconvert_exporter": "python",
   "pygments_lexer": "ipython3",
   "version": "3.10.2"
  },
  "orig_nbformat": 4
 },
 "nbformat": 4,
 "nbformat_minor": 2
}
