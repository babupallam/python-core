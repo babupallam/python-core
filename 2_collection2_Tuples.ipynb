{
 "cells": [
  {
   "cell_type": "code",
   "execution_count": null,
   "metadata": {},
   "outputs": [],
   "source": [
    "#============================================\n",
    "# Python Collections (Arrays)\n",
    "# ===========================\n",
    "# There are four collection data types in the Python programming language:\n",
    "    # 1. List is a collection \n",
    "    #       which is ordered and changeable. \n",
    "    #        Allows duplicate members.\n",
    "    # 2. Tuple is a collection \n",
    "    #        which is ordered and unchangeable. \n",
    "    #        Allows duplicate members.\n",
    "    # 3. Set is a collection \n",
    "    #       which is unordered, unchangeable*, and unindexed. \n",
    "    #       No duplicate members.\n",
    "    # 4. Dictionary is a collection \n",
    "    #       which is ordered** and changeable. \n",
    "    #       No duplicate members.\n",
    "\n",
    "#========================================\n"
   ]
  },
  {
   "attachments": {},
   "cell_type": "markdown",
   "metadata": {},
   "source": [
    "\n",
    "# PYTHON TUPLES\n",
    "    "
   ]
  },
  {
   "cell_type": "code",
   "execution_count": 1,
   "metadata": {},
   "outputs": [
    {
     "name": "stdout",
     "output_type": "stream",
     "text": [
      "('apple', 'banana', 'cherry')\n",
      "<class 'tuple'>\n"
     ]
    }
   ],
   "source": [
    "myTuple = (\"apple\",\"banana\",\"cherry\")\n",
    "print(myTuple)#('apple', 'banana', 'cherry')\n",
    "print(type(myTuple))#<class 'tuple'>\n",
    "\n",
    "#In Tuple \n",
    "#   items are indexed.. [1],[2]\n",
    "#   ordered.. have a defined order and will not change\n",
    "#   unchangable..   we cannot change/add/remove after a tuple has been created\n",
    "#   duplicate.. allowed\n"
   ]
  },
  {
   "cell_type": "code",
   "execution_count": 2,
   "metadata": {},
   "outputs": [
    {
     "name": "stdout",
     "output_type": "stream",
     "text": [
      "3\n"
     ]
    }
   ],
   "source": [
    "thistuple = (\"apple\", \"banana\", \"cherry\")\n",
    "print(len(thistuple))#3\n",
    "\n"
   ]
  },
  {
   "cell_type": "code",
   "execution_count": 3,
   "metadata": {},
   "outputs": [
    {
     "name": "stdout",
     "output_type": "stream",
     "text": [
      "<class 'tuple'>\n",
      "<class 'str'>\n"
     ]
    }
   ],
   "source": [
    "# Ob: comma is important to identify tuple if only one item exist\n",
    "# Create tuple with one item\n",
    "thistuple = (\"apple\",)\n",
    "print(type(thistuple))\n",
    "#NOT a tuple\n",
    "thistuple = (\"apple\")\n",
    "print(type(thistuple))\n"
   ]
  },
  {
   "cell_type": "code",
   "execution_count": 4,
   "metadata": {},
   "outputs": [],
   "source": [
    "# ob: any data type or mixed data type is fine\n",
    "tuple1 = (\"apple\", \"banana\", \"cherry\")\n",
    "tuple2 = (1, 5, 7, 9, 3)\n",
    "tuple3 = (True, False, False)\n",
    "tuple1 = (\"abc\", 34, True, 40, \"male\")\n",
    "#create tuple using tuple constructor\n",
    "thistuple = tuple((\"apple\", \"banana\", \"cherry\")) # note the double round-brackets\n",
    "#ob: the bracket is very important\n"
   ]
  },
  {
   "cell_type": "code",
   "execution_count": 5,
   "metadata": {},
   "outputs": [
    {
     "name": "stdout",
     "output_type": "stream",
     "text": [
      "banana\n"
     ]
    }
   ],
   "source": [
    "#Access item\n",
    "# ==============\n",
    "thistuple = (\"apple\", \"banana\", \"cherry\")\n",
    "print(thistuple[1])#banana\n",
    "\n"
   ]
  },
  {
   "cell_type": "code",
   "execution_count": 6,
   "metadata": {},
   "outputs": [
    {
     "name": "stdout",
     "output_type": "stream",
     "text": [
      "cherry\n"
     ]
    }
   ],
   "source": [
    "# ob: -1 points to last tuple\n",
    "thistuple = (\"apple\", \"banana\", \"cherry\")\n",
    "print(thistuple[-1])#cherry\n",
    "\n"
   ]
  },
  {
   "cell_type": "code",
   "execution_count": 7,
   "metadata": {},
   "outputs": [
    {
     "name": "stdout",
     "output_type": "stream",
     "text": [
      "('cherry', 'orange', 'kiwi')\n"
     ]
    }
   ],
   "source": [
    "#range of indexes\n",
    "# =================\n",
    "thistuple = (\"apple\", \"banana\", \"cherry\", \"orange\", \"kiwi\", \"melon\", \"mango\")\n",
    "print(thistuple[2:5])#('cherry', 'orange', 'kiwi')\n",
    "\n"
   ]
  },
  {
   "cell_type": "code",
   "execution_count": 8,
   "metadata": {},
   "outputs": [
    {
     "name": "stdout",
     "output_type": "stream",
     "text": [
      "Yes, 'apple' is in the fruits tuple\n"
     ]
    }
   ],
   "source": [
    "\n",
    "#with if condition\n",
    "thistuple = (\"apple\", \"banana\", \"cherry\")\n",
    "if \"apple\" in thistuple:\n",
    "  print(\"Yes, 'apple' is in the fruits tuple\")\n"
   ]
  },
  {
   "cell_type": "code",
   "execution_count": 9,
   "metadata": {},
   "outputs": [
    {
     "name": "stdout",
     "output_type": "stream",
     "text": [
      "('apple', 'banana', 'cherry')\n",
      "['apple', 'banana', 'cherry']\n",
      "('apple', 'grapes', 'cherry')\n",
      "['apple', 'grapes', 'cherry']\n"
     ]
    }
   ],
   "source": [
    "#update tuple\n",
    "# ==============\n",
    "# => after creation it will be unchangable/immutable\n",
    "# => only way to update is by replacing it with new \n",
    "x = (\"apple\", \"banana\", \"cherry\")\n",
    "y=list(x)\n",
    "print(x)#('apple', 'banana', 'cherry') -- x is a tuple\n",
    "print(y)#['apple', 'banana', 'cherry'] -- y is a list\n",
    "y[1]=\"grapes\"\n",
    "x=tuple(y);\n",
    "print(x)#('apple', 'grapes', 'cherry') -- x is a tuple\n",
    "print(y)#['apple', 'grapes', 'cherry'] -- y is a list\n",
    "\n",
    "# Ob: now value of x is changed\n"
   ]
  },
  {
   "cell_type": "code",
   "execution_count": 10,
   "metadata": {},
   "outputs": [],
   "source": [
    "\n",
    "# add item\n",
    "# ==========\n",
    "thistuple = (\"apple\", \"banana\", \"cherry\")\n",
    "y = list(thistuple)\n",
    "y.append(\"orange\")\n",
    "thistuple = tuple(y)\n"
   ]
  },
  {
   "cell_type": "code",
   "execution_count": 11,
   "metadata": {},
   "outputs": [
    {
     "name": "stdout",
     "output_type": "stream",
     "text": [
      "('apple', 'banana', 'cherry', 'orange')\n"
     ]
    }
   ],
   "source": [
    "#add a tuple\n",
    "# =============\n",
    "thistuple = (\"apple\", \"banana\", \"cherry\")\n",
    "y = (\"orange\",)\n",
    "thistuple += y\n",
    "\n",
    "print(thistuple)\n",
    "\n"
   ]
  },
  {
   "cell_type": "code",
   "execution_count": 12,
   "metadata": {},
   "outputs": [],
   "source": [
    "# remove an item\n",
    "# ===============\n",
    "thistuple = (\"apple\", \"banana\", \"cherry\")\n",
    "y = list(thistuple)\n",
    "y.remove(\"apple\")\n",
    "thistuple = tuple(y)\n",
    "\n"
   ]
  },
  {
   "cell_type": "code",
   "execution_count": 13,
   "metadata": {},
   "outputs": [],
   "source": [
    "#delete an item is not possible with del\n",
    "# ===============\n",
    "thistuple = (\"apple\", \"banana\", \"cherry\")\n",
    "# del thistuple[1]//error\n",
    "\n"
   ]
  },
  {
   "cell_type": "code",
   "execution_count": 14,
   "metadata": {},
   "outputs": [],
   "source": [
    "#delete entire tuple is okay with del\n",
    "# ===========\n",
    "thistuple = (\"apple\", \"banana\", \"cherry\")\n",
    "del thistuple\n",
    "# print(thistuple)//error not defined\n"
   ]
  },
  {
   "cell_type": "code",
   "execution_count": 15,
   "metadata": {},
   "outputs": [],
   "source": [
    "# UNPACKING TUPLES\n",
    "# ================\n",
    "# means extracting values into variables\n",
    "\n",
    "#packing a tuple\n",
    "fruits = (\"apple\", \"banana\", \"cherry\")\n",
    "\n"
   ]
  },
  {
   "cell_type": "code",
   "execution_count": 16,
   "metadata": {},
   "outputs": [
    {
     "name": "stdout",
     "output_type": "stream",
     "text": [
      "apple\n",
      "banana\n",
      "cherry\n"
     ]
    }
   ],
   "source": [
    "#unpacking a tuple\n",
    "fruits = (\"apple\", \"banana\", \"cherry\")\n",
    "(green, yellow, red) = fruits\n",
    "print(green)#apple\n",
    "print(yellow)#banan\n",
    "print(red)#cherry\n"
   ]
  },
  {
   "cell_type": "code",
   "execution_count": 17,
   "metadata": {},
   "outputs": [
    {
     "name": "stdout",
     "output_type": "stream",
     "text": [
      "apple\n",
      "['banana', 'cherry']\n",
      "apple\n",
      "['mango', 'papaya', 'pineapple']\n",
      "cherry\n"
     ]
    }
   ],
   "source": [
    "\n",
    "# Using Asterisk*\n",
    "    # this will extract the values into a list\n",
    "fruits = (\"apple\", \"banana\", \"cherry\")\n",
    "(first, *rest) = fruits\n",
    "print(first)#apple\n",
    "print(rest)#['banana', 'cherry'] -- a list\n",
    "\n",
    "#example for asterisk\n",
    "fruits = (\"apple\", \"mango\", \"papaya\", \"pineapple\", \"cherry\")\n",
    "(green, *tropic, red) = fruits\n",
    "print(green)#apple --first\n",
    "print(tropic)#['mango', 'papaya', 'pineapple']\n",
    "print(red)#cherry  --last\n"
   ]
  },
  {
   "cell_type": "code",
   "execution_count": 18,
   "metadata": {},
   "outputs": [
    {
     "name": "stdout",
     "output_type": "stream",
     "text": [
      "apple\n",
      "banana\n",
      "cherry\n",
      "apple\n",
      "banana\n",
      "cherry\n",
      "apple\n",
      "banana\n",
      "cherry\n"
     ]
    }
   ],
   "source": [
    "# LOOPING THROUGH TUPLE\n",
    "# ======================\n",
    "#way 1 loopoing though a tuple\n",
    "thistuple = (\"apple\", \"banana\", \"cherry\")\n",
    "for x in thistuple:\n",
    "  print(x)\n",
    "\n",
    "#way 2 looping through index numbers\n",
    "thistuple = (\"apple\", \"banana\", \"cherry\")\n",
    "for i in range(len(thistuple)):\n",
    "  print(thistuple[i])\n",
    "\n",
    "#   way-3 using while loop\n",
    "thistuple = (\"apple\", \"banana\", \"cherry\")\n",
    "i = 0\n",
    "while i < len(thistuple):\n",
    "  print(thistuple[i])\n",
    "  i = i + 1\n"
   ]
  },
  {
   "cell_type": "code",
   "execution_count": 19,
   "metadata": {},
   "outputs": [
    {
     "name": "stdout",
     "output_type": "stream",
     "text": [
      "('a', 'b', 'c', 1, 2, 3)\n",
      "('apple', 'banana', 'cherry', 'apple', 'banana', 'cherry')\n"
     ]
    }
   ],
   "source": [
    "# join\n",
    "tuple1 = (\"a\", \"b\" , \"c\")\n",
    "tuple2 = (1, 2, 3)\n",
    "\n",
    "tuple3 = tuple1 + tuple2\n",
    "print(tuple3)#('a', 'b', 'c', 1, 2, 3)\n",
    "\n",
    "#multiply tuples\n",
    "fruits = (\"apple\", \"banana\", \"cherry\")\n",
    "mytuple = fruits * 2\n",
    "\n",
    "print(mytuple)#('apple', 'banana', 'cherry', 'apple', 'banana', 'cherry')\n"
   ]
  },
  {
   "cell_type": "code",
   "execution_count": 20,
   "metadata": {},
   "outputs": [
    {
     "name": "stdout",
     "output_type": "stream",
     "text": [
      "2\n",
      "1\n"
     ]
    }
   ],
   "source": [
    "# loop methods\n",
    "tuple1 = (\"a\", \"b\" , \"c\",\"a\")\n",
    "print(tuple1.count(\"a\"))#2\n",
    "print(tuple1.index(\"b\"))#1\n"
   ]
  },
  {
   "attachments": {},
   "cell_type": "markdown",
   "metadata": {},
   "source": [
    "# TESTS"
   ]
  },
  {
   "cell_type": "code",
   "execution_count": 1,
   "metadata": {},
   "outputs": [
    {
     "name": "stdout",
     "output_type": "stream",
     "text": [
      "Initial empty Tuple: \n",
      "()\n",
      "\n",
      "Tuple with the use of String: \n",
      "('Geeks', 'For')\n",
      "\n",
      "Tuple using List: \n",
      "(1, 2, 4, 5, 6)\n",
      "\n",
      "Tuple with the use of function: \n",
      "('G', 'e', 'e', 'k', 's')\n"
     ]
    }
   ],
   "source": [
    "# Creating an empty Tuple\n",
    "Tuple1 = ()\n",
    "print(\"Initial empty Tuple: \")\n",
    "print(Tuple1)\n",
    "\n",
    "# Creating a Tuple\n",
    "# with the use of string\n",
    "Tuple1 = ('Geeks', 'For')\n",
    "print(\"\\nTuple with the use of String: \")\n",
    "print(Tuple1)\n",
    "\n",
    "# Creating a Tuple with\n",
    "# the use of list\n",
    "list1 = [1, 2, 4, 5, 6]\n",
    "print(\"\\nTuple using List: \")\n",
    "print(tuple(list1))\n",
    "\n",
    "# Creating a Tuple\n",
    "# with the use of built-in function\n",
    "Tuple1 = tuple('Geeks')\n",
    "print(\"\\nTuple with the use of function: \")\n",
    "print(Tuple1)\n"
   ]
  },
  {
   "cell_type": "code",
   "execution_count": 2,
   "metadata": {},
   "outputs": [
    {
     "name": "stdout",
     "output_type": "stream",
     "text": [
      "\n",
      "Tuple with Mixed Datatypes: \n",
      "(5, 'Welcome', 7, 'Geeks')\n",
      "\n",
      "Tuple with nested tuples: \n",
      "((0, 1, 2, 3), ('python', 'geek'))\n",
      "\n",
      "Tuple with repetition: \n",
      "('Geeks', 'Geeks', 'Geeks')\n",
      "\n",
      "Tuple with a loop\n",
      "('Geeks',)\n",
      "(('Geeks',),)\n",
      "((('Geeks',),),)\n",
      "(((('Geeks',),),),)\n",
      "((((('Geeks',),),),),)\n"
     ]
    }
   ],
   "source": [
    "# Creating a Tuple\n",
    "# with Mixed Datatype\n",
    "Tuple1 = (5, 'Welcome', 7, 'Geeks')\n",
    "print(\"\\nTuple with Mixed Datatypes: \")\n",
    "print(Tuple1)\n",
    "\n",
    "# Creating a Tuple\n",
    "# with nested tuples\n",
    "Tuple1 = (0, 1, 2, 3)\n",
    "Tuple2 = ('python', 'geek')\n",
    "Tuple3 = (Tuple1, Tuple2)\n",
    "print(\"\\nTuple with nested tuples: \")\n",
    "print(Tuple3)\n",
    "\n",
    "# Creating a Tuple\n",
    "# with repetition\n",
    "Tuple1 = ('Geeks',) * 3\n",
    "print(\"\\nTuple with repetition: \")\n",
    "print(Tuple1)\n",
    "\n",
    "# Creating a Tuple\n",
    "# with the use of loop\n",
    "Tuple1 = ('Geeks')\n",
    "n = 5\n",
    "print(\"\\nTuple with a loop\")\n",
    "for i in range(int(n)):\n",
    "\tTuple1 = (Tuple1,)\n",
    "\tprint(Tuple1)\n"
   ]
  },
  {
   "cell_type": "code",
   "execution_count": 3,
   "metadata": {},
   "outputs": [
    {
     "name": "stdout",
     "output_type": "stream",
     "text": [
      "Tuple 1: \n",
      "(0, 1, 2, 3)\n",
      "\n",
      "Tuple2: \n",
      "('Geeks', 'For', 'Geeks')\n",
      "\n",
      "Tuples after Concatenation: \n",
      "(0, 1, 2, 3, 'Geeks', 'For', 'Geeks')\n"
     ]
    }
   ],
   "source": [
    "# Concatenation of tuples\n",
    "Tuple1 = (0, 1, 2, 3)\n",
    "Tuple2 = ('Geeks', 'For', 'Geeks')\n",
    "\n",
    "Tuple3 = Tuple1 + Tuple2\n",
    "\n",
    "# Printing first Tuple\n",
    "print(\"Tuple 1: \")\n",
    "print(Tuple1)\n",
    "\n",
    "# Printing Second Tuple\n",
    "print(\"\\nTuple2: \")\n",
    "print(Tuple2)\n",
    "\n",
    "# Printing Final Tuple\n",
    "print(\"\\nTuples after Concatenation: \")\n",
    "print(Tuple3)\n"
   ]
  },
  {
   "cell_type": "code",
   "execution_count": 7,
   "metadata": {},
   "outputs": [
    {
     "name": "stdout",
     "output_type": "stream",
     "text": [
      "Removal of First Element: \n",
      "('E', 'E', 'K', 'S', 'F', 'O', 'R', 'G', 'E', 'E', 'K', 'S')\n",
      "\n",
      "Tuple after sequence of Element is reversed: \n",
      "('S', 'K', 'E', 'E', 'G', 'R', 'O', 'F', 'S', 'K', 'E', 'E', 'G')\n",
      "\n",
      "Printing elements between Range 4-9: \n",
      "('S', 'F', 'O', 'R', 'G')\n"
     ]
    }
   ],
   "source": [
    "# Slicing of a Tuple\n",
    "\n",
    "# Slicing of a Tuple\n",
    "# with Numbers\n",
    "Tuple1 = tuple('GEEKSFORGEEKS')\n",
    "\n",
    "# Removing First element\n",
    "print(\"Removal of First Element: \")\n",
    "print(Tuple1[1:])\n",
    "\n",
    "# Reversing the Tuple\n",
    "print(\"\\nTuple after sequence of Element is reversed: \")\n",
    "print(Tuple1[::-1])\n",
    "\n",
    "# Printing elements of a Range\n",
    "print(\"\\nPrinting elements between Range 4-9: \")\n",
    "print(Tuple1[4:9])\n"
   ]
  },
  {
   "attachments": {},
   "cell_type": "markdown",
   "metadata": {},
   "source": [
    "# TUPLE vs LIST"
   ]
  },
  {
   "cell_type": "code",
   "execution_count": null,
   "metadata": {},
   "outputs": [],
   "source": [
    "#SIMILARITIES\n",
    "    # => Functions that can be used for both lists and tuples:\n",
    "    #     len(), max(), min(), sum(), any(), all(), sorted()\n",
    "    # => Methods that can be used for both lists and tuples:\n",
    "    #     count(), Index()\n",
    "    # => Tuples can be stored in lists. and lists can be stored in tuples\n",
    "    # => Both ‘tuples’ and ‘lists’ can be nested.\n",
    "#DIFFERENCES\n",
    "    # => Methods that cannot be used for tuples:\n",
    "    #     append(), insert(), remove(), pop(), clear(), sort(), reverse()\n",
    "    # => we generally use \n",
    "    #     ‘tuples’ for heterogeneous (different) data types and \n",
    "    #     ‘lists’ for homogeneous (similar) data types.   \n",
    "    # => Iterating through a ‘tuple’ is faster than in a ‘list’.\n",
    "    # => ‘Lists’ are mutable whereas ‘tuples’ are immutable.\n",
    "    # => Tuples that contain immutable elements \n",
    "    #         can be used as a key for a dictionary.\n"
   ]
  }
 ],
 "metadata": {
  "kernelspec": {
   "display_name": "Python 3",
   "language": "python",
   "name": "python3"
  },
  "language_info": {
   "codemirror_mode": {
    "name": "ipython",
    "version": 3
   },
   "file_extension": ".py",
   "mimetype": "text/x-python",
   "name": "python",
   "nbconvert_exporter": "python",
   "pygments_lexer": "ipython3",
   "version": "3.10.6"
  },
  "orig_nbformat": 4
 },
 "nbformat": 4,
 "nbformat_minor": 2
}
