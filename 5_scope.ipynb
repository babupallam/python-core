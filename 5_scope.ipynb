{
 "cells": [
  {
   "attachments": {},
   "cell_type": "markdown",
   "metadata": {},
   "source": [
    "# Scope\n",
    "    - scope defined the availability of a variable in a region in a program\n",
    "    - local scope\n",
    "    - global scope"
   ]
  },
  {
   "cell_type": "code",
   "execution_count": null,
   "metadata": {},
   "outputs": [],
   "source": [
    "# Local scope\n",
    "    # - inside function\n",
    "    # - inside loops\n",
    "\n",
    "#nested scope\n",
    "def myFun():\n",
    "    x=20;\n",
    "    def innerFun():\n",
    "        print(x)\n",
    "    innerFun()\n",
    "myFun()# 20\n",
    "\n",
    "#ob: scope chaining works here\n"
   ]
  },
  {
   "cell_type": "code",
   "execution_count": null,
   "metadata": {},
   "outputs": [],
   "source": [
    "#Global scope\n",
    "    # - variable outside function\n",
    "    # - available anywhere in a program\n",
    "x = 300\n",
    "def myfunc():\n",
    "  print(x)\n",
    "\n",
    "myfunc()\n",
    "\n",
    "print(x)"
   ]
  },
  {
   "cell_type": "code",
   "execution_count": null,
   "metadata": {},
   "outputs": [],
   "source": [
    "# test1\n",
    "\n",
    "x=300\n",
    "def fun1():\n",
    "    print(x)#error x is used before assingment\n",
    "    x=200\n",
    "fun1()\n",
    "\n",
    "# ob: no hoisting in python\n",
    "# ob: x inside got localscope\n",
    "\n"
   ]
  },
  {
   "cell_type": "code",
   "execution_count": 4,
   "metadata": {},
   "outputs": [
    {
     "name": "stdout",
     "output_type": "stream",
     "text": [
      "200\n"
     ]
    }
   ],
   "source": [
    "#global keyword\n",
    "    # - used to create global variable from localscope\n",
    "\n",
    "def fun1():\n",
    "    global x\n",
    "    x=200;\n",
    "fun1();\n",
    "print(x)#200"
   ]
  },
  {
   "cell_type": "code",
   "execution_count": 6,
   "metadata": {},
   "outputs": [
    {
     "name": "stdout",
     "output_type": "stream",
     "text": [
      "200\n"
     ]
    }
   ],
   "source": [
    "#test2\n",
    "x=300\n",
    "def fun1():\n",
    "    global x\n",
    "    x=200;#update x from 300 to 200\n",
    "fun1();\n",
    "print(x)#200"
   ]
  },
  {
   "cell_type": "code",
   "execution_count": null,
   "metadata": {},
   "outputs": [],
   "source": []
  }
 ],
 "metadata": {
  "kernelspec": {
   "display_name": "Python 3",
   "language": "python",
   "name": "python3"
  },
  "language_info": {
   "codemirror_mode": {
    "name": "ipython",
    "version": 3
   },
   "file_extension": ".py",
   "mimetype": "text/x-python",
   "name": "python",
   "nbconvert_exporter": "python",
   "pygments_lexer": "ipython3",
   "version": "3.10.6"
  },
  "orig_nbformat": 4
 },
 "nbformat": 4,
 "nbformat_minor": 2
}
