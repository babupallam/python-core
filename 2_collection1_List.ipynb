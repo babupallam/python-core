{
 "cells": [
  {
   "attachments": {},
   "cell_type": "markdown",
   "metadata": {},
   "source": [
    "# List\n",
    "\n",
    "    - - simply like dynamically sized array\n",
    "        - vector in c++\n",
    "        - ArrayList in Java\n",
    "    "
   ]
  },
  {
   "cell_type": "code",
   "execution_count": null,
   "metadata": {},
   "outputs": [],
   "source": [
    "# Take input of python list\n",
    "string = input(\"Enter the elements: \")\n",
    "ls = string.split(\" \")#list\n",
    "print(\"The list is \",ls)"
   ]
  },
  {
   "cell_type": "code",
   "execution_count": 1,
   "metadata": {},
   "outputs": [
    {
     "ename": "ValueError",
     "evalue": "invalid literal for int() with base 10: ''",
     "output_type": "error",
     "traceback": [
      "\u001b[0;31m---------------------------------------------------------------------------\u001b[0m",
      "\u001b[0;31mValueError\u001b[0m                                Traceback (most recent call last)",
      "Cell \u001b[0;32mIn[1], line 1\u001b[0m\n\u001b[0;32m----> 1\u001b[0m n \u001b[39m=\u001b[39m \u001b[39mint\u001b[39;49m(\u001b[39minput\u001b[39;49m(\u001b[39m\"\u001b[39;49m\u001b[39mEnter the size of list : \u001b[39;49m\u001b[39m\"\u001b[39;49m))\n\u001b[1;32m      2\u001b[0m lst \u001b[39m=\u001b[39m \u001b[39mlist\u001b[39m(\u001b[39mmap\u001b[39m(\u001b[39mint\u001b[39m, \u001b[39minput\u001b[39m(\u001b[39m\"\u001b[39m\u001b[39mEnter the integer\u001b[39m\u001b[39m\\\u001b[39;00m\n\u001b[1;32m      3\u001b[0m \u001b[39melements:\u001b[39m\u001b[39m\"\u001b[39m)\u001b[39m.\u001b[39mstrip()\u001b[39m.\u001b[39msplit()))[:n]\n\u001b[1;32m      5\u001b[0m \u001b[39m# printing the list\u001b[39;00m\n",
      "\u001b[0;31mValueError\u001b[0m: invalid literal for int() with base 10: ''"
     ]
    }
   ],
   "source": [
    "n = int(input(\"Enter the size of list : \"))\n",
    "lst = list(map(int, input(\"Enter the integer\\\n",
    "elements:\").strip().split()))[:n]\n",
    "\n",
    "# printing the list\n",
    "print('The list is:', lst)\n"
   ]
  },
  {
   "cell_type": "code",
   "execution_count": 2,
   "metadata": {},
   "outputs": [],
   "source": [
    "#============================================\n",
    "# Python Collections (Arrays)\n",
    "# ===========================\n",
    "# There are four collection data types in the Python programming language:\n",
    "    # 1. List is a collection \n",
    "    #       which is ordered and changeable. \n",
    "    #        Allows duplicate members.\n",
    "    # 2. Tuple is a collection \n",
    "    #        which is ordered and unchangeable. \n",
    "    #        Allows duplicate members.\n",
    "    # 3. Set is a collection \n",
    "    #       which is unordered, unchangeable*, and unindexed. \n",
    "    #       No duplicate members.\n",
    "    # 4. Dictionary is a collection \n",
    "    #       which is ordered** and changeable. \n",
    "    #       No duplicate members.\n"
   ]
  },
  {
   "attachments": {},
   "cell_type": "markdown",
   "metadata": {},
   "source": [
    "# Python List\n"
   ]
  },
  {
   "cell_type": "code",
   "execution_count": 3,
   "metadata": {},
   "outputs": [
    {
     "name": "stdout",
     "output_type": "stream",
     "text": [
      "apple\n",
      "banana\n",
      "orange\n",
      "length/size of the list: 3\n",
      "type of list <class 'list'>\n"
     ]
    }
   ],
   "source": [
    "myList = [\"apple\",\"banana\",\"orange\"]\n",
    "for i in myList:\n",
    "    print(i)\n",
    "# output:\n",
    "# apple\n",
    "# banana\n",
    "# orange\n",
    "print(\"length/size of the list:\", len(myList))#length/size of the list: 3\n",
    "print(\"type of list\", type(myList))# <class 'list'>\n",
    "\n"
   ]
  },
  {
   "cell_type": "code",
   "execution_count": 4,
   "metadata": {},
   "outputs": [],
   "source": [
    "#examples of list\n",
    "list1 = [\"apple\", \"banana\", \"cherry\"]\n",
    "list2 = [1, 5, 7, 9, 3]\n",
    "list3 = [True, False, False]\n",
    "list4 = [\"abc\", 34, True, 40, \"male\"]\n",
    "#using list constructior\n",
    "thislist = list((\"apple\", \"banana\", \"cherry\")) # note the double round-brackets\n"
   ]
  },
  {
   "cell_type": "code",
   "execution_count": 5,
   "metadata": {},
   "outputs": [
    {
     "name": "stdout",
     "output_type": "stream",
     "text": [
      "apple\n",
      "banana\n",
      "orange\n",
      "['apple', 'banana']\n",
      "['banana']\n",
      "Apple is in the list\n"
     ]
    }
   ],
   "source": [
    "#access list\n",
    "myList = [\"apple\",\"banana\",\"orange\"]\n",
    "print(myList[0])#apple    --> 0 refers to first item\n",
    "print(myList[1])#banana\n",
    "print(myList[-1])#orange  --> -1 refers to last item\n",
    "print(myList[0:2])#['apple', 'banana'] -- index 0 to 1\n",
    "print(myList[-2:-1])#['banana']\n",
    "if(\"apple\" in myList):\n",
    "    print(\"Apple is in the list\")"
   ]
  },
  {
   "cell_type": "code",
   "execution_count": 6,
   "metadata": {},
   "outputs": [
    {
     "name": "stdout",
     "output_type": "stream",
     "text": [
      "['apple', 'banana', 'cherry']\n"
     ]
    }
   ],
   "source": [
    "#modifying list\n",
    "myList = [\"apple\",\"banana\",\"orange\"]\n",
    "myList[2]=\"cherry\"\n",
    "print(myList)#['apple', 'banana', 'cherry']\n"
   ]
  },
  {
   "cell_type": "code",
   "execution_count": 7,
   "metadata": {},
   "outputs": [
    {
     "name": "stdout",
     "output_type": "stream",
     "text": [
      "['apple', 'fruit1', 'fruit2', 'cherry', 'grapes']\n"
     ]
    }
   ],
   "source": [
    "#replacing the value with another\n",
    "myList = [\"apple\",\"banana\",\"orange\",\"cherry\",\"grapes\"]\n",
    "myList[1:3]=[\"fruit1\",\"fruit2\"]\n",
    "print(myList)#['apple', 'fruit1', 'fruit2', 'cherry', 'grapes']\n",
    "\n"
   ]
  },
  {
   "cell_type": "code",
   "execution_count": 8,
   "metadata": {},
   "outputs": [
    {
     "name": "stdout",
     "output_type": "stream",
     "text": [
      "['apple', 'cherry', 'gwava', 'fruit2', 'orange']\n",
      "['apple', 'watermelon']\n"
     ]
    }
   ],
   "source": [
    "#inserting new items into a specific position\n",
    "myList = [\"apple\",\"banana\",\"orange\"]\n",
    "myList[1:2]=[\"cherry\", \"gwava\",\"fruit2\"]\n",
    "print(myList)#['apple', 'cherry', 'gwava', 'fruit2', 'orange']\n",
    "\n",
    "thislist = [\"apple\", \"banana\", \"cherry\"]\n",
    "thislist[1:3] = [\"watermelon\"]\n",
    "print(thislist)#['apple', 'watermelon']\n"
   ]
  },
  {
   "cell_type": "code",
   "execution_count": 9,
   "metadata": {},
   "outputs": [
    {
     "name": "stdout",
     "output_type": "stream",
     "text": [
      "['apple', 'banana', 'grapes', 'orange']\n",
      "['apple', 'banana', 'orange', 'grapes']\n",
      "['apple', 'banana', 'orange', 'grapes', 'rambuttan']\n"
     ]
    }
   ],
   "source": [
    "#insert item\n",
    "myList = [\"apple\",\"banana\",\"orange\"]\n",
    "myList.insert(2,\"grapes\")\n",
    "print(myList)#['apple', 'banana', 'grapes', 'orange']\n",
    "\n",
    "#insert at end of the list\n",
    "myList = [\"apple\",\"banana\",\"orange\"]\n",
    "myList.append(\"grapes\")\n",
    "print(myList)#['apple', 'banana', 'orange', 'grapes']\n",
    "\n",
    "#concat a list with another\n",
    "myList = [\"apple\",\"banana\",\"orange\"]\n",
    "myList2 = [\"grapes\",\"rambuttan\"]\n",
    "myList.extend(myList2)\n",
    "print(myList)#['apple', 'banana', 'orange', 'grapes', 'rambuttan']\n"
   ]
  },
  {
   "cell_type": "code",
   "execution_count": 10,
   "metadata": {},
   "outputs": [
    {
     "name": "stdout",
     "output_type": "stream",
     "text": [
      "['banana', 'orange']\n",
      "['apple', 'orange']\n",
      "['apple', 'orange']\n",
      "[]\n"
     ]
    }
   ],
   "source": [
    "\n",
    "#remove with item\n",
    "myList = [\"apple\",\"banana\",\"orange\"]\n",
    "myList.remove(\"apple\")\n",
    "print(myList)#['banana', 'orange']\n",
    "\n",
    "#remove with index\n",
    "\n",
    "myList = [\"apple\",\"banana\",\"orange\"]\n",
    "myList.pop(1)\n",
    "print(myList)#['apple', 'orange']\n",
    "\n",
    "#remove using del with specific index\n",
    "\n",
    "myList = [\"apple\",\"banana\",\"orange\"]\n",
    "del myList[1]\n",
    "print(myList)#['apple', 'orange']\n",
    "\n",
    "#delete a complete list\n",
    "myList = [\"apple\",\"banana\",\"orange\"]\n",
    "del myList\n",
    "# print(myList)#error myList is not defined\n",
    "\n",
    "\n",
    "#clear a list\n",
    "myList = [\"apple\",\"banana\",\"orange\"]\n",
    "myList.clear()\n",
    "print(myList)#[]"
   ]
  },
  {
   "cell_type": "code",
   "execution_count": 11,
   "metadata": {},
   "outputs": [
    {
     "name": "stdout",
     "output_type": "stream",
     "text": [
      "apple\n",
      "banana\n",
      "orange\n",
      "apple\n",
      "banana\n",
      "orange\n",
      "apple\n",
      "banana\n",
      "orange\n",
      "apple\n",
      "banana\n",
      "orange\n"
     ]
    },
    {
     "data": {
      "text/plain": [
       "[None, None, None]"
      ]
     },
     "execution_count": 11,
     "metadata": {},
     "output_type": "execute_result"
    }
   ],
   "source": [
    "#loop through list\n",
    "# -------------------\n",
    "#method-1 using for\n",
    "myList = [\"apple\",\"banana\",\"orange\"]\n",
    "for i in myList:\n",
    "    print(i)\n",
    "# output:\n",
    "#     apple\n",
    "#     banana\n",
    "#     orange\n",
    "\n",
    "#method-2 using for with range\n",
    "# print(range(4))#range(0, 4) 0,1,2,3\n",
    "\n",
    "myList = [\"apple\",\"banana\",\"orange\"]\n",
    "for i in range(len(myList)):\n",
    "    #here i gives index of myList\n",
    "    print(myList[i])\n",
    "# output:\n",
    "#     apple\n",
    "#     banana\n",
    "#     orange\n",
    "\n",
    "#method-3 using while\n",
    "myList = [\"apple\",\"banana\",\"orange\"]\n",
    "i=0\n",
    "while i<len(myList):\n",
    "    print(myList[i])\n",
    "    i+=1 \n",
    "# output:\n",
    "#     apple\n",
    "#     banana\n",
    "#     orange\n",
    "\n",
    "#method-4 using list comprehension\n",
    "myList = [\"apple\",\"banana\",\"orange\"]\n",
    "[print(x) for x in myList]\n",
    "# output:\n",
    "#     apple\n",
    "#     banana\n",
    "#     orange\n"
   ]
  },
  {
   "cell_type": "code",
   "execution_count": 12,
   "metadata": {},
   "outputs": [
    {
     "name": "stdout",
     "output_type": "stream",
     "text": [
      "['apple', 'banana', 'mango']\n",
      "['apple', 'banana', 'mango']\n",
      "['APPLE', 'BANANA', 'CHERRY', 'KIWI', 'MANGO']\n",
      "[32, 24, 78, 44, 30]\n",
      "['apple', 'orange', 'cherry', 'kiwi', 'mango']\n"
     ]
    }
   ],
   "source": [
    "# List Comprehension\n",
    "# ==================\n",
    "#     - List comprehension offers a shorter syntax \n",
    "#         when you want to create a new list based on the values \n",
    "#         of an existing list.\n",
    "\n",
    "#normal way\n",
    "fruits = [\"apple\", \"banana\", \"cherry\", \"kiwi\", \"mango\"]\n",
    "newArray =[]\n",
    "for x in fruits:\n",
    "    if \"a\" in x:\n",
    "        newArray.append(x)\n",
    "print(newArray)#['apple', 'banana', 'mango']\n",
    "\n",
    "#using list comprehension\n",
    "fruits = [\"apple\", \"banana\", \"cherry\", \"kiwi\", \"mango\"]\n",
    "newList = [x for x in fruits if \"a\" in x]\n",
    "print(newArray)#['apple', 'banana', 'mango']\n",
    "\n",
    "\n",
    "# SYNTAX\n",
    "# newlist = [expression   for item in iterable   if condition == True]\n",
    "\n",
    "#use: copying array\n",
    "fruits = [\"apple\", \"banana\", \"cherry\", \"kiwi\", \"mango\"]\n",
    "newList = [x.upper() for x in fruits]\n",
    "print(newList)#['APPLE', 'BANANA', 'CHERRY', 'KIWI', 'MANGO']\n",
    "\n",
    "#use2: filter with condition\n",
    "numbers =[32,43,24,23,78,44,30]\n",
    "evenNumbers = [x for x in numbers if x%2==0]\n",
    "print(evenNumbers)#[32, 24, 78, 44, 30]\n",
    "\n",
    "#use3: expression condition at result\n",
    "fruits = [\"apple\", \"banana\", \"cherry\", \"kiwi\", \"mango\"]\n",
    "newArray = [x if x!=\"banana\" else \"orange\" for x in fruits]\n",
    "print(newArray)#['apple', 'orange', 'cherry', 'kiwi', 'mango']\n"
   ]
  },
  {
   "cell_type": "code",
   "execution_count": 13,
   "metadata": {},
   "outputs": [
    {
     "name": "stdout",
     "output_type": "stream",
     "text": [
      "['banana', 'kiwi', 'mango', 'orange', 'pineapple']\n",
      "[1, 3, 5, 23, 23, 32, 45]\n",
      "[45, 32, 23, 23, 5, 3, 1]\n",
      "None\n",
      "[50, 65, 23, 82, 100]\n",
      "['Kiwi', 'Orange', 'banana', 'cherry']\n",
      "['banana', 'cherry', 'Kiwi', 'Orange']\n",
      "['banana', 'cherry', 'Kiwi', 'Orange']\n"
     ]
    }
   ],
   "source": [
    "# Sort List\n",
    "# ==========\n",
    "#sorting string array\n",
    "thislist = [\"orange\", \"mango\", \"kiwi\", \"pineapple\", \"banana\"]\n",
    "thislist.sort()\n",
    "print(thislist)#['banana', 'kiwi', 'mango', 'orange', 'pineapple']\n",
    "\n",
    "#sorting numbers\n",
    "mylist =[23,45,23,32,1,3,5]\n",
    "mylist.sort()\n",
    "print(mylist)#[1, 3, 5, 23, 23, 32, 45]\n",
    "\n",
    "# sort descending order\n",
    "mylist.sort(reverse=True)\n",
    "print(mylist)#[45, 32, 23, 23, 5, 3, 1]\n",
    "\n",
    "# ob: sort works only when the types of array should be same\n",
    "    # [3,4,5,\"babu\"].sort() //error\n",
    "#ob2: sorting boolean gives none\n",
    "print([True, True, False, False].sort())#None\n",
    "\n",
    "#================\n",
    "#custom sort functions\n",
    "# Example: \n",
    "#   Sort the list based on how close the number is to 50:\n",
    "mylist =[100, 50, 65, 82, 23]\n",
    "def myFun(n):\n",
    "    return abs(n-50)\n",
    "mylist.sort(key=myFun)\n",
    "print(mylist)    #[50, 65, 23, 82, 100]\n",
    "\n",
    "# ob3: by default sort is case sensitive\n",
    "# ========================================\n",
    "#       first sort capital letters then lowercase\n",
    "thislist = [\"banana\", \"Orange\", \"Kiwi\", \"cherry\"]\n",
    "thislist.sort()\n",
    "print(thislist)#['Kiwi', 'Orange', 'banana', 'cherry']\n",
    "\n",
    "#solution: use buildin function\n",
    "# -way1\n",
    "thislist = [\"banana\", \"Orange\", \"Kiwi\", \"cherry\"]\n",
    "def caseCheck(n):\n",
    "    return n.lower()\n",
    "thislist.sort(key=caseCheck)\n",
    "print(thislist)#['banana', 'cherry', 'Kiwi', 'Orange']\n",
    "\n",
    "# -way2\n",
    "thislist = [\"banana\", \"Orange\", \"Kiwi\", \"cherry\"]\n",
    "thislist.sort(key= str.lower)\n",
    "print(thislist)#['banana', 'cherry', 'Kiwi', 'Orange']\n"
   ]
  },
  {
   "cell_type": "code",
   "execution_count": 14,
   "metadata": {},
   "outputs": [
    {
     "name": "stdout",
     "output_type": "stream",
     "text": [
      "['apple', 'grapes', 'cherry']\n",
      "['apple', 'banana', 'cherry']\n",
      "['apple', 'banana', 'cherry']\n"
     ]
    }
   ],
   "source": [
    "# COPYING LIST\n",
    "# =============\n",
    "# list1=list2 // not valid in python\n",
    "\n",
    "list1 =  [\"apple\", \"banana\", \"cherry\"]\n",
    "list2 =list1;# only copying reference\n",
    "list2[1:2] = [\"grapes\"]\n",
    "print(list1)#['apple', 'grapes', 'cherry']\n",
    "# ob: both list have been changed\n",
    "\n",
    "#two ways for deep copying\n",
    "#1 use build in method copy()\n",
    "list1 =  [\"apple\", \"banana\", \"cherry\"]\n",
    "list2 =list1.copy();# deep copying\n",
    "list2[1:2] = [\"grapes\"]\n",
    "print(list1)#['apple', 'banana', 'cherry']\n",
    "\n",
    "#2 use list constructor\n",
    "list1 =  [\"apple\", \"banana\", \"cherry\"]\n",
    "list2 =list(list1);# deep copying\n",
    "list2[1:2] = [\"grapes\"]\n",
    "print(list1)#['apple', 'banana', 'cherry']\n"
   ]
  },
  {
   "cell_type": "code",
   "execution_count": 15,
   "metadata": {},
   "outputs": [
    {
     "name": "stdout",
     "output_type": "stream",
     "text": [
      "['a', 'b', 'c', 1, 2, 3]\n",
      "['a', 'b', 'c', 1, 2, 3]\n",
      "['a', 'b', 'c', 1, 2, 3]\n"
     ]
    }
   ],
   "source": [
    "#join two lists\n",
    "# ================\n",
    "# we have three ways \n",
    "\n",
    "# using + operator\n",
    "list1 = [\"a\", \"b\", \"c\"]\n",
    "list2 = [1, 2, 3]\n",
    "\n",
    "list3 = list1 + list2\n",
    "print(list3)#['a', 'b', 'c', 1, 2, 3]\n",
    "\n",
    "#using for loop\n",
    "list1 = [\"a\", \"b\", \"c\"]\n",
    "list2 = [1, 2, 3]\n",
    "\n",
    "for i in list2:\n",
    "    list1.append(i)\n",
    "print(list1)#['a', 'b', 'c', 1, 2, 3]\n",
    "\n",
    "#using extend\n",
    "list1 = [\"a\", \"b\", \"c\"]\n",
    "list2 = [1, 2, 3]\n",
    "list1.extend(list2)\n",
    "print(list1)#['a', 'b', 'c', 1, 2, 3]\n"
   ]
  },
  {
   "cell_type": "code",
   "execution_count": 16,
   "metadata": {},
   "outputs": [
    {
     "name": "stdout",
     "output_type": "stream",
     "text": [
      "2\n"
     ]
    }
   ],
   "source": [
    "# LIST METHODS\n",
    "# =============\n",
    "# append()\tAdds an element at the end of the list\n",
    "# clear()\tRemoves all the elements from the list\n",
    "# copy()\tReturns a copy of the list\n",
    "# count()\tReturns the number of elements with the specified value\n",
    "list1 = [\"a\", \"b\", \"c\",\"a\"]\n",
    "print(list1.count(\"a\"))#2\n",
    "# extend()\tAdd the elements of a list (or any iterable), to the end of the current list\n",
    "# index()\tReturns the index of the first element with the specified value\n",
    "# insert()\tAdds an element at the specified position\n",
    "# pop()\tRemoves the element at the specified position\n",
    "# remove()\tRemoves the item with the specified value\n",
    "# reverse()\tReverses the order of the list\n",
    "# sort()\tSorts the list\n"
   ]
  },
  {
   "cell_type": "code",
   "execution_count": null,
   "metadata": {},
   "outputs": [],
   "source": []
  }
 ],
 "metadata": {
  "kernelspec": {
   "display_name": "Python 3",
   "language": "python",
   "name": "python3"
  },
  "language_info": {
   "codemirror_mode": {
    "name": "ipython",
    "version": 3
   },
   "file_extension": ".py",
   "mimetype": "text/x-python",
   "name": "python",
   "nbconvert_exporter": "python",
   "pygments_lexer": "ipython3",
   "version": "3.10.6"
  },
  "orig_nbformat": 4
 },
 "nbformat": 4,
 "nbformat_minor": 2
}
