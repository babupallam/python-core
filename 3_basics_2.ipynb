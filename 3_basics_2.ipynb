{
 "cells": [
  {
   "cell_type": "code",
   "execution_count": 1,
   "metadata": {},
   "outputs": [
    {
     "name": "stdout",
     "output_type": "stream",
     "text": [
      "a is greater than b\n"
     ]
    }
   ],
   "source": [
    "#If... Else\n",
    "\n",
    "a = 200\n",
    "b = 33\n",
    "if b > a:\n",
    "  print(\"b is greater than a\")\n",
    "elif a == b:\n",
    "  print(\"a and b are equal\")\n",
    "else:\n",
    "  print(\"a is greater than b\")\n",
    "  "
   ]
  },
  {
   "cell_type": "code",
   "execution_count": 3,
   "metadata": {},
   "outputs": [
    {
     "name": "stdout",
     "output_type": "stream",
     "text": [
      "B\n",
      "=\n"
     ]
    }
   ],
   "source": [
    "# Short Hand If ... Else\n",
    "#   This technique is known as Ternary Operators, or Conditional Expressions.\n",
    "\n",
    "#example1\n",
    "a = 2\n",
    "b = 330\n",
    "print(\"A\") if a > b else print(\"B\")\n",
    "\n",
    "\n",
    "#example2\n",
    "a = 330\n",
    "b = 330\n",
    "print(\"A\") if a > b else print(\"=\") if a == b else print(\"B\")\n"
   ]
  },
  {
   "cell_type": "code",
   "execution_count": 4,
   "metadata": {},
   "outputs": [
    {
     "name": "stdout",
     "output_type": "stream",
     "text": [
      "Both conditions are True\n",
      "At least one of the conditions is True\n",
      "a is NOT greater than b\n"
     ]
    }
   ],
   "source": [
    "\n",
    "# and\n",
    "\n",
    "a = 200\n",
    "b = 33\n",
    "c = 500\n",
    "if a > b and c > a:\n",
    "  print(\"Both conditions are True\")\n",
    "\n",
    "\n",
    "# or\n",
    "a = 200\n",
    "b = 33\n",
    "c = 500\n",
    "if a > b or a > c:\n",
    "  print(\"At least one of the conditions is True\")\n",
    "\n",
    "\n",
    "#   not\n",
    "\n",
    "a = 33\n",
    "b = 200\n",
    "if not a > b:\n",
    "  print(\"a is NOT greater than b\")\n",
    "\n",
    "\n",
    "#pass keyword\n",
    "#   - if can not be empty, so to fill the block we use pass\n",
    "\n",
    "a = 33\n",
    "b = 200\n",
    "\n",
    "if b > a:\n",
    "  pass\n",
    "\n",
    "\n"
   ]
  },
  {
   "cell_type": "code",
   "execution_count": 5,
   "metadata": {},
   "outputs": [],
   "source": [
    "#two Primitive Loops\n",
    "    # 1. while loop\n",
    "    # 2. for loop\n",
    "    "
   ]
  },
  {
   "cell_type": "code",
   "execution_count": 6,
   "metadata": {},
   "outputs": [
    {
     "name": "stdout",
     "output_type": "stream",
     "text": [
      "1\n",
      "2\n",
      "3\n",
      "4\n",
      "5\n"
     ]
    }
   ],
   "source": [
    "# 1.while loop\n",
    "#====================\n",
    "i=1;\n",
    "while(i<6):\n",
    "    print(i)\n",
    "    i+=1\n"
   ]
  },
  {
   "cell_type": "code",
   "execution_count": 7,
   "metadata": {},
   "outputs": [
    {
     "name": "stdout",
     "output_type": "stream",
     "text": [
      "1\n",
      "2\n"
     ]
    }
   ],
   "source": [
    "\n",
    "#use of break\n",
    "    # stop the loop on a specific condition\n",
    "i=1;\n",
    "while(i<6):\n",
    "    if i==3:\n",
    "        break;\n",
    "    print(i)\n",
    "    i+=1"
   ]
  },
  {
   "cell_type": "code",
   "execution_count": 9,
   "metadata": {},
   "outputs": [
    {
     "name": "stdout",
     "output_type": "stream",
     "text": [
      "2\n",
      "4\n",
      "5\n",
      "6\n"
     ]
    }
   ],
   "source": [
    "#use of continue\n",
    "    # skip one iteration of a loop on a specific condition\n",
    "i=1;\n",
    "while(i<6):\n",
    "    i+=1\n",
    "    if i==3:\n",
    "        continue;\n",
    "    print(i)"
   ]
  },
  {
   "cell_type": "code",
   "execution_count": 10,
   "metadata": {},
   "outputs": [
    {
     "name": "stdout",
     "output_type": "stream",
     "text": [
      "1\n",
      "2\n",
      "3\n",
      "4\n",
      "5\n",
      "i is no longer less than 6\n"
     ]
    }
   ],
   "source": [
    "# Else statement in while loop\n",
    "\n",
    "i=1;\n",
    "while i<6:\n",
    "    print(i)\n",
    "    i+=1\n",
    "else:\n",
    "    print(\"i is no longer less than 6\")\n",
    "    "
   ]
  },
  {
   "cell_type": "code",
   "execution_count": 11,
   "metadata": {},
   "outputs": [
    {
     "name": "stdout",
     "output_type": "stream",
     "text": [
      "apple\n",
      "banana\n",
      "cherry\n"
     ]
    }
   ],
   "source": [
    "# 2. For loop\n",
    "# =============\n",
    "    # - iterate over a sequence that is either list, tuple, dict, set or string\n",
    "\n",
    "fruits = [\"apple\", \"banana\", \"cherry\"]\n",
    "for x in fruits:\n",
    "  print(x)\n",
    "\n"
   ]
  },
  {
   "cell_type": "code",
   "execution_count": 12,
   "metadata": {},
   "outputs": [
    {
     "name": "stdout",
     "output_type": "stream",
     "text": [
      "b\n",
      "a\n",
      "b\n",
      "u\n"
     ]
    }
   ],
   "source": [
    "# loop through string\n",
    "\n",
    "for x in \"babu\":\n",
    "    print(x)\n",
    "    "
   ]
  },
  {
   "cell_type": "code",
   "execution_count": 13,
   "metadata": {},
   "outputs": [
    {
     "name": "stdout",
     "output_type": "stream",
     "text": [
      "apple\n",
      "banana\n"
     ]
    }
   ],
   "source": [
    "#test1\n",
    "fruits = [\"apple\", \"banana\", \"cherry\"]\n",
    "for x in fruits:\n",
    "  print(x)\n",
    "  if x == \"banana\":\n",
    "    break"
   ]
  },
  {
   "cell_type": "code",
   "execution_count": 14,
   "metadata": {},
   "outputs": [
    {
     "name": "stdout",
     "output_type": "stream",
     "text": [
      "0\n",
      "1\n",
      "2\n",
      "3\n",
      "4\n",
      "5\n"
     ]
    }
   ],
   "source": [
    "#test2\n",
    "    # - rang(n) gives sequence of numbers form 0 to n-1\n",
    "for x in range(6):\n",
    "  print(x)"
   ]
  },
  {
   "cell_type": "code",
   "execution_count": 15,
   "metadata": {},
   "outputs": [
    {
     "name": "stdout",
     "output_type": "stream",
     "text": [
      "2\n",
      "3\n",
      "4\n",
      "5\n"
     ]
    }
   ],
   "source": [
    "#test3\n",
    "for x in range(2, 6):\n",
    "  print(x)"
   ]
  },
  {
   "cell_type": "code",
   "execution_count": 16,
   "metadata": {},
   "outputs": [
    {
     "name": "stdout",
     "output_type": "stream",
     "text": [
      "2\n",
      "5\n",
      "8\n",
      "11\n",
      "14\n",
      "17\n",
      "20\n",
      "23\n",
      "26\n",
      "29\n"
     ]
    }
   ],
   "source": [
    "#test4\n",
    "for x in range(2, 30, 3):\n",
    "  print(x)"
   ]
  },
  {
   "cell_type": "code",
   "execution_count": 17,
   "metadata": {},
   "outputs": [
    {
     "name": "stdout",
     "output_type": "stream",
     "text": [
      "0\n",
      "1\n",
      "2\n",
      "3\n",
      "4\n",
      "5\n",
      "Finally finished!\n"
     ]
    }
   ],
   "source": [
    "#test5\n",
    "for x in range(6):\n",
    "  print(x)\n",
    "else:\n",
    "  print(\"Finally finished!\")"
   ]
  },
  {
   "cell_type": "code",
   "execution_count": 18,
   "metadata": {},
   "outputs": [
    {
     "name": "stdout",
     "output_type": "stream",
     "text": [
      "red apple\n",
      "red banana\n",
      "red cherry\n",
      "big apple\n",
      "big banana\n",
      "big cherry\n",
      "tasty apple\n",
      "tasty banana\n",
      "tasty cherry\n"
     ]
    }
   ],
   "source": [
    "#test6\n",
    "adj = [\"red\", \"big\", \"tasty\"]\n",
    "fruits = [\"apple\", \"banana\", \"cherry\"]\n",
    "\n",
    "for x in adj:\n",
    "  for y in fruits:\n",
    "    print(x, y)"
   ]
  },
  {
   "attachments": {},
   "cell_type": "markdown",
   "metadata": {},
   "source": [
    "# different if conditions"
   ]
  },
  {
   "cell_type": "code",
   "execution_count": 1,
   "metadata": {},
   "outputs": [
    {
     "name": "stdout",
     "output_type": "stream",
     "text": [
      "I am Not in if\n"
     ]
    }
   ],
   "source": [
    "# python program to illustrate If statement\n",
    "\n",
    "i = 10\n",
    "\n",
    "if (i > 15):\n",
    "\tprint(\"10 is less than 15\")\n",
    "print(\"I am Not in if\")\n"
   ]
  },
  {
   "cell_type": "code",
   "execution_count": 2,
   "metadata": {},
   "outputs": [
    {
     "name": "stdout",
     "output_type": "stream",
     "text": [
      "i is greater than 15\n",
      "i'm in else Block\n",
      "i'm not in if and not in else Block\n"
     ]
    }
   ],
   "source": [
    "# python program to illustrate If else statement\n",
    "#!/usr/bin/python\n",
    "\n",
    "i = 20\n",
    "if (i < 15):\n",
    "\tprint(\"i is smaller than 15\")\n",
    "\tprint(\"i'm in if Block\")\n",
    "else:\n",
    "\tprint(\"i is greater than 15\")\n",
    "\tprint(\"i'm in else Block\")\n",
    "print(\"i'm not in if and not in else Block\")\n"
   ]
  },
  {
   "cell_type": "code",
   "execution_count": 3,
   "metadata": {},
   "outputs": [
    {
     "name": "stdout",
     "output_type": "stream",
     "text": [
      "i is smaller than 15\n",
      "i is smaller than 12 too\n"
     ]
    }
   ],
   "source": [
    "# python program to illustrate nested If statement\n",
    "#!/usr/bin/python\n",
    "i = 10\n",
    "if (i == 10):\n",
    "\t\n",
    "\t# First if statement\n",
    "\tif (i < 15):\n",
    "\t\tprint(\"i is smaller than 15\")\n",
    "\t\t\n",
    "\t# Nested - if statement\n",
    "\t# Will only be executed if statement above\n",
    "\t# it is true\n",
    "\tif (i < 12):\n",
    "\t\tprint(\"i is smaller than 12 too\")\n",
    "\telse:\n",
    "\t\tprint(\"i is greater than 15\")\n"
   ]
  },
  {
   "cell_type": "code",
   "execution_count": 4,
   "metadata": {},
   "outputs": [
    {
     "name": "stdout",
     "output_type": "stream",
     "text": [
      "i is 20\n"
     ]
    }
   ],
   "source": [
    "# Python program to illustrate if-elif-else ladder\n",
    "#!/usr/bin/python\n",
    "\n",
    "i = 20\n",
    "if (i == 10):\n",
    "\tprint(\"i is 10\")\n",
    "elif (i == 15):\n",
    "\tprint(\"i is 15\")\n",
    "elif (i == 20):\n",
    "\tprint(\"i is 20\")\n",
    "else:\n",
    "\tprint(\"i is not present\")\n"
   ]
  },
  {
   "attachments": {},
   "cell_type": "markdown",
   "metadata": {},
   "source": [
    "# chaining comparison operators"
   ]
  },
  {
   "cell_type": "code",
   "execution_count": null,
   "metadata": {},
   "outputs": [],
   "source": [
    "# Chaining in Comparison Operators:\n",
    "    # - It can make code more concise and readable,\n",
    "            # single expression with multiple conditions\n",
    "    # - all comparison opertors have same priority\n",
    "    # - comparison yeilds true or False\n",
    "    # - x < y <= z is equivalent to x < y and y <= z, \n",
    "    # - comparison from left to right\n"
   ]
  },
  {
   "cell_type": "code",
   "execution_count": 1,
   "metadata": {},
   "outputs": [
    {
     "name": "stdout",
     "output_type": "stream",
     "text": [
      "True\n",
      "False\n",
      "True\n",
      "True\n",
      "True\n"
     ]
    }
   ],
   "source": [
    "# Python code to illustrate\n",
    "# chaining comparison operators\n",
    "x = 5\n",
    "print(1 < x < 10)\n",
    "print(10 < x < 20 )\n",
    "print(x < 10 < x*10 < 100)\n",
    "print(10 > x <= 9)\n",
    "print(5 == x > 4)\n"
   ]
  },
  {
   "cell_type": "code",
   "execution_count": 5,
   "metadata": {},
   "outputs": [
    {
     "name": "stdout",
     "output_type": "stream",
     "text": [
      "True\n",
      "False\n"
     ]
    }
   ],
   "source": [
    "# Python code to illustrate\n",
    "# chaining comparison operators\n",
    "a, b, c, d, e, f = 0, 5, 12, 0, 15, 15\n",
    "exp1 = a <= b < c > d is not e is f\n",
    "exp2 = a is d > f is not c\n",
    "print(exp1)\n",
    "print(exp2)\n"
   ]
  },
  {
   "cell_type": "code",
   "execution_count": 12,
   "metadata": {},
   "outputs": [
    {
     "name": "stdout",
     "output_type": "stream",
     "text": [
      "True\n",
      "True\n",
      "True\n",
      "True\n",
      "True\n",
      "False\n",
      "True\n",
      "False\n",
      "False\n"
     ]
    }
   ],
   "source": [
    "\n",
    "a, b, c, d, e, f = 0, 5, 12, 0, 15, 15\n",
    "\n",
    "# explanation for statement 1\n",
    "print(a <= b < c > d is not e is f)#True\n",
    "print(a <=b and b<c)#True\n",
    "print(a <=b and b<c and c>d)#True\n",
    "print(a <=b and b<c and c>d and d is not e)#True\n",
    "print(a <=b and b<c and c>d and d is not e and e is f)#True\n",
    "\n",
    "\n",
    "\n",
    "# explanation for statement 2\n",
    "print(a is d > f is not c)#False\n",
    "#step by step\n",
    "print(a is d)#True\n",
    "print(a is d and d>f)#False\n",
    "print(a is d and d>f and f is not c)#False"
   ]
  },
  {
   "attachments": {},
   "cell_type": "markdown",
   "metadata": {},
   "source": [
    "# for loops"
   ]
  },
  {
   "cell_type": "code",
   "execution_count": 13,
   "metadata": {},
   "outputs": [
    {
     "name": "stdout",
     "output_type": "stream",
     "text": [
      "geeks\n",
      "for\n",
      "geeks\n"
     ]
    }
   ],
   "source": [
    "# Python program to illustrate\n",
    "# Iterating over a list\n",
    "l = [\"geeks\", \"for\", \"geeks\"]\n",
    "\n",
    "for i in l:\n",
    "\tprint(i)\n"
   ]
  },
  {
   "cell_type": "code",
   "execution_count": 14,
   "metadata": {},
   "outputs": [
    {
     "name": "stdout",
     "output_type": "stream",
     "text": [
      "Dictionary Iteration\n",
      "xyz  123\n",
      "abc  345\n"
     ]
    }
   ],
   "source": [
    "# Iterating over dictionary\n",
    "print(\"Dictionary Iteration\")\n",
    "\n",
    "d = dict()\n",
    "\n",
    "d['xyz'] = 123\n",
    "d['abc'] = 345\n",
    "for i in d:\n",
    "\tprint(\"% s % d\" % (i, d[i]))\n"
   ]
  },
  {
   "cell_type": "code",
   "execution_count": 15,
   "metadata": {},
   "outputs": [
    {
     "name": "stdout",
     "output_type": "stream",
     "text": [
      "String Iteration\n",
      "G\n",
      "e\n",
      "e\n",
      "k\n",
      "s\n"
     ]
    }
   ],
   "source": [
    "# Iterating over a String\n",
    "print(\"String Iteration\")\n",
    "\n",
    "s = \"Geeks\"\n",
    "for i in s:\n",
    "\tprint(i)\n"
   ]
  },
  {
   "cell_type": "code",
   "execution_count": 17,
   "metadata": {},
   "outputs": [
    {
     "name": "stdout",
     "output_type": "stream",
     "text": [
      "0\n",
      "2\n",
      "4\n",
      "6\n",
      "8\n"
     ]
    }
   ],
   "source": [
    "# loop with step size = 2\n",
    "for i in range(0, 10, 2):\n",
    "\tprint(i)\n"
   ]
  },
  {
   "cell_type": "code",
   "execution_count": 18,
   "metadata": {},
   "outputs": [
    {
     "name": "stdout",
     "output_type": "stream",
     "text": [
      "1 1\n",
      "1 2\n",
      "1 3\n",
      "2 1\n",
      "2 2\n",
      "2 3\n",
      "3 1\n",
      "3 2\n",
      "3 3\n"
     ]
    }
   ],
   "source": [
    "for i in range(1, 4):\n",
    "\tfor j in range(1, 4):\n",
    "\t\tprint(i, j)\n"
   ]
  },
  {
   "cell_type": "code",
   "execution_count": 19,
   "metadata": {},
   "outputs": [
    {
     "name": "stdout",
     "output_type": "stream",
     "text": [
      "('apple', 'blue')\n",
      "('banana', 'red')\n",
      "('orange', 'white')\n"
     ]
    }
   ],
   "source": [
    "# Python For Loop with Zip()\n",
    "\n",
    "fruits =[\"apple\",\"banana\",\"orange\"]\n",
    "colors =[\"blue\",\"red\",\"white\"]\n",
    "for i in zip(fruits, colors):\n",
    "    print(i)"
   ]
  },
  {
   "cell_type": "code",
   "execution_count": 20,
   "metadata": {},
   "outputs": [
    {
     "name": "stdout",
     "output_type": "stream",
     "text": [
      "1   2\n",
      "2   5\n",
      "3   88\n",
      "4   56\n"
     ]
    }
   ],
   "source": [
    "#tuple -1\n",
    "\n",
    "t = [(1,2),(2,5),(3,88),(4,56)]\n",
    "for a,b in t:\n",
    "    print(a,\" \",b)"
   ]
  },
  {
   "cell_type": "code",
   "execution_count": 21,
   "metadata": {},
   "outputs": [
    {
     "name": "stdout",
     "output_type": "stream",
     "text": [
      "1   2   first\n",
      "2   5   second\n",
      "3   88   third\n",
      "4   56   four\n"
     ]
    }
   ],
   "source": [
    "# tuple-2\n",
    "t = [(1,2,\"first\"),(2,5,\"second\"),(3,88,\"third\"),(4,56,\"four\")]\n",
    "for a,b,c in t:\n",
    "    print(a,\" \",b,\" \",c)"
   ]
  },
  {
   "cell_type": "code",
   "execution_count": null,
   "metadata": {},
   "outputs": [],
   "source": [
    "# python code to demonstrate working of zip()\n",
    "\n",
    "# initializing list\n",
    "questions = ['name', 'colour', 'shape']\n",
    "answers = ['apple', 'red', 'a circle']\n",
    "\n",
    "# using zip() to combine two containers\n",
    "# and print values\n",
    "for question, answer in zip(questions, answers):\n",
    "\tprint('What is your {0}? I am {1}.'.format(question, answer))\n"
   ]
  },
  {
   "cell_type": "code",
   "execution_count": 22,
   "metadata": {},
   "outputs": [
    {
     "name": "stdout",
     "output_type": "stream",
     "text": [
      "The key value pair using items is : \n",
      "geeks for\n",
      "only geeks\n"
     ]
    }
   ],
   "source": [
    "# python code to demonstrate working of items()\n",
    "\n",
    "d = {\"geeks\": \"for\", \"only\": \"geeks\"}\n",
    "\n",
    "# iteritems() is renamed to items() in python3\n",
    "# using items to print the dictionary key-value pair\n",
    "print(\"The key value pair using items is : \")\n",
    "for i, j in d.items():\n",
    "\tprint(i, j)\n"
   ]
  },
  {
   "cell_type": "code",
   "execution_count": 23,
   "metadata": {},
   "outputs": [
    {
     "name": "stdout",
     "output_type": "stream",
     "text": [
      "Akbar The Great\n",
      "Chandragupta The Maurya\n",
      "Modi The Changer\n"
     ]
    }
   ],
   "source": [
    "# python code to demonstrate working of items()\n",
    "\n",
    "king = {'Akbar': 'The Great', 'Chandragupta': 'The Maurya',\n",
    "\t\t'Modi': 'The Changer'}\n",
    "\n",
    "# using items to print the dictionary key-value pair\n",
    "for key, value in king.items():\n",
    "\tprint(key, value)\n"
   ]
  },
  {
   "cell_type": "code",
   "execution_count": null,
   "metadata": {},
   "outputs": [],
   "source": []
  }
 ],
 "metadata": {
  "kernelspec": {
   "display_name": "Python 3",
   "language": "python",
   "name": "python3"
  },
  "language_info": {
   "codemirror_mode": {
    "name": "ipython",
    "version": 3
   },
   "file_extension": ".py",
   "mimetype": "text/x-python",
   "name": "python",
   "nbconvert_exporter": "python",
   "pygments_lexer": "ipython3",
   "version": "3.10.6"
  },
  "orig_nbformat": 4
 },
 "nbformat": 4,
 "nbformat_minor": 2
}
