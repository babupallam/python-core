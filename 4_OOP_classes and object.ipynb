{
 "cells": [
  {
   "attachments": {},
   "cell_type": "markdown",
   "metadata": {},
   "source": [
    "# Classes and Objects\n",
    "\n",
    "    - python follows oop\n",
    "    - almost eveyrthing in python is an object with properties and methods"
   ]
  },
  {
   "cell_type": "code",
   "execution_count": 1,
   "metadata": {},
   "outputs": [
    {
     "name": "stdout",
     "output_type": "stream",
     "text": [
      "1\n"
     ]
    }
   ],
   "source": [
    "# Example:\n",
    "class myClass:\n",
    "    x=1\n",
    "\n",
    "obj =myClass()\n",
    "print(obj.x)\n"
   ]
  },
  {
   "cell_type": "code",
   "execution_count": 6,
   "metadata": {},
   "outputs": [
    {
     "name": "stdout",
     "output_type": "stream",
     "text": [
      "I'm  babu .  29  years old\n",
      "None\n"
     ]
    }
   ],
   "source": [
    "# __init__() function\n",
    "    # - like constructior in js\n",
    "    # - it is called while initializing object\n",
    "    # - used to assign values to properties \n",
    "    # and oprations necessorty while creating an object\n",
    "\n",
    "class Person:\n",
    "    def __init__(self, name, age):\n",
    "        self.name = name;\n",
    "        self.age=age\n",
    "    \n",
    "    def displayDetails(self):\n",
    "        print(\"I'm \", self.name,\". \",self.age,\" years old\")\n",
    "\n",
    "p1= Person(\"babu\",29)\n",
    "print(p1.displayDetails())\n"
   ]
  },
  {
   "attachments": {},
   "cell_type": "markdown",
   "metadata": {},
   "source": [
    "Observation:\n",
    "\n",
    "\n",
    "    Use of Self\n",
    "    ============\n",
    "        - it is a reference to the current instance of the class\n",
    "        - used to access variables that belongs to the class\n",
    "        - self can be any name, but it should be the first parameter on any function in a class\n",
    "\n",
    "    Advantages of Constructor:\n",
    "    ----------------------------\n",
    "        - initialization of objects\n",
    "        - easy to implement\n",
    "        - encapsulation\n",
    "    Disadvantages of Constructor:\n",
    "    ----------------------------\n",
    "        - overloading is not supported: multiple constructor is not possible in python\n",
    "        - limits functionality: private, public, protected kind of stuff is not there in python\n",
    "        - \n",
    "    "
   ]
  },
  {
   "cell_type": "code",
   "execution_count": 7,
   "metadata": {},
   "outputs": [
    {
     "name": "stdout",
     "output_type": "stream",
     "text": [
      "Hello my name is babu\n"
     ]
    }
   ],
   "source": [
    "#changing self into something else\n",
    "\n",
    "class Person:\n",
    "    def __init__(this, name, age=0):\n",
    "        this.name =name\n",
    "        this.age=age\n",
    "    \n",
    "    def myFun(abc):\n",
    "        print(\"Hello my name is \"+abc.name)\n",
    "\n",
    "p1= Person(\"babu\")\n",
    "p1.myFun()\n"
   ]
  },
  {
   "cell_type": "code",
   "execution_count": 10,
   "metadata": {},
   "outputs": [
    {
     "name": "stdout",
     "output_type": "stream",
     "text": [
      "0\n",
      "28\n"
     ]
    }
   ],
   "source": [
    "#modifying object properties\n",
    "\n",
    "class Person:\n",
    "    def __init__(this, name, age=0):\n",
    "        this.name =name\n",
    "        this.age=age\n",
    "    \n",
    "    def myFun(abc):\n",
    "        print(\"Hello my name is \"+abc.name)\n",
    "\n",
    "p1= Person(\"babu\")\n",
    "print(p1.age)#0\n",
    "p1.age =28\n",
    "print(p1.age)#28\n",
    "\n",
    "#delete an object\n",
    "del p1\n"
   ]
  },
  {
   "attachments": {},
   "cell_type": "markdown",
   "metadata": {},
   "source": [
    "### __del__() method\n",
    "\n"
   ]
  },
  {
   "attachments": {},
   "cell_type": "markdown",
   "metadata": {},
   "source": [
    "#### Advantages of \" __del__()\":\n",
    "------------------------------\n",
    "    - automatic cleanup\n",
    "    - consistant behavior\n",
    "    - easy to use\n",
    "    - supports oop\n",
    "    - helps with debugging"
   ]
  },
  {
   "cell_type": "code",
   "execution_count": 1,
   "metadata": {},
   "outputs": [
    {
     "name": "stdout",
     "output_type": "stream",
     "text": [
      "Employee created.\n",
      "Destructor called, Employee deleted.\n"
     ]
    }
   ],
   "source": [
    "# Python program to illustrate destructor\n",
    "class Employee:\n",
    "\n",
    "\t# Initializing\n",
    "\tdef __init__(self):\n",
    "\t\tprint('Employee created.')\n",
    "\n",
    "\t# Deleting (Calling destructor)\n",
    "\tdef __del__(self):\n",
    "\t\tprint('Destructor called, Employee deleted.')\n",
    "\n",
    "obj = Employee()\n",
    "del obj\n",
    "\n",
    "\n"
   ]
  },
  {
   "attachments": {},
   "cell_type": "markdown",
   "metadata": {},
   "source": [
    "#__str__() method\n",
    "\n",
    "    - Python has a particular method called __str__(). \n",
    "    - that is used to define how a class object should be represented as a string. \n",
    "    - It is often used to give an object a human-readable textual representation, which is helpful for logging, debugging, or showing users object information."
   ]
  },
  {
   "cell_type": "code",
   "execution_count": 1,
   "metadata": {},
   "outputs": [
    {
     "name": "stdout",
     "output_type": "stream",
     "text": [
      "My name is John and I work in GeeksForGeeks.\n"
     ]
    }
   ],
   "source": [
    "class GFG:\n",
    "\tdef __init__(self, name, company):\n",
    "\t\tself.name = name\n",
    "\t\tself.company = company\n",
    "\n",
    "\tdef __str__(self):\n",
    "\t\treturn f\"My name is {self.name} and I work in {self.company}.\"\n",
    "\n",
    "\n",
    "my_obj = GFG(\"John\", \"GeeksForGeeks\")\n",
    "print(my_obj)#printing the object\n"
   ]
  },
  {
   "cell_type": "code",
   "execution_count": 2,
   "metadata": {},
   "outputs": [
    {
     "name": "stdout",
     "output_type": "stream",
     "text": [
      "brown\n"
     ]
    }
   ],
   "source": [
    "# Python3 program to show that we can create\n",
    "# instance variables inside methods\n",
    "\n",
    "# Class for Dog\n",
    "\n",
    "\n",
    "class Dog:\n",
    "\n",
    "\t# Class Variable\n",
    "\tanimal = 'dog'\n",
    "\n",
    "\t# The init method or constructor\n",
    "\tdef __init__(self, breed):\n",
    "\n",
    "\t\t# Instance Variable\n",
    "\t\tself.breed = breed\n",
    "\n",
    "\t# Adds an instance variable\n",
    "\tdef setColor(self, color):\n",
    "\t\tself.color = color\n",
    "\n",
    "\t# Retrieves instance variable\n",
    "\tdef getColor(self):\n",
    "\t\treturn self.color\n",
    "\n",
    "\n",
    "# Driver Code\n",
    "Rodger = Dog(\"pug\")\n",
    "Rodger.setColor(\"brown\")\n",
    "print(Rodger.getColor())\n"
   ]
  },
  {
   "attachments": {},
   "cell_type": "markdown",
   "metadata": {},
   "source": [
    "# Inheritance\n",
    "    - passing down information from one class to another class\n",
    "    - parent class === base class\n",
    "    - child class === derived class"
   ]
  },
  {
   "cell_type": "code",
   "execution_count": 12,
   "metadata": {},
   "outputs": [
    {
     "name": "stdout",
     "output_type": "stream",
     "text": [
      "babu 28\n"
     ]
    }
   ],
   "source": [
    "class Person:\n",
    "  def __init__(self, fname, lname):\n",
    "    self.firstname = fname\n",
    "    self.lastname = lname\n",
    "\n",
    "  def printname(self):\n",
    "    print(self.firstname, self.lastname)\n",
    "\n",
    "#Use the Person class to create an object, and then execute the printname method:\n",
    "\n",
    "\n",
    "class Student(Person):\n",
    "    pass\n",
    "\n",
    "x= Student(\"babu\", 28)\n",
    "x.printname()\n"
   ]
  },
  {
   "cell_type": "code",
   "execution_count": 13,
   "metadata": {},
   "outputs": [
    {
     "name": "stdout",
     "output_type": "stream",
     "text": [
      "babu 28\n"
     ]
    }
   ],
   "source": [
    "#calling __init__ function of base class\n",
    "\n",
    "class Person:\n",
    "  def __init__(self, fname, lname):\n",
    "    self.firstname = fname\n",
    "    self.lastname = lname\n",
    "\n",
    "  def printname(self):\n",
    "    print(self.firstname, self.lastname)\n",
    "\n",
    "#Use the Person class to create an object, and then execute the printname method:\n",
    "\n",
    "\n",
    "class Student(Person):\n",
    "    def __init__(self, fname, lname):\n",
    "       Person.__init__(self, fname, lname)\n",
    "\n",
    "x= Student(\"babu\", 28)\n",
    "x.printname()\n"
   ]
  },
  {
   "cell_type": "code",
   "execution_count": 14,
   "metadata": {},
   "outputs": [
    {
     "name": "stdout",
     "output_type": "stream",
     "text": [
      "babu 28\n"
     ]
    }
   ],
   "source": [
    "#calling __init__ function using super function\n",
    "\n",
    "class Person:\n",
    "  def __init__(self, fname, lname):\n",
    "    self.firstname = fname\n",
    "    self.lastname = lname\n",
    "\n",
    "  def printname(self):\n",
    "    print(self.firstname, self.lastname)\n",
    "\n",
    "#Use the Person class to create an object, and then execute the printname method:\n",
    "\n",
    "\n",
    "class Student(Person):\n",
    "    def __init__(self, fname, lname):\n",
    "       super().__init__(fname, lname)\n",
    "\n",
    "x= Student(\"babu\", 28)\n",
    "x.printname()\n",
    "\n",
    "\n",
    "# ob: By using the super() function, you do not have \n",
    "#     to use the name of the parent element, \n",
    "#     it will automatically inherit the methods \n",
    "#     and properties from its parent."
   ]
  },
  {
   "cell_type": "code",
   "execution_count": 17,
   "metadata": {},
   "outputs": [
    {
     "name": "stdout",
     "output_type": "stream",
     "text": [
      "babu 28\n",
      "joined thid college in  2012\n"
     ]
    }
   ],
   "source": [
    "#adding own properties\n",
    "class Person:\n",
    "  def __init__(self, fname, lname):\n",
    "    self.firstname = fname\n",
    "    self.lastname = lname\n",
    "\n",
    "  def printname(self):\n",
    "    print(self.firstname, self.lastname)\n",
    "\n",
    "#Use the Person class to create an object, and then execute the printname method:\n",
    "\n",
    "\n",
    "class Student(Person):\n",
    "    def __init__(self, fname, lname, year):\n",
    "       super().__init__(fname, lname)\n",
    "       self.admissionYear =year\n",
    "       \n",
    "    def displayYear(abc):\n",
    "       print(\"joined thid college in \", abc.admissionYear)\n",
    "\n",
    "x= Student(\"babu\", 28, 2012)\n",
    "x.printname()#babu 28\n",
    "x.displayYear()#joined thid college in  2012\n"
   ]
  },
  {
   "attachments": {},
   "cell_type": "markdown",
   "metadata": {},
   "source": [
    "Subclassing (Calling constructor of parent class)\n"
   ]
  },
  {
   "cell_type": "code",
   "execution_count": 2,
   "metadata": {},
   "outputs": [
    {
     "name": "stdout",
     "output_type": "stream",
     "text": [
      "Rahul\n",
      "886012\n"
     ]
    }
   ],
   "source": [
    "# Python code to demonstrate how parent constructors\n",
    "# are called.\n",
    "\n",
    "# parent class\n",
    "class Person(object):\n",
    "\n",
    "\t# __init__ is known as the constructor\n",
    "\tdef __init__(self, name, idnumber):\n",
    "\t\tself.name = name\n",
    "\t\tself.idnumber = idnumber\n",
    "\n",
    "\tdef display(self):\n",
    "\t\tprint(self.name)\n",
    "\t\tprint(self.idnumber)\n",
    "\n",
    "# child class\n",
    "class Employee(Person):\n",
    "\tdef __init__(self, name, idnumber, salary, post):\n",
    "\t\tself.salary = salary\n",
    "\t\tself.post = post\n",
    "\n",
    "\t\t# invoking the __init__ of the parent class\n",
    "\t\tPerson.__init__(self, name, idnumber)\n",
    "\n",
    "# creation of an object variable or an instance\n",
    "a = Employee('Rahul', 886012, 200000, \"Intern\")\n",
    "\n",
    "# calling a function of the class Person using its instance\n",
    "a.display()\n"
   ]
  },
  {
   "attachments": {},
   "cell_type": "markdown",
   "metadata": {},
   "source": [
    "Python program to demonstrate error if we forget to invoke __init__() of the parent\n"
   ]
  },
  {
   "cell_type": "code",
   "execution_count": 3,
   "metadata": {},
   "outputs": [
    {
     "ename": "AttributeError",
     "evalue": "'B' object has no attribute 'name'",
     "output_type": "error",
     "traceback": [
      "\u001b[0;31m---------------------------------------------------------------------------\u001b[0m",
      "\u001b[0;31mAttributeError\u001b[0m                            Traceback (most recent call last)",
      "Cell \u001b[0;32mIn[3], line 12\u001b[0m\n\u001b[1;32m      9\u001b[0m \t\t\u001b[39mself\u001b[39m\u001b[39m.\u001b[39mroll \u001b[39m=\u001b[39m roll\n\u001b[1;32m     11\u001b[0m \u001b[39mobject\u001b[39m \u001b[39m=\u001b[39m B(\u001b[39m23\u001b[39m)\n\u001b[0;32m---> 12\u001b[0m \u001b[39mprint\u001b[39m(\u001b[39mobject\u001b[39;49m\u001b[39m.\u001b[39;49mname)\n",
      "\u001b[0;31mAttributeError\u001b[0m: 'B' object has no attribute 'name'"
     ]
    }
   ],
   "source": [
    "#Python program to demonstrate error if we forget to invoke __init__() of the parent\n",
    "\n",
    "class A:\n",
    "\tdef __init__(self, n='Rahul'):\n",
    "\t\tself.name = n\n",
    "\n",
    "class B(A):\n",
    "\tdef __init__(self, roll):\n",
    "\t\tself.roll = roll\n",
    "\n",
    "object = B(23)\n",
    "print(object.name)\n",
    "\n",
    "#calling __init__() of parent is important"
   ]
  },
  {
   "attachments": {},
   "cell_type": "markdown",
   "metadata": {},
   "source": [
    "## Different types of Python Inheritance\n"
   ]
  },
  {
   "cell_type": "code",
   "execution_count": 28,
   "metadata": {},
   "outputs": [
    {
     "name": "stdout",
     "output_type": "stream",
     "text": [
      "This function is in parent class.\n",
      "This function is in child class.\n"
     ]
    }
   ],
   "source": [
    "# Python program to demonstrate\n",
    "# single inheritance\n",
    "\n",
    "# Base class\n",
    "class Parent:\n",
    "\tdef func1(self):\n",
    "\t\tprint(\"This function is in parent class.\")\n",
    "\n",
    "# Derived class\n",
    "\n",
    "\n",
    "class Child(Parent):\n",
    "\tdef func2(self):\n",
    "\t\tprint(\"This function is in child class.\")\n",
    "\n",
    "\n",
    "# Driver's code\n",
    "object = Child()\n",
    "object.func1()\n",
    "object.func2()\n"
   ]
  },
  {
   "cell_type": "code",
   "execution_count": 1,
   "metadata": {},
   "outputs": [
    {
     "name": "stdout",
     "output_type": "stream",
     "text": [
      "Base1\n",
      "Base2\n",
      "Derived\n",
      "Geek1 Geek2\n"
     ]
    }
   ],
   "source": [
    "# Python example to show the working of multiple inheritance\n",
    "\n",
    "class Base1(object):\n",
    "\tdef __init__(self):\n",
    "\t\tself.str1 = \"Geek1\"\n",
    "\t\tprint(\"Base1\")\n",
    "\n",
    "\n",
    "class Base2(object):\n",
    "\tdef __init__(self):\n",
    "\t\tself.str2 = \"Geek2\"\n",
    "\t\tprint(\"Base2\")\n",
    "\n",
    "\n",
    "class Derived(Base1, Base2):\n",
    "\tdef __init__(self):\n",
    "\t\t# Calling constructors of Base1\n",
    "\t\t# and Base2 classes\n",
    "\t\tBase1.__init__(self)\n",
    "\t\tBase2.__init__(self)\n",
    "\t\tprint(\"Derived\")\n",
    "\n",
    "\tdef printStrs(self):\n",
    "\t\tprint(self.str1, self.str2)\n",
    "\n",
    "\n",
    "ob = Derived()\n",
    "ob.printStrs()\n"
   ]
  },
  {
   "cell_type": "code",
   "execution_count": 6,
   "metadata": {},
   "outputs": [
    {
     "name": "stdout",
     "output_type": "stream",
     "text": [
      "Geek1 23 Noida\n"
     ]
    }
   ],
   "source": [
    "# A Python program to demonstrate multi level inheritance\n",
    "\n",
    "# Base or Super class. Note object in bracket.\n",
    "# (Generally, object is made ancestor of all classes)\n",
    "# In Python 3.x \"class Person\" is\n",
    "# equivalent to \"class Person(object)\"\n",
    "\n",
    "class Base:\n",
    "\n",
    "\t# Constructor\n",
    "\tdef __init__(self, name):\n",
    "\t\tself.name = name\n",
    "\n",
    "\t# To get name\n",
    "\tdef getName(self):\n",
    "\t\treturn self.name\n",
    "\n",
    "\n",
    "# Inherited or Sub class (Note Person in bracket)\n",
    "class Child(Base):\n",
    "\n",
    "\t# Constructor\n",
    "\tdef __init__(self, name, age):\n",
    "\t\tBase.__init__(self, name)\n",
    "\t\tself.age = age\n",
    "\n",
    "\t# To get name\n",
    "\tdef getAge(self):\n",
    "\t\treturn self.age\n",
    "\n",
    "# Inherited or Sub class (Note Person in bracket)\n",
    "\n",
    "\n",
    "class GrandChild(Child):\n",
    "\n",
    "\t# Constructor\n",
    "\tdef __init__(self, name, age, address):\n",
    "\t\tChild.__init__(self, name, age)\n",
    "\t\tself.address = address\n",
    "\n",
    "\t# To get address\n",
    "\tdef getAddress(self):\n",
    "\t\treturn self.address\n",
    "\n",
    "\n",
    "# Driver code\n",
    "g = GrandChild(\"Geek1\", 23, \"Noida\")\n",
    "print(g.getName(), g.getAge(), g.getAddress())\n"
   ]
  },
  {
   "cell_type": "code",
   "execution_count": 29,
   "metadata": {},
   "outputs": [
    {
     "name": "stdout",
     "output_type": "stream",
     "text": [
      "This function is in parent class.\n",
      "This function is in child 1.\n",
      "This function is in parent class.\n",
      "This function is in child 2.\n"
     ]
    }
   ],
   "source": [
    "# Python program to demonstrate\n",
    "# Hierarchical inheritance\n",
    "\n",
    "\n",
    "# Base class\n",
    "class Parent:\n",
    "\tdef func1(self):\n",
    "\t\tprint(\"This function is in parent class.\")\n",
    "\n",
    "# Derived class1\n",
    "\n",
    "\n",
    "class Child1(Parent):\n",
    "\tdef func2(self):\n",
    "\t\tprint(\"This function is in child 1.\")\n",
    "\n",
    "# Derivied class2\n",
    "\n",
    "\n",
    "class Child2(Parent):\n",
    "\tdef func3(self):\n",
    "\t\tprint(\"This function is in child 2.\")\n",
    "\n",
    "\n",
    "# Driver's code\n",
    "object1 = Child1()\n",
    "object2 = Child2()\n",
    "object1.func1()\n",
    "object1.func2()\n",
    "object2.func1()\n",
    "object2.func3()\n"
   ]
  },
  {
   "cell_type": "code",
   "execution_count": 30,
   "metadata": {},
   "outputs": [
    {
     "name": "stdout",
     "output_type": "stream",
     "text": [
      "This function is in school.\n",
      "This function is in student 1. \n"
     ]
    }
   ],
   "source": [
    "# Python program to demonstrate\n",
    "# hybrid inheritance\n",
    "\n",
    "\n",
    "class School:\n",
    "\tdef func1(self):\n",
    "\t\tprint(\"This function is in school.\")\n",
    "\n",
    "\n",
    "class Student1(School):\n",
    "\tdef func2(self):\n",
    "\t\tprint(\"This function is in student 1. \")\n",
    "\n",
    "\n",
    "class Student2(School):\n",
    "\tdef func3(self):\n",
    "\t\tprint(\"This function is in student 2.\")\n",
    "\n",
    "\n",
    "class Student3(Student1, School):\n",
    "\tdef func4(self):\n",
    "\t\tprint(\"This function is in student 3.\")\n",
    "\n",
    "\n",
    "# Driver's code\n",
    "object = Student3()\n",
    "object.func1()\n",
    "object.func2()\n"
   ]
  },
  {
   "attachments": {},
   "cell_type": "markdown",
   "metadata": {},
   "source": [
    "## Private members \n",
    "     a double underscore “__”."
   ]
  },
  {
   "cell_type": "code",
   "execution_count": 21,
   "metadata": {},
   "outputs": [
    {
     "name": "stdout",
     "output_type": "stream",
     "text": [
      "21\n",
      "42\n",
      "42\n"
     ]
    }
   ],
   "source": [
    "# Python program to demonstrate private members\n",
    "# of the parent class\n",
    "\n",
    "class C(object):\n",
    "\tdef __init__(self):\n",
    "\t\tself.c = 21\n",
    "\n",
    "\t\t# d is private instance variable\n",
    "\t\tself.__d = 42\n",
    "\tdef display(self):\n",
    "\t\treturn (self.__d)\n",
    "\n",
    "\n",
    "class D(C):\n",
    "\tdef __init__(self):\n",
    "\t\tself.e = 84\n",
    "\t\tC.__init__(self)\n",
    "\tdef display1(self):\n",
    "\t\treturn (self.__d)\n",
    "\n",
    "object1 = D()\n",
    "\n",
    "# produces an error as d is private instance variable\n",
    "print(object1.c)#21\n",
    "#accessing private variable directly using object -- error\n",
    "# print(object1.__d)#error\n",
    "\n",
    "#access private varibale using parent class method --possible\n",
    "print(object1.display())#42\n",
    "\n",
    "#accessing private variable using child method -- error\n",
    "# print(object1.display1())#error\n",
    "\n",
    "obj = C();\n",
    "#accessing private variable directly parent class method --- possible\n",
    "print(obj.display())#42\n"
   ]
  },
  {
   "cell_type": "code",
   "execution_count": 27,
   "metadata": {},
   "outputs": [
    {
     "name": "stdout",
     "output_type": "stream",
     "text": [
      "21\n"
     ]
    }
   ],
   "source": [
    "# Python program to demonstrate private functions\n",
    "# of the parent class\n",
    "\n",
    "class C(object):\n",
    "\tdef __init__(self):\n",
    "\t\tself.c = 21\n",
    "\t\t# d is private instance variable\n",
    "\t\tself.__d = 42\n",
    "\t#private method\n",
    "\tdef __display(self):\n",
    "\t\treturn (self.__d)\n",
    "\n",
    "\n",
    "class D(C):\n",
    "\tdef __init__(self):\n",
    "\t\tself.e = 84\n",
    "\t\tC.__init__(self)\n",
    "\tdef display1(self):\n",
    "\t\treturn (self.__d)\n",
    "\n",
    "object1 = D()\n",
    "\n",
    "# produces an error as d is private instance variable\n",
    "print(object1.c)#21\n",
    "#accessing private variable directly using object -- error\n",
    "# print(object1.__d)#error\n",
    "\n",
    "#access private varibale using parent class method --error\n",
    "# print(object1.display())#error  'D' object has no attribute 'display'\n",
    "\n",
    "#accessing private variable using child method -- error\n",
    "# print(object1.display1())#error\n",
    "\n",
    "obj = C();\n",
    "#accessing private variable directly parent class method --- error\n",
    "# print(obj.display())#error 'D' object has no attribute 'display'\n"
   ]
  },
  {
   "attachments": {},
   "cell_type": "markdown",
   "metadata": {},
   "source": [
    "## Protected Members\n",
    "     a single underscore “_”."
   ]
  },
  {
   "cell_type": "code",
   "execution_count": 31,
   "metadata": {},
   "outputs": [
    {
     "name": "stdout",
     "output_type": "stream",
     "text": [
      "Calling protected member of base class:  2\n",
      "Calling modified protected member outside class:  3\n",
      "Accessing protected member of obj1:  3\n",
      "Accessing protected member of obj2:  2\n"
     ]
    }
   ],
   "source": [
    "# Python program to\n",
    "# demonstrate protected members\n",
    "\n",
    "# Creating a base class\n",
    "class Base:\n",
    "\tdef __init__(self):\n",
    "\n",
    "\t\t# Protected member\n",
    "\t\tself._a = 2\n",
    "\n",
    "# Creating a derived class\n",
    "class Derived(Base):\n",
    "\tdef __init__(self):\n",
    "\n",
    "\t\t# Calling constructor of\n",
    "\t\t# Base class\n",
    "\t\tBase.__init__(self)\n",
    "\t\tprint(\"Calling protected member of base class: \",\n",
    "\t\t\tself._a)\n",
    "\n",
    "\t\t# Modify the protected variable:\n",
    "\t\tself._a = 3\n",
    "\t\tprint(\"Calling modified protected member outside class: \",\n",
    "\t\t\tself._a)\n",
    "\n",
    "\n",
    "obj1 = Derived()\n",
    "\n",
    "obj2 = Base()\n",
    "\n",
    "# Calling protected member\n",
    "# Can be accessed but should not be done due to convention\n",
    "print(\"Accessing protected member of obj1: \", obj1._a)\n",
    "\n",
    "# Accessing the protected variable outside\n",
    "print(\"Accessing protected member of obj2: \", obj2._a)\n"
   ]
  },
  {
   "cell_type": "code",
   "execution_count": 34,
   "metadata": {},
   "outputs": [
    {
     "name": "stdout",
     "output_type": "stream",
     "text": [
      "GeeksforGeeks\n"
     ]
    }
   ],
   "source": [
    "# Python program to\n",
    "# demonstrate private members\n",
    "\n",
    "# Creating a Base class\n",
    "\n",
    "\n",
    "class Base:\n",
    "\tdef __init__(self):\n",
    "\t\tself.a = \"GeeksforGeeks\"\n",
    "\t\tself.__c = \"GeeksforGeeks\"\n",
    "\n",
    "# Creating a derived class\n",
    "class Derived(Base):\n",
    "\tdef __init__(self):\n",
    "\n",
    "\t\t# Calling constructor of\n",
    "\t\t# Base class\n",
    "\t\tBase.__init__(self)\n",
    "\t\tprint(\"Calling private member of base class: \")\n",
    "\t\tprint(self.__c)\n",
    "\n",
    "\n",
    "# Driver code\n",
    "obj1 = Base()\n",
    "print(obj1.a)\n",
    "# print(obj1.__c)#error\n",
    "\n",
    "# Uncommenting print(obj1.c) will\n",
    "# raise an AttributeError\n",
    "\n",
    "# Uncommenting obj2 = Derived() will\n",
    "# also raise an AttributeError as\n",
    "# private member of base class\n",
    "# is called inside derived class\n"
   ]
  },
  {
   "attachments": {},
   "cell_type": "markdown",
   "metadata": {},
   "source": [
    "## Class or Static Variables in Python\n",
    "Features of Static Variables\n",
    "===============================\n",
    "        1. Static variables are allocated memory once when the object for the class is created for the first time.\n",
    "        2. Static variables are created outside of methods but inside a class\n",
    "        3. Static variables can be accessed through a class but not directly with an instance.\n",
    "        4. Static variables behavior doesn’t change for every object.\n",
    "\n",
    "\n",
    "Note:\n",
    "========\n",
    "    \n",
    "    => All variables which are assigned a value in the class declaration are class variables. And \n",
    "\n",
    "    => variables that are assigned values inside methods are instance variables.\n",
    "    \n",
    "    => a variable start with static_ is static variables"
   ]
  },
  {
   "cell_type": "code",
   "execution_count": 35,
   "metadata": {},
   "outputs": [
    {
     "name": "stdout",
     "output_type": "stream",
     "text": [
      "cse\n",
      "cse\n",
      "Geek\n",
      "Nerd\n",
      "1\n",
      "2\n",
      "cse\n",
      "ece\n",
      "cse\n",
      "ece\n",
      "mech\n"
     ]
    }
   ],
   "source": [
    "# Python program to show that the variables with a value\n",
    "# assigned in class declaration, are class variables\n",
    "\n",
    "# Class for Computer Science Student\n",
    "class CSStudent:\n",
    "\tstream = 'cse'\t\t\t\t # Class Variable\n",
    "\tdef __init__(self,name,roll):\n",
    "\t\tself.name = name\t\t # Instance Variable\n",
    "\t\tself.roll = roll\t\t # Instance Variable\n",
    "\n",
    "# Objects of CSStudent class\n",
    "a = CSStudent('Geek', 1)\n",
    "b = CSStudent('Nerd', 2)\n",
    "\n",
    "print(a.stream) # prints \"cse\"\n",
    "print(b.stream) # prints \"cse\"\n",
    "print(a.name) # prints \"Geek\"\n",
    "print(b.name) # prints \"Nerd\"\n",
    "print(a.roll) # prints \"1\"\n",
    "print(b.roll) # prints \"2\"\n",
    "\n",
    "# Class variables can be accessed using class\n",
    "# name also\n",
    "print(CSStudent.stream) # prints \"cse\"\n",
    "\n",
    "# Now if we change the stream for just a it won't be changed for b\n",
    "a.stream = 'ece'\n",
    "print(a.stream) # prints 'ece'\n",
    "print(b.stream) # prints 'cse'\n",
    "\n",
    "# To change the stream for all instances of the class we can change it\n",
    "# directly from the class\n",
    "CSStudent.stream = 'mech'\n",
    "\n",
    "print(a.stream) # prints 'ece'\n",
    "print(b.stream) # prints 'mech'\n"
   ]
  },
  {
   "cell_type": "code",
   "execution_count": 36,
   "metadata": {},
   "outputs": [
    {
     "name": "stdout",
     "output_type": "stream",
     "text": [
      "1\n",
      "2\n",
      "2\n"
     ]
    }
   ],
   "source": [
    "class MyClass:\n",
    "\tstatic_var = 0\n",
    "\n",
    "\tdef __init__(self):\n",
    "\t\tMyClass.static_var += 1\n",
    "\t\tself.instance_var = MyClass.static_var\n",
    "\n",
    "obj1 = MyClass()\n",
    "print(obj1.instance_var) # Output: 1\n",
    "\n",
    "obj2 = MyClass()\n",
    "print(obj2.instance_var) # Output: 2\n",
    "\n",
    "print(MyClass.static_var) # Output: 2\n"
   ]
  },
  {
   "attachments": {},
   "cell_type": "markdown",
   "metadata": {},
   "source": [
    "#### Static Variable \n",
    "---------------\n",
    "Adv:\n",
    "\n",
    "    - Memory efficieny\n",
    "    - shared state\n",
    "    - easy to access\n",
    "    - initialization\n",
    "    - readability\n",
    "disadv:\n",
    "\n",
    "    - inflexibility\n",
    "    - hidden dependencies\n",
    "    - thread saftty\n",
    "    - namespace pollution \n",
    "    - testing is difficult"
   ]
  },
  {
   "attachments": {},
   "cell_type": "markdown",
   "metadata": {},
   "source": [
    "#### Class method vs Static method in Python\n",
    "----------------------\n",
    "Class Method:\n",
    "\n",
    "    - The @classmethod decorator is a built-in function decorator \n",
    "    - Syntax Python Class Method: \n",
    "\n",
    "        class C(object):\n",
    "            @classmethod\n",
    "            def fun(cls, arg1, arg2, ...):\n",
    "            ....\n",
    "        fun: function that needs to be converted into a class method\n",
    "        returns: a class method for function.\n",
    "    \n",
    "    - Note:\n",
    "    \n",
    "        - A class method is a method that is bound to the class and not the object of the class.\n",
    "        - They have the access to the state of the class as it takes a class parameter that points to the class and not the object instance.\n",
    "        - It can modify a class state that would apply across all the instances of the class. For example, it can modify a class variable that will be applicable to all the instances.\n",
    "\n",
    "\n",
    "        \n",
    "\n",
    "Static Method:\n",
    "\n",
    "    - A static method is also a method that is bound to the class and not the object of the class\n",
    "    - This method can’t access or modify the class state. \n",
    "    - It is present in a class because it makes sense for the method to be present in class.\n",
    "    Syntax Python Static Method: \n",
    "\n",
    "        class C(object):\n",
    "            @staticmethod\n",
    "            def fun(arg1, arg2, ...):\n",
    "                ...\n",
    "        returns: a static method for function fun.\n",
    "    \n",
    "\n",
    "\n",
    "Class method vs Static Method\n",
    "\n",
    "    The difference between the Class method and the static method is:\n",
    "\n",
    "    - A class method takes cls as the first parameter while a static method needs no specific parameters.\n",
    "    - A class method can access or modify the class state while a static method can’t access or modify it.\n",
    "    - In general, static methods know nothing about the class state. They are utility-type methods that take some parameters and work upon those parameters. On the other hand class methods must have class as a parameter.\n",
    "    - We use @classmethod decorator in python to create a class method and we use @staticmethod decorator to create a static method in python.\n",
    "\n",
    "\n",
    "When to use the class or static method?\n",
    "\n",
    "    - We generally use the class method to create factory methods. Factory methods return class objects ( similar to a constructor ) for different use cases.\n",
    "    \n",
    "    - We generally use static methods to create utility functions.\n"
   ]
  },
  {
   "cell_type": "code",
   "execution_count": 46,
   "metadata": {},
   "outputs": [
    {
     "name": "stdout",
     "output_type": "stream",
     "text": [
      "<class '__main__.MyClass'>\n",
      "10\n",
      "20\n",
      "10\n",
      "20\n"
     ]
    }
   ],
   "source": [
    "# Class method example\n",
    "\n",
    "class MyClass:\n",
    "\tdef __init__(self, value):\n",
    "\t\tself.value = value\n",
    "\n",
    "\t@classmethod\n",
    "\tdef get_cls(cls):\n",
    "\t\treturn cls\n",
    "\t\n",
    "\t@classmethod\n",
    "\tdef get_value(cls, value):\n",
    "\t\treturn value\n",
    "\n",
    "# Create an instance of MyClass\n",
    "obj = MyClass(10)\n",
    "\n",
    "#value in cls\n",
    "print(obj.get_cls())\n",
    "# Call the get_value method on the instance\n",
    "print(obj.get_value(10)) # Output: 10\n",
    "print(obj.get_value(20)) # Output: 20\n",
    "print(MyClass.get_value(10)) # Output: 10\n",
    "print(MyClass.get_value(20)) # Output: 20\n",
    "\n",
    "# using class method => we cant access value of the object created\n",
    "\n",
    "\n"
   ]
  },
  {
   "cell_type": "code",
   "execution_count": 39,
   "metadata": {},
   "outputs": [
    {
     "name": "stdout",
     "output_type": "stream",
     "text": [
      "56\n"
     ]
    }
   ],
   "source": [
    "#static method example\n",
    "\n",
    "class MyClass:\n",
    "    def __init__(self, value):\n",
    "        self.value = value\n",
    "\n",
    "    @staticmethod\n",
    "    def getMaxValue(x,y):\n",
    "        return max(x,y)\n",
    "\n",
    "# obj = MyClass();#error\n",
    "obj = MyClass(\"temp\");\n",
    "print(obj.getMaxValue(34,56))#56        \n"
   ]
  },
  {
   "cell_type": "code",
   "execution_count": 40,
   "metadata": {},
   "outputs": [
    {
     "name": "stdout",
     "output_type": "stream",
     "text": [
      "21\n",
      "27\n",
      "True\n"
     ]
    }
   ],
   "source": [
    "# Python program to demonstrate\n",
    "# use of class method and static method.\n",
    "from datetime import date\n",
    "\n",
    "\n",
    "class Person:\n",
    "\tdef __init__(self, name, age):\n",
    "\t\tself.name = name\n",
    "\t\tself.age = age\n",
    "\n",
    "\t# a class method to create a Person object by birth year.\n",
    "\t@classmethod\n",
    "\tdef fromBirthYear(cls, name, year):\n",
    "\t\treturn cls(name, date.today().year - year)\n",
    "\n",
    "\t# a static method to check if a Person is adult or not.\n",
    "\t@staticmethod\n",
    "\tdef isAdult(age):\n",
    "\t\treturn age > 18\n",
    "\n",
    "\n",
    "person1 = Person('mayank', 21)\n",
    "person2 = Person.fromBirthYear('mayank', 1996)\n",
    "\n",
    "print(person1.age)\n",
    "print(person2.age)\n",
    "\n",
    "# print the result\n",
    "print(Person.isAdult(22))\n"
   ]
  },
  {
   "attachments": {},
   "cell_type": "markdown",
   "metadata": {},
   "source": [
    "# Python Iterators\n",
    "    - An iterator is an object that contains a countable number of values.\n",
    "    - AN iterator is an object that can be iterated upon, means that you can traverse throgugh all the values\n",
    "\n",
    "    - Technically, in Python, an iterator is an object which implements the iterator protocol, \n",
    "        which consist of the methods \n",
    "            __iter__() and \n",
    "            __next__()."
   ]
  },
  {
   "attachments": {},
   "cell_type": "markdown",
   "metadata": {},
   "source": [
    "<!-- Iterator vs Iterable -->\n",
    "\n",
    "<!-- Lists, tuples, dictionaries, and sets are all iterable objects. They are iterable containers which you can get an iterator from.\n",
    "\n",
    "All these objects have a iter() method which is used to get an iterator: -->\n",
    "\n",
    "<!-- Example1 -->\n"
   ]
  },
  {
   "cell_type": "code",
   "execution_count": 22,
   "metadata": {},
   "outputs": [
    {
     "name": "stdout",
     "output_type": "stream",
     "text": [
      "apple\n",
      "orange\n",
      "banana\n",
      "<class 'tuple_iterator'>\n"
     ]
    }
   ],
   "source": [
    "# Iterator vs Iterable\n",
    "\n",
    "    # Lists, tuples, dictionaries, and sets are all iterable objects. \n",
    "    # They are iterable containers which you can get an iterator \n",
    "    # from.\n",
    "\n",
    "    # All these objects have a iter() method which is used \n",
    "    # to get an iterator:\n",
    "\n",
    "# Example1\n",
    "myTuple = (\"apple\",\"orange\",\"banana\")\n",
    "myit = iter(myTuple)\n",
    "\n",
    "print(next(myit))#apple\n",
    "print(next(myit))#orange\n",
    "print(next(myit))#banana\n",
    "# print(next(myit))//error\n",
    "\n",
    "#ob1:\n",
    "print(type(myit))#<class 'tuple_iterator'>\n"
   ]
  },
  {
   "cell_type": "code",
   "execution_count": 23,
   "metadata": {},
   "outputs": [
    {
     "name": "stdout",
     "output_type": "stream",
     "text": [
      "b\n",
      "a\n",
      "b\n",
      "u\n"
     ]
    }
   ],
   "source": [
    "#example 2\n",
    "\n",
    "mystr=\"babu\";\n",
    "myIt = iter(mystr)\n",
    "print(next(myIt))#b\n",
    "print(next(myIt))#a\n",
    "print(next(myIt))#b\n",
    "print(next(myIt))#u\n",
    "\n",
    "#for in loop does the same thing\n"
   ]
  },
  {
   "cell_type": "code",
   "execution_count": 25,
   "metadata": {},
   "outputs": [
    {
     "name": "stdout",
     "output_type": "stream",
     "text": [
      "1\n",
      "2\n",
      "3\n",
      "4\n",
      "5\n"
     ]
    }
   ],
   "source": [
    "#Creating Iterator for a class\n",
    "# to implement this functionality we need two methods:\n",
    "    # 1. __iter__()\n",
    "    # 2. __next__()\n",
    "\n",
    "class MyNumbers:\n",
    "    def __iter__(self):\n",
    "        self.a =1\n",
    "        return self\n",
    "    \n",
    "    def __next__(self):\n",
    "        x= self.a\n",
    "        self.a+=1\n",
    "        return x\n",
    "\n",
    "myclass = MyNumbers()\n",
    "myIter =iter(myclass)\n",
    "\n",
    "print(next(myIter))#1\n",
    "print(next(myIter))#2\n",
    "print(next(myIter))#3\n",
    "print(next(myIter))#4\n",
    "print(next(myIter))#5\n",
    "\n",
    "# ob: this will iter till infinity"
   ]
  },
  {
   "cell_type": "code",
   "execution_count": 27,
   "metadata": {},
   "outputs": [
    {
     "name": "stdout",
     "output_type": "stream",
     "text": [
      "1\n",
      "2\n",
      "3\n",
      "4\n",
      "5\n"
     ]
    }
   ],
   "source": [
    "#stop iteration\n",
    "\n",
    "class MyNumbers:\n",
    "  def __iter__(self):\n",
    "    self.a = 1\n",
    "    return self\n",
    "\n",
    "  def __next__(self):\n",
    "    if self.a <= 5:\n",
    "      x = self.a\n",
    "      self.a += 1\n",
    "      return x\n",
    "    else:\n",
    "      raise StopIteration\n",
    "\n",
    "myclass = MyNumbers()\n",
    "myiter = iter(myclass)\n",
    "\n",
    "for x in myiter:\n",
    "  print(x)\n"
   ]
  },
  {
   "attachments": {},
   "cell_type": "markdown",
   "metadata": {},
   "source": [
    "# Polimorphism\n",
    "    - example: len() - can be used with different objects"
   ]
  },
  {
   "cell_type": "code",
   "execution_count": 28,
   "metadata": {},
   "outputs": [
    {
     "name": "stdout",
     "output_type": "stream",
     "text": [
      "Drive!\n",
      "Sail!\n",
      "Fly!\n"
     ]
    }
   ],
   "source": [
    "# Class Polimorphism\n",
    "\n",
    "class Car:\n",
    "  def __init__(self, brand, model):\n",
    "    self.brand = brand\n",
    "    self.model = model\n",
    "\n",
    "  def move(self):\n",
    "    print(\"Drive!\")\n",
    "\n",
    "class Boat:\n",
    "  def __init__(self, brand, model):\n",
    "    self.brand = brand\n",
    "    self.model = model\n",
    "\n",
    "  def move(self):\n",
    "    print(\"Sail!\")\n",
    "\n",
    "class Plane:\n",
    "  def __init__(self, brand, model):\n",
    "    self.brand = brand\n",
    "    self.model = model\n",
    "\n",
    "  def move(self):\n",
    "    print(\"Fly!\")\n",
    "\n",
    "car1 = Car(\"Ford\", \"Mustang\")       #Create a Car class\n",
    "boat1 = Boat(\"Ibiza\", \"Touring 20\") #Create a Boat class\n",
    "plane1 = Plane(\"Boeing\", \"747\")     #Create a Plane class\n",
    "\n",
    "for x in (car1, boat1, plane1):\n",
    "  x.move()"
   ]
  },
  {
   "cell_type": "code",
   "execution_count": 29,
   "metadata": {},
   "outputs": [
    {
     "name": "stdout",
     "output_type": "stream",
     "text": [
      "Ford\n",
      "Mustang\n",
      "Move!\n",
      "Ibiza\n",
      "Touring 20\n",
      "Sail!\n",
      "Boeing\n",
      "747\n",
      "Fly!\n"
     ]
    }
   ],
   "source": [
    "# Inheritance Class Polymorphism\n",
    "\n",
    "class Vehicle:\n",
    "  def __init__(self, brand, model):\n",
    "    self.brand = brand\n",
    "    self.model = model\n",
    "\n",
    "  def move(self):\n",
    "    print(\"Move!\")\n",
    "\n",
    "class Car(Vehicle):\n",
    "  pass\n",
    "\n",
    "class Boat(Vehicle):\n",
    "  def move(self):\n",
    "    print(\"Sail!\")\n",
    "\n",
    "class Plane(Vehicle):\n",
    "  def move(self):\n",
    "    print(\"Fly!\")\n",
    "\n",
    "car1 = Car(\"Ford\", \"Mustang\") #Create a Car object\n",
    "boat1 = Boat(\"Ibiza\", \"Touring 20\") #Create a Boat object\n",
    "plane1 = Plane(\"Boeing\", \"747\") #Create a Plane object\n",
    "\n",
    "for x in (car1, boat1, plane1):\n",
    "  print(x.brand)\n",
    "  print(x.model)\n",
    "  x.move()"
   ]
  },
  {
   "cell_type": "code",
   "execution_count": null,
   "metadata": {},
   "outputs": [],
   "source": []
  },
  {
   "attachments": {},
   "cell_type": "markdown",
   "metadata": {},
   "source": [
    "# Metaprogramming with Metaclasses in Python\n"
   ]
  },
  {
   "cell_type": "code",
   "execution_count": 48,
   "metadata": {},
   "outputs": [
    {
     "name": "stdout",
     "output_type": "stream",
     "text": [
      "Type of num is: <class 'int'>\n",
      "Type of lst is: <class 'list'>\n",
      "Type of name is: <class 'str'>\n"
     ]
    }
   ],
   "source": [
    "# metaclass\n",
    "\n",
    "num = 23\n",
    "print(\"Type of num is:\", type(num))\n",
    "\n",
    "lst = [1, 2, 4]\n",
    "print(\"Type of lst is:\", type(lst))\n",
    "\n",
    "name = \"Atul\"\n",
    "print(\"Type of name is:\", type(name))\n",
    "\n",
    "\n",
    "# ob\n",
    "    # -every type in python is defined as a class\n",
    "\n",
    "\n"
   ]
  },
  {
   "cell_type": "code",
   "execution_count": 49,
   "metadata": {},
   "outputs": [
    {
     "name": "stdout",
     "output_type": "stream",
     "text": [
      "Type of stu_obj is: <class '__main__.Student'>\n"
     ]
    }
   ],
   "source": [
    "class Student:\n",
    "\tpass\n",
    "stu_obj = Student()\n",
    "\n",
    "# Print type of object of Student class\n",
    "print(\"Type of stu_obj is:\", type(stu_obj))\n"
   ]
  },
  {
   "cell_type": "code",
   "execution_count": 50,
   "metadata": {},
   "outputs": [
    {
     "name": "stdout",
     "output_type": "stream",
     "text": [
      "45\n",
      "Hello\n"
     ]
    }
   ],
   "source": [
    "# Defined class without any\n",
    "# class methods and variables\n",
    "class test:pass\n",
    "\n",
    "# Defining method variables\n",
    "test.x = 45\n",
    "\n",
    "# Defining class methods\n",
    "test.foo = lambda self: print('Hello')\n",
    "\n",
    "# creating object\n",
    "myobj = test()\n",
    "\n",
    "print(myobj.x)\n",
    "myobj.foo()\n"
   ]
  },
  {
   "cell_type": "code",
   "execution_count": 51,
   "metadata": {},
   "outputs": [],
   "source": [
    "# object instance of class\n",
    "# class instance of metaclass\n",
    "\n",
    "# - The metaclass is responsible for the generation of classes, \n",
    "\n",
    "# Creating custom Metaclass needs two following methods\n",
    "#     - __new__(): It’s a method which is called before __init__(). It creates the object and returns it. We can override this method to control how the objects are created.\n",
    "# __  - __init__(): This method just initialize the created object passed as a parameter"
   ]
  },
  {
   "cell_type": "code",
   "execution_count": 52,
   "metadata": {},
   "outputs": [
    {
     "name": "stdout",
     "output_type": "stream",
     "text": [
      "Full name of this method: Calc.add\n",
      "5\n",
      "Full name of this method: Calc.mul\n",
      "10\n"
     ]
    }
   ],
   "source": [
    "# Solving problems with metaclass\n",
    "from functools import wraps\n",
    "\n",
    "def debug(func):\n",
    "\t'''decorator for debugging passed function'''\n",
    "\t\n",
    "\t@wraps(func)\n",
    "\tdef wrapper(*args, **kwargs):\n",
    "\t\tprint(\"Full name of this method:\", func.__qualname__)\n",
    "\t\treturn func(*args, **kwargs)\n",
    "\treturn wrapper\n",
    "\n",
    "def debugmethods(cls):\n",
    "\t'''class decorator make use of debug decorator\n",
    "\tto debug class methods '''\n",
    "\t\n",
    "\t# check in class dictionary for any callable(method)\n",
    "\t# if exist, replace it with debugged version\n",
    "\tfor key, val in vars(cls).items():\n",
    "\t\tif callable(val):\n",
    "\t\t\tsetattr(cls, key, debug(val))\n",
    "\treturn cls\n",
    "\n",
    "# sample class\n",
    "@debugmethods\n",
    "class Calc:\n",
    "\tdef add(self, x, y):\n",
    "\t\treturn x+y\n",
    "\tdef mul(self, x, y):\n",
    "\t\treturn x*y\n",
    "\tdef div(self, x, y):\n",
    "\t\treturn x/y\n",
    "\t\n",
    "mycal = Calc()\n",
    "print(mycal.add(2, 3))\n",
    "print(mycal.mul(5, 2))\n",
    "\n"
   ]
  },
  {
   "cell_type": "code",
   "execution_count": 1,
   "metadata": {},
   "outputs": [],
   "source": [
    "# When to use Metaclasses\n",
    "    # - If we want to change class automatically, when it is created, we use metaclasses  \n",
    "    # - For API development, we might use metaclasses\n",
    "\n"
   ]
  },
  {
   "attachments": {},
   "cell_type": "markdown",
   "metadata": {},
   "source": [
    "# 5 advanced topics of python\n",
    "\n",
    "    1. classes\n",
    "    2. methods\n",
    "    3. Inheritance\n",
    "    4. Iterators\n",
    "    5. generators"
   ]
  },
  {
   "attachments": {},
   "cell_type": "markdown",
   "metadata": {},
   "source": [
    "#### 1. Class\n"
   ]
  },
  {
   "cell_type": "code",
   "execution_count": 2,
   "metadata": {},
   "outputs": [
    {
     "name": "stdout",
     "output_type": "stream",
     "text": [
      "Harssh 1337\n"
     ]
    }
   ],
   "source": [
    "# creates a class named MyClass\n",
    "class MyClass:\n",
    "\t\t# assign the values to the MyClass attributes\n",
    "\t\tnumber = 0\t\n",
    "\t\tname = \"noname\"\n",
    "\n",
    "def Main():\n",
    "\t\t# Creating an object of the MyClass.\n",
    "\t\t# Here, 'me' is the object\n",
    "\t\tme = MyClass()\n",
    "\n",
    "\t\t# Accessing the attributes of MyClass\n",
    "\t\t# using the dot(.) operator\n",
    "\t\tme.number = 1337\t\n",
    "\t\tme.name = \"Harssh\"\n",
    "\n",
    "\t\t# str is an build-in function that\n",
    "\t\t# creates an string\n",
    "\t\tprint(me.name + \" \" + str(me.number))\n",
    "\t\n",
    "# telling python that there is main in the program.\n",
    "if __name__=='__main__':\n",
    "\t\tMain()\n"
   ]
  },
  {
   "attachments": {},
   "cell_type": "markdown",
   "metadata": {},
   "source": [
    "#### 2. Methods"
   ]
  },
  {
   "cell_type": "code",
   "execution_count": 3,
   "metadata": {},
   "outputs": [
    {
     "name": "stdout",
     "output_type": "stream",
     "text": [
      "X: 5, Y: 6\n"
     ]
    }
   ],
   "source": [
    "# A Python program to demonstrate working of class\n",
    "# methods\n",
    "\n",
    "class Vector2D:\n",
    "\t\tx = 0.0\n",
    "\t\ty = 0.0\n",
    "\n",
    "\t\t# Creating a method named Set\n",
    "\t\tdef Set(self, x, y):\t\n",
    "\t\t\t\tself.x = x\n",
    "\t\t\t\tself.y = y\n",
    "\n",
    "def Main():\n",
    "\t\t# vec is an object of class Vector2D\n",
    "\t\tvec = Vector2D()\n",
    "\t\t\n",
    "\t\t# Passing values to the function Set\n",
    "\t\t# by using dot(.) operator.\n",
    "\t\tvec.Set(5, 6)\t\n",
    "\t\tprint(\"X: \" + str(vec.x) + \", Y: \" + str(vec.y))\n",
    "\n",
    "if __name__=='__main__':\n",
    "\t\tMain()\n"
   ]
  },
  {
   "attachments": {},
   "cell_type": "markdown",
   "metadata": {},
   "source": [
    "#### 3. Inheritance"
   ]
  },
  {
   "cell_type": "code",
   "execution_count": 5,
   "metadata": {},
   "outputs": [
    {
     "name": "stdout",
     "output_type": "stream",
     "text": [
      "Is jess a cat? True\n",
      "Is jess a pet? True\n",
      "Is the pet a cat? False\n",
      "Is thePet a Pet? True\n",
      "Jess\n"
     ]
    }
   ],
   "source": [
    "# A Python program to demonstrate working of inheritance\n",
    "class Pet:\n",
    "\t\t#__init__ is an constructor in Python\n",
    "\t\tdef __init__(self, name, age):\t\n",
    "\t\t\t\tself.name = name\n",
    "\t\t\t\tself.age = age\n",
    "\n",
    "# Class Cat inheriting from the class Pet\n",
    "class Cat(Pet):\t\t\n",
    "\t\tdef __init__(self, name, age):\n",
    "\t\t\t\t# calling the super-class function __init__\n",
    "\t\t\t\t# using the super() function\n",
    "\t\t\t\tsuper().__init__(name, age)\n",
    "\n",
    "def Main():\n",
    "\t\tthePet = Pet(\"Pet\", 1)\n",
    "\t\tjess = Cat(\"Jess\", 3)\n",
    "\t\t\n",
    "\t\t# isinstance() function to check whether a class is\n",
    "\t\t# inherited from another class\n",
    "\t\tprint(\"Is jess a cat? \" +str(isinstance(jess, Cat)))\n",
    "\t\tprint(\"Is jess a pet? \" +str(isinstance(jess, Pet)))\n",
    "\t\tprint(\"Is the pet a cat? \"+str(isinstance(thePet, Cat)))\n",
    "\t\tprint(\"Is thePet a Pet? \" +str(isinstance(thePet, Pet)))\n",
    "\t\tprint(jess.name)\n",
    "\n",
    "if __name__=='__main__':\n",
    "\t\tMain()\n"
   ]
  },
  {
   "attachments": {},
   "cell_type": "markdown",
   "metadata": {},
   "source": [
    "#### 4. Iterators"
   ]
  },
  {
   "cell_type": "code",
   "execution_count": 6,
   "metadata": {},
   "outputs": [
    {
     "name": "stdout",
     "output_type": "stream",
     "text": [
      "e\n",
      "l\n",
      "c\n",
      "i\n",
      "s\n",
      "p\n",
      "a\n",
      "r\n",
      "D\n"
     ]
    }
   ],
   "source": [
    "# This program will reverse the string that is passed\n",
    "# to it from the main function\n",
    "class Reverse:\n",
    "\tdef __init__(self, data):\n",
    "\t\tself.data = data\n",
    "\t\tself.index = len(data)\t\t\n",
    "\n",
    "\tdef __iter__(self):\n",
    "\t\treturn self\n",
    "\t\n",
    "\tdef __next__(self):\n",
    "\t\tif self.index == 0:\n",
    "\t\t\traise StopIteration\t\n",
    "\t\tself.index-= 1\n",
    "\t\treturn self.data[self.index]\n",
    "\n",
    "def Main():\n",
    "\trev = Reverse('Drapsicle')\n",
    "\tfor char in rev:\n",
    "\t\tprint(char)\n",
    "\n",
    "if __name__=='__main__':\n",
    "\tMain()\n"
   ]
  },
  {
   "attachments": {},
   "cell_type": "markdown",
   "metadata": {},
   "source": [
    "#### 5. Generators\n",
    "\n",
    "    - Another way of creating iterators.\n",
    "    - Uses a function rather than a separate class\n",
    "    - Generates the background code for the next() and iter() methods\n",
    "    - Uses a special statement called yield which saves the state of the generator and set a resume point for when next() is called again."
   ]
  },
  {
   "cell_type": "code",
   "execution_count": 11,
   "metadata": {},
   "outputs": [
    {
     "name": "stdout",
     "output_type": "stream",
     "text": [
      "u\n",
      "b\n",
      "a\n",
      "b\n",
      "['u', 'b', 'a', 'b']\n"
     ]
    }
   ],
   "source": [
    "# A Python program to demonstrate working of Generators\n",
    "def Reverse(data):\n",
    "\t# this is like counting from 100 to 1 by taking one(-1)\n",
    "\t# step backward.\n",
    "\tfor index in range(len(data)-1, -1, -1):\n",
    "\t\tyield data[index]\n",
    "\n",
    "def Main():\n",
    "\trev = Reverse('babu')\n",
    "\tfor char in rev:\n",
    "\t\tprint(char)\n",
    "\tdata ='babu'\n",
    "\tprint(list(data[i] for i in range(len(data)-1, -1, -1)))\n",
    "\n",
    "if __name__==\"__main__\":\n",
    "\tMain()\n"
   ]
  },
  {
   "attachments": {},
   "cell_type": "markdown",
   "metadata": {},
   "source": [
    "# OOP Concepts\n",
    "    1. Class\n",
    "    2. Objects\n",
    "    3. Polymorphism\n",
    "    4. Encapsulation\n",
    "    5. Inheritance\n",
    "    6. Data Abstraction"
   ]
  },
  {
   "attachments": {},
   "cell_type": "markdown",
   "metadata": {},
   "source": [
    "### Class"
   ]
  },
  {
   "cell_type": "code",
   "execution_count": 12,
   "metadata": {},
   "outputs": [],
   "source": [
    "# Python3 program to\n",
    "# demonstrate defining\n",
    "# a class\n",
    "\n",
    "# an empty class\n",
    "\n",
    "class Dog:\n",
    "\tpass\n"
   ]
  },
  {
   "attachments": {},
   "cell_type": "markdown",
   "metadata": {},
   "source": [
    "### Objects"
   ]
  },
  {
   "cell_type": "code",
   "execution_count": 13,
   "metadata": {},
   "outputs": [],
   "source": [
    "obj = Dog()\n"
   ]
  },
  {
   "cell_type": "code",
   "execution_count": 14,
   "metadata": {},
   "outputs": [
    {
     "name": "stdout",
     "output_type": "stream",
     "text": [
      "Rodger is a mammal\n",
      "Tommy is also a mammal\n",
      "My name is Rodger\n",
      "My name is Tommy\n"
     ]
    }
   ],
   "source": [
    "class Dog:\n",
    "\n",
    "\t# class attribute\n",
    "\tattr1 = \"mammal\"\n",
    "\n",
    "\t# Instance attribute\n",
    "\tdef __init__(self, name):\n",
    "\t\tself.name = name\n",
    "\n",
    "# Driver code\n",
    "# Object instantiation\n",
    "Rodger = Dog(\"Rodger\")\n",
    "Tommy = Dog(\"Tommy\")\n",
    "\n",
    "# Accessing class attributes\n",
    "print(\"Rodger is a {}\".format(Rodger.__class__.attr1))\n",
    "print(\"Tommy is also a {}\".format(Tommy.__class__.attr1))\n",
    "\n",
    "# Accessing instance attributes\n",
    "print(\"My name is {}\".format(Rodger.name))\n",
    "print(\"My name is {}\".format(Tommy.name))\n"
   ]
  },
  {
   "attachments": {},
   "cell_type": "markdown",
   "metadata": {},
   "source": [
    "### Polymorphism"
   ]
  },
  {
   "cell_type": "code",
   "execution_count": 15,
   "metadata": {},
   "outputs": [
    {
     "name": "stdout",
     "output_type": "stream",
     "text": [
      "There are many types of birds.\n",
      "Most of the birds can fly but some cannot.\n",
      "There are many types of birds.\n",
      "Sparrows can fly.\n",
      "There are many types of birds.\n",
      "Ostriches cannot fly.\n"
     ]
    }
   ],
   "source": [
    "class Bird:\n",
    "\n",
    "\tdef intro(self):\n",
    "\t\tprint(\"There are many types of birds.\")\n",
    "\n",
    "\tdef flight(self):\n",
    "\t\tprint(\"Most of the birds can fly but some cannot.\")\n",
    "\n",
    "class sparrow(Bird):\n",
    "\n",
    "\tdef flight(self):\n",
    "\t\tprint(\"Sparrows can fly.\")\n",
    "\n",
    "class ostrich(Bird):\n",
    "\n",
    "\tdef flight(self):\n",
    "\t\tprint(\"Ostriches cannot fly.\")\n",
    "\n",
    "obj_bird = Bird()\n",
    "obj_spr = sparrow()\n",
    "obj_ost = ostrich()\n",
    "\n",
    "obj_bird.intro()\n",
    "obj_bird.flight()\n",
    "\n",
    "obj_spr.intro()\n",
    "obj_spr.flight()\n",
    "\n",
    "obj_ost.intro()\n",
    "obj_ost.flight()\n"
   ]
  },
  {
   "attachments": {},
   "cell_type": "markdown",
   "metadata": {},
   "source": [
    "### Encapsulation"
   ]
  },
  {
   "cell_type": "code",
   "execution_count": 16,
   "metadata": {},
   "outputs": [
    {
     "name": "stdout",
     "output_type": "stream",
     "text": [
      "GeeksforGeeks\n"
     ]
    }
   ],
   "source": [
    "# Python program to\n",
    "# demonstrate private members\n",
    "\n",
    "# Creating a Base class\n",
    "class Base:\n",
    "\tdef __init__(self):\n",
    "\t\tself.a = \"GeeksforGeeks\"\n",
    "\t\tself.__c = \"GeeksforGeeks\"\n",
    "\n",
    "# Creating a derived class\n",
    "class Derived(Base):\n",
    "\tdef __init__(self):\n",
    "\n",
    "\t\t# Calling constructor of\n",
    "\t\t# Base class\n",
    "\t\tBase.__init__(self)\n",
    "\t\tprint(\"Calling private member of base class: \")\n",
    "\t\tprint(self.__c)\n",
    "\n",
    "\n",
    "# Driver code\n",
    "obj1 = Base()\n",
    "print(obj1.a)\n",
    "\n",
    "# Uncommenting print(obj1.c) will\n",
    "# raise an AttributeError\n",
    "\n",
    "# Uncommenting obj2 = Derived() will\n",
    "# also raise an AtrributeError as\n",
    "# private member of base class\n",
    "# is called inside derived class\n"
   ]
  },
  {
   "attachments": {},
   "cell_type": "markdown",
   "metadata": {},
   "source": [
    "### Inheritance"
   ]
  },
  {
   "attachments": {},
   "cell_type": "markdown",
   "metadata": {},
   "source": [
    "### Data Abstraction"
   ]
  },
  {
   "attachments": {},
   "cell_type": "markdown",
   "metadata": {},
   "source": [
    "It hides the unnecessary code details from the user. Also,  when we do not want to give out sensitive parts of our code implementation and this is where data abstraction came.\n",
    "\n",
    "Data Abstraction in Python can be achieved through creating abstract classes."
   ]
  },
  {
   "cell_type": "code",
   "execution_count": 18,
   "metadata": {},
   "outputs": [
    {
     "name": "stdout",
     "output_type": "stream",
     "text": [
      "2\n",
      "7\n"
     ]
    }
   ],
   "source": [
    "class MyClass:\n",
    "\n",
    "\t# Hidden member of MyClass\n",
    "\t__hiddenVariable = 0\n",
    "\t\n",
    "\t# A member method that changes\n",
    "\t# __hiddenVariable\n",
    "\tdef add(self, increment):\n",
    "\t\tself.__hiddenVariable += increment\n",
    "\t\tprint (self.__hiddenVariable)\n",
    "\n",
    "# Driver code\n",
    "myObject = MyClass()\t\n",
    "myObject.add(2)\n",
    "myObject.add(5)\n",
    "\n",
    "# This line causes error\n",
    "# print (myObject.__hiddenVariable)\n"
   ]
  },
  {
   "attachments": {},
   "cell_type": "markdown",
   "metadata": {},
   "source": [
    "## How to check if a class is subclass of another?\n"
   ]
  },
  {
   "cell_type": "code",
   "execution_count": 20,
   "metadata": {},
   "outputs": [
    {
     "name": "stdout",
     "output_type": "stream",
     "text": [
      "True\n",
      "False\n",
      "False\n",
      "True\n"
     ]
    }
   ],
   "source": [
    "# Python example to check if a class is\n",
    "# subclass of another\n",
    "\n",
    "class Base(object):\n",
    "\tpass # Empty Class\n",
    "\n",
    "class Derived(Base):\n",
    "\tpass # Empty Class\n",
    "\n",
    "# Driver Code\n",
    "print(issubclass(Derived, Base))#True\n",
    "print(issubclass(Base, Derived))#False\n",
    "\n",
    "d = Derived()\n",
    "b = Base()\n",
    "\n",
    "# b is not an instance of Derived\n",
    "print(isinstance(b, Derived))#False\n",
    "\n",
    "# But d is an instance of Base\n",
    "print(isinstance(d, Base))#True\n"
   ]
  },
  {
   "attachments": {},
   "cell_type": "markdown",
   "metadata": {},
   "source": [
    "## Does Python support Multiple Inheritance?\n"
   ]
  },
  {
   "cell_type": "code",
   "execution_count": 22,
   "metadata": {},
   "outputs": [
    {
     "name": "stdout",
     "output_type": "stream",
     "text": [
      "Base1\n",
      "Base2\n",
      "Derived\n",
      "Geek1 Geek2\n"
     ]
    }
   ],
   "source": [
    "# Unlike Java and like C++, Python supports multiple inheritance. We specify all parent classes as comma separated list in bracket.\n",
    "\n",
    "\n",
    "# Python example to show working of multiple\n",
    "# inheritance\n",
    "class Base1(object):\n",
    "\tdef __init__(self):\n",
    "\t\tself.str1 = \"Geek1\"\n",
    "\t\tprint (\"Base1\")\n",
    "\n",
    "class Base2(object):\n",
    "\tdef __init__(self):\n",
    "\t\tself.str2 = \"Geek2\"\t\t\n",
    "\t\tprint( \"Base2\")\n",
    "\n",
    "class Derived(Base1, Base2):\n",
    "\tdef __init__(self):\n",
    "\t\t\n",
    "\t\t# Calling constructors of Base1\n",
    "\t\t# and Base2 classes\n",
    "\t\tBase1.__init__(self)\n",
    "\t\tBase2.__init__(self)\n",
    "\t\tprint( \"Derived\")\n",
    "\t\t\n",
    "\tdef printStrs(self):\n",
    "\t\tprint(self.str1, self.str2)\n",
    "\t\t\n",
    "\n",
    "ob = Derived()\n",
    "ob.printStrs()\n"
   ]
  },
  {
   "attachments": {},
   "cell_type": "markdown",
   "metadata": {},
   "source": [
    "## How to access parent members in a subclass?\n",
    "\n"
   ]
  },
  {
   "attachments": {},
   "cell_type": "markdown",
   "metadata": {},
   "source": [
    "#### 1. using parent class name"
   ]
  },
  {
   "cell_type": "code",
   "execution_count": 26,
   "metadata": {},
   "outputs": [
    {
     "name": "stdout",
     "output_type": "stream",
     "text": [
      "10 20\n"
     ]
    }
   ],
   "source": [
    "# Python example to show that base\n",
    "# class members can be accessed in\n",
    "# derived class using base class name\n",
    "class Base(object):\n",
    "\n",
    "\t# Constructor\n",
    "\tdef __init__(self, x):\n",
    "\t\tself.x = x\t\n",
    "\n",
    "class Derived(Base):\n",
    "\n",
    "\t# Constructor\n",
    "\tdef __init__(self, x, y):\n",
    "\t\tBase.x = x\n",
    "\t\tself.y = y\n",
    "\n",
    "\tdef printXY(self):\n",
    "\t\t# print(self.x, self.y) will also work\n",
    "\t\tprint(Base.x, self.y)\n",
    "\n",
    "\n",
    "# Driver Code\n",
    "d = Derived(10, 20)\n",
    "d.printXY()\n"
   ]
  },
  {
   "attachments": {},
   "cell_type": "markdown",
   "metadata": {},
   "source": [
    "#### 2. using super()"
   ]
  },
  {
   "cell_type": "code",
   "execution_count": 28,
   "metadata": {},
   "outputs": [
    {
     "name": "stdout",
     "output_type": "stream",
     "text": [
      "10 20\n"
     ]
    }
   ],
   "source": [
    "# Python example to show that base\n",
    "# class members can be accessed in\n",
    "# derived class using super()\n",
    "class Base(object):\n",
    "\n",
    "\t# Constructor\n",
    "\tdef __init__(self, x):\n",
    "\t\tself.x = x\t\n",
    "\n",
    "class Derived(Base):\n",
    "\n",
    "\t# Constructor\n",
    "\tdef __init__(self, x, y):\n",
    "\t\t\n",
    "\t\t''' In Python 3.x, \"super().__init__(name)\"\n",
    "\t\t\talso works'''\n",
    "\t\tsuper(Derived, self).__init__(x)\n",
    "\t\tself.y = y\n",
    "\n",
    "\tdef printXY(self):\n",
    "\t    # Note that Base.x won't work here\n",
    "\t    # because super() is used in constructor\n",
    "\t    print(self.x, self.y)\n",
    "\n",
    "\t\n",
    "\n",
    "# Driver Code\n",
    "d = Derived(10, 20)\n",
    "d.printXY()\n"
   ]
  },
  {
   "attachments": {},
   "cell_type": "markdown",
   "metadata": {},
   "source": [
    "## Changing Class Members in Python\n"
   ]
  },
  {
   "cell_type": "code",
   "execution_count": 29,
   "metadata": {},
   "outputs": [
    {
     "name": "stdout",
     "output_type": "stream",
     "text": [
      "Initially\n",
      "a.stream = cse\n",
      "b.stream = cse\n",
      "\n",
      "After changing a.stream\n",
      "a.stream = ece\n",
      "b.stream = cse\n"
     ]
    }
   ],
   "source": [
    "# Class for Computer Science Student\n",
    "class CSStudent:\n",
    "\tstream = 'cse'\t # Class Variable\n",
    "\tdef __init__(self, name, roll):\n",
    "\t\tself.name = name\n",
    "\t\tself.roll = roll\n",
    "\n",
    "# Driver program to test the functionality\n",
    "# Creating objects of CSStudent class\n",
    "a = CSStudent(\"Geek\", 1)\n",
    "b = CSStudent(\"Nerd\", 2)\n",
    "\n",
    "print (\"Initially\")\n",
    "print (\"a.stream =\", a.stream )\n",
    "print (\"b.stream =\", b.stream )\n",
    "\n",
    "# This thing doesn't change class(static) variable\n",
    "# Instead creates instance variable for the object\n",
    "# 'a' that shadows class member.\n",
    "a.stream = \"ece\"\n",
    "\n",
    "print (\"\\nAfter changing a.stream\")\n",
    "print (\"a.stream =\", a.stream )\n",
    "print (\"b.stream =\", b.stream )\n"
   ]
  },
  {
   "attachments": {},
   "cell_type": "markdown",
   "metadata": {},
   "source": [
    "We should change class variables using class names only. \n",
    "\n"
   ]
  },
  {
   "cell_type": "code",
   "execution_count": 34,
   "metadata": {},
   "outputs": [
    {
     "name": "stdout",
     "output_type": "stream",
     "text": [
      "Initially\n",
      "a.stream = cse\n",
      "b.stream = cse\n",
      "\n",
      "After changing a.stream\n",
      "a.stream = ece\n",
      "b.stream = ece\n"
     ]
    }
   ],
   "source": [
    "# Program to show how to make changes to the\n",
    "# class variable in Python\n",
    "# Class for Computer Science Student\n",
    "class CSStudent:\n",
    "\tstream = 'cse'\t # Class Variable\n",
    "\tdef __init__(self, name, roll):\n",
    "\t\tself.name = name\n",
    "\t\tself.roll = roll\n",
    "\n",
    "# Driver program to test the functionality\n",
    "# Creating objects of CSStudent class\n",
    "a = CSStudent(\"Geek\", 1)\n",
    "b = CSStudent(\"Nerd\", 2)\n",
    "\n",
    "print (\"Initially\")\n",
    "print (\"a.stream =\", a.stream )\n",
    "print (\"b.stream =\", b.stream )\n",
    "\n",
    "# Correct way to change the value of class variable\n",
    "CSStudent.stream = \"ece\"\n",
    "\n",
    "print (\"\\nAfter changing a.stream\")\n",
    "print (\"a.stream =\", a.stream )\n",
    "print (\"b.stream =\", b.stream )\n"
   ]
  },
  {
   "attachments": {},
   "cell_type": "markdown",
   "metadata": {},
   "source": [
    "## Memory ALlocation Techniques in Python"
   ]
  },
  {
   "attachments": {},
   "cell_type": "markdown",
   "metadata": {},
   "source": [
    "Python’s memory allocation and deallocation method is automatic.\n",
    "The user does not have to preallocate or deallocate memory similar to using dynamic memory allocation in languages such as C or C++. \n",
    "\n",
    "Python uses two strategies for memory allocation: \n",
    "\n",
    "    1. Reference counting\n",
    "    2. Garbage collection"
   ]
  },
  {
   "attachments": {},
   "cell_type": "markdown",
   "metadata": {},
   "source": [
    "### 1. Reference counting"
   ]
  },
  {
   "attachments": {},
   "cell_type": "markdown",
   "metadata": {},
   "source": [
    "Python and various other programming languages employ reference counting, a memory management approach,\n",
    " to automatically manage memory by tracking how many times an object is referenced. \n",
    " \n",
    "A reference count, or the number of references that point to an object, is a property of each object in the Python language. \n",
    "\n",
    "=> When an object’s reference count reaches zero, it becomes un-referenceable and its memory can be freed up."
   ]
  },
  {
   "attachments": {},
   "cell_type": "markdown",
   "metadata": {},
   "source": [
    "Example 1: Simple Reference Counting\n",
    "\n"
   ]
  },
  {
   "cell_type": "code",
   "execution_count": 35,
   "metadata": {},
   "outputs": [],
   "source": [
    "# Create an object\n",
    "x = [1, 2, 3]\n",
    "\n",
    "# Increment reference count\n",
    "y = x\n",
    "\n",
    "# Decrement reference count\n",
    "y = None\n"
   ]
  },
  {
   "attachments": {},
   "cell_type": "markdown",
   "metadata": {},
   "source": [
    "Example 2: Reference Counting with Cyclic Reference\n",
    "\n"
   ]
  },
  {
   "cell_type": "code",
   "execution_count": 36,
   "metadata": {},
   "outputs": [],
   "source": [
    "# Create two objects that refer to each other\n",
    "x = [1, 2, 3]\n",
    "y = [4, 5, 6]\n",
    "x.append(y)\n",
    "y.append(x)\n"
   ]
  },
  {
   "attachments": {},
   "cell_type": "markdown",
   "metadata": {},
   "source": [
    "Example 3: Using the sys.getrefcount() function\n",
    "\n"
   ]
  },
  {
   "cell_type": "code",
   "execution_count": 37,
   "metadata": {},
   "outputs": [
    {
     "name": "stdout",
     "output_type": "stream",
     "text": [
      "Reference count of x: 2\n"
     ]
    }
   ],
   "source": [
    "import sys\n",
    "\n",
    "# Create an object\n",
    "x = [1, 2, 3]\n",
    "\n",
    "# Get reference count\n",
    "ref_count = sys.getrefcount(x)\n",
    "\n",
    "print(\"Reference count of x:\", ref_count)\n"
   ]
  },
  {
   "attachments": {},
   "cell_type": "markdown",
   "metadata": {},
   "source": [
    "### 2. Garbage Collection"
   ]
  },
  {
   "attachments": {},
   "cell_type": "markdown",
   "metadata": {},
   "source": [
    "Garbage collection is a memory management technique used in programming languages to automatically reclaim memory that is no longer accessible or in use by the application. It helps prevent memory leaks, optimize memory usage, and ensure efficient memory allocation for the program."
   ]
  },
  {
   "attachments": {},
   "cell_type": "markdown",
   "metadata": {},
   "source": [
    "#### 1. Automatic Garbage Collection of Cycles\n"
   ]
  },
  {
   "cell_type": "code",
   "execution_count": 38,
   "metadata": {},
   "outputs": [
    {
     "name": "stdout",
     "output_type": "stream",
     "text": [
      "Garbage collection thresholds: (700, 10, 10)\n"
     ]
    }
   ],
   "source": [
    "# loading gc\n",
    "import gc\n",
    "\n",
    "# get the current collection\n",
    "# thresholds as a tuple\n",
    "print(\"Garbage collection thresholds:\",\n",
    "\t\t\t\t\tgc.get_threshold())\n",
    "\n",
    "\n",
    "# Here, the default threshold on the above system is 700. This means when the number of allocations vs. the number of deallocations is greater than 700 the automatic garbage collector will run. Thus any portion of your code which frees up large blocks of memory is a good candidate for running manual garbage collection. "
   ]
  },
  {
   "attachments": {},
   "cell_type": "markdown",
   "metadata": {},
   "source": [
    "#### 2. Manual Garbage Collection\n"
   ]
  },
  {
   "attachments": {},
   "cell_type": "markdown",
   "metadata": {},
   "source": [
    "Invoking the garbage collector manually during the execution of a program can be a good idea for how to handle memory being consumed by reference cycles. "
   ]
  },
  {
   "cell_type": "code",
   "execution_count": 39,
   "metadata": {},
   "outputs": [
    {
     "name": "stdout",
     "output_type": "stream",
     "text": [
      "Garbage collector: collected 645 objects.\n"
     ]
    }
   ],
   "source": [
    "# Importing gc module\n",
    "import gc\n",
    "\n",
    "# Returns the number of\n",
    "# objects it has collected\n",
    "# and deallocated\n",
    "collected = gc.collect()\n",
    "\n",
    "# Prints Garbage collector\n",
    "# as 0 object\n",
    "print(\"Garbage collector: collected\",\n",
    "\t\t\"%d objects.\" % collected)\n"
   ]
  },
  {
   "cell_type": "code",
   "execution_count": 40,
   "metadata": {},
   "outputs": [
    {
     "name": "stdout",
     "output_type": "stream",
     "text": [
      "Garbage collector: collected 0 objects.\n",
      "Creating cycles...\n",
      "{1: {...}}\n",
      "{2: {...}}\n",
      "{3: {...}}\n",
      "{4: {...}}\n",
      "{5: {...}}\n",
      "{6: {...}}\n",
      "{7: {...}}\n",
      "{8: {...}}\n",
      "{9: {...}}\n",
      "{10: {...}}\n",
      "Garbage collector: collected 10 objects.\n"
     ]
    }
   ],
   "source": [
    "#example\n",
    "import gc\n",
    "i = 0\n",
    "\n",
    "# create a cycle and on each iteration x as a dictionary\n",
    "# assigned to 1\n",
    "def create_cycle():\n",
    "\tx = { }\n",
    "\tx[i+1] = x\n",
    "\tprint(x)\n",
    "\n",
    "# lists are cleared whenever a full collection or\n",
    "# collection of the highest generation (2) is run\n",
    "collected = gc.collect() # or gc.collect(2)\n",
    "print(\"Garbage collector: collected %d objects.\" % (collected))\n",
    "\n",
    "print(\"Creating cycles...\")\n",
    "for i in range(10):\n",
    "\tcreate_cycle()\n",
    "\n",
    "collected = gc.collect()\n",
    "\n",
    "print(\"Garbage collector: collected %d objects.\" % (collected))\n"
   ]
  },
  {
   "attachments": {},
   "cell_type": "markdown",
   "metadata": {},
   "source": [
    "### Forced Garbage Collection\n"
   ]
  },
  {
   "cell_type": "code",
   "execution_count": 44,
   "metadata": {},
   "outputs": [
    {
     "name": "stdout",
     "output_type": "stream",
     "text": [
      "Garbage collector: collected 0 objects.\n"
     ]
    }
   ],
   "source": [
    "import gc\n",
    "\n",
    "# Create some objects\n",
    "obj1 = [1, 2, 3]\n",
    "obj2 = {\"a\": 1, \"b\": 2}\n",
    "obj3 = \"Hello, world!\"\n",
    "\n",
    "# Delete references to objects\n",
    "del obj1\n",
    "del obj2\n",
    "del obj3\n",
    "\n",
    "# Force a garbage collection\n",
    "collected = gc.collect()\n",
    "print(\"Garbage collector: collected %d objects.\" % (collected))\n",
    "\n"
   ]
  },
  {
   "attachments": {},
   "cell_type": "markdown",
   "metadata": {},
   "source": [
    "Advantages and Disadvantages \n",
    "\n",
    "Let’s explore some of the benefits and drawbacks of Python’s garbage collection.\n",
    "\n",
    "Advantages :\n",
    "\n",
    "    1. Automated memory management: \n",
    "    2. Memory management made easier:\n",
    "    3. Efficient memory cleanup: \n",
    "    4. Customizable settings: \n",
    "\n",
    "Disadvantages :\n",
    "\n",
    "    1. Impact on performance: \n",
    "    2. The difficulty of memory management: \n",
    "    3. Limited control over memory management: \n",
    "    4. Bug potential: \n",
    "    "
   ]
  },
  {
   "cell_type": "code",
   "execution_count": null,
   "metadata": {},
   "outputs": [],
   "source": []
  }
 ],
 "metadata": {
  "kernelspec": {
   "display_name": "Python 3",
   "language": "python",
   "name": "python3"
  },
  "language_info": {
   "codemirror_mode": {
    "name": "ipython",
    "version": 3
   },
   "file_extension": ".py",
   "mimetype": "text/x-python",
   "name": "python",
   "nbconvert_exporter": "python",
   "pygments_lexer": "ipython3",
   "version": "3.10.6"
  },
  "orig_nbformat": 4
 },
 "nbformat": 4,
 "nbformat_minor": 2
}
