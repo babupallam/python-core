{
 "cells": [
  {
   "cell_type": "code",
   "execution_count": null,
   "metadata": {},
   "outputs": [],
   "source": [
    "num1 = int(input(\"Enter num1: \"))\n",
    "num2 = int(input(\"Enter num2: \"))\n",
    "  \n",
    "num3 = num1 * num2\n",
    "print(\"Product is: \", num3)"
   ]
  },
  {
   "cell_type": "code",
   "execution_count": null,
   "metadata": {},
   "outputs": [],
   "source": [
    "import keyword\n",
    " \n",
    "# printing all keywords at once using \"kwlist()\"\n",
    "print(\"The list of keywords is : \")\n",
    "print(keyword.kwlist)\n",
    "# output:\n",
    "# ['False', 'None', 'True', 'and', 'as', 'assert', 'async', \n",
    "#  'await', 'break', 'class', 'continue', 'def', 'del', 'elif', \n",
    "#  'else', 'except', 'finally', 'for', 'from', 'global', 'if', \n",
    "#  'import', 'in', 'is', 'lambda', 'nonlocal', 'not', 'or', 'pass', \n",
    "#  'raise', 'return', 'try', 'while', 'with', 'yield']"
   ]
  },
  {
   "cell_type": "code",
   "execution_count": null,
   "metadata": {},
   "outputs": [],
   "source": [
    "print(False == 0)\n",
    "print(True == 1)\n",
    "\n",
    "print(True + True + True)\n",
    "print(True + False + False)\n",
    "\n",
    "print(None == 0)\n",
    "print(None == [])\n"
   ]
  },
  {
   "cell_type": "code",
   "execution_count": null,
   "metadata": {},
   "outputs": [],
   "source": [
    "import time\n",
    "\n",
    "count_seconds = 3\n",
    "for i in reversed(range(count_seconds + 1)):\n",
    "\tif i > 0:\n",
    "\t\tprint(i, end='>>>')\n",
    "\t\ttime.sleep(1)\n",
    "\telse:\n",
    "\t\tprint('Start')\n"
   ]
  },
  {
   "cell_type": "code",
   "execution_count": null,
   "metadata": {},
   "outputs": [],
   "source": [
    "a=12\n",
    "b=12\n",
    "c=2022\n",
    "print(a,b,c,sep=\"-\")"
   ]
  },
  {
   "cell_type": "code",
   "execution_count": null,
   "metadata": {},
   "outputs": [],
   "source": [
    "# Python 3.x program showing\n",
    "# how to print data on\n",
    "# a screen\n",
    "\n",
    "# One object is passed\n",
    "print(\"GeeksForGeeks\")\n",
    "\n",
    "x = 5\n",
    "# Two objects are passed\n",
    "print(\"x =\", x)\n",
    "\n",
    "# code for disabling the softspace feature\n",
    "print('G', 'F', 'G', sep='')\n",
    "\n",
    "# using end argument\n",
    "print(\"Python\", end='@')\n",
    "print(\"GeeksforGeeks\")\n"
   ]
  },
  {
   "cell_type": "code",
   "execution_count": null,
   "metadata": {},
   "outputs": [],
   "source": [
    "# Python 3 code for printing\n",
    "# on the same line printing\n",
    "# geeks and geeksforgeeks\n",
    "# in the same line\n",
    "\n",
    "print(\"geeks\", end =\" \")\n",
    "print(\"geeksforgeeks\")\n",
    "\n",
    "# array\n",
    "a = [1, 2, 3, 4]\n",
    "\n",
    "# printing a element in same\n",
    "# line\n",
    "for i in range(4):\n",
    "\tprint(a[i], end =\" \")\n",
    "\n",
    "# output:\n",
    "#     geeks geeksforgeeks\n",
    "#     1 2 3 4 "
   ]
  },
  {
   "cell_type": "code",
   "execution_count": null,
   "metadata": {},
   "outputs": [],
   "source": [
    "print('G','F', sep='', end='')\n",
    "print('G')\n",
    "#\\n provides new line after printing the year\n",
    "print('09','12','2016', sep='-', end='\\n')\n",
    "\n",
    "print('Red','Green','Blue', sep=',', end='@')\n",
    "print('geeksforgeeks')\n"
   ]
  },
  {
   "cell_type": "code",
   "execution_count": null,
   "metadata": {},
   "outputs": [],
   "source": [
    "# Python program showing\n",
    "# use of format() method\n",
    "\n",
    "print('I love {} for \"{}!\"'.format('Geeks', 'Geeks'))\n",
    "print('{0} and {1}'.format('Geeks', 'Portal'))\n",
    "print('{1} and {0}'.format('Geeks', 'Portal'))\n",
    "print(f\"I love {'Geeks'} for \\\"{'Geeks'}!\\\"\")\n",
    "print(f\"{'Geeks'} and {'Portal'}\")\n"
   ]
  },
  {
   "cell_type": "code",
   "execution_count": null,
   "metadata": {},
   "outputs": [],
   "source": [
    "# Python program showing\n",
    "# a use of format() method\n",
    "\n",
    "# combining positional and keyword arguments\n",
    "print('Number one portal is {0}, {1}, and {other}.'.format('Geeks', 'For', other ='Geeks'))\n",
    "# using format() method with number\n",
    "print(\"Geeks :{0:2d}, Portal :{1:8.2f}\".format(12, 00.546))\n",
    "print(\"Second argument: {1:3d}, first one: {0:7.2f}\".format(47.42, 11))\n",
    "print(\"Geeks: {a:5d}, Portal: {p:8.2f}\".format(a = 453, p = 59.058))\n"
   ]
  },
  {
   "cell_type": "code",
   "execution_count": null,
   "metadata": {},
   "outputs": [],
   "source": [
    "# Ternary Operator\n",
    "#Syntax\n",
    "        # [on_true] if [expression] else [on_false] \n",
    "        # expression : conditional_expression | lambda_expr\n",
    "\n",
    "a=5\n",
    "b=3\n",
    "print(a if (a<b) else b)"
   ]
  },
  {
   "cell_type": "code",
   "execution_count": null,
   "metadata": {},
   "outputs": [],
   "source": [
    "#minimum of two\n",
    "a, b = 10, 20\n",
    "# using tuple\n",
    "print( (b, a) [a < b] )#10\n",
    "#using dictionary\n",
    "print({True:a, False:b}[a<b])#10\n",
    "# using lambda\n",
    "print((lambda: b, lambda: a)[a < b]())#10\n",
    "\n",
    "# using conditional operator\n",
    "print(a<b and a or b)#10 -- doesnt work if a=0\n"
   ]
  },
  {
   "cell_type": "code",
   "execution_count": null,
   "metadata": {},
   "outputs": [],
   "source": [
    "# Python program to demonstrate nested ternary operator\n",
    "a, b = 10, 20\n",
    "\n",
    "print (\"Both a and b are equal\" if a == b else \"a is greater than b\"\n",
    "\t\tif a > b else \"b is greater than a\")\n"
   ]
  },
  {
   "cell_type": "code",
   "execution_count": null,
   "metadata": {},
   "outputs": [],
   "source": [
    "#division Operator\n",
    "# ===================\n",
    "# two types\n",
    "    # 1. float division /\n",
    "    # 2. integer division // -- also known as floor division\n",
    "            # The quotient returned by this operator is dependent on the argument being passed. \n",
    "\n",
    "# with integers\n",
    "print(5/2)#2.5\n",
    "print(-5/2)#2.5\n",
    "\n",
    "print(5//2)#2\n",
    "print(-5//2)#3\n",
    "\n",
    "# \"//\" for both integers and floating points\n",
    "print (5//2)#2\n",
    "print (-5//2)#-3\n",
    "print (5.0//2)#2.0\n",
    "print (-5.0//2)#-3.0\n",
    "\n",
    "\n",
    "# print(True/True)/#error --typeerror"
   ]
  },
  {
   "attachments": {},
   "cell_type": "markdown",
   "metadata": {},
   "source": [
    "# Operator Overloading in Python\n"
   ]
  },
  {
   "cell_type": "code",
   "execution_count": null,
   "metadata": {},
   "outputs": [],
   "source": [
    "\n",
    "# Python program to show use of\n",
    "\n",
    "# + operator for different purposes.\n",
    "#+ for addition of numebrs\n",
    "print(1 + 2)#3\n",
    "# concatenate two strings\n",
    "print(\"Geeks\"+\"For\")#GeeksFor\n",
    "\n",
    "# Product two numbers\n",
    "print(3 * 4)#12\n",
    "# Repeat the String\n",
    "print(\"Geeks\"*4)#GeeksGeeksGeeksGeeks\n"
   ]
  },
  {
   "cell_type": "code",
   "execution_count": null,
   "metadata": {},
   "outputs": [],
   "source": [
    "#with class\n",
    "#  Python Program illustrate how\n",
    "# to overload an binary + operator\n",
    "# And how it actually works\n",
    "\n",
    "class A:\n",
    "    def __init__(self,a):\n",
    "        self.a =a\n",
    "    #adding two objects\n",
    "    def __add__(self, x):\n",
    "        return self.a+x.a\n",
    "    \n",
    "\n",
    "ob1 =A(1);\n",
    "ob2 =A(2);\n",
    "\n",
    "ob3=A(\"babu\")\n",
    "ob4=A(\"pallam\")\n",
    "\n",
    "print(ob1+ob2)#3\n",
    "print(ob3+ob4)#babupallam\n",
    "\n",
    "# Actual working when Binary Operator is used.\n",
    "print(A.__add__(ob1 , ob2))#3\n",
    "print(A.__add__(ob3,ob4))#babupallam\n",
    "#And can also be Understand as :\n",
    "print(ob1.__add__(ob2))#3\n",
    "print(ob3.__add__(ob4))#babupallam\n",
    "\n",
    "# ob:  For example, when we use + operator, \n",
    "#       the magic method __add__ is automatically invoked \n",
    "#       in which the operation for + operator is defined.\n",
    "\n",
    "#ob:   Python __add__() function is one of the magic methods in Python\n",
    "#    that returns a new object(third) i.e. the addition of the other \n",
    "#   two objects. It implements the addition operator “+” in Python."
   ]
  },
  {
   "cell_type": "code",
   "execution_count": null,
   "metadata": {},
   "outputs": [],
   "source": [
    "# Python Program to perform addition\n",
    "# of two complex numbers using binary\n",
    "# + operator overloading.\n",
    "\n",
    "class complex:\n",
    "\tdef __init__(self, a, b):\n",
    "\t\tself.a = a\n",
    "\t\tself.b = b\n",
    "\n",
    "\t# adding two objects\n",
    "\tdef __add__(self, other):\n",
    "\t\treturn self.a + other.a, self.b + other.b\n",
    "\n",
    "Ob1 = complex(1, 2)\n",
    "Ob2 = complex(2, 3)\n",
    "Ob3 = Ob1 + Ob2\n",
    "print(Ob3)\n"
   ]
  },
  {
   "cell_type": "code",
   "execution_count": null,
   "metadata": {},
   "outputs": [],
   "source": [
    "# Python program to overload equality\n",
    "# and less than operators\n",
    "\n",
    "class A:\n",
    "\tdef __init__(self, a):\n",
    "\t\tself.a = a\n",
    "\tdef __lt__(self, other):\n",
    "\t\tif(self.a<other.a):\n",
    "\t\t\treturn \"ob1 is lessthan ob2\"\n",
    "\t\telse:\n",
    "\t\t\treturn \"ob2 is less than ob1\"\n",
    "\tdef __eq__(self, other):\n",
    "\t\tif(self.a == other.a):\n",
    "\t\t\treturn \"Both are equal\"\n",
    "\t\telse:\n",
    "\t\t\treturn \"Not equal\"\n",
    "\tdef __gt__(self, other):\n",
    "\t\tif(self.a>other.a):\n",
    "\t\t\treturn True\n",
    "\t\telse:\n",
    "\t\t\treturn False\n",
    "\t\n",
    "\t\t\t\t\n",
    "ob1 = A(2)\n",
    "ob2 = A(3)\n",
    "print(ob1 < ob2)\n",
    "\n",
    "ob3 = A(4)\n",
    "ob4 = A(4)\n",
    "print(ob1 == ob2)\n",
    "\n",
    "ob1 = A(2)\n",
    "ob2 = A(3)\n",
    "if(ob1>ob2):\n",
    "    print(\"ob1 is greater than ob2\")\n",
    "else:\n",
    "    print(\"ob2 is greater than ob1\")"
   ]
  },
  {
   "attachments": {},
   "cell_type": "markdown",
   "metadata": {},
   "source": [
    "# Any All in Python\n"
   ]
  },
  {
   "cell_type": "code",
   "execution_count": null,
   "metadata": {},
   "outputs": [],
   "source": [
    "print (any([False, False, False, False]))#False\n",
    "print (any([False, True, False, False]))#True\n",
    "print (any([True, False, False, False]))#True\n",
    "\n",
    "print (all([True, True, True, True]))#True\n",
    "print (all([False, True, True, False]))#False\n",
    "print (all([False, False, False]))#False\n",
    "\n"
   ]
  },
  {
   "cell_type": "code",
   "execution_count": null,
   "metadata": {},
   "outputs": [],
   "source": [
    "# This code explains how can we\n",
    "# use 'any' function on list\n",
    "list1 = []\n",
    "list2 = []\n",
    "\n",
    "# Index ranges from 1 to 10 to multiply\n",
    "for i in range(1,11):\n",
    "\tlist1.append(4*i)\n",
    "\n",
    "# Index to access the list2 is from 0 to 9\n",
    "for i in range(0,10):\n",
    "\tlist2.append(list1[i]%5==0)\n",
    "\n",
    "print('See whether at least one number is divisible by 5 in list 1=>')\n",
    "print(any(list2))\n"
   ]
  },
  {
   "cell_type": "code",
   "execution_count": 35,
   "metadata": {},
   "outputs": [
    {
     "name": "stdout",
     "output_type": "stream",
     "text": [
      "See whether all numbers in list1 are odd =>\n",
      "True\n"
     ]
    }
   ],
   "source": [
    "# Illustration of 'all' function in python 3\n",
    "\n",
    "# Take two lists\n",
    "list1=[]\n",
    "list2=[]\n",
    "\n",
    "# All numbers in list1 are in form: 4*i-3\n",
    "for i in range(1,21):\n",
    "\tlist1.append(4*i-3)\n",
    "\n",
    "# list2 stores info of odd numbers in list1\n",
    "for i in range(0,20):\n",
    "\tlist2.append(list1[i]%2==1)\n",
    "\n",
    "print('See whether all numbers in list1 are odd =>')\n",
    "print(all(list2))\n"
   ]
  },
  {
   "cell_type": "code",
   "execution_count": null,
   "metadata": {},
   "outputs": [],
   "source": []
  }
 ],
 "metadata": {
  "kernelspec": {
   "display_name": "Python 3",
   "language": "python",
   "name": "python3"
  },
  "language_info": {
   "codemirror_mode": {
    "name": "ipython",
    "version": 3
   },
   "file_extension": ".py",
   "mimetype": "text/x-python",
   "name": "python",
   "nbconvert_exporter": "python",
   "pygments_lexer": "ipython3",
   "version": "3.10.6"
  },
  "orig_nbformat": 4
 },
 "nbformat": 4,
 "nbformat_minor": 2
}
