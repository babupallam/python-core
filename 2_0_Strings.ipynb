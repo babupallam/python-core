{
 "cells": [
  {
   "attachments": {},
   "cell_type": "markdown",
   "metadata": {},
   "source": [
    "# Strings"
   ]
  },
  {
   "cell_type": "code",
   "execution_count": 4,
   "metadata": {},
   "outputs": [
    {
     "name": "stdout",
     "output_type": "stream",
     "text": [
      "b\n",
      "a\n",
      "b\n",
      "a\n",
      "b\n",
      "u\n",
      " \n",
      "p\n",
      "a\n",
      "l\n",
      "l\n",
      "a\n",
      "m\n"
     ]
    }
   ],
   "source": [
    "#string as arrays\n",
    "\n",
    "name=\"babu pallam\"\n",
    "print(name[0])#b\n",
    "print(name[1])#a\n",
    "\n",
    "for x in name:\n",
    "    print(x)\n",
    "# b\n",
    "# a\n",
    "# b\n",
    "# u\n",
    "# ,\n",
    "# p\n",
    "# a\n",
    "# l\n",
    "# l\n",
    "# a\n",
    "# m\n",
    "# b\n"
   ]
  },
  {
   "cell_type": "code",
   "execution_count": 5,
   "metadata": {},
   "outputs": [
    {
     "name": "stdout",
     "output_type": "stream",
     "text": [
      "False\n",
      "True\n",
      "True\n",
      "False\n"
     ]
    }
   ],
   "source": [
    "# check in string\n",
    "print(\"key\" in \"Keyboard\")#false\n",
    "print(\"key\" in \"keyboard\")#true\n",
    "print(\"babu\" not in \"keyboard\")#true\n",
    "print(\"key\" not in \"keyboard\")#false"
   ]
  },
  {
   "cell_type": "code",
   "execution_count": 6,
   "metadata": {},
   "outputs": [
    {
     "name": "stdout",
     "output_type": "stream",
     "text": [
      "bu \n",
      "babu\n",
      "pallam\n",
      "all\n"
     ]
    }
   ],
   "source": [
    "#slicing\n",
    "b=\"babu pallam\"\n",
    "print(b[2:5])#bu\n",
    "print(b[:4])#babu slice form beginning\n",
    "print(b[5:])#pallam slice to the end\n",
    "print(b[-5:-2])#all\n",
    "# print(\"banana\"[0,2])#error since banana is not stored, so index can not be accessed\n"
   ]
  },
  {
   "cell_type": "code",
   "execution_count": 7,
   "metadata": {},
   "outputs": [
    {
     "name": "stdout",
     "output_type": "stream",
     "text": [
      "BABU\n",
      "babu\n",
      "babu\n",
      "HaHu\n",
      "['babu', 'pallam']\n",
      "Babu pallam\n",
      "babu\n",
      "2\n",
      "True\n",
      "False\n"
     ]
    }
   ],
   "source": [
    "\n",
    "print(\"babu\".upper())#BABU\n",
    "print(\"BABU\".lower())#babu\n",
    "print(\"   babu  \".strip())#babu\n",
    "print(\"babu\".replace(\"b\", \"H\"))#HaHu\n",
    "print(\"babu pallam\".split(' '))#['babu', 'pallam']\n",
    "print(\"babu pallam\".capitalize())#Babu pallam -- capitalize first letter\n",
    "print(\"BaBu\".casefold())#babu   --Converts string into lower case\n",
    "print(\"babu\".count(\"b\"))#2\n",
    "print(\"babu pallam\".endswith(\"am\"))#True\n",
    "print(\"babu pallam\".startswith(\"am\"))#False\n"
   ]
  },
  {
   "cell_type": "code",
   "execution_count": 8,
   "metadata": {},
   "outputs": [
    {
     "name": "stdout",
     "output_type": "stream",
     "text": [
      "3\n",
      "1\n",
      "0\n",
      "2\n"
     ]
    }
   ],
   "source": [
    "\n",
    "#find\n",
    "print(\"babu\".find(\"u\"))#3\n",
    "print(\"babu\".find(\"ab\"))#1\n",
    "print(\"babu\".find(\"b\"))#0 -- first index\n",
    "print(\"babu\".rfind(\"b\"))#2 -- last index\n"
   ]
  },
  {
   "cell_type": "code",
   "execution_count": 9,
   "metadata": {},
   "outputs": [
    {
     "name": "stdout",
     "output_type": "stream",
     "text": [
      "0\n",
      "3\n",
      "1\n",
      "length of the string:  4\n",
      "length of the string:  4\n",
      "babupallam\n",
      "Babu Pallam\n"
     ]
    }
   ],
   "source": [
    "\n",
    "#substring\n",
    "# print(\"babu\".index(6)) #error\n",
    "print(\"babu\".index(\"b\")) #0\n",
    "print(\"babu\".index(\"u\")) #3\n",
    "# print(\"babu\".index(\"p\")) #error - substring not found\n",
    "print(\"babu\".index(\"ab\")) #1\n",
    "\n",
    "#ob: find and index are both same\n",
    "\n",
    "print(\"length of the string: \", \"babu\".__len__())#'length od the string: ', 4\n",
    "print(\"length of the string: \", len(\"babu\"))#'length od the string: ', 4\n",
    "#concat\n",
    "print(\"babu\"+\"pallam\")#babupallam\n",
    "\n",
    "print(\"babu pallam\".title())#Babu Pallam (first char of each word to capital)\n"
   ]
  },
  {
   "cell_type": "code",
   "execution_count": 10,
   "metadata": {},
   "outputs": [
    {
     "name": "stdout",
     "output_type": "stream",
     "text": [
      "My name is John, and I am 36\n",
      "I want 3 pieces of item 567 for 49.95 dollars.\n"
     ]
    }
   ],
   "source": [
    "\n",
    "# Use the format() method to insert numbers into strings:\n",
    "age = 36\n",
    "txt = \"My name is John, and I am {}\"\n",
    "print(txt.format(age))#My name is John, and I am 36\n",
    "\n",
    "quantity = 3\n",
    "itemno = 567\n",
    "price = 49.95\n",
    "myorder = \"I want {} pieces of item {} for {} dollars.\"\n",
    "print(myorder.format(quantity, itemno, price))#I want 3 pieces of item 567 for 49.95 dollars.\n"
   ]
  },
  {
   "cell_type": "code",
   "execution_count": 11,
   "metadata": {},
   "outputs": [],
   "source": [
    "\n",
    "#============================================\n",
    "# Python - Escape Characters\n",
    "#To insert characters that are illegal in a string, use an escape character.\n",
    "# it is done by using backslash\n",
    "\n",
    "# \\'\tSingle Quote\t\n",
    "# \\\\\tBackslash\t\n",
    "# \\n\tNew Line\t\n",
    "# \\r\tCarriage Return\t\n",
    "# \\t\tTab\t\n",
    "# \\b\tBackspace\t\n",
    "# \\f\tForm Feed\t\n",
    "# \\ooo\tOctal value\t\n",
    "# \\xhh\tHex value\n",
    "#============================================\n"
   ]
  },
  {
   "cell_type": "code",
   "execution_count": 12,
   "metadata": {},
   "outputs": [
    {
     "name": "stdout",
     "output_type": "stream",
     "text": [
      "<reversed object at 0x7f73ab0fae30>\n",
      "ubab\n"
     ]
    }
   ],
   "source": [
    "#Reversing a string\n",
    "str=\"babu\"\n",
    "print(reversed(str))#<reversed object at 0x7fa5dd186d70>\n",
    "print(\"\".join(reversed(str)))#ubab"
   ]
  },
  {
   "cell_type": "code",
   "execution_count": 14,
   "metadata": {},
   "outputs": [
    {
     "name": "stdout",
     "output_type": "stream",
     "text": [
      "babu\n"
     ]
    }
   ],
   "source": [
    "# => strings are immutable\n",
    "a = \"babu\"  \n",
    "print(a)\n",
    "# a[2] = 'E'#error"
   ]
  },
  {
   "cell_type": "code",
   "execution_count": null,
   "metadata": {},
   "outputs": [],
   "source": []
  }
 ],
 "metadata": {
  "kernelspec": {
   "display_name": "Python 3",
   "language": "python",
   "name": "python3"
  },
  "language_info": {
   "codemirror_mode": {
    "name": "ipython",
    "version": 3
   },
   "file_extension": ".py",
   "mimetype": "text/x-python",
   "name": "python",
   "nbconvert_exporter": "python",
   "pygments_lexer": "ipython3",
   "version": "3.10.6"
  },
  "orig_nbformat": 4
 },
 "nbformat": 4,
 "nbformat_minor": 2
}
