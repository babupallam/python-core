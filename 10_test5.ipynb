{
 "cells": [
  {
   "attachments": {},
   "cell_type": "markdown",
   "metadata": {},
   "source": [
    "## Python bit functions on int (bit_length, to_bytes and from_bytes)\n"
   ]
  },
  {
   "attachments": {},
   "cell_type": "markdown",
   "metadata": {},
   "source": [
    "1. int.bit_length()\n",
    "\n",
    "Returns the number of bits required to represent an integer in binary, excluding the sign and leading zeros."
   ]
  },
  {
   "cell_type": "code",
   "execution_count": 5,
   "metadata": {},
   "outputs": [
    {
     "name": "stdout",
     "output_type": "stream",
     "text": [
      "3\n",
      "4\n",
      "3\n",
      "3\n"
     ]
    }
   ],
   "source": [
    "num = 7\n",
    "print(num.bit_length())#3 -- 111\n",
    "\n",
    "num = 10\n",
    "print(num.bit_length())#4   -- 1010\n",
    "\n",
    "num = -7\n",
    "print(num.bit_length())#3 \n",
    "print(num.bit_count())#3\n",
    "\n",
    "\n"
   ]
  },
  {
   "attachments": {},
   "cell_type": "markdown",
   "metadata": {},
   "source": [
    "2. int.to_bytes(length, byteorder, *, signed=False)\n",
    "\n",
    "Return an array of bytes representing an integer.If byteorder is “big”, the most significant byte is at the beginning of the byte array. If byteorder is “little”, the most significant byte is at the end of the byte array. The signed argument determines whether two’s complement is used to represent the integer.\n",
    "\n"
   ]
  },
  {
   "cell_type": "code",
   "execution_count": 7,
   "metadata": {},
   "outputs": [
    {
     "name": "stdout",
     "output_type": "stream",
     "text": [
      "b'\\x04\\x00'\n",
      "16\n"
     ]
    }
   ],
   "source": [
    "# Returns byte representation of 1024 in a\n",
    "# big endian machine.\n",
    "print((1024).to_bytes(2, byteorder ='big'))\n",
    "\n",
    "# Returns integer value of '\\x00\\x10' in big endian machine.\n",
    "print(int.from_bytes(b'\\x00\\x10', byteorder ='big'))\n",
    "\n"
   ]
  },
  {
   "cell_type": "code",
   "execution_count": 14,
   "metadata": {},
   "outputs": [
    {
     "name": "stdout",
     "output_type": "stream",
     "text": [
      "0b111\n",
      "-0b111\n",
      "0o12\n",
      "0xa\n"
     ]
    }
   ],
   "source": [
    "print(bin(7))#0b111\n",
    "print(bin(-7))#-0b111\n",
    "\n",
    "print(oct(10))#0o12\n",
    "print(hex(10))#0xa\n"
   ]
  },
  {
   "attachments": {},
   "cell_type": "markdown",
   "metadata": {},
   "source": [
    "### Python | __import__() function\n"
   ]
  },
  {
   "cell_type": "code",
   "execution_count": 15,
   "metadata": {},
   "outputs": [],
   "source": [
    "#Python | __import__() function\n",
    "# Syntax: __import__(name, globals, locals, fromlist, level)\n",
    "\n",
    "# Parameters:\n",
    "# name : Name of the module to be imported\n",
    "# globals and locals : Interpret names\n",
    "# formlist : Objects or submodules to be imported (as a list)\n",
    "# level : Specifies whether to use absolute or relative imports. Default is -1(absolute and relative).\n",
    "\n"
   ]
  },
  {
   "cell_type": "code",
   "execution_count": 17,
   "metadata": {},
   "outputs": [
    {
     "name": "stdout",
     "output_type": "stream",
     "text": [
      "<class 'numpy.ndarray'>\n"
     ]
    }
   ],
   "source": [
    "# importing numpy module\n",
    "# it is equivalent to \"import numpy as np\"\n",
    "np = __import__('numpy', globals(), locals(), [], 0)\n",
    "\n",
    "# array from numpy\n",
    "a = np.array([1, 2, 3])\n",
    "\n",
    "# prints the type\n",
    "print(type(a))\n"
   ]
  },
  {
   "cell_type": "code",
   "execution_count": 18,
   "metadata": {},
   "outputs": [
    {
     "ename": "AttributeError",
     "evalue": "module 'numpy' has no attribute 'complex'.\n`np.complex` was a deprecated alias for the builtin `complex`. To avoid this error in existing code, use `complex` by itself. Doing this will not modify any behavior and is safe. If you specifically wanted the numpy scalar type, use `np.complex128` here.\nThe aliases was originally deprecated in NumPy 1.20; for more details and guidance see the original release note at:\n    https://numpy.org/devdocs/release/1.20.0-notes.html#deprecations",
     "output_type": "error",
     "traceback": [
      "\u001b[0;31m---------------------------------------------------------------------------\u001b[0m",
      "\u001b[0;31mAttributeError\u001b[0m                            Traceback (most recent call last)",
      "Cell \u001b[0;32mIn[18], line 4\u001b[0m\n\u001b[1;32m      1\u001b[0m \u001b[39m# from numpy import complex as comp, array as arr\u001b[39;00m\n\u001b[1;32m      2\u001b[0m np \u001b[39m=\u001b[39m \u001b[39m__import__\u001b[39m(\u001b[39m'\u001b[39m\u001b[39mnumpy\u001b[39m\u001b[39m'\u001b[39m, \u001b[39mglobals\u001b[39m(), \u001b[39mlocals\u001b[39m(), [\u001b[39m'\u001b[39m\u001b[39mcomplex\u001b[39m\u001b[39m'\u001b[39m, \u001b[39m'\u001b[39m\u001b[39marray\u001b[39m\u001b[39m'\u001b[39m], \u001b[39m0\u001b[39m)\n\u001b[0;32m----> 4\u001b[0m comp \u001b[39m=\u001b[39m np\u001b[39m.\u001b[39;49mcomplex\n\u001b[1;32m      5\u001b[0m arr \u001b[39m=\u001b[39m np\u001b[39m.\u001b[39marray\n",
      "File \u001b[0;32m~/.local/lib/python3.10/site-packages/numpy/__init__.py:305\u001b[0m, in \u001b[0;36m__getattr__\u001b[0;34m(attr)\u001b[0m\n\u001b[1;32m    300\u001b[0m     warnings\u001b[39m.\u001b[39mwarn(\n\u001b[1;32m    301\u001b[0m         \u001b[39mf\u001b[39m\u001b[39m\"\u001b[39m\u001b[39mIn the future `np.\u001b[39m\u001b[39m{\u001b[39;00mattr\u001b[39m}\u001b[39;00m\u001b[39m` will be defined as the \u001b[39m\u001b[39m\"\u001b[39m\n\u001b[1;32m    302\u001b[0m         \u001b[39m\"\u001b[39m\u001b[39mcorresponding NumPy scalar.\u001b[39m\u001b[39m\"\u001b[39m, \u001b[39mFutureWarning\u001b[39;00m, stacklevel\u001b[39m=\u001b[39m\u001b[39m2\u001b[39m)\n\u001b[1;32m    304\u001b[0m \u001b[39mif\u001b[39;00m attr \u001b[39min\u001b[39;00m __former_attrs__:\n\u001b[0;32m--> 305\u001b[0m     \u001b[39mraise\u001b[39;00m \u001b[39mAttributeError\u001b[39;00m(__former_attrs__[attr])\n\u001b[1;32m    307\u001b[0m \u001b[39m# Importing Tester requires importing all of UnitTest which is not a\u001b[39;00m\n\u001b[1;32m    308\u001b[0m \u001b[39m# cheap import Since it is mainly used in test suits, we lazy import it\u001b[39;00m\n\u001b[1;32m    309\u001b[0m \u001b[39m# here to save on the order of 10 ms of import time for most users\u001b[39;00m\n\u001b[1;32m    310\u001b[0m \u001b[39m#\u001b[39;00m\n\u001b[1;32m    311\u001b[0m \u001b[39m# The previous way Tester was imported also had a side effect of adding\u001b[39;00m\n\u001b[1;32m    312\u001b[0m \u001b[39m# the full `numpy.testing` namespace\u001b[39;00m\n\u001b[1;32m    313\u001b[0m \u001b[39mif\u001b[39;00m attr \u001b[39m==\u001b[39m \u001b[39m'\u001b[39m\u001b[39mtesting\u001b[39m\u001b[39m'\u001b[39m:\n",
      "\u001b[0;31mAttributeError\u001b[0m: module 'numpy' has no attribute 'complex'.\n`np.complex` was a deprecated alias for the builtin `complex`. To avoid this error in existing code, use `complex` by itself. Doing this will not modify any behavior and is safe. If you specifically wanted the numpy scalar type, use `np.complex128` here.\nThe aliases was originally deprecated in NumPy 1.20; for more details and guidance see the original release note at:\n    https://numpy.org/devdocs/release/1.20.0-notes.html#deprecations"
     ]
    }
   ],
   "source": [
    "# from numpy import complex as comp, array as arr\n",
    "np = __import__('numpy', globals(), locals(), ['complex', 'array'], 0)\n",
    "\n",
    "comp = np.complex\n",
    "arr = np.array\n"
   ]
  },
  {
   "cell_type": "code",
   "execution_count": null,
   "metadata": {},
   "outputs": [],
   "source": [
    "# Application of numpy\n",
    "\n",
    "    #__import__() is not really necessary in everyday Python programming. \n",
    "    # Its direct use is rare. But sometimes, when there is a need of importing \n",
    "    # modules during the runtime, this function comes quite handy."
   ]
  },
  {
   "attachments": {},
   "cell_type": "markdown",
   "metadata": {},
   "source": [
    "### help function in python\n",
    "\n",
    "    The Python help function is used to display the documentation of modules, functions, classes, keywords, etc. \n",
    "\n"
   ]
  },
  {
   "cell_type": "code",
   "execution_count": 19,
   "metadata": {},
   "outputs": [
    {
     "name": "stdout",
     "output_type": "stream",
     "text": [
      "Help on built-in function print in module builtins:\n",
      "\n",
      "print(...)\n",
      "    print(value, ..., sep=' ', end='\\n', file=sys.stdout, flush=False)\n",
      "    \n",
      "    Prints the values to a stream, or to sys.stdout by default.\n",
      "    Optional keyword arguments:\n",
      "    file:  a file-like object (stream); defaults to the current sys.stdout.\n",
      "    sep:   string inserted between values, default a space.\n",
      "    end:   string appended after the last value, default a newline.\n",
      "    flush: whether to forcibly flush the stream.\n",
      "\n"
     ]
    }
   ],
   "source": [
    "help(print)"
   ]
  },
  {
   "cell_type": "code",
   "execution_count": 21,
   "metadata": {},
   "outputs": [
    {
     "name": "stdout",
     "output_type": "stream",
     "text": [
      "Help on class Helper in module __main__:\n",
      "\n",
      "class Helper(builtins.object)\n",
      " |  Methods defined here:\n",
      " |  \n",
      " |  __init__(self)\n",
      " |      The helper class is initialized\n",
      " |  \n",
      " |  print_help(self)\n",
      " |      Returns the help description\n",
      " |  \n",
      " |  ----------------------------------------------------------------------\n",
      " |  Data descriptors defined here:\n",
      " |  \n",
      " |  __dict__\n",
      " |      dictionary for instance variables (if defined)\n",
      " |  \n",
      " |  __weakref__\n",
      " |      list of weak references to the object (if defined)\n",
      "\n",
      "Help on function print_help in module __main__:\n",
      "\n",
      "print_help(self)\n",
      "    Returns the help description\n",
      "\n"
     ]
    }
   ],
   "source": [
    "class Helper:\n",
    "\tdef __init__(self):\n",
    "\t\t'''The helper class is initialized'''\n",
    "\n",
    "\tdef print_help(self):\n",
    "\t\t'''Returns the help description'''\n",
    "\t\tprint('helper description')\n",
    "\n",
    "\n",
    "help(Helper)\n",
    "help(Helper.print_help)\n"
   ]
  },
  {
   "attachments": {},
   "cell_type": "markdown",
   "metadata": {},
   "source": [
    "# decorator functions\n",
    "\n",
    "    In Python, we can define a function inside another function.\n",
    "    In Python, a function can be passed as parameter to another function (a function can also return another function)."
   ]
  },
  {
   "cell_type": "code",
   "execution_count": 23,
   "metadata": {},
   "outputs": [
    {
     "name": "stdout",
     "output_type": "stream",
     "text": [
      "Welcome to GeeksforGeeks\n"
     ]
    }
   ],
   "source": [
    "# A Python program to demonstrate that a function\n",
    "# can be defined inside another function and a\n",
    "# function can be passed as parameter.\n",
    "\n",
    "# Adds a welcome message to the string\n",
    "def messageWithWelcome(str):\n",
    "\n",
    "\t# Nested function\n",
    "\tdef addWelcome():\n",
    "\t\treturn \"Welcome to \"\n",
    "\n",
    "\t# Return concatenation of addWelcome()\n",
    "\t# and str.\n",
    "\treturn addWelcome() + str\n",
    "\n",
    "# To get site name to which welcome is added\n",
    "def site(site_name):\n",
    "\treturn site_name\n",
    "\n",
    "print (messageWithWelcome(site(\"GeeksforGeeks\")))\n"
   ]
  },
  {
   "cell_type": "code",
   "execution_count": 24,
   "metadata": {},
   "outputs": [
    {
     "name": "stdout",
     "output_type": "stream",
     "text": [
      "Welcome to GeeksforGeeks\n"
     ]
    }
   ],
   "source": [
    "# Adds a welcome message to the string\n",
    "# returned by fun(). Takes fun() as\n",
    "# parameter and returns welcome().\n",
    "def decorate_message(fun):\n",
    "\n",
    "\t# Nested function\n",
    "\tdef addWelcome(site_name):\n",
    "\t\treturn \"Welcome to \" + fun(site_name)\n",
    "\n",
    "\t# Decorator returns a function\n",
    "\treturn addWelcome\n",
    "\n",
    "@decorate_message\n",
    "def site(site_name):\n",
    "\treturn site_name;\n",
    "\n",
    "# Driver code\n",
    "\n",
    "# This call is equivalent to call to\n",
    "# decorate_message() with function\n",
    "# site(\"GeeksforGeeks\") as parameter\n",
    "print (site(\"GeeksforGeeks\"))\n"
   ]
  },
  {
   "cell_type": "code",
   "execution_count": 25,
   "metadata": {},
   "outputs": [
    {
     "name": "stdout",
     "output_type": "stream",
     "text": [
      "5\n",
      "3\n"
     ]
    }
   ],
   "source": [
    "# A Python example to demonstrate that\n",
    "# decorators can be useful attach data\n",
    "\n",
    "# A decorator function to attach\n",
    "# data to func\n",
    "def attach_data(func):\n",
    "\tfunc.data = 3\n",
    "\treturn func\n",
    "\n",
    "@attach_data\n",
    "def add (x, y):\n",
    "\treturn x + y\n",
    "\n",
    "# Driver code\n",
    "\n",
    "# This call is equivalent to attach_data()\n",
    "# with add() as parameter\n",
    "print(add(2, 3))\n",
    "\n",
    "print(add.data)\n"
   ]
  },
  {
   "attachments": {},
   "cell_type": "markdown",
   "metadata": {},
   "source": [
    "## Partial Functions in Python\n",
    "\n",
    "Partial functions allow us to fix a certain number of arguments of a function and generate a new function.\n",
    "\n"
   ]
  },
  {
   "cell_type": "code",
   "execution_count": 1,
   "metadata": {},
   "outputs": [
    {
     "name": "stdout",
     "output_type": "stream",
     "text": [
      "3145\n"
     ]
    }
   ],
   "source": [
    "from functools import partial\n",
    "\n",
    "# A normal function\n",
    "def f(a, b, c, x):\n",
    "\treturn 1000*a + 100*b + 10*c + x\n",
    "\n",
    "# A partial function that calls f with\n",
    "# a as 3, b as 1 and c as 4.\n",
    "g = partial(f, 3, 1, 4)\n",
    "\n",
    "# Calling g()\n",
    "print(g(5))\n"
   ]
  },
  {
   "cell_type": "code",
   "execution_count": 2,
   "metadata": {},
   "outputs": [
    {
     "name": "stdout",
     "output_type": "stream",
     "text": [
      "312\n"
     ]
    }
   ],
   "source": [
    "from functools import *\n",
    "\n",
    "# A normal function\n",
    "def add(a, b, c):\n",
    "\treturn 100 * a + 10 * b + c\n",
    "\n",
    "# A partial function with b = 1 and c = 2\n",
    "add_part = partial(add, c = 2, b = 1)\n",
    "\n",
    "# Calling partial function\n",
    "print(add_part(3))\n"
   ]
  },
  {
   "cell_type": "code",
   "execution_count": 7,
   "metadata": {},
   "outputs": [
    {
     "name": "stdout",
     "output_type": "stream",
     "text": [
      "50\n",
      "200\n"
     ]
    }
   ],
   "source": [
    "import functools\n",
    "\n",
    "def multiplyTwoNos(a,b):\n",
    "    return a*b\n",
    "    \n",
    "multiplyBy5 = functools.partial(multiplyTwoNos,5)\n",
    "multiplyBy20 = functools.partial(multiplyTwoNos,20)\n",
    "\n",
    "print(multiplyBy5(10))#50\n",
    "print(multiplyBy20(10))#200\n",
    "\n",
    "# ob:\n",
    "#     Partial functions can be used to derive specialized \n",
    "#     functions from general functions and therefore \n",
    "#     help us to reuse our code."
   ]
  },
  {
   "attachments": {},
   "cell_type": "markdown",
   "metadata": {},
   "source": [
    "## Returning Multiple Values in Python\n"
   ]
  },
  {
   "cell_type": "code",
   "execution_count": 8,
   "metadata": {},
   "outputs": [
    {
     "name": "stdout",
     "output_type": "stream",
     "text": [
      "geeksforgeeks\n",
      "20\n"
     ]
    }
   ],
   "source": [
    "#method 1: return using object\n",
    "\n",
    "# A Python program to return multiple\n",
    "# values from a method using class\n",
    "class Test:\n",
    "\tdef __init__(self):\n",
    "\t\tself.str = \"geeksforgeeks\"\n",
    "\t\tself.x = 20\n",
    "\n",
    "# This function returns an object of Test\n",
    "def fun():\n",
    "\treturn Test()\n",
    "\t\n",
    "# Driver code to test above method\n",
    "t = fun()\n",
    "print(t.str)\n",
    "print(t.x)\n"
   ]
  },
  {
   "cell_type": "code",
   "execution_count": 9,
   "metadata": {},
   "outputs": [
    {
     "name": "stdout",
     "output_type": "stream",
     "text": [
      "geeksforgeeks\n",
      "20\n"
     ]
    }
   ],
   "source": [
    "#method 2- using tuple\n",
    "\n",
    "# A Python program to return multiple\n",
    "# values from a method using tuple\n",
    "\n",
    "# This function returns a tuple\n",
    "def fun():\n",
    "\tstr = \"geeksforgeeks\"\n",
    "\tx = 20\n",
    "\treturn str, x # Return tuple, we could also\n",
    "\t\t\t\t\t# write (str, x)\n",
    "\n",
    "# Driver code to test above method\n",
    "str, x = fun() # Assign returned tuple\n",
    "print(str)\n",
    "print(x)\n"
   ]
  },
  {
   "cell_type": "code",
   "execution_count": 10,
   "metadata": {},
   "outputs": [
    {
     "name": "stdout",
     "output_type": "stream",
     "text": [
      "['geeksforgeeks', 20]\n"
     ]
    }
   ],
   "source": [
    "#method 3 using list\n",
    "# A Python program to return multiple\n",
    "# values from a method using list\n",
    "\n",
    "# This function returns a list\n",
    "def fun():\n",
    "\tstr = \"geeksforgeeks\"\n",
    "\tx = 20\n",
    "\treturn [str, x]\n",
    "\n",
    "# Driver code to test above method\n",
    "list = fun()\n",
    "print(list)\n"
   ]
  },
  {
   "cell_type": "code",
   "execution_count": 11,
   "metadata": {},
   "outputs": [
    {
     "name": "stdout",
     "output_type": "stream",
     "text": [
      "{'str': 'GeeksforGeeks', 'x': 20}\n"
     ]
    }
   ],
   "source": [
    "#method 4 using dict\n",
    "\n",
    "# A Python program to return multiple\n",
    "# values from a method using dictionary\n",
    "\n",
    "# This function returns a dictionary\n",
    "def fun():\n",
    "\td = dict();\n",
    "\td['str'] = \"GeeksforGeeks\"\n",
    "\td['x'] = 20\n",
    "\treturn d\n",
    "\n",
    "# Driver code to test above method\n",
    "d = fun()\n",
    "print(d)\n"
   ]
  },
  {
   "cell_type": "code",
   "execution_count": 12,
   "metadata": {},
   "outputs": [
    {
     "name": "stdout",
     "output_type": "stream",
     "text": [
      "900\n",
      "Book_list(name='Introduction to programming.', perunit_cost=300, quantity_available=3)\n"
     ]
    },
    {
     "data": {
      "text/plain": [
       "Book_list(name='Python programming.', perunit_cost=200, quantity_available=3)"
      ]
     },
     "execution_count": 12,
     "metadata": {},
     "output_type": "execute_result"
    }
   ],
   "source": [
    "#method 5\n",
    "\n",
    "# Using Data Class (Python 3.7+): \n",
    "#     In Python 3.7 and above the Data Class can be used to \n",
    "#     return a class with automatically added unique methods. \n",
    "#     The Data Class module has a decorator and functions for automatically \n",
    "#     adding generated special methods such as __init__() and __repr__() in the user-defined classes. \n",
    "\n",
    "from dataclasses import dataclass\n",
    "\n",
    "@dataclass\n",
    "class Book_list:\n",
    "\tname: str\n",
    "\tperunit_cost: float\n",
    "\tquantity_available: int = 0\n",
    "\t\t\n",
    "\t# function to calculate total cost\t\n",
    "\tdef total_cost(self) -> float:\n",
    "\t\treturn self.perunit_cost * self.quantity_available\n",
    "\t\n",
    "book = Book_list(\"Introduction to programming.\", 300, 3)\n",
    "x = book.total_cost()\n",
    "\n",
    "# print the total cost\n",
    "# of the book\n",
    "print(x)\n",
    "\n",
    "# print book details\n",
    "print(book)\n",
    "\n",
    "# 900\n",
    "Book_list(name='Python programming.',\n",
    "\t\tperunit_cost=200,\n",
    "\t\tquantity_available=3)\n"
   ]
  },
  {
   "cell_type": "code",
   "execution_count": 13,
   "metadata": {},
   "outputs": [
    {
     "name": "stdout",
     "output_type": "stream",
     "text": [
      "42\n",
      "hello\n",
      "[1, 2, 3]\n"
     ]
    }
   ],
   "source": [
    "#method 6-- using yeild\n",
    "\n",
    "def get_values():\n",
    "\tyield 42\n",
    "\tyield 'hello'\n",
    "\tyield [1, 2, 3]\n",
    "\n",
    "# Test code\n",
    "result = get_values()\n",
    "print(next(result)) # should print 42\n",
    "print(next(result)) # should print 'hello'\n",
    "print(next(result)) # should print [1, 2, 3]\n"
   ]
  },
  {
   "cell_type": "code",
   "execution_count": null,
   "metadata": {},
   "outputs": [],
   "source": []
  }
 ],
 "metadata": {
  "kernelspec": {
   "display_name": "Python 3",
   "language": "python",
   "name": "python3"
  },
  "language_info": {
   "codemirror_mode": {
    "name": "ipython",
    "version": 3
   },
   "file_extension": ".py",
   "mimetype": "text/x-python",
   "name": "python",
   "nbconvert_exporter": "python",
   "pygments_lexer": "ipython3",
   "version": "3.10.6"
  },
  "orig_nbformat": 4
 },
 "nbformat": 4,
 "nbformat_minor": 2
}
