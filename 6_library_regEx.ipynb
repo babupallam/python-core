{
 "cells": [
  {
   "attachments": {},
   "cell_type": "markdown",
   "metadata": {},
   "source": [
    "# Python RegEx\n",
    "\n",
    "    - regular expressions \n",
    "    - sequence of chars to forms a search pattern\n",
    "    - used for validating date\n",
    "    - module syntax:  \n",
    "        import re"
   ]
  },
  {
   "cell_type": "code",
   "execution_count": null,
   "metadata": {},
   "outputs": [],
   "source": [
    "# MetaCharacters\n",
    "\n",
    "# Character\tDescription\t            Example\n",
    "\n",
    "# []\t    A set of characters\t    \"[a-m]\"\t\n",
    "# \\\t        Signals a special sequence (can also be used to escape special characters)\t\"\\d\"\t\n",
    "# .\t        Any character (except newline character)\t\"he..o\"\t\n",
    "# ^\t        Starts with\t            \"^hello\"\t\n",
    "# $\t        Ends with\t            \"planet$\"\t\n",
    "# *\t        Zero or more occurrences\t\"he.*o\"\t\n",
    "# +\t        One or more occurrences\t\"he.+o\"\t\n",
    "# ?\t        Zero or one occurrences\t\"he.?o\"\t\n",
    "# {}\t    Exactly the specified number of occurrences\t\"he.{2}o\"\t\n",
    "# |\t        Either or\t            \"falls|stays\"\t\n",
    "# ()\t    Capture and group\t \n",
    "\n",
    "\n",
    "# RegEx Functions\n",
    "# - functions that allows us to search a string for a match\n",
    "\n",
    "#1.  findall\tReturns a list containing all matches\n",
    "#2.  search\t    Returns a Match object if there is a match anywhere in the string\n",
    "#3.  split\t    Returns a list where the string has been split at each match\n",
    "#4.  sub\t    Replaces one or many matches with a string"
   ]
  },
  {
   "cell_type": "code",
   "execution_count": null,
   "metadata": {},
   "outputs": [
    {
     "name": "stdout",
     "output_type": "stream",
     "text": [
      "<re.Match object; span=(0, 17), match='The rain in India'>\n"
     ]
    }
   ],
   "source": [
    "# test1\n",
    "import re\n",
    "txt = \"The rain in India\"\n",
    "x = re.search(\"^The.*India$\", txt)\n",
    "print(x)"
   ]
  },
  {
   "cell_type": "code",
   "execution_count": null,
   "metadata": {},
   "outputs": [
    {
     "name": "stdout",
     "output_type": "stream",
     "text": [
      "['in', 'in']\n",
      "no of occurace of in in the text:  2\n"
     ]
    }
   ],
   "source": [
    "# test2\n",
    "txt = \"The rain in India\"\n",
    "x=re.findall(\"in\", txt)\n",
    "print(x)#[\"in\",\"in\"]\n",
    "print(\"no of occurace of in in the text: \", len(x))\n",
    "# ob: rain, in"
   ]
  },
  {
   "cell_type": "code",
   "execution_count": null,
   "metadata": {},
   "outputs": [
    {
     "name": "stdout",
     "output_type": "stream",
     "text": [
      "The first white-space character is located in position: 3\n"
     ]
    }
   ],
   "source": [
    "txt = \"The rain in India\"\n",
    "x=re.search(\"\\s\", txt)\n",
    "print(\"The first white-space character is located in position:\", x.start())"
   ]
  },
  {
   "cell_type": "code",
   "execution_count": null,
   "metadata": {},
   "outputs": [
    {
     "name": "stdout",
     "output_type": "stream",
     "text": [
      "None\n"
     ]
    }
   ],
   "source": [
    "import re\n",
    "\n",
    "txt = \"The rain in Spain\"\n",
    "x = re.search(\"Portugal\", txt)\n",
    "print(x)#None since not found"
   ]
  },
  {
   "cell_type": "code",
   "execution_count": null,
   "metadata": {},
   "outputs": [
    {
     "name": "stdout",
     "output_type": "stream",
     "text": [
      "['The', 'rain', 'in', 'Spain']\n"
     ]
    }
   ],
   "source": [
    "import re\n",
    "\n",
    "txt = \"The rain in Spain\"\n",
    "x = re.split(\"\\s\", txt)\n",
    "print(x)#['The', 'rain', 'in', 'Spain']"
   ]
  },
  {
   "cell_type": "code",
   "execution_count": null,
   "metadata": {},
   "outputs": [
    {
     "name": "stdout",
     "output_type": "stream",
     "text": [
      "['The', 'rain in Spain']\n"
     ]
    }
   ],
   "source": [
    "#split with first occurrence\n",
    "import re\n",
    "\n",
    "txt = \"The rain in Spain\"\n",
    "x = re.split(\"\\s\", txt, 1)\n",
    "print(x)#['The', 'rain in Spain']"
   ]
  },
  {
   "cell_type": "code",
   "execution_count": null,
   "metadata": {},
   "outputs": [
    {
     "name": "stdout",
     "output_type": "stream",
     "text": [
      "The9rain9in9Spain\n"
     ]
    }
   ],
   "source": [
    "#replace whitespace with substring, here it is \"9\"\n",
    "import re\n",
    "\n",
    "txt = \"The rain in Spain\"\n",
    "x = re.sub(\"\\s\", \"9\", txt)\n",
    "print(x)#The9rain9in9Spain"
   ]
  },
  {
   "cell_type": "code",
   "execution_count": null,
   "metadata": {},
   "outputs": [
    {
     "name": "stdout",
     "output_type": "stream",
     "text": [
      "The9rain9in Spain\n"
     ]
    }
   ],
   "source": [
    "import re\n",
    "\n",
    "txt = \"The rain in Spain\"\n",
    "#restricted to first two occurrences\n",
    "x = re.sub(\"\\s\", \"9\", txt, 2)\n",
    "print(x)#The9rain9in Spain"
   ]
  }
 ],
 "metadata": {
  "language_info": {
   "name": "python"
  },
  "orig_nbformat": 4
 },
 "nbformat": 4,
 "nbformat_minor": 2
}
