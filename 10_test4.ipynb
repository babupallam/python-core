{
 "cells": [
  {
   "attachments": {},
   "cell_type": "markdown",
   "metadata": {},
   "source": [
    "# Programs for printing pyramid patterns in Python\n"
   ]
  },
  {
   "cell_type": "code",
   "execution_count": 5,
   "metadata": {},
   "outputs": [
    {
     "name": "stdout",
     "output_type": "stream",
     "text": [
      "* \n",
      "* * \n",
      "* * * \n",
      "* * * * \n",
      "* * * * * \n"
     ]
    }
   ],
   "source": [
    "def p1(n):\n",
    "    for i in range(0,n):\n",
    "        for j in range(0,i+1):\n",
    "            print(\"*\", end=\" \")\n",
    "        print()\n",
    "\n",
    "p1(5)"
   ]
  },
  {
   "cell_type": "code",
   "execution_count": 10,
   "metadata": {},
   "outputs": [
    {
     "name": "stdout",
     "output_type": "stream",
     "text": [
      "*\n",
      "**\n",
      "***\n",
      "****\n",
      "*****\n"
     ]
    }
   ],
   "source": [
    "def p1(n):\n",
    "    for i in range(0,n):\n",
    "        lis =[]\n",
    "        for j in range(0,i+1):\n",
    "            lis.append(\"*\")\n",
    "        print(\"\".join(lis))\n",
    "\n",
    "p1(5)\n",
    "#TC = O(n^2)\n",
    "#SC = O(1)"
   ]
  },
  {
   "cell_type": "code",
   "execution_count": 14,
   "metadata": {},
   "outputs": [
    {
     "name": "stdout",
     "output_type": "stream",
     "text": [
      "\n",
      "*\n",
      "**\n",
      "***\n",
      "****\n",
      "*****\n"
     ]
    }
   ],
   "source": [
    "def p1(n):\n",
    "    for i in range(0,n+1):\n",
    "        lis =[]\n",
    "        lis.append(\"*\"*i)\n",
    "        print(\"\".join(lis))\n",
    "\n",
    "p1(5)\n",
    "#TC = O(n)\n",
    "#SC = O(n)"
   ]
  },
  {
   "cell_type": "code",
   "execution_count": 15,
   "metadata": {},
   "outputs": [
    {
     "name": "stdout",
     "output_type": "stream",
     "text": [
      "* \n",
      "* * \n",
      "* * * \n",
      "* * * * \n",
      "* * * * * \n"
     ]
    }
   ],
   "source": [
    "#using while loop\n",
    "# python3 code to print pyramid pattern using while loop\n",
    "\n",
    "n=5\n",
    "i=1;j=0\n",
    "# while loop check the condition until the\n",
    "# condition become false. if it is true then\n",
    "# enter in to loop and print the pattern\n",
    "while(i<=n):\n",
    "\twhile(j<=i-1):\n",
    "\t\tprint(\"* \",end=\"\")\n",
    "\t\tj+=1\n",
    "\t# printing next line for each row\n",
    "\tprint(\"\\r\")\n",
    "\tj=0;i+=1\n",
    "\n",
    "\t\n",
    "\t\n",
    "# this code is contributed by gangarajula laxmi\n"
   ]
  },
  {
   "cell_type": "code",
   "execution_count": 18,
   "metadata": {},
   "outputs": [
    {
     "name": "stdout",
     "output_type": "stream",
     "text": [
      "     \n",
      "    *\n",
      "   **\n",
      "  ***\n",
      " ****\n",
      "*****\n"
     ]
    }
   ],
   "source": [
    "def p1(n):\n",
    "    for i in range(0,n+1):\n",
    "        lis =[]\n",
    "        lis.append(\" \"*(n-i)+\"*\"*i)\n",
    "        print(\"\".join(lis))\n",
    "\n",
    "p1(5)"
   ]
  },
  {
   "cell_type": "code",
   "execution_count": 19,
   "metadata": {},
   "outputs": [
    {
     "name": "stdout",
     "output_type": "stream",
     "text": [
      "     \n",
      "     *\n",
      "    * *\n",
      "   * * *\n",
      "  * * * *\n",
      " * * * * *\n"
     ]
    }
   ],
   "source": [
    "def p1(n):\n",
    "    for i in range(0,n+1):\n",
    "        lis =[]\n",
    "        lis.append(\" \"*(n-i)+\" *\"*i)\n",
    "        print(\"\".join(lis))\n",
    "\n",
    "p1(5)"
   ]
  },
  {
   "cell_type": "code",
   "execution_count": 20,
   "metadata": {},
   "outputs": [
    {
     "name": "stdout",
     "output_type": "stream",
     "text": [
      "    *\n",
      "   **\n",
      "  ***\n",
      " ****\n",
      "*****\n"
     ]
    }
   ],
   "source": [
    "#python3 code to implement above approach\n",
    "height = 5\n",
    "for row in range(1, height+ 1):\n",
    "\tprint(\" \" * (height - row) +\"*\" * row)\n",
    "#this code is contributed by Shivesh kumar dwivedi\n"
   ]
  },
  {
   "cell_type": "code",
   "execution_count": 23,
   "metadata": {},
   "outputs": [
    {
     "name": "stdout",
     "output_type": "stream",
     "text": [
      "1 \n",
      "1 2 \n",
      "1 2 3 \n",
      "1 2 3 4 \n",
      "1 2 3 4 5 \n"
     ]
    }
   ],
   "source": [
    "height =5\n",
    "\n",
    "for i in range(1, height+1):\n",
    "    for j in range(1,i+1):\n",
    "        print(j, end=\" \")\n",
    "    print(\"\")"
   ]
  },
  {
   "cell_type": "code",
   "execution_count": 24,
   "metadata": {},
   "outputs": [
    {
     "name": "stdout",
     "output_type": "stream",
     "text": [
      "1 \n",
      "2 3 \n",
      "4 5 6 \n",
      "7 8 9 10 \n",
      "11 12 13 14 15 \n"
     ]
    }
   ],
   "source": [
    "n=1\n",
    "height =5\n",
    "\n",
    "for i in range(1, height+1):\n",
    "    for j in range(1,i+1):\n",
    "        print(n, end=\" \")\n",
    "        n+=1\n",
    "    print(\"\")"
   ]
  },
  {
   "cell_type": "code",
   "execution_count": 28,
   "metadata": {},
   "outputs": [
    {
     "name": "stdout",
     "output_type": "stream",
     "text": [
      "A \n",
      "B B \n",
      "C C C \n",
      "D D D D \n",
      "E E E E E \n"
     ]
    }
   ],
   "source": [
    "height =5\n",
    "num=65\n",
    "for i in range(1, height+1):\n",
    "    for j in range(1,i+1):\n",
    "        ch = chr(num)\n",
    "        print(ch, end=\" \")\n",
    "    num+=1\n",
    "    print(\"\")"
   ]
  },
  {
   "cell_type": "code",
   "execution_count": 29,
   "metadata": {},
   "outputs": [
    {
     "name": "stdout",
     "output_type": "stream",
     "text": [
      "A \n",
      "A B \n",
      "A B C \n",
      "A B C D \n",
      "A B C D E \n"
     ]
    }
   ],
   "source": [
    "height =5\n",
    "\n",
    "for i in range(1, height+1):\n",
    "    num=65\n",
    "    for j in range(1,i+1):\n",
    "        ch = chr(num)\n",
    "        print(ch, end=\" \")\n",
    "        num+=1\n",
    "    print(\"\")"
   ]
  },
  {
   "cell_type": "code",
   "execution_count": 30,
   "metadata": {},
   "outputs": [
    {
     "name": "stdout",
     "output_type": "stream",
     "text": [
      "A \n",
      "B C \n",
      "D E F \n",
      "G H I J \n",
      "K L M N O \n"
     ]
    }
   ],
   "source": [
    "height =5\n",
    "\n",
    "num=65\n",
    "for i in range(1, height+1):\n",
    "    for j in range(1,i+1):\n",
    "        ch = chr(num)\n",
    "        print(ch, end=\" \")\n",
    "        num+=1\n",
    "    print(\"\")"
   ]
  },
  {
   "cell_type": "code",
   "execution_count": null,
   "metadata": {},
   "outputs": [],
   "source": []
  }
 ],
 "metadata": {
  "kernelspec": {
   "display_name": "Python 3",
   "language": "python",
   "name": "python3"
  },
  "language_info": {
   "codemirror_mode": {
    "name": "ipython",
    "version": 3
   },
   "file_extension": ".py",
   "mimetype": "text/x-python",
   "name": "python",
   "nbconvert_exporter": "python",
   "pygments_lexer": "ipython3",
   "version": "3.10.6"
  },
  "orig_nbformat": 4
 },
 "nbformat": 4,
 "nbformat_minor": 2
}
