{
 "cells": [
  {
   "attachments": {},
   "cell_type": "markdown",
   "metadata": {},
   "source": [
    "# Ob1\n",
    "\n",
    "    # Python | a += b is not always a = a + b\n"
   ]
  },
  {
   "cell_type": "code",
   "execution_count": 2,
   "metadata": {},
   "outputs": [
    {
     "name": "stdout",
     "output_type": "stream",
     "text": [
      " id of a :  139914312696336  Value :  10\n",
      " id of a :  139914312696656  Value :  20\n",
      " id of a :  139914312696976  Value :  30\n"
     ]
    }
   ],
   "source": [
    "a = 10 # Assigning value to variable creates new object\n",
    "print(\" id of a : \", id(a) ,\" Value : \", a )\n",
    "\n",
    "a = a + 10 # Modifying value of variable creates new object\n",
    "print(\" id of a : \", id(a) ,\" Value : \", a )\n",
    "\n",
    "a += 10 # Modifying value of variable creates new object\n",
    "print(\" id of a : \", id(a) ,\" Value : \", a )\n"
   ]
  },
  {
   "cell_type": "code",
   "execution_count": 3,
   "metadata": {},
   "outputs": [
    {
     "name": "stdout",
     "output_type": "stream",
     "text": [
      "id of a:  139914253971712 Value :  [0, 1]\n",
      "id of a:  139914254062464 Value :  [0, 1, 2, 3]\n",
      "id of a:  139914254062464 Value :  [0, 1, 2, 3, 4, 5]\n"
     ]
    }
   ],
   "source": [
    "a = [0, 1] # stores this array in memory and assign its reference to a\n",
    "print(\"id of a: \",id(a) , \"Value : \", a )\n",
    "\n",
    "a = a + [2, 3] # this will also behave same store data in memory and assign ref. to variable\n",
    "print(\"id of a: \",id(a) , \"Value : \", a )\n",
    "\n",
    "a += [4, 5]\n",
    "print(\"id of a: \",id(a) , \"Value : \", a )\n",
    "\n",
    "#But now this will now create new ref. instead this will modify the current object so\n",
    "# all the other variable pointing to a will also gets changes\n"
   ]
  },
  {
   "cell_type": "code",
   "execution_count": 4,
   "metadata": {},
   "outputs": [
    {
     "name": "stdout",
     "output_type": "stream",
     "text": [
      "[5, 4, 3, 2, 1, 1, 2, 3, 4]\n",
      "[5, 4, 3, 2, 1, 1, 2, 3, 4]\n"
     ]
    }
   ],
   "source": [
    "list1 = [5, 4, 3, 2, 1]\n",
    "list2 = list1\n",
    "list1 += [1, 2, 3, 4] # modifying value in current reference\n",
    "\n",
    "print(list1)\n",
    "print(list2) # as on line 4 it modify the value without creating new object\n",
    "\t\t\t# variable list2 which is pointing to list1 gets changes\n"
   ]
  },
  {
   "cell_type": "code",
   "execution_count": 5,
   "metadata": {},
   "outputs": [
    {
     "name": "stdout",
     "output_type": "stream",
     "text": [
      "[5, 4, 3, 2, 1, 1, 2, 3, 4]\n",
      "[5, 4, 3, 2, 1]\n"
     ]
    }
   ],
   "source": [
    "list1 = [5, 4, 3, 2, 1]\n",
    "list2 = list1\n",
    "list1 = list1 + [1, 2, 3, 4]\n",
    "\n",
    "# Contents of list1 are same as above\n",
    "# program, but contents of list2 are\n",
    "# different.\n",
    "print(list1)\n",
    "print(list2)\n"
   ]
  },
  {
   "attachments": {},
   "cell_type": "markdown",
   "metadata": {},
   "source": [
    "# Ob2\n",
    "G-Fact 19 (Logical and Bitwise Not Operators on Boolean)\n"
   ]
  },
  {
   "cell_type": "code",
   "execution_count": 10,
   "metadata": {},
   "outputs": [
    {
     "name": "stdout",
     "output_type": "stream",
     "text": [
      "False\n",
      "True\n"
     ]
    }
   ],
   "source": [
    "# A Python program that uses Logical Not or ! on boolean\n",
    "a = not True\n",
    "b = not False\n",
    "print (a)\n",
    "print (b)\n",
    "# Output: False\n",
    "#\t\t True\n"
   ]
  },
  {
   "cell_type": "code",
   "execution_count": 8,
   "metadata": {},
   "outputs": [
    {
     "name": "stdout",
     "output_type": "stream",
     "text": [
      "-2\n",
      "-1\n"
     ]
    }
   ],
   "source": [
    "# A Python program that uses Bitwise Not or ~ on boolean\n",
    "a = True\n",
    "b = False\n",
    "print (~a)\n",
    "print (~b)\n"
   ]
  },
  {
   "cell_type": "code",
   "execution_count": 9,
   "metadata": {},
   "outputs": [
    {
     "name": "stdout",
     "output_type": "stream",
     "text": [
      "5\n",
      "-6\n"
     ]
    }
   ],
   "source": [
    "a = 5\n",
    "b = ~a\n",
    "\n",
    "print(a) # 5\n",
    "print(b) # -6\n",
    "\n",
    "# The bitwise not operator, on the other hand, \n",
    "#   is used to invert the bits of an integer,\n",
    "#   including its sign bit, \n",
    "#   which changes the sign of the integer. \n",
    "\n",
    "# “Logical not or !” is meant for boolean values and \n",
    "# “bitwise not or ~” is for integers"
   ]
  },
  {
   "attachments": {},
   "cell_type": "markdown",
   "metadata": {},
   "source": [
    "# Switch Case in Python (Replacement)\n"
   ]
  },
  {
   "attachments": {},
   "cell_type": "markdown",
   "metadata": {},
   "source": [
    "Method 1:  Switch Case implement in Python using Dictionary Mapping\n"
   ]
  },
  {
   "cell_type": "code",
   "execution_count": 11,
   "metadata": {},
   "outputs": [
    {
     "name": "stdout",
     "output_type": "stream",
     "text": [
      "zero\n"
     ]
    }
   ],
   "source": [
    "# Function to convert number into string\n",
    "# Switcher is dictionary data type here\n",
    "def numbers_to_strings(argument):\n",
    "\tswitcher = {\n",
    "\t\t0: \"zero\",\n",
    "\t\t1: \"one\",\n",
    "\t\t2: \"two\",\n",
    "\t}\n",
    "\n",
    "\t# get() method of dictionary data type returns\n",
    "\t# value of passed argument if it is present\n",
    "\t# in dictionary otherwise second argument will\n",
    "\t# be assigned as default value of passed argument\n",
    "\treturn switcher.get(argument, \"nothing\")\n",
    "\n",
    "# Driver program\n",
    "if __name__ == \"__main__\":\n",
    "\targument=0\n",
    "\tprint (numbers_to_strings(argument))\n"
   ]
  },
  {
   "attachments": {},
   "cell_type": "markdown",
   "metadata": {},
   "source": [
    "Method 2: Switch Case implement in Python using if-else\n"
   ]
  },
  {
   "cell_type": "code",
   "execution_count": 12,
   "metadata": {},
   "outputs": [
    {
     "name": "stdout",
     "output_type": "stream",
     "text": [
      "bike is Yamaha\n"
     ]
    }
   ],
   "source": [
    "bike = 'Yamaha'\n",
    "\n",
    "if bike == 'Hero':\n",
    "\tprint(\"bike is Hero\")\n",
    "\n",
    "elif bike == \"Suzuki\":\n",
    "\tprint(\"bike is Suzuki\")\n",
    "\n",
    "elif bike == \"Yamaha\":\n",
    "\tprint(\"bike is Yamaha\")\n",
    "\n",
    "else:\n",
    "\tprint(\"Please choose correct answer\")\n"
   ]
  },
  {
   "attachments": {},
   "cell_type": "markdown",
   "metadata": {},
   "source": [
    "Method 3: Switch Case implement in Python using Class\n"
   ]
  },
  {
   "cell_type": "code",
   "execution_count": 13,
   "metadata": {},
   "outputs": [
    {
     "name": "stdout",
     "output_type": "stream",
     "text": [
      "Jan\n",
      "Mar\n"
     ]
    }
   ],
   "source": [
    "class Python_Switch:\n",
    "\tdef day(self, month):\n",
    "\n",
    "\t\tdefault = \"Incorrect day\"\n",
    "\n",
    "\t\treturn getattr(self, 'case_' + str(month), lambda: default)()\n",
    "\n",
    "\tdef case_1(self):\n",
    "\t\treturn \"Jan\"\n",
    "\n",
    "\tdef case_2(self):\n",
    "\t\treturn \"Feb\"\n",
    "\n",
    "\tdef case_3(self):\n",
    "\t\treturn \"Mar\"\n",
    "\n",
    "\n",
    "my_switch = Python_Switch()\n",
    "\n",
    "print(my_switch.day(1))\n",
    "\n",
    "print(my_switch.day(3))\n"
   ]
  },
  {
   "attachments": {},
   "cell_type": "markdown",
   "metadata": {},
   "source": [
    "Switch Case in Python\n",
    "\n",
    "In Python 3.10 and after that, Python will support this by using match in place of switch:\n",
    "\n"
   ]
  },
  {
   "cell_type": "code",
   "execution_count": 15,
   "metadata": {},
   "outputs": [
    {
     "data": {
      "text/plain": [
       "'zero'"
      ]
     },
     "execution_count": 15,
     "metadata": {},
     "output_type": "execute_result"
    }
   ],
   "source": [
    "# This code runs only in python 3.10 or above versions\n",
    "def number_to_string(argument):\n",
    "\tmatch argument:\n",
    "\t\tcase 0:\n",
    "\t\t\treturn \"zero\"\n",
    "\t\tcase 1:\n",
    "\t\t\treturn \"one\"\n",
    "\t\tcase 2:\n",
    "\t\t\treturn \"two\"\n",
    "\t\tcase default:\n",
    "\t\t\treturn \"something\"\n",
    "\n",
    "\n",
    "argument = 0\n",
    "number_to_string(argument)\n"
   ]
  },
  {
   "attachments": {},
   "cell_type": "markdown",
   "metadata": {},
   "source": [
    "# Using Else Conditional Statement With For loop in Python\n"
   ]
  },
  {
   "cell_type": "code",
   "execution_count": 16,
   "metadata": {},
   "outputs": [
    {
     "name": "stdout",
     "output_type": "stream",
     "text": [
      "1\n",
      "2\n",
      "3\n",
      "No Break\n"
     ]
    }
   ],
   "source": [
    "for i in range(1, 4):\n",
    "\tprint(i)\n",
    "else: # Executed because no break in for\n",
    "\tprint(\"No Break\")\n"
   ]
  },
  {
   "cell_type": "code",
   "execution_count": 17,
   "metadata": {},
   "outputs": [
    {
     "name": "stdout",
     "output_type": "stream",
     "text": [
      "1\n"
     ]
    }
   ],
   "source": [
    "for i in range(1, 4):\n",
    "\tprint(i)\n",
    "\tbreak\n",
    "else: # Not executed as there is a break\n",
    "\tprint(\"No Break\")\n"
   ]
  },
  {
   "cell_type": "code",
   "execution_count": 18,
   "metadata": {},
   "outputs": [
    {
     "name": "stdout",
     "output_type": "stream",
     "text": [
      "For List 1:\n",
      "list contains an even number\n",
      " \n",
      "For List 2:\n",
      "list does not contain an even number\n"
     ]
    }
   ],
   "source": [
    "# Python 3.x program to check if an array consists\n",
    "# of even number\n",
    "def contains_even_number(l):\n",
    "\tfor ele in l:\n",
    "\t\tif ele % 2 == 0:\n",
    "\t\t\tprint (\"list contains an even number\")\n",
    "\t\t\tbreak\n",
    "\n",
    "\t# This else executes only if break is NEVER\n",
    "\t# reached and loop terminated after all iterations.\n",
    "\telse:\t\n",
    "\t\tprint (\"list does not contain an even number\")\n",
    "\n",
    "# Driver code\n",
    "print (\"For List 1:\")\n",
    "contains_even_number([1, 9, 8])\n",
    "print (\" \\nFor List 2:\")\n",
    "contains_even_number([1, 3, 5])\n"
   ]
  },
  {
   "cell_type": "code",
   "execution_count": 19,
   "metadata": {},
   "outputs": [
    {
     "name": "stdout",
     "output_type": "stream",
     "text": [
      "1\n"
     ]
    }
   ],
   "source": [
    "count = 0\n",
    "while (count < 1):\t\n",
    "\tcount = count+1\n",
    "\tprint(count)\n",
    "\tbreak\n",
    "else:\n",
    "\tprint(\"No Break\")\n"
   ]
  },
  {
   "cell_type": "code",
   "execution_count": null,
   "metadata": {},
   "outputs": [],
   "source": []
  }
 ],
 "metadata": {
  "kernelspec": {
   "display_name": "Python 3",
   "language": "python",
   "name": "python3"
  },
  "language_info": {
   "codemirror_mode": {
    "name": "ipython",
    "version": 3
   },
   "file_extension": ".py",
   "mimetype": "text/x-python",
   "name": "python",
   "nbconvert_exporter": "python",
   "pygments_lexer": "ipython3",
   "version": "3.10.6"
  },
  "orig_nbformat": 4
 },
 "nbformat": 4,
 "nbformat_minor": 2
}
