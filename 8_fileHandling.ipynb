{
 "cells": [
  {
   "attachments": {},
   "cell_type": "markdown",
   "metadata": {},
   "source": [
    "# File Handling\n",
    "\n"
   ]
  },
  {
   "cell_type": "code",
   "execution_count": 7,
   "metadata": {},
   "outputs": [
    {
     "name": "stdout",
     "output_type": "stream",
     "text": [
      "file opened successfully\n"
     ]
    }
   ],
   "source": [
    "# # File open\n",
    "#     open(filename, mode)\n",
    "#         mode:\n",
    "#             1. 'r': Read, \n",
    "#                 open file for reading\n",
    "#                 error if not exist\n",
    "#             2. 'a': Append\n",
    "#                 open file for appending\n",
    "#                 create file if not exist\n",
    "#             3. 'w': Write\n",
    "#                 open file for writing\n",
    "#                 create file if not eixst\n",
    "#             4. 'x': Create\n",
    "#                 create file\n",
    "#                 error if already exist\n",
    "\n",
    "    # file type is going to be appended with mode:\n",
    "    #         \"t\": Text\n",
    "    #         \"b\": Binary\n",
    "\n",
    "try:\n",
    "    f=open(\"./demoFiles/demo.txt\")# bydefault mode is \"rt\"\n",
    "except:\n",
    "    print(\"error while opening the file\")\n",
    "else:\n",
    "    print(\"file opened successfully\")"
   ]
  },
  {
   "cell_type": "code",
   "execution_count": 12,
   "metadata": {},
   "outputs": [
    {
     "name": "stdout",
     "output_type": "stream",
     "text": [
      "Hello\n",
      "file opened successfully\n"
     ]
    }
   ],
   "source": [
    "try:\n",
    "    f=open(\"./demoFiles/demo.txt\")# bydefault mode is \"rt\"\n",
    "    # print(f.read())\n",
    "    print(f.read(5))#Hello  -- 5bytes\n",
    "except:\n",
    "    print(\"error while opening the file\")\n",
    "else:\n",
    "    print(\"file opened successfully\")"
   ]
  },
  {
   "cell_type": "code",
   "execution_count": 16,
   "metadata": {},
   "outputs": [
    {
     "name": "stdout",
     "output_type": "stream",
     "text": [
      "Hello! Welcome to demofile.txt\n",
      "\n",
      "This file is for testing purposes.\n",
      "\n",
      "Good Luck!\n"
     ]
    }
   ],
   "source": [
    "f=open(\"./demoFiles/demo.txt\")# bydefault mode is \"rt\"\n",
    "print(f.readline())\n",
    "print(f.readline())\n",
    "print(f.readline())"
   ]
  },
  {
   "cell_type": "code",
   "execution_count": 18,
   "metadata": {},
   "outputs": [
    {
     "name": "stdout",
     "output_type": "stream",
     "text": [
      "Hello! Welcome to demofile.txt\n",
      "\n",
      "This file is for testing purposes.\n",
      "\n",
      "Good Luck!\n"
     ]
    }
   ],
   "source": [
    "f=open(\"./demoFiles/demo.txt\")# bydefault mode is \"rt\"\n",
    "# read whole file line by line\n",
    "for i in f:\n",
    "    print(i)\n",
    "\n",
    "# close file\n",
    "f.close()"
   ]
  },
  {
   "cell_type": "code",
   "execution_count": 27,
   "metadata": {},
   "outputs": [
    {
     "name": "stdout",
     "output_type": "stream",
     "text": [
      "Now the file has more content!\n",
      "Now the file has more content!\n",
      "Now the file has more content!\n",
      "\n"
     ]
    }
   ],
   "source": [
    "# write to a file\n",
    "f = open(\"./demoFiles/demofile2.txt\", \"a\")\n",
    "f.write(\"Now the file has more content!\\n\")\n",
    "f.close()\n",
    "\n",
    "#open and read the file after the appending:\n",
    "f = open(\"./demoFiles/demofile2.txt\", \"r\")\n",
    "print(f.read())"
   ]
  },
  {
   "cell_type": "code",
   "execution_count": 29,
   "metadata": {},
   "outputs": [
    {
     "name": "stdout",
     "output_type": "stream",
     "text": [
      "Woops! I have deleted the content!\n"
     ]
    }
   ],
   "source": [
    "f = open(\"./demoFiles/demofile3.txt\", \"w\")\n",
    "f.write(\"Woops! I have deleted the content!\")\n",
    "f.close()\n",
    "\n",
    "#open and read the file after the overwriting:\n",
    "f = open(\"./demoFiles/demofile3.txt\", \"r\")\n",
    "print(f.read())"
   ]
  },
  {
   "cell_type": "code",
   "execution_count": 33,
   "metadata": {},
   "outputs": [],
   "source": [
    "#create new file\n",
    "\n",
    "f = open(\"./demoFiles/createFile1.txt\",\"x\")"
   ]
  },
  {
   "cell_type": "code",
   "execution_count": 31,
   "metadata": {},
   "outputs": [],
   "source": [
    "#delete a file\n",
    "\n",
    "import os\n",
    "os.remove(\"./demoFiles/createFile1.txt\")"
   ]
  },
  {
   "cell_type": "code",
   "execution_count": 34,
   "metadata": {},
   "outputs": [],
   "source": [
    "#check file exist\n",
    "import os\n",
    "if os.path.exists(\"./demoFiles/createFile1.txt\"):\n",
    "    os.remove(\"./demoFiles/createFile1.txt\")\n",
    "else:\n",
    "    print(\"file doesnt exist\")"
   ]
  },
  {
   "cell_type": "code",
   "execution_count": 35,
   "metadata": {},
   "outputs": [
    {
     "ename": "FileExistsError",
     "evalue": "[Errno 17] File exists: 'demoFiles'",
     "output_type": "error",
     "traceback": [
      "\u001b[0;31m---------------------------------------------------------------------------\u001b[0m",
      "\u001b[0;31mFileExistsError\u001b[0m                           Traceback (most recent call last)",
      "Cell \u001b[0;32mIn[35], line 4\u001b[0m\n\u001b[1;32m      2\u001b[0m \u001b[39mimport\u001b[39;00m \u001b[39mos\u001b[39;00m\n\u001b[1;32m      3\u001b[0m \u001b[39m# os.rmdir(\"demoFiles\")\u001b[39;00m\n\u001b[0;32m----> 4\u001b[0m os\u001b[39m.\u001b[39;49mmkdir(\u001b[39m\"\u001b[39;49m\u001b[39mdemoFiles\u001b[39;49m\u001b[39m\"\u001b[39;49m)\n",
      "\u001b[0;31mFileExistsError\u001b[0m: [Errno 17] File exists: 'demoFiles'"
     ]
    }
   ],
   "source": [
    "#delting a folder \n",
    "import os\n",
    "# os.rmdir(\"demoFiles\")\n",
    "os.mkdir(\"demoFiles\")"
   ]
  },
  {
   "cell_type": "code",
   "execution_count": null,
   "metadata": {},
   "outputs": [],
   "source": []
  }
 ],
 "metadata": {
  "kernelspec": {
   "display_name": "Python 3",
   "language": "python",
   "name": "python3"
  },
  "language_info": {
   "codemirror_mode": {
    "name": "ipython",
    "version": 3
   },
   "file_extension": ".py",
   "mimetype": "text/x-python",
   "name": "python",
   "nbconvert_exporter": "python",
   "pygments_lexer": "ipython3",
   "version": "3.10.6"
  },
  "orig_nbformat": 4
 },
 "nbformat": 4,
 "nbformat_minor": 2
}
