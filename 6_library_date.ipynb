{
 "cells": [
  {
   "attachments": {},
   "cell_type": "markdown",
   "metadata": {},
   "source": [
    "# Date\n",
    "    - python doesnt have inbuild date type\n",
    "    - import datetime"
   ]
  },
  {
   "cell_type": "code",
   "execution_count": 2,
   "metadata": {},
   "outputs": [
    {
     "name": "stdout",
     "output_type": "stream",
     "text": [
      "2023-05-15 23:55:47.206302\n"
     ]
    }
   ],
   "source": [
    "import datetime\n",
    "\n",
    "x= datetime.datetime.now()\n",
    "print(x)\n",
    "\n",
    "# ob: year, month, day, hour, minutes, seconds, microsecond"
   ]
  },
  {
   "cell_type": "code",
   "execution_count": 14,
   "metadata": {},
   "outputs": [
    {
     "name": "stdout",
     "output_type": "stream",
     "text": [
      "2023-05-15 23:59:48.844533\n",
      "2023-05-15\n",
      "2023\n",
      "5\n",
      "15\n",
      "23:59:48.844533\n",
      "23\n",
      "59\n",
      "48\n",
      "844533\n"
     ]
    }
   ],
   "source": [
    "import datetime\n",
    "\n",
    "x= datetime.datetime.now()\n",
    "print(x)\n",
    "print(x.date())\n",
    "print(x.year)\n",
    "print(x.month)\n",
    "print(x.day)\n",
    "print(x.time())\n",
    "print(x.hour)\n",
    "print(x.minute)\n",
    "print(x.second)\n",
    "print(x.microsecond)\n",
    "\n"
   ]
  },
  {
   "cell_type": "code",
   "execution_count": 19,
   "metadata": {},
   "outputs": [
    {
     "name": "stdout",
     "output_type": "stream",
     "text": [
      "2023-05-16 00:03:30.013560\n"
     ]
    }
   ],
   "source": [
    "#creating a date\n",
    "\n",
    "y= datetime.datetime(2020,5,2)\n",
    "print(y)\n"
   ]
  },
  {
   "cell_type": "code",
   "execution_count": 23,
   "metadata": {},
   "outputs": [
    {
     "name": "stdout",
     "output_type": "stream",
     "text": [
      "May\n"
     ]
    }
   ],
   "source": [
    "#strftime()\n",
    "    # - used to format date into readable string\n",
    "\n",
    "x=datetime.datetime.now()\n",
    "print(x.strftime('%B'))\n",
    "\n",
    "#A reference of all the legal format codes:\n",
    "\n",
    "# %a\tWeekday, short version\tWed\t\n",
    "# %A\tWeekday, full version\tWednesday\t\n",
    "# %w\tWeekday as a number 0-6, 0 is Sunday\t3\t\n",
    "# %d\tDay of month 01-31\t31\t\n",
    "# %b\tMonth name, short version\tDec\t\n",
    "# %B\tMonth name, full version\tDecember\t\n",
    "# %m\tMonth as a number 01-12\t12\t\n",
    "# %y\tYear, short version, without century\t18\t\n",
    "# %Y\tYear, full version\t2018\t\n",
    "# %H\tHour 00-23\t17\t\n",
    "# %I\tHour 00-12\t05\t\n",
    "# %p\tAM/PM\tPM\t\n",
    "# %M\tMinute 00-59\t41\t\n",
    "# %S\tSecond 00-59\t08\t\n",
    "# %f\tMicrosecond 000000-999999\t548513\t\n",
    "# %z\tUTC offset\t+0100\t\n",
    "# %Z\tTimezone\tCST\t\n",
    "# %j\tDay number of year 001-366\t365\t\n",
    "# %U\tWeek number of year, Sunday as the first day of week, 00-53\t52\t\n",
    "# %W\tWeek number of year, Monday as the first day of week, 00-53\t52\t\n",
    "# %c\tLocal version of date and time\tMon Dec 31 17:41:00 2018\t\n",
    "# %C\tCentury\t20\t\n",
    "# %x\tLocal version of date\t12/31/18\t\n",
    "# %X\tLocal version of time\t17:41:00\t\n",
    "# %%\tA % character\t%\t\n",
    "# %G\tISO 8601 year\t2018\t\n",
    "# %u\tISO 8601 weekday (1-7)\t1\t\n",
    "# %V\tISO 8601 weeknumber (01-53)\t01\n"
   ]
  },
  {
   "cell_type": "code",
   "execution_count": null,
   "metadata": {},
   "outputs": [],
   "source": []
  }
 ],
 "metadata": {
  "kernelspec": {
   "display_name": "Python 3",
   "language": "python",
   "name": "python3"
  },
  "language_info": {
   "codemirror_mode": {
    "name": "ipython",
    "version": 3
   },
   "file_extension": ".py",
   "mimetype": "text/x-python",
   "name": "python",
   "nbconvert_exporter": "python",
   "pygments_lexer": "ipython3",
   "version": "3.10.6"
  },
  "orig_nbformat": 4
 },
 "nbformat": 4,
 "nbformat_minor": 2
}
