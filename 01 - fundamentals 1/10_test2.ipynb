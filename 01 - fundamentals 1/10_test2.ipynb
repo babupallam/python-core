{
 "cells": [
  {
   "cell_type": "code",
   "execution_count": 1,
   "metadata": {},
   "outputs": [
    {
     "name": "stdout",
     "output_type": "stream",
     "text": [
      "100000000000000000000000000000000000000000000000000000000000000000000000000000000000000000000000000000000000000000000000000000000000000000000000000000000000000000000000000000000000000000000000000000000\n"
     ]
    }
   ],
   "source": [
    "# Printing 100 raise to power 100\n",
    "print(100**100)\n"
   ]
  },
  {
   "attachments": {},
   "cell_type": "markdown",
   "metadata": {},
   "source": [
    "# Packing and Unpacking Arguments in Python\n",
    "    # We use two operators * (for tuples) and ** (for dictionaries).\n"
   ]
  },
  {
   "cell_type": "code",
   "execution_count": 2,
   "metadata": {},
   "outputs": [
    {
     "ename": "TypeError",
     "evalue": "fun() missing 3 required positional arguments: 'b', 'c', and 'd'",
     "output_type": "error",
     "traceback": [
      "\u001b[0;31m---------------------------------------------------------------------------\u001b[0m",
      "\u001b[0;31mTypeError\u001b[0m                                 Traceback (most recent call last)",
      "Cell \u001b[0;32mIn[2], line 13\u001b[0m\n\u001b[1;32m     10\u001b[0m my_list \u001b[39m=\u001b[39m [\u001b[39m1\u001b[39m, \u001b[39m2\u001b[39m, \u001b[39m3\u001b[39m, \u001b[39m4\u001b[39m]\n\u001b[1;32m     12\u001b[0m \u001b[39m# This doesn't work\u001b[39;00m\n\u001b[0;32m---> 13\u001b[0m fun(my_list)\n",
      "\u001b[0;31mTypeError\u001b[0m: fun() missing 3 required positional arguments: 'b', 'c', and 'd'"
     ]
    }
   ],
   "source": [
    "# A Python program to demonstrate need\n",
    "# of packing and unpacking\n",
    "\n",
    "# A sample function that takes 4 arguments\n",
    "# and prints them.\n",
    "def fun(a, b, c, d):\n",
    "\tprint(a, b, c, d)\n",
    "\n",
    "# Driver Code\n",
    "my_list = [1, 2, 3, 4]\n",
    "\n",
    "# This doesn't work\n",
    "fun(my_list)\n"
   ]
  },
  {
   "attachments": {},
   "cell_type": "markdown",
   "metadata": {},
   "source": [
    "#ob: \n",
    "\n",
    "Unpacking \n",
    "----------\n",
    "    We can use * to unpack the list so that all elements of it can be passed as different parameters.\n"
   ]
  },
  {
   "cell_type": "code",
   "execution_count": 3,
   "metadata": {},
   "outputs": [
    {
     "name": "stdout",
     "output_type": "stream",
     "text": [
      "1 2 3 4\n"
     ]
    }
   ],
   "source": [
    "\n",
    "# A sample function that takes 4 arguments\n",
    "# and prints the,\n",
    "def fun(a, b, c, d):\n",
    "\tprint(a, b, c, d)\n",
    "\n",
    "# Driver Code\n",
    "my_list = [1, 2, 3, 4]\n",
    "\n",
    "# Unpacking list into four arguments\n",
    "fun(*my_list)\n"
   ]
  },
  {
   "cell_type": "code",
   "execution_count": 4,
   "metadata": {},
   "outputs": [
    {
     "ename": "TypeError",
     "evalue": "func() takes 3 positional arguments but 4 were given",
     "output_type": "error",
     "traceback": [
      "\u001b[0;31m---------------------------------------------------------------------------\u001b[0m",
      "\u001b[0;31mTypeError\u001b[0m                                 Traceback (most recent call last)",
      "Cell \u001b[0;32mIn[4], line 12\u001b[0m\n\u001b[1;32m      8\u001b[0m \t\u001b[39mreturn\u001b[39;00m a \u001b[39m+\u001b[39m b \u001b[39m+\u001b[39m c\n\u001b[1;32m     11\u001b[0m \u001b[39m# calling function with unpacking args\u001b[39;00m\n\u001b[0;32m---> 12\u001b[0m func(\u001b[39m*\u001b[39;49margs)\n",
      "\u001b[0;31mTypeError\u001b[0m: func() takes 3 positional arguments but 4 were given"
     ]
    }
   ],
   "source": [
    "# Error when len(args) != no of actual arguments\n",
    "# required by the function\n",
    "\n",
    "args = [0, 1, 4, 9]\n",
    "\n",
    "\n",
    "def func(a, b, c):\n",
    "\treturn a + b + c\n",
    "\n",
    "\n",
    "# calling function with unpacking args\n",
    "func(*args)\n"
   ]
  },
  {
   "cell_type": "code",
   "execution_count": 5,
   "metadata": {},
   "outputs": [
    {
     "name": "stdout",
     "output_type": "stream",
     "text": [
      "15\n",
      "30\n"
     ]
    }
   ],
   "source": [
    "# A Python program to demonstrate use\n",
    "# of packing\n",
    "\n",
    "# This function uses packing to sum\n",
    "# unknown number of arguments\n",
    "def mySum(*args):\n",
    "\treturn sum(args)\n",
    "\n",
    "# Driver code\n",
    "print(mySum(1, 2, 3, 4, 5))\n",
    "print(mySum(10, 20))\n"
   ]
  },
  {
   "cell_type": "code",
   "execution_count": 6,
   "metadata": {},
   "outputs": [
    {
     "name": "stdout",
     "output_type": "stream",
     "text": [
      "Geeksforgeeks awesome world!\n"
     ]
    }
   ],
   "source": [
    "# A Python program to demonstrate both packing and\n",
    "# unpacking.\n",
    "\n",
    "# A sample python function that takes three arguments\n",
    "# and prints them\n",
    "def fun1(a, b, c):\n",
    "\tprint(a, b, c)\n",
    "\n",
    "# Another sample function.\n",
    "# This is an example of PACKING. All arguments passed\n",
    "# to fun2 are packed into tuple *args.\n",
    "def fun2(*args):\n",
    "\n",
    "\t# Convert args tuple to a list so we can modify it\n",
    "\targs = list(args)\n",
    "\n",
    "\t# Modifying args\n",
    "\targs[0] = 'Geeksforgeeks'\n",
    "\targs[1] = 'awesome'\n",
    "\n",
    "\t# UNPACKING args and calling fun1()\n",
    "\tfun1(*args)\n",
    "\n",
    "# Driver code\n",
    "fun2('Hello', 'beautiful', 'world!')\n"
   ]
  },
  {
   "cell_type": "code",
   "execution_count": 7,
   "metadata": {},
   "outputs": [
    {
     "name": "stdout",
     "output_type": "stream",
     "text": [
      "<class 'dict'>\n",
      "name = geeks\n",
      "ID = 101\n",
      "language = Python\n"
     ]
    }
   ],
   "source": [
    "# A Python program to demonstrate packing of\n",
    "# dictionary items using **\n",
    "def fun(**kwargs):\n",
    "\n",
    "\t# kwargs is a dict\n",
    "\tprint(type(kwargs))\n",
    "\n",
    "\t# Printing dictionary items\n",
    "\tfor key in kwargs:\n",
    "\t\tprint(\"%s = %s\" % (key, kwargs[key]))\n",
    "\n",
    "# Driver code\n",
    "fun(name=\"geeks\", ID=\"101\", language=\"Python\")\n"
   ]
  },
  {
   "attachments": {},
   "cell_type": "markdown",
   "metadata": {},
   "source": [
    "## Byte Objects vs String in Python\n",
    "\n",
    "    Byte objects are sequence of Bytes, whereas Strings are sequence of characters.\n",
    "    Byte objects are in machine readable form internally, Strings are only in human readable form.\n",
    "    Since Byte objects are machine readable, they can be directly stored on the disk. Whereas, Strings need encoding before which they can be stored on disk.\n",
    "\n",
    "\n",
    "    Encoding\n",
    "PNG, JPEG, MP3, WAV, ASCII, UTF-8 etc are different forms of encodings. An encoding is a format to represent audio, images, text, etc in bytes. Converting Strings to byte objects is termed as encoding. This is necessary so that the text can be stored on disk using mapping using ASCII or UTF-8 encoding techniques.\n",
    "This task is achieved using encode(). It take encoding technique as argument. Default technique is “UTF-8” technique.\n",
    " \n",
    "\n",
    "\n"
   ]
  },
  {
   "cell_type": "code",
   "execution_count": 8,
   "metadata": {},
   "outputs": [
    {
     "name": "stdout",
     "output_type": "stream",
     "text": [
      "Encoding successful\n"
     ]
    }
   ],
   "source": [
    "# Python code to demonstrate String encoding\n",
    "\n",
    "# initialising a String\n",
    "a = 'GeeksforGeeks'\n",
    "\n",
    "# initialising a byte object\n",
    "c = b'GeeksforGeeks'\n",
    "\n",
    "# using encode() to encode the String\n",
    "# encoded version of a is stored in d\n",
    "# using ASCII mapping\n",
    "d = a.encode('ASCII')\n",
    "\n",
    "# checking if a is converted to bytes or not\n",
    "if (d==c):\n",
    "\tprint (\"Encoding successful\")\n",
    "else : print (\"Encoding Unsuccessful\")\n"
   ]
  },
  {
   "attachments": {},
   "cell_type": "markdown",
   "metadata": {},
   "source": [
    "Decoding\n",
    "\n",
    "Similarly, Decoding is process to convert a Byte object to String. It is implemented using decode() . A byte string can be decoded back into a character string, if you know which encoding was used to encode it. Encoding and Decoding are inverse processes. "
   ]
  },
  {
   "cell_type": "code",
   "execution_count": 9,
   "metadata": {},
   "outputs": [
    {
     "name": "stdout",
     "output_type": "stream",
     "text": [
      "Decoding successful\n"
     ]
    }
   ],
   "source": [
    "# Python code to demonstrate Byte Decoding\n",
    "\n",
    "# initialising a String\n",
    "a = 'GeeksforGeeks'\n",
    "\n",
    "# initialising a byte object\n",
    "c = b'GeeksforGeeks'\n",
    "\n",
    "# using decode() to decode the Byte object\n",
    "# decoded version of c is stored in d\n",
    "# using ASCII mapping\n",
    "d = c.decode('ASCII')\n",
    "\n",
    "# checking if c is converted to String or not\n",
    "if (d==a):\n",
    "\tprint (\"Decoding successful\")\n",
    "else : print (\"Decoding Unsuccessful\")\n"
   ]
  },
  {
   "attachments": {},
   "cell_type": "markdown",
   "metadata": {},
   "source": [
    "### SWAPING"
   ]
  },
  {
   "cell_type": "code",
   "execution_count": 10,
   "metadata": {},
   "outputs": [
    {
     "name": "stdout",
     "output_type": "stream",
     "text": [
      "After Swapping values of x and y are 10 5\n"
     ]
    }
   ],
   "source": [
    "# Python program to swap two variables in a single line\n",
    "x = 5\n",
    "y = 10\n",
    "x, y = y, x\n",
    "print(\"After Swapping values of x and y are\", x, y)\n"
   ]
  },
  {
   "attachments": {},
   "cell_type": "markdown",
   "metadata": {},
   "source": [
    "# __name__ (A Special variable) in Python\n"
   ]
  },
  {
   "cell_type": "code",
   "execution_count": 11,
   "metadata": {},
   "outputs": [
    {
     "name": "stdout",
     "output_type": "stream",
     "text": [
      "File1 __name__ = __main__\n",
      "File1 is being run directly\n"
     ]
    }
   ],
   "source": [
    "# __name__ (A Special variable) in Python\n",
    "\n",
    "# File1.py\n",
    "\n",
    "print (\"File1 __name__ = %s\" %__name__)\n",
    "\n",
    "if __name__ == \"__main__\":\n",
    "\tprint (\"File1 is being run directly\")\n",
    "else:\n",
    "\tprint (\"File1 is being imported\")\n"
   ]
  },
  {
   "attachments": {},
   "cell_type": "markdown",
   "metadata": {},
   "source": [
    "# LOGIC GATES"
   ]
  },
  {
   "cell_type": "code",
   "execution_count": 12,
   "metadata": {},
   "outputs": [
    {
     "name": "stdout",
     "output_type": "stream",
     "text": [
      "True\n",
      "+---------------+----------------+\n",
      " | AND Truth Table | Result |\n",
      " A = False, B = False | A AND B = False  | \n",
      " A = False, B = True | A AND B = False  | \n",
      " A = True, B = False | A AND B = False  | \n",
      " A = True, B = True | A AND B = True  | \n"
     ]
    }
   ],
   "source": [
    "# Python3 program to illustrate\n",
    "# working of AND gate\n",
    "\n",
    "def AND (a, b):\n",
    "\n",
    "\tif a == 1 and b == 1:\n",
    "\t\treturn True\n",
    "\telse:\n",
    "\t\treturn False\n",
    "\n",
    "# Driver code\n",
    "if __name__=='__main__':\n",
    "\tprint(AND(1, 1))\n",
    "\n",
    "\tprint(\"+---------------+----------------+\")\n",
    "\tprint(\" | AND Truth Table | Result |\")\n",
    "\tprint(\" A = False, B = False | A AND B =\",AND(False,False),\" | \")\n",
    "\tprint(\" A = False, B = True | A AND B =\",AND(False,True),\" | \")\n",
    "\tprint(\" A = True, B = False | A AND B =\",AND(True,False),\" | \")\n",
    "\tprint(\" A = True, B = True | A AND B =\",AND(True,True),\" | \")\n"
   ]
  },
  {
   "cell_type": "code",
   "execution_count": 13,
   "metadata": {},
   "outputs": [
    {
     "name": "stdout",
     "output_type": "stream",
     "text": [
      "True\n",
      "+---------------+----------------+\n",
      " | NAND Truth Table | Result |\n",
      " A = False, B = False | A AND B = True  | \n",
      " A = False, B = True | A AND B = True  | \n",
      " A = True, B = False | A AND B = True  | \n",
      " A = True, B = True | A AND B = False  | \n"
     ]
    }
   ],
   "source": [
    "# Python3 program to illustrate\n",
    "# working of NAND gate\n",
    "\n",
    "def NAND (a, b):\n",
    "\tif a == 1 and b == 1:\n",
    "\t\treturn False\n",
    "\telse:\n",
    "\t\treturn True\n",
    "\n",
    "# Driver code\n",
    "if __name__=='__main__':\n",
    "\tprint(NAND(1, 0))\n",
    "\n",
    "\tprint(\"+---------------+----------------+\")\n",
    "\tprint(\" | NAND Truth Table | Result |\")\n",
    "\tprint(\" A = False, B = False | A AND B =\",NAND(False,False),\" | \")\n",
    "\tprint(\" A = False, B = True | A AND B =\",NAND(False,True),\" | \")\n",
    "\tprint(\" A = True, B = False | A AND B =\",NAND(True,False),\" | \")\n",
    "\tprint(\" A = True, B = True | A AND B =\",NAND(True,True),\" | \")\n"
   ]
  },
  {
   "cell_type": "code",
   "execution_count": 14,
   "metadata": {},
   "outputs": [
    {
     "name": "stdout",
     "output_type": "stream",
     "text": [
      "False\n",
      "+---------------+----------------+\n",
      " | OR Truth Table | Result |\n",
      " A = False, B = False | A OR B = False  | \n",
      " A = False, B = True | A OR B = True  | \n",
      " A = True, B = False | A OR B = True  | \n",
      " A = True, B = True | A OR B = True  | \n"
     ]
    }
   ],
   "source": [
    "# Python3 program to illustrate\n",
    "# working of OR gate\n",
    "\n",
    "def OR(a, b):\n",
    "\tif a == 1 or b ==1:\n",
    "\t\treturn True\n",
    "\telse:\n",
    "\t\treturn False\n",
    "\n",
    "# Driver code\n",
    "if __name__=='__main__':\n",
    "\tprint(OR(0, 0))\n",
    "\n",
    "\tprint(\"+---------------+----------------+\")\n",
    "\tprint(\" | OR Truth Table | Result |\")\n",
    "\tprint(\" A = False, B = False | A OR B =\",OR(False,False),\" | \")\n",
    "\tprint(\" A = False, B = True | A OR B =\",OR(False,True),\" | \")\n",
    "\tprint(\" A = True, B = False | A OR B =\",OR(True,False),\" | \")\n",
    "\tprint(\" A = True, B = True | A OR B =\",OR(True,True),\" | \")\n"
   ]
  },
  {
   "cell_type": "code",
   "execution_count": 15,
   "metadata": {},
   "outputs": [
    {
     "name": "stdout",
     "output_type": "stream",
     "text": [
      "0\n",
      "+---------------+----------------+\n",
      " | XOR Truth Table | Result |\n",
      " A = False, B = False | A XOR B = 0  | \n",
      " A = False, B = True | A XOR B = 1  | \n",
      " A = True, B = False | A XOR B = 1  | \n",
      " A = True, B = True | A XOR B = 0  | \n"
     ]
    }
   ],
   "source": [
    "# Python3 program to illustrate\n",
    "# working of Xor gate\n",
    "\n",
    "def XOR (a, b):\n",
    "\tif a != b:\n",
    "\t\treturn 1\n",
    "\telse:\n",
    "\t\treturn 0\n",
    "\n",
    "# Driver code\n",
    "if __name__=='__main__':\n",
    "\tprint(XOR(5, 5))\n",
    "\n",
    "\tprint(\"+---------------+----------------+\")\n",
    "\tprint(\" | XOR Truth Table | Result |\")\n",
    "\tprint(\" A = False, B = False | A XOR B =\",XOR(False,False),\" | \")\n",
    "\tprint(\" A = False, B = True | A XOR B =\",XOR(False,True),\" | \")\n",
    "\tprint(\" A = True, B = False | A XOR B =\",XOR(True,False),\" | \")\n",
    "\tprint(\" A = True, B = True | A XOR B =\",XOR(True,True),\" | \")\n"
   ]
  },
  {
   "cell_type": "code",
   "execution_count": 16,
   "metadata": {},
   "outputs": [
    {
     "name": "stdout",
     "output_type": "stream",
     "text": [
      "True\n",
      "+---------------+----------------+\n",
      " | NOT Truth Table | Result |\n",
      " A = False | A NOT = True  | \n",
      " A = True, | A NOT = False  | \n"
     ]
    }
   ],
   "source": [
    "# Python3 program to illustrate\n",
    "# working of Not gate\n",
    "\n",
    "def NOT(a):\n",
    "\treturn not a\n",
    "# Driver code\n",
    "if __name__=='__main__':\n",
    "\tprint(NOT(0))\n",
    "\n",
    "\tprint(\"+---------------+----------------+\")\n",
    "\tprint(\" | NOT Truth Table | Result |\")\n",
    "\tprint(\" A = False | A NOT =\",NOT(False),\" | \")\n",
    "\tprint(\" A = True, | A NOT =\",NOT(True),\" | \")\n",
    "\n"
   ]
  },
  {
   "cell_type": "code",
   "execution_count": 17,
   "metadata": {},
   "outputs": [
    {
     "name": "stdout",
     "output_type": "stream",
     "text": [
      "1\n",
      "+---------------+----------------+\n",
      " | NOR Truth Table | Result |\n",
      " A = False, B = False | A NOR B = 1  | \n",
      " A = False, B = True | A NOR B = 0  | \n",
      " A = True, B = False | A NOR B = 0  | \n",
      " A = True, B = True | A NOR B = 0  | \n"
     ]
    }
   ],
   "source": [
    "# Python3 program to illustrate\n",
    "# working of NOR gate\n",
    "\n",
    "def NOR(a, b):\n",
    "\tif(a == 0) and (b == 0):\n",
    "\t\treturn 1\n",
    "\telif(a == 0) and (b == 1):\n",
    "\t\treturn 0\n",
    "\telif(a == 1) and (b == 0):\n",
    "\t\treturn 0\n",
    "\telif(a == 1) and (b == 1):\n",
    "\t\treturn 0\n",
    "\n",
    "# Driver code\n",
    "if __name__=='__main__':\n",
    "\tprint(NOR(0, 0))\n",
    "\n",
    "\tprint(\"+---------------+----------------+\")\n",
    "\tprint(\" | NOR Truth Table | Result |\")\n",
    "\tprint(\" A = False, B = False | A NOR B =\",NOR(False,False),\" | \")\n",
    "\tprint(\" A = False, B = True | A NOR B =\",NOR(False,True),\" | \")\n",
    "\tprint(\" A = True, B = False | A NOR B =\",NOR(True,False),\" | \")\n",
    "\tprint(\" A = True, B = True | A NOR B =\",NOR(True,True),\" | \")\n"
   ]
  },
  {
   "cell_type": "code",
   "execution_count": 18,
   "metadata": {},
   "outputs": [
    {
     "name": "stdout",
     "output_type": "stream",
     "text": [
      "1\n",
      "+---------------+----------------+\n",
      " | XNOR Truth Table | Result |\n",
      " A = False, B = False | A XNOR B = 1  | \n",
      " A = False, B = True | A XNOR B = 0  | \n",
      " A = True, B = False | A XNOR B = 0  | \n",
      " A = True, B = True | A XNOR B = 1  | \n"
     ]
    }
   ],
   "source": [
    "# Python3 program to illustrate\n",
    "# working of Not gate\n",
    "\n",
    "def XNOR(a,b):\n",
    "\tif(a == b):\n",
    "\t\treturn 1\n",
    "\telse:\n",
    "\t\treturn 0\n",
    "# Driver code\n",
    "if __name__=='__main__':\n",
    "\tprint(XNOR(1,1))\n",
    "\n",
    "\tprint(\"+---------------+----------------+\")\n",
    "\tprint(\" | XNOR Truth Table | Result |\")\n",
    "\tprint(\" A = False, B = False | A XNOR B =\",XNOR(False,False),\" | \")\n",
    "\tprint(\" A = False, B = True | A XNOR B =\",XNOR(False,True),\" | \")\n",
    "\tprint(\" A = True, B = False | A XNOR B =\",XNOR(True,False),\" | \")\n",
    "\tprint(\" A = True, B = True | A XNOR B =\",XNOR(True,True),\" | \")\n"
   ]
  },
  {
   "cell_type": "code",
   "execution_count": null,
   "metadata": {},
   "outputs": [],
   "source": []
  }
 ],
 "metadata": {
  "kernelspec": {
   "display_name": "Python 3",
   "language": "python",
   "name": "python3"
  },
  "language_info": {
   "codemirror_mode": {
    "name": "ipython",
    "version": 3
   },
   "file_extension": ".py",
   "mimetype": "text/x-python",
   "name": "python",
   "nbconvert_exporter": "python",
   "pygments_lexer": "ipython3",
   "version": "3.10.6"
  },
  "orig_nbformat": 4
 },
 "nbformat": 4,
 "nbformat_minor": 2
}
