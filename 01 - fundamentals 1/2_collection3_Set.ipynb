{
 "cells": [
  {
   "cell_type": "code",
   "execution_count": null,
   "metadata": {},
   "outputs": [],
   "source": [
    "# Python Collections (Arrays)\n",
    "# ===========================\n",
    "# There are four collection data types in the Python programming language:\n",
    "    # 1. List is a collection \n",
    "    #       which is ordered and changeable. \n",
    "    #        Allows duplicate members.\n",
    "    # 2. Tuple is a collection \n",
    "    #        which is ordered and unchangeable. \n",
    "    #        Allows duplicate members.\n",
    "    # 3. Set is a collection \n",
    "    #       which is unordered, unchangeable*, and unindexed. \n",
    "    #       No duplicate members.\n",
    "    # 4. Dictionary is a collection \n",
    "    #       which is ordered** and changeable. \n",
    "    #       No duplicate members.\n",
    "\n",
    "#========================================\n"
   ]
  },
  {
   "attachments": {},
   "cell_type": "markdown",
   "metadata": {},
   "source": [
    "# PYTHON SETS\n",
    "# ============="
   ]
  },
  {
   "cell_type": "code",
   "execution_count": null,
   "metadata": {},
   "outputs": [],
   "source": [
    "# A set is a collection \n",
    "    # which is unordered, \n",
    "    #         non duplicate \n",
    "    #         unchangeable*, and \n",
    "    #         unindexed.\n",
    "    \n",
    "#unchangable=> cant be modified, but remove and add can be done\n",
    "\n",
    "myset = {\"apple\",\"orange\",\"cherry\"}\n",
    "print(myset)#{'orange', 'cherry', 'apple'}\n",
    "print(type(myset))#<class 'set'>\n",
    "\n"
   ]
  },
  {
   "cell_type": "code",
   "execution_count": null,
   "metadata": {},
   "outputs": [],
   "source": [
    "# nonduplicate\n",
    "myset = {\"apple\",\"orange\",\"cherry\", \"apple\", True, 1, 2}\n",
    "print(myset)#{True, 2, 'orange', 'cherry', 'apple'}\n",
    "#ob: duplicates have been discarded\n",
    "#ob: True and 1 considered as same"
   ]
  },
  {
   "cell_type": "code",
   "execution_count": null,
   "metadata": {},
   "outputs": [],
   "source": [
    "myset = {\"apple\",\"orange\",\"cherry\", \"apple\", True, 1, 2}\n",
    "print(myset)#{True, 2, 'cherry', 'apple', 'orange'}\n",
    "print(len(myset))#5"
   ]
  },
  {
   "cell_type": "code",
   "execution_count": null,
   "metadata": {},
   "outputs": [],
   "source": [
    "#assigning to set\n",
    "set1 = {\"apple\", \"banana\", \"cherry\"}\n",
    "set2 = {1, 5, 7, 9, 3}\n",
    "set3 = {True, False, False}\n",
    "set1 = {\"abc\", 34, True, 40, \"male\"}\n",
    "#using constructor\n",
    "thisset = set((\"apple\", \"banana\", \"cherry\")) # note the double round-brackets\n"
   ]
  },
  {
   "cell_type": "code",
   "execution_count": null,
   "metadata": {},
   "outputs": [],
   "source": [
    "#accessing items from a set\n",
    "set1 = {\"apple\", \"banana\", \"cherry\"}\n",
    "for x in set1:\n",
    "    print(x)\n",
    "\n",
    "print(\"banana\" in set1)#True\n"
   ]
  },
  {
   "cell_type": "code",
   "execution_count": 18,
   "metadata": {},
   "outputs": [
    {
     "name": "stdout",
     "output_type": "stream",
     "text": [
      "{'grapes', 'cherry', 'apple', 'banana'}\n"
     ]
    }
   ],
   "source": [
    "# add new item\n",
    "set1 = {\"apple\", \"banana\", \"cherry\"}\n",
    "set1.add(\"grapes\")\n",
    "print(set1)"
   ]
  },
  {
   "cell_type": "code",
   "execution_count": 19,
   "metadata": {},
   "outputs": [
    {
     "name": "stdout",
     "output_type": "stream",
     "text": [
      "{'pineapple', 'cherry', 'mango', 'apple', 'banana', 'papaya'}\n"
     ]
    }
   ],
   "source": [
    "#add another set\n",
    "set1 = {\"apple\", \"banana\", \"cherry\"}\n",
    "set2 = {\"pineapple\", \"mango\", \"papaya\"}\n",
    "set1.update(set2)\n",
    "\n",
    "print(set1)"
   ]
  },
  {
   "cell_type": "code",
   "execution_count": 20,
   "metadata": {},
   "outputs": [
    {
     "name": "stdout",
     "output_type": "stream",
     "text": [
      "{'pineapple', 'mango', 'apple', 'cherry', 'banana', 'papaya'}\n"
     ]
    }
   ],
   "source": [
    "#update method doesnt have to be set, it can be any iterable object\n",
    "#using list\n",
    "set1 = {\"apple\", \"banana\", \"cherry\"}\n",
    "set2 = [\"pineapple\", \"mango\", \"papaya\"]\n",
    "set1.update(set2)\n",
    "\n",
    "print(set1)"
   ]
  },
  {
   "cell_type": "code",
   "execution_count": 24,
   "metadata": {},
   "outputs": [
    {
     "name": "stdout",
     "output_type": "stream",
     "text": [
      "{'cherry', 'banana'}\n",
      "{'cherry', 'banana'}\n",
      "{'apple', 'banana'}\n",
      "cherry\n"
     ]
    }
   ],
   "source": [
    "#remove an item\n",
    "\n",
    "#using remove method\n",
    "set1 = {\"apple\", \"banana\", \"cherry\"}\n",
    "set1.remove(\"apple\")\n",
    "print(set1)\n",
    "\n",
    "#using discard method\n",
    "set1 = {\"apple\", \"banana\", \"cherry\"}\n",
    "set1.discard(\"apple\")\n",
    "print(set1)\n",
    "\n",
    "#ob: discard and remove => both returns none\n",
    "# ob: If the item to remove does not exist, \n",
    "#       discard() will NOT raise an error.\n",
    "\n",
    "\n",
    "#using pop(): pop will remove ramdom item and return the item\n",
    "set1 = {\"apple\", \"banana\", \"cherry\"}\n",
    "item = set1.pop()\n",
    "print(set1)\n",
    "print(item)"
   ]
  },
  {
   "cell_type": "code",
   "execution_count": 27,
   "metadata": {},
   "outputs": [
    {
     "name": "stdout",
     "output_type": "stream",
     "text": [
      "set()\n"
     ]
    }
   ],
   "source": [
    "#clear\n",
    "set1 = {\"apple\", \"banana\", \"cherry\"}\n",
    "set1.clear()\n",
    "print(set1)#set()\n",
    "\n",
    "\n",
    "#delete\n",
    "set1 = {\"apple\", \"banana\", \"cherry\"}\n",
    "del set1\n",
    "# print(set1)#error set1 is not defined\n",
    "\n"
   ]
  },
  {
   "cell_type": "code",
   "execution_count": 29,
   "metadata": {},
   "outputs": [
    {
     "name": "stdout",
     "output_type": "stream",
     "text": [
      "{'c', 1, 2, 3, 'b', 'a'}\n",
      "{'c', 1, 2, 3, 'b', 'a'}\n"
     ]
    }
   ],
   "source": [
    "#joining two sets\n",
    "\n",
    "#using union()\n",
    "set1 = {\"a\", \"b\" , \"c\"}\n",
    "set2 = {1, 2, 3}\n",
    "set3 =set1.union(set2)\n",
    "print(set3)#{'c', 1, 2, 3, 'b', 'a'}\n",
    "\n",
    "\n",
    "#using update()\n",
    "set1 = {\"a\", \"b\" , \"c\"}\n",
    "set2 = {1, 2, 3}\n",
    "set1.update(set2)\n",
    "print(set1)#{'c', 1, 2, 3, 'b', 'a'}\n",
    "\n",
    "#ob: both union and update discard duplicate items\n",
    "#ob: union creates new set"
   ]
  },
  {
   "cell_type": "code",
   "execution_count": 30,
   "metadata": {},
   "outputs": [
    {
     "name": "stdout",
     "output_type": "stream",
     "text": [
      "{'apple'}\n"
     ]
    }
   ],
   "source": [
    "# Keep ONLY the Duplicates\n",
    "x = {\"apple\", \"banana\", \"cherry\"}\n",
    "y = {\"google\", \"microsoft\", \"apple\"}\n",
    "\n",
    "x.intersection_update(y)\n",
    "print(x)#{'apple'}\n",
    "\n",
    "# ob: intersection_update() keeps only the item that present in both sets\n",
    "\n",
    "\n",
    "x = {\"apple\", \"banana\", \"cherry\"}\n",
    "y = {\"google\", \"microsoft\", \"apple\"}\n",
    "\n",
    "z = x.intersection(y)\n",
    "\n",
    "print(z)\n",
    "\n",
    "#ob: intersection() produce a new set\n",
    "#ob: intersection() keeps only the item that present in both sets\n"
   ]
  },
  {
   "cell_type": "code",
   "execution_count": 32,
   "metadata": {},
   "outputs": [
    {
     "name": "stdout",
     "output_type": "stream",
     "text": [
      "{'microsoft', 'cherry', 'banana', 'google'}\n",
      "{'microsoft', 'cherry', 'banana', 'google'}\n"
     ]
    }
   ],
   "source": [
    "x = {\"apple\", \"banana\", \"cherry\"}\n",
    "y = {\"google\", \"microsoft\", \"apple\"}\n",
    "\n",
    "x.symmetric_difference_update(y)\n",
    "\n",
    "print(x)\n",
    "# ob: The symmetric_difference_update() method will keep only \n",
    "#     the elements that are NOT present in both sets.\n",
    "\n",
    "\n",
    "\n",
    "x = {\"apple\", \"banana\", \"cherry\"}\n",
    "y = {\"google\", \"microsoft\", \"apple\"}\n",
    "\n",
    "z = x.symmetric_difference(y)\n",
    "\n",
    "print(z)\n",
    "#ob: The symmetric_difference() method will return a new set, \n",
    "#       that contains only the elements that are NOT \n",
    "#       present in both sets.\n",
    "\n",
    "\n"
   ]
  },
  {
   "cell_type": "code",
   "execution_count": 34,
   "metadata": {},
   "outputs": [
    {
     "name": "stdout",
     "output_type": "stream",
     "text": [
      "{'cherry', 'apple', 'banana'}\n"
     ]
    }
   ],
   "source": [
    "#more methods associated with set\n",
    "# copy()\tReturns a copy of the set\n",
    "x = {\"apple\", \"banana\", \"cherry\"}\n",
    "y= x.copy()\n",
    "print(y)#{'cherry', 'apple', 'banana'}\n"
   ]
  },
  {
   "cell_type": "code",
   "execution_count": 42,
   "metadata": {},
   "outputs": [
    {
     "name": "stdout",
     "output_type": "stream",
     "text": [
      "{'cherry'}\n",
      "{'cherry', 'banana'}\n"
     ]
    }
   ],
   "source": [
    "# difference()\tReturns a set containing the difference between two or more sets\n",
    "x = {\"apple\", \"banana\", \"cherry\"}\n",
    "y = {\"google\", \"microsoft\", \"apple\"}\n",
    "z = {\"banana\"}\n",
    "result= x.difference(y,z)\n",
    "print(result)#{'cherry'}\n",
    "\n",
    "# difference_update()\tRemoves the items in this set that are also included in another, specified set\n",
    "x = {\"apple\", \"banana\", \"cherry\"}\n",
    "y = {\"google\", \"microsoft\", \"apple\"}\n",
    "x.difference_update(y)\n",
    "print(x)#{'cherry', 'banana'}\n",
    "\n",
    "# The difference_update() method removes the items that exist in both sets.\n",
    "\n"
   ]
  },
  {
   "cell_type": "code",
   "execution_count": 45,
   "metadata": {},
   "outputs": [
    {
     "name": "stdout",
     "output_type": "stream",
     "text": [
      "{'apple'}\n",
      "{'apple'}\n"
     ]
    }
   ],
   "source": [
    "\n",
    "# intersection()\tReturns a set, that is the intersection of two other sets\n",
    "x = {\"apple\", \"banana\", \"cherry\"}\n",
    "y = {\"google\", \"microsoft\", \"apple\",\"banana\"}\n",
    "z = {\"apple\"}\n",
    "result= x.intersection(y,z)\n",
    "print(result)#{'apple'}\n",
    "\n",
    "\n",
    "# intersection_update()\tRemoves the items in this set that are not present in other, specified set(s)\n",
    "x = {\"apple\", \"banana\", \"cherry\"}\n",
    "y = {\"google\", \"microsoft\", \"apple\",\"banana\"}\n",
    "z = {\"apple\"}\n",
    "x.intersection_update(y,z)\n",
    "print(result)#{'apple'}\n",
    "\n",
    "\n"
   ]
  },
  {
   "cell_type": "code",
   "execution_count": 52,
   "metadata": {},
   "outputs": [
    {
     "name": "stdout",
     "output_type": "stream",
     "text": [
      "True\n",
      "False\n"
     ]
    }
   ],
   "source": [
    "# isdisjoint()\tReturns whether two sets have a intersection or not\n",
    "x = {\"apple\", \"banana\", \"cherry\"}\n",
    "y = {\"google\", \"microsoft\", \"facebook\"}\n",
    "\n",
    "z = x.isdisjoint(y)\n",
    "\n",
    "print(z)#True\n",
    "\n",
    "x = {\"apple\", \"banana\", \"cherry\"}\n",
    "y = {\"google\", \"microsoft\", \"apple\"}\n",
    "\n",
    "z = x.isdisjoint(y)\n",
    "\n",
    "print(z)#False\n",
    "\n"
   ]
  },
  {
   "cell_type": "code",
   "execution_count": 50,
   "metadata": {},
   "outputs": [
    {
     "name": "stdout",
     "output_type": "stream",
     "text": [
      "True\n",
      "True\n"
     ]
    }
   ],
   "source": [
    "# issubset()\tReturns whether another set contains this set or not\n",
    "x = {\"apple\", \"banana\", \"cherry\"}\n",
    "y = {\"apple\"}\n",
    "\n",
    "z = y.issubset(x)\n",
    "\n",
    "print(z)#True\n",
    "\n",
    "\n",
    "# issuperset()\tReturns whether this set contains another set or not\n",
    "\n",
    "x = {\"apple\", \"banana\", \"cherry\"}\n",
    "y = {\"apple\"}\n",
    "\n",
    "z = x.issuperset(y)\n",
    "\n",
    "print(z)#True\n"
   ]
  },
  {
   "cell_type": "code",
   "execution_count": 5,
   "metadata": {},
   "outputs": [
    {
     "name": "stdout",
     "output_type": "stream",
     "text": [
      "Initial blank Set: \n",
      "set()\n",
      "\n",
      "Set with the use of String: \n",
      "{'u', 'b', 'a'}\n",
      "\n",
      "Set with the use of an Object: \n",
      "{'u', 'b', 'a'}\n",
      "\n",
      "Set with the use of List: \n",
      "{'babu', 'pallam'}\n"
     ]
    }
   ],
   "source": [
    "# Python program to demonstrate\n",
    "# Creation of Set in Python\n",
    "\n",
    "# Creating a Set\n",
    "set1 = set()\n",
    "print(\"Initial blank Set: \")\n",
    "print(set1)\n",
    "\n",
    "# Creating a Set with\n",
    "# the use of a String\n",
    "set1 = set(\"babu\")\n",
    "print(\"\\nSet with the use of String: \")\n",
    "print(set1)\n",
    "\n",
    "# Creating a Set with\n",
    "# the use of Constructor\n",
    "# (Using object to Store String)\n",
    "String = 'babu'\n",
    "set1 = set(String)\n",
    "print(\"\\nSet with the use of an Object: \" )\n",
    "print(set1)\n",
    "#ob: duplicates not allowed\n",
    "\n",
    "# Creating a Set with\n",
    "# the use of a List\n",
    "set1 = set([\"babu\",\"pallam\"])\n",
    "print(\"\\nSet with the use of List: \")\n",
    "print(set1)\n"
   ]
  },
  {
   "cell_type": "code",
   "execution_count": null,
   "metadata": {},
   "outputs": [],
   "source": []
  }
 ],
 "metadata": {
  "kernelspec": {
   "display_name": "Python 3",
   "language": "python",
   "name": "python3"
  },
  "language_info": {
   "codemirror_mode": {
    "name": "ipython",
    "version": 3
   },
   "file_extension": ".py",
   "mimetype": "text/x-python",
   "name": "python",
   "nbconvert_exporter": "python",
   "pygments_lexer": "ipython3",
   "version": "3.10.6"
  },
  "orig_nbformat": 4
 },
 "nbformat": 4,
 "nbformat_minor": 2
}
