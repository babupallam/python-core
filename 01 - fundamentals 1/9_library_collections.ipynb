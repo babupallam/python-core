{
 "cells": [
  {
   "attachments": {},
   "cell_type": "markdown",
   "metadata": {},
   "source": [
    "# Collection module\n",
    "\n",
    "container: \n",
    "    \n",
    "    - containers are objects that hold objects\n",
    "    - they provide access to the container objects and iterate over them\n",
    "    - eg of build in containers:\n",
    "        1. tuple\n",
    "        2. list\n",
    "        3. set\n",
    "        4. dictionary\n"
   ]
  },
  {
   "attachments": {},
   "cell_type": "markdown",
   "metadata": {},
   "source": [
    "# # Counters in Python"
   ]
  },
  {
   "attachments": {},
   "cell_type": "markdown",
   "metadata": {},
   "source": [
    "A counter:\n",
    "\n",
    "- It is a subclass of dict.\n",
    "\n",
    "- so unordered collection where elements and their respecitve count are stored in a dictionary"
   ]
  },
  {
   "cell_type": "code",
   "execution_count": 3,
   "metadata": {},
   "outputs": [
    {
     "name": "stdout",
     "output_type": "stream",
     "text": [
      "Counter({'B': 5, 'A': 3, 'C': 2})\n",
      "Counter({'B': 5, 'A': 3, 'C': 2})\n",
      "Counter({'B': 5, 'A': 3, 'C': 2})\n",
      "Counter({1: 1, 2: 1, 3: 1})\n"
     ]
    }
   ],
   "source": [
    "# A Python program to show different ways to create\n",
    "# Counter\n",
    "from collections import Counter\n",
    "\n",
    "# With sequence of items\n",
    "print(Counter(['B','B','A','B','C','A','B','B','A','C']))\n",
    "\n",
    "# with dictionary\n",
    "print(Counter({'A':3, 'B':5, 'C':2}))\n",
    "\n",
    "# with keyword arguments\n",
    "print(Counter(A=3, B=5, C=2))\n",
    "\n",
    "#with emty container \n",
    "coun = Counter()\n",
    "coun.update([1,2,3])\n",
    "print(coun)\n",
    "\n",
    "\n"
   ]
  },
  {
   "cell_type": "code",
   "execution_count": 4,
   "metadata": {},
   "outputs": [
    {
     "name": "stdout",
     "output_type": "stream",
     "text": [
      "Counter({1: 4, 2: 3, 3: 1})\n",
      "Counter({1: 5, 2: 4, 3: 1, 4: 1})\n"
     ]
    }
   ],
   "source": [
    "# A Python program to demonstrate update()\n",
    "from collections import Counter\n",
    "coun = Counter()\n",
    "\n",
    "coun.update([1, 2, 3, 1, 2, 1, 1, 2])\n",
    "print(coun)\n",
    "\n",
    "coun.update([1, 2, 4])\n",
    "print(coun)\n"
   ]
  },
  {
   "cell_type": "code",
   "execution_count": 5,
   "metadata": {},
   "outputs": [
    {
     "name": "stdout",
     "output_type": "stream",
     "text": [
      "Counter({'C': 6, 'B': 0, 'A': -6})\n"
     ]
    }
   ],
   "source": [
    "# Python program to demonstrate that counts in\n",
    "# Counter can be 0 and negative\n",
    "from collections import Counter\n",
    "\n",
    "c1 = Counter(A=4, B=3, C=10)\n",
    "c2 = Counter(A=10, B=3, C=4)\n",
    "\n",
    "c1.subtract(c2)\n",
    "print(c1)\n"
   ]
  },
  {
   "cell_type": "code",
   "execution_count": 6,
   "metadata": {},
   "outputs": [
    {
     "name": "stdout",
     "output_type": "stream",
     "text": [
      "Counter({'C': 6, 'B': 0, 'A': -6})\n"
     ]
    }
   ],
   "source": [
    "# Python program to demonstrate that counts in\n",
    "# Counter can be 0 and negative\n",
    "from collections import Counter\n",
    "\n",
    "c1 = Counter(A=4, B=3, C=10)\n",
    "c2 = Counter(A=10, B=3, C=4)\n",
    "\n",
    "c1.subtract(c2)\n",
    "print(c1)\n"
   ]
  },
  {
   "cell_type": "code",
   "execution_count": 7,
   "metadata": {},
   "outputs": [
    {
     "name": "stdout",
     "output_type": "stream",
     "text": [
      "Counter({'blue': 3, 'red': 2, 'yellow': 1})\n"
     ]
    }
   ],
   "source": [
    "#We can use Counter to count distinct elements of a list or other collections. \n",
    "\n",
    "# An example program where different list items are\n",
    "# counted using counter\n",
    "from collections import Counter\n",
    "\n",
    "# Create a list\n",
    "z = ['blue', 'red', 'blue', 'yellow', 'blue', 'red']\n",
    "\n",
    "# Count distinct elements and print Counter aobject\n",
    "print(Counter(z))\n"
   ]
  },
  {
   "attachments": {},
   "cell_type": "markdown",
   "metadata": {},
   "source": [
    "# # OrderedDict in Python\n",
    "\n",
    "An OrderedDict is a dictionary subclass that remembers the order that keys were first inserted. The only difference between dict() and OrderedDict() is that:\n",
    "\n",
    "OrderedDict preserves the order in which the keys are inserted. A regular dict doesn’t track the insertion order and iterating it gives the values in an arbitrary order. By contrast, the order the items are inserted is remembered by OrderedDict.\n"
   ]
  },
  {
   "cell_type": "code",
   "execution_count": 15,
   "metadata": {},
   "outputs": [
    {
     "name": "stdout",
     "output_type": "stream",
     "text": [
      "This is a Dict:\n",
      "\n",
      "a 1  b 2  c 3  d 4  \n",
      "This is an Ordered Dict:\n",
      "\n",
      "a 1  b 2  c 3  d 4  "
     ]
    }
   ],
   "source": [
    "# A Python program to demonstrate working of OrderedDict\n",
    "from collections import OrderedDict\n",
    "\n",
    "print(\"This is a Dict:\\n\")\n",
    "d = {}\n",
    "d['a'] = 1\n",
    "d['b'] = 2\n",
    "d['c'] = 3\n",
    "d['d'] = 4\n",
    "\n",
    "for key, value in d.items():\n",
    "\tprint(key, value,end=\"  \")\n",
    "\n",
    "\n",
    "print(\"\\nThis is an Ordered Dict:\\n\")\n",
    "od = OrderedDict()\n",
    "od['a'] = 1\n",
    "od['b'] = 2\n",
    "od['c'] = 3\n",
    "od['d'] = 4\n",
    "\n",
    "for key, value in od.items():\n",
    "\tprint(key, value,end=\"  \")\n"
   ]
  },
  {
   "attachments": {},
   "cell_type": "markdown",
   "metadata": {},
   "source": [
    "1. Key value Change: If the value of a certain key is changed, the position of the key remains unchanged in OrderedDict."
   ]
  },
  {
   "cell_type": "code",
   "execution_count": 12,
   "metadata": {},
   "outputs": [
    {
     "name": "stdout",
     "output_type": "stream",
     "text": [
      "Before:\n",
      "\n",
      "a 1   b 2   c 3   d 4   \n",
      "After:\n",
      "\n",
      "a 1   b 2   c 5   d 4   "
     ]
    }
   ],
   "source": [
    "# A Python program to demonstrate working of key\n",
    "# value change in OrderedDict\n",
    "from collections import OrderedDict\n",
    "\n",
    "print(\"Before:\\n\")\n",
    "od = OrderedDict()\n",
    "od['a'] = 1\n",
    "od['b'] = 2\n",
    "od['c'] = 3\n",
    "od['d'] = 4\n",
    "for key, value in od.items():\n",
    "\tprint(key, value, end=\"   \")\n",
    "\n",
    "print(\"\\nAfter:\\n\")\n",
    "od['c'] = 5\n",
    "for key, value in od.items():\n",
    "\tprint(key, value, end=\"   \")\n"
   ]
  },
  {
   "cell_type": "code",
   "execution_count": 16,
   "metadata": {},
   "outputs": [
    {
     "name": "stdout",
     "output_type": "stream",
     "text": [
      "Before deleting:\n",
      "\n",
      "a 1\n",
      "b 2\n",
      "c 3\n",
      "d 4\n",
      "\n",
      "After deleting:\n",
      "\n",
      "a 1\n",
      "b 2\n",
      "d 4\n",
      "\n",
      "After re-inserting:\n",
      "\n",
      "a 1\n",
      "b 2\n",
      "d 4\n",
      "c 3\n"
     ]
    }
   ],
   "source": [
    "# A Python program to demonstrate working of deletion\n",
    "# re-insertion in OrderedDict\n",
    "from collections import OrderedDict\n",
    "\n",
    "print(\"Before deleting:\\n\")\n",
    "od = OrderedDict()\n",
    "od['a'] = 1\n",
    "od['b'] = 2\n",
    "od['c'] = 3\n",
    "od['d'] = 4\n",
    "\n",
    "for key, value in od.items():\n",
    "\tprint(key, value)\n",
    "\n",
    "print(\"\\nAfter deleting:\\n\")\n",
    "od.pop('c')\n",
    "for key, value in od.items():\n",
    "\tprint(key, value)\n",
    "\n",
    "print(\"\\nAfter re-inserting:\\n\")\n",
    "od['c'] = 3\n",
    "for key, value in od.items():\n",
    "\tprint(key, value)\n"
   ]
  },
  {
   "cell_type": "code",
   "execution_count": 20,
   "metadata": {},
   "outputs": [
    {
     "name": "stdout",
     "output_type": "stream",
     "text": [
      "e 5\n",
      "a 1\n",
      "b 2\n",
      "c 3\n",
      "d 4\n"
     ]
    }
   ],
   "source": [
    "from collections import OrderedDict\n",
    "\n",
    "# Create an ordered dictionary of key-value pairs\n",
    "my_dict = OrderedDict([('a', 1), ('b', 2), ('c', 3)])\n",
    "\n",
    "# Add a new item to the end of the dictionary\n",
    "my_dict['d'] = 4\n",
    "\n",
    "# Add a new item at a specific position in the dictionary\n",
    "my_dict.update({'e': 5})\n",
    "my_dict.move_to_end('e', last=False)\n",
    "\n",
    "# Iterate over the dictionary in the order in which items were added\n",
    "for key, value in my_dict.items():\n",
    "\tprint(key, value)\n"
   ]
  },
  {
   "attachments": {},
   "cell_type": "markdown",
   "metadata": {},
   "source": [
    "# # Defaultdict in Python\n",
    "\n",
    "inbuild dict\n"
   ]
  },
  {
   "cell_type": "code",
   "execution_count": 21,
   "metadata": {},
   "outputs": [
    {
     "name": "stdout",
     "output_type": "stream",
     "text": [
      "Dictionary:\n",
      "{1: 'Geeks', 2: 'For', 3: 'Geeks'}\n",
      "Geeks\n"
     ]
    }
   ],
   "source": [
    "# Python program to demonstrate\n",
    "# dictionary\n",
    "\n",
    "\n",
    "Dict = {1: 'Geeks', 2: 'For', 3: 'Geeks'}\n",
    "print(\"Dictionary:\")\n",
    "print(Dict)\n",
    "print(Dict[1])\n",
    "\n",
    "# Uncommenting this print(Dict[4])\n",
    "# will raise a KeyError as the\n",
    "# 4 is not present in the dictionary\n"
   ]
  },
  {
   "cell_type": "code",
   "execution_count": 23,
   "metadata": {},
   "outputs": [
    {
     "name": "stdout",
     "output_type": "stream",
     "text": [
      "1\n",
      "2\n",
      "Not Present\n"
     ]
    }
   ],
   "source": [
    "# Python program to demonstrate\n",
    "# defaultdict\n",
    "\n",
    "\n",
    "from collections import defaultdict\n",
    "\n",
    "\n",
    "# Function to return a default\n",
    "# values for keys that is not\n",
    "# present\n",
    "def def_value():\n",
    "\treturn \"Not Present\"\n",
    "\t\n",
    "# Defining the dict\n",
    "d = defaultdict(def_value)\n",
    "d[\"a\"] = 1\n",
    "d[\"b\"] = 2\n",
    "\n",
    "print(d[\"a\"])\n",
    "print(d[\"b\"])\n",
    "print(d[\"c\"])\n"
   ]
  },
  {
   "cell_type": "code",
   "execution_count": 24,
   "metadata": {},
   "outputs": [
    {
     "name": "stdout",
     "output_type": "stream",
     "text": [
      "1\n",
      "2\n",
      "Not Present\n"
     ]
    }
   ],
   "source": [
    "# Python program to demonstrate\n",
    "# default_factory argument of\n",
    "# defaultdict\n",
    "\n",
    "\n",
    "from collections import defaultdict\n",
    "\n",
    "\t\n",
    "# Defining the dict and passing\n",
    "# lambda as default_factory argument\n",
    "d = defaultdict(lambda: \"Not Present\")\n",
    "d[\"a\"] = 1\n",
    "d[\"b\"] = 2\n",
    "\n",
    "print(d[\"a\"])\n",
    "print(d[\"b\"])\n",
    "print(d[\"c\"])\n"
   ]
  },
  {
   "cell_type": "code",
   "execution_count": 25,
   "metadata": {},
   "outputs": [
    {
     "name": "stdout",
     "output_type": "stream",
     "text": [
      "Not Present\n",
      "Not Present\n"
     ]
    }
   ],
   "source": [
    "# Python program to demonstrate\n",
    "# defaultdict\n",
    "\n",
    "\n",
    "from collections import defaultdict\n",
    "\n",
    "\t\n",
    "# Defining the dict\n",
    "d = defaultdict(lambda: \"Not Present\")\n",
    "d[\"a\"] = 1\n",
    "d[\"b\"] = 2\n",
    "\n",
    "# Provides the default value\n",
    "# for the key\n",
    "print(d.__missing__('a'))\n",
    "print(d.__missing__('d'))\n"
   ]
  },
  {
   "cell_type": "code",
   "execution_count": 26,
   "metadata": {},
   "outputs": [
    {
     "name": "stdout",
     "output_type": "stream",
     "text": [
      "Dictionary with values as list:\n",
      "defaultdict(<class 'list'>, {0: [0], 1: [1], 2: [2], 3: [3], 4: [4]})\n"
     ]
    }
   ],
   "source": [
    "# Python program to demonstrate\n",
    "# defaultdict\n",
    "\n",
    "\n",
    "from collections import defaultdict\n",
    "\n",
    "\n",
    "# Defining a dict\n",
    "d = defaultdict(list)\n",
    "\n",
    "for i in range(5):\n",
    "\td[i].append(i)\n",
    "\t\n",
    "print(\"Dictionary with values as list:\")\n",
    "print(d)\n"
   ]
  },
  {
   "cell_type": "code",
   "execution_count": 27,
   "metadata": {},
   "outputs": [
    {
     "name": "stdout",
     "output_type": "stream",
     "text": [
      "defaultdict(<class 'int'>, {1: 2, 2: 3, 3: 1, 4: 2})\n"
     ]
    }
   ],
   "source": [
    "# Python program to demonstrate\n",
    "# defaultdict\n",
    "\n",
    "\n",
    "from collections import defaultdict\n",
    "\n",
    "\n",
    "# Defining the dict\n",
    "d = defaultdict(int)\n",
    "\n",
    "L = [1, 2, 3, 4, 2, 4, 1, 2]\n",
    "\n",
    "# Iterate through the list\n",
    "# for keeping the count\n",
    "for i in L:\n",
    "\t\n",
    "\t# The default value is 0\n",
    "\t# so there is no need to\n",
    "\t# enter the key first\n",
    "\td[i] += 1\n",
    "\t\n",
    "print(d)\n"
   ]
  },
  {
   "attachments": {},
   "cell_type": "markdown",
   "metadata": {},
   "source": [
    "# # ChainMap in Python\n",
    "\n",
    "\n",
    "Python contains a container called “ChainMap” which encapsulates many dictionaries into one unit. ChainMap is member of module “collections“."
   ]
  },
  {
   "cell_type": "code",
   "execution_count": 28,
   "metadata": {},
   "outputs": [
    {
     "name": "stdout",
     "output_type": "stream",
     "text": [
      "ChainMap({'a': 1, 'b': 2}, {'c': 3, 'd': 4}, {'e': 5, 'f': 6})\n"
     ]
    }
   ],
   "source": [
    "# Python program to demonstrate\n",
    "# ChainMap\n",
    "\t\n",
    "\t\n",
    "from collections import ChainMap\n",
    "\t\n",
    "\t\n",
    "d1 = {'a': 1, 'b': 2}\n",
    "d2 = {'c': 3, 'd': 4}\n",
    "d3 = {'e': 5, 'f': 6}\n",
    "\t\n",
    "# Defining the chainmap\n",
    "c = ChainMap(d1, d2, d3)\n",
    "\t\n",
    "print(c)\n"
   ]
  },
  {
   "cell_type": "code",
   "execution_count": 29,
   "metadata": {},
   "outputs": [
    {
     "name": "stdout",
     "output_type": "stream",
     "text": [
      "All the ChainMap contents are : \n",
      "[{'a': 1, 'b': 2}, {'b': 3, 'c': 4}]\n",
      "All keys of ChainMap are : \n",
      "['b', 'c', 'a']\n",
      "All values of ChainMap are : \n",
      "[2, 4, 1]\n"
     ]
    }
   ],
   "source": [
    "#access operations\n",
    "\n",
    "# Please select Python 3 for running this code in IDE\n",
    "# Python code to demonstrate ChainMap and\n",
    "# keys(), values() and maps\n",
    "\n",
    "# importing collections for ChainMap operations\n",
    "import collections\n",
    "\n",
    "# initializing dictionaries\n",
    "dic1 = { 'a' : 1, 'b' : 2 }\n",
    "dic2 = { 'b' : 3, 'c' : 4 }\n",
    "\n",
    "# initializing ChainMap\n",
    "chain = collections.ChainMap(dic1, dic2)\n",
    "\n",
    "# printing chainMap using maps\n",
    "print (\"All the ChainMap contents are : \")\n",
    "print (chain.maps)\n",
    "\n",
    "# printing keys using keys()\n",
    "print (\"All keys of ChainMap are : \")\n",
    "print (list(chain.keys()))\n",
    "\n",
    "# printing keys using keys()\n",
    "print (\"All values of ChainMap are : \")\n",
    "print (list(chain.values()))\n"
   ]
  },
  {
   "cell_type": "code",
   "execution_count": 30,
   "metadata": {},
   "outputs": [
    {
     "name": "stdout",
     "output_type": "stream",
     "text": [
      "All the ChainMap contents are : \n",
      "[{'a': 1, 'b': 2}, {'b': 3, 'c': 4}]\n",
      "Displaying new ChainMap : \n",
      "[{'f': 5}, {'a': 1, 'b': 2}, {'b': 3, 'c': 4}]\n",
      "Value associated with b before reversing is : 2\n",
      "Value associated with b after reversing is : 3\n"
     ]
    }
   ],
   "source": [
    "#Manipulating operations\n",
    "\n",
    "# Please select Python 3 for running this code in IDE\n",
    "# Python code to demonstrate ChainMap and\n",
    "# reversed() and new_child()\n",
    "\n",
    "# importing collections for ChainMap operations\n",
    "import collections\n",
    "\n",
    "# initializing dictionaries\n",
    "dic1 = { 'a' : 1, 'b' : 2 }\n",
    "dic2 = { 'b' : 3, 'c' : 4 }\n",
    "dic3 = { 'f' : 5 }\n",
    "\n",
    "# initializing ChainMap\n",
    "chain = collections.ChainMap(dic1, dic2)\n",
    "\n",
    "# printing chainMap using map\n",
    "print (\"All the ChainMap contents are : \")\n",
    "print (chain.maps)\n",
    "\n",
    "# using new_child() to add new dictionary\n",
    "chain1 = chain.new_child(dic3)\n",
    "\n",
    "# printing chainMap using map\n",
    "print (\"Displaying new ChainMap : \")\n",
    "print (chain1.maps)\n",
    "\n",
    "# displaying value associated with b before reversing\n",
    "print (\"Value associated with b before reversing is : \",end=\"\")\n",
    "print (chain1['b'])\n",
    "\n",
    "# reversing the ChainMap\n",
    "chain1.maps = reversed(chain1.maps)\n",
    "\n",
    "# displaying value associated with b after reversing\n",
    "print (\"Value associated with b after reversing is : \",end=\"\")\n",
    "print (chain1['b'])\n"
   ]
  },
  {
   "attachments": {},
   "cell_type": "markdown",
   "metadata": {},
   "source": [
    "# # NamedTuple in Python\n",
    "\n",
    "Python supports a type of container dictionaries called “namedtuple()” present in the module, “collections“. Like dictionaries, they contain keys that are hashed to a particular value. But on contrary, it supports both access from key-value and iteration, the functionality that dictionaries lack."
   ]
  },
  {
   "cell_type": "code",
   "execution_count": 31,
   "metadata": {},
   "outputs": [
    {
     "name": "stdout",
     "output_type": "stream",
     "text": [
      "The Student age using index is : 19\n",
      "The Student name using keyname is : Nandini\n"
     ]
    }
   ],
   "source": [
    "# Python code to demonstrate namedtuple()\n",
    "\n",
    "from collections import namedtuple\n",
    "\n",
    "# Declaring namedtuple()\n",
    "Student = namedtuple('Student', ['name', 'age', 'DOB'])\n",
    "\n",
    "# Adding values\n",
    "S = Student('Nandini', '19', '2541997')\n",
    "\n",
    "# Access using index\n",
    "print(\"The Student age using index is : \", end=\"\")\n",
    "print(S[1])\n",
    "\n",
    "# Access using name\n",
    "print(\"The Student name using keyname is : \", end=\"\")\n",
    "print(S.name)\n"
   ]
  },
  {
   "cell_type": "code",
   "execution_count": 32,
   "metadata": {},
   "outputs": [
    {
     "name": "stdout",
     "output_type": "stream",
     "text": [
      "The Student age using index is : 19\n",
      "The Student name using keyname is : Nandini\n",
      "The Student DOB using getattr() is : 2541997\n"
     ]
    }
   ],
   "source": [
    "#operations\n",
    "\n",
    "# Python code to demonstrate namedtuple() and\n",
    "# Access by name, index and getattr()\n",
    "\n",
    "# importing \"collections\" for namedtuple()\n",
    "import collections\n",
    "\n",
    "# Declaring namedtuple()\n",
    "Student = collections.namedtuple('Student', ['name', 'age', 'DOB'])\n",
    "\n",
    "# Adding values\n",
    "S = Student('Nandini', '19', '2541997')\n",
    "\n",
    "# Access using index\n",
    "print(\"The Student age using index is : \", end=\"\")\n",
    "print(S[1])\n",
    "\n",
    "# Access using name\n",
    "print(\"The Student name using keyname is : \", end=\"\")\n",
    "print(S.name)\n",
    "\n",
    "# Access using getattr()\n",
    "print(\"The Student DOB using getattr() is : \", end=\"\")\n",
    "print(getattr(S, 'DOB'))\n"
   ]
  },
  {
   "cell_type": "code",
   "execution_count": 33,
   "metadata": {},
   "outputs": [
    {
     "name": "stdout",
     "output_type": "stream",
     "text": [
      "The namedtuple instance using iterable is : \n",
      "Student(name='Manjeet', age='19', DOB='411997')\n",
      "The OrderedDict instance using namedtuple is : \n",
      "{'name': 'Nandini', 'age': '19', 'DOB': '2541997'}\n",
      "The namedtuple instance from dict is : \n",
      "Student(name='Nikhil', age=19, DOB='1391997')\n"
     ]
    }
   ],
   "source": [
    "#conversion operations\n",
    "\n",
    "# Python code to demonstrate namedtuple() and\n",
    "# _make(), _asdict() and \"**\" operator\n",
    "\n",
    "# importing \"collections\" for namedtuple()\n",
    "import collections\n",
    "\n",
    "# Declaring namedtuple()\n",
    "Student = collections.namedtuple('Student',\n",
    "\t\t\t\t\t\t\t\t['name', 'age', 'DOB'])\n",
    "\n",
    "# Adding values\n",
    "S = Student('Nandini', '19', '2541997')\n",
    "\n",
    "# initializing iterable\n",
    "li = ['Manjeet', '19', '411997']\n",
    "\n",
    "# initializing dict\n",
    "di = {'name': \"Nikhil\", 'age': 19, 'DOB': '1391997'}\n",
    "\n",
    "# using _make() to return namedtuple()\n",
    "print(\"The namedtuple instance using iterable is : \")\n",
    "print(Student._make(li))\n",
    "\n",
    "# using _asdict() to return an OrderedDict()\n",
    "print(\"The OrderedDict instance using namedtuple is : \")\n",
    "print(S._asdict())\n",
    "\n",
    "# using ** operator to return namedtuple from dictionary\n",
    "print(\"The namedtuple instance from dict is : \")\n",
    "print(Student(**di))\n"
   ]
  },
  {
   "cell_type": "code",
   "execution_count": 34,
   "metadata": {},
   "outputs": [
    {
     "name": "stdout",
     "output_type": "stream",
     "text": [
      "All the fields of students are : \n",
      "('name', 'age', 'DOB')\n",
      "returns a new namedtuple : \n",
      "Student(name='Manjeet', age='19', DOB='2541997')\n",
      "Student(name='Nandini', age='19', DOB='2541997')\n"
     ]
    }
   ],
   "source": [
    "#Additional operations\n",
    "\n",
    "# Python code to demonstrate namedtuple() and\n",
    "# _fields and _replace()\n",
    "\n",
    "# importing \"collections\" for namedtuple()\n",
    "import collections\n",
    "\n",
    "# Declaring namedtuple()\n",
    "Student = collections.namedtuple('Student', ['name', 'age', 'DOB'])\n",
    "\n",
    "# Adding values\n",
    "S = Student('Nandini', '19', '2541997')\n",
    "\n",
    "# using _fields to display all the keynames of namedtuple()\n",
    "print(\"All the fields of students are : \")\n",
    "print(S._fields)\n",
    "\n",
    "# ._replace returns a new namedtuple, it does not modify the original\n",
    "print(\"returns a new namedtuple : \")\n",
    "print(S._replace(name='Manjeet'))\n",
    "# original namedtuple\n",
    "print(S)\n"
   ]
  },
  {
   "cell_type": "code",
   "execution_count": 35,
   "metadata": {},
   "outputs": [
    {
     "name": "stdout",
     "output_type": "stream",
     "text": [
      "1 2\n"
     ]
    }
   ],
   "source": [
    "from collections import namedtuple\n",
    "\n",
    "Point = namedtuple('Point', ['x', 'y'])\n",
    "p = Point(x=1, y=2)\n",
    "print(p.x, p.y) # Output: 1 2\n"
   ]
  },
  {
   "attachments": {},
   "cell_type": "markdown",
   "metadata": {},
   "source": [
    "# # DeQue in Python\n",
    "\n",
    "Deque (Doubly Ended Queue) in Python is implemented using the module “collections“. Deque is preferred over a list in the cases where we need quicker append and pop operations from both the ends of the container, as deque provides an O(1) time complexity for append and pop operations as compared to a list that provides O(n) time complexity.\n",
    "\n"
   ]
  },
  {
   "cell_type": "code",
   "execution_count": 36,
   "metadata": {},
   "outputs": [
    {
     "name": "stdout",
     "output_type": "stream",
     "text": [
      "deque(['name', 'age', 'DOB'])\n"
     ]
    }
   ],
   "source": [
    "from collections import deque\n",
    "\t\n",
    "# Declaring deque\n",
    "queue = deque(['name','age','DOB'])\n",
    "\t\n",
    "print(queue)\n"
   ]
  },
  {
   "cell_type": "code",
   "execution_count": 37,
   "metadata": {},
   "outputs": [
    {
     "name": "stdout",
     "output_type": "stream",
     "text": [
      "deque:  deque([1, 2, 3])\n",
      "\n",
      "The deque after appending at right is : \n",
      "deque([1, 2, 3, 4])\n",
      "\n",
      "The deque after appending at left is : \n",
      "deque([6, 1, 2, 3, 4])\n"
     ]
    }
   ],
   "source": [
    "#Operations on Deque\n",
    "\n",
    "# importing \"collections\" for deque operations\n",
    "import collections\n",
    "\n",
    "# initializing deque\n",
    "de = collections.deque([1, 2, 3])\n",
    "print(\"deque: \", de)\n",
    "\n",
    "# using append() to insert element at right end\n",
    "# inserts 4 at the end of deque\n",
    "de.append(4)\n",
    "\n",
    "# printing modified deque\n",
    "print(\"\\nThe deque after appending at right is : \")\n",
    "print(de)\n",
    "\n",
    "# using appendleft() to insert element at left end\n",
    "# inserts 6 at the beginning of deque\n",
    "de.appendleft(6)\n",
    "\n",
    "# printing modified deque\n",
    "print(\"\\nThe deque after appending at left is : \")\n",
    "print(de)\n"
   ]
  },
  {
   "cell_type": "code",
   "execution_count": 38,
   "metadata": {},
   "outputs": [
    {
     "name": "stdout",
     "output_type": "stream",
     "text": [
      "deque:  deque([6, 1, 2, 3, 4])\n",
      "\n",
      "The deque after deleting from right is : \n",
      "deque([6, 1, 2, 3])\n",
      "\n",
      "The deque after deleting from left is : \n",
      "deque([1, 2, 3])\n"
     ]
    }
   ],
   "source": [
    "#removing operatons\n",
    "\n",
    "# importing \"collections\" for deque operations\n",
    "import collections\n",
    "\n",
    "# initializing deque\n",
    "de = collections.deque([6, 1, 2, 3, 4])\n",
    "print(\"deque: \", de)\n",
    "\n",
    "# using pop() to delete element from right end\n",
    "# deletes 4 from the right end of deque\n",
    "de.pop()\n",
    "\n",
    "# printing modified deque\n",
    "print(\"\\nThe deque after deleting from right is : \")\n",
    "print(de)\n",
    "\n",
    "# using popleft() to delete element from left end\n",
    "# deletes 6 from the left end of deque\n",
    "de.popleft()\n",
    "\n",
    "# printing modified deque\n",
    "print(\"\\nThe deque after deleting from left is : \")\n",
    "print(de)\n"
   ]
  },
  {
   "cell_type": "code",
   "execution_count": 39,
   "metadata": {},
   "outputs": [
    {
     "name": "stdout",
     "output_type": "stream",
     "text": [
      "The number 4 first occurs at a position : \n",
      "4\n",
      "The deque after inserting 3 at 5th position is : \n",
      "deque([1, 2, 3, 3, 3, 4, 2, 4])\n",
      "The count of 3 in deque is : \n",
      "3\n",
      "The deque after deleting first occurrence of 3 is : \n",
      "deque([1, 2, 3, 3, 4, 2, 4])\n"
     ]
    }
   ],
   "source": [
    "# Accessing operations\n",
    "\n",
    "# Python code to demonstrate working of\n",
    "# insert(), index(), remove(), count()\n",
    "\n",
    "# importing \"collections\" for deque operations\n",
    "import collections\n",
    "\n",
    "# initializing deque\n",
    "de = collections.deque([1, 2, 3, 3, 4, 2, 4])\n",
    "\n",
    "# using index() to print the first occurrence of 4\n",
    "print (\"The number 4 first occurs at a position : \")\n",
    "print (de.index(4,2,5))\n",
    "\n",
    "# using insert() to insert the value 3 at 5th position\n",
    "de.insert(4,3)\n",
    "\n",
    "# printing modified deque\n",
    "print (\"The deque after inserting 3 at 5th position is : \")\n",
    "print (de)\n",
    "\n",
    "# using count() to count the occurrences of 3\n",
    "print (\"The count of 3 in deque is : \")\n",
    "print (de.count(3))\n",
    "\n",
    "# using remove() to remove the first occurrence of 3\n",
    "de.remove(3)\n",
    "\n",
    "# printing modified deque\n",
    "print (\"The deque after deleting first occurrence of 3 is : \")\n",
    "print (de)\n"
   ]
  },
  {
   "cell_type": "code",
   "execution_count": 40,
   "metadata": {},
   "outputs": [
    {
     "name": "stdout",
     "output_type": "stream",
     "text": [
      "Current Deque:  deque([1, 2, 3, 4, 5, 6])\n",
      "Size of Deque: 6\n",
      "\n",
      "The deque after deleting from right is: deque([1, 2, 3, 4, 5])\n",
      "Size of Deque: 5\n"
     ]
    }
   ],
   "source": [
    "# Python Program to demonstrate\n",
    "# how to find size of a Dequeue\n",
    "from collections import deque\n",
    "\n",
    "# initializing deque\n",
    "de = deque([1, 2, 3, 4, 5, 6])\n",
    "print(\"Current Deque: \", de)\n",
    "\n",
    "# printing current size of deque\n",
    "print(f\"Size of Deque: {len(de)}\")\n",
    "\n",
    "# using pop() to delete element from right end\n",
    "# deletes 6 from the right end of deque\n",
    "de.pop()\n",
    "\n",
    "# printing modified deque\n",
    "print(\"\\nThe deque after deleting from right is: \", end = '')\n",
    "print(de)\n",
    "\n",
    "# printing current size of deque\n",
    "print(f\"Size of Deque: {len(de)}\")\n",
    "\n",
    "# This code is contributed by Susobhan Akhuli\n"
   ]
  },
  {
   "cell_type": "code",
   "execution_count": 41,
   "metadata": {},
   "outputs": [
    {
     "name": "stdout",
     "output_type": "stream",
     "text": [
      "Current Deque:  deque([1, 2, 3, 4, 5, 6])\n",
      "Front element of the deque: 1\n",
      "Back element of the deque: 6\n"
     ]
    }
   ],
   "source": [
    "# Python Program to demonstrate\n",
    "# accessing the front and back of a Deque\n",
    "\n",
    "from collections import deque\n",
    "\n",
    "# initializing deque\n",
    "de = deque([1, 2, 3, 4, 5, 6])\n",
    "print(\"Current Deque: \", de)\n",
    "\n",
    "# Accessing the front element of the deque\n",
    "print(\"Front element of the deque:\", de[0])\n",
    "\n",
    "# Accessing the back element of the deque\n",
    "print(\"Back element of the deque:\", de[-1])\n",
    "\n",
    "# This code is contributed by Susobhan Akhuli\n"
   ]
  },
  {
   "attachments": {},
   "cell_type": "markdown",
   "metadata": {},
   "source": [
    "Example 6: Different operations on deque\n",
    "\n",
    "extend(iterable):- This function is used to add multiple values at the right end of the deque. The argument passed is iterable.\n",
    "\n",
    "extendleft(iterable):- This function is used to add multiple values at the left end of the deque. The argument passed is iterable. Order is reversed as a result of left appends.\n",
    "\n",
    "reverse():- This function is used to reverse the order of deque elements.\n",
    "\n",
    "rotate():- This function rotates the deque by the number specified in arguments. If the number specified is negative, rotation occurs to the left. Else rotation is to right."
   ]
  },
  {
   "cell_type": "code",
   "execution_count": 42,
   "metadata": {},
   "outputs": [
    {
     "name": "stdout",
     "output_type": "stream",
     "text": [
      "The deque after extending deque at end is : \n",
      "deque([1, 2, 3, 4, 5, 6])\n",
      "The deque after extending deque at beginning is : \n",
      "deque([9, 8, 7, 1, 2, 3, 4, 5, 6])\n",
      "The deque after rotating deque is : \n",
      "deque([1, 2, 3, 4, 5, 6, 9, 8, 7])\n",
      "The deque after reversing deque is : \n",
      "deque([7, 8, 9, 6, 5, 4, 3, 2, 1])\n"
     ]
    }
   ],
   "source": [
    "# Python code to demonstrate working of\n",
    "# extend(), extendleft(), rotate(), reverse()\n",
    "\n",
    "# importing \"collections\" for deque operations\n",
    "import collections\n",
    "\n",
    "# initializing deque\n",
    "de = collections.deque([1, 2, 3,])\n",
    "\n",
    "# using extend() to add numbers to right end\n",
    "# adds 4,5,6 to right end\n",
    "de.extend([4,5,6])\n",
    "\n",
    "# printing modified deque\n",
    "print (\"The deque after extending deque at end is : \")\n",
    "print (de)\n",
    "\n",
    "# using extendleft() to add numbers to left end\n",
    "# adds 7,8,9 to left end\n",
    "de.extendleft([7,8,9])\n",
    "\n",
    "# printing modified deque\n",
    "print (\"The deque after extending deque at beginning is : \")\n",
    "print (de)\n",
    "\n",
    "# using rotate() to rotate the deque\n",
    "# rotates by 3 to left\n",
    "de.rotate(-3)\n",
    "\n",
    "# printing modified deque\n",
    "print (\"The deque after rotating deque is : \")\n",
    "print (de)\n",
    "\n",
    "# using reverse() to reverse the deque\n",
    "de.reverse()\n",
    "\n",
    "# printing modified deque\n",
    "print (\"The deque after reversing deque is : \")\n",
    "print (de)\n"
   ]
  },
  {
   "attachments": {},
   "cell_type": "markdown",
   "metadata": {},
   "source": [
    "# # Heap in Python\n",
    "\n",
    "\n",
    "Heap data structure is mainly used to represent a priority queue. In Python, it is available using the “heapq” module. The property of this data structure in Python is that each time the smallest heap element is popped(min-heap). Whenever elements are pushed or popped, heap structure is maintained. The heap[0] element also returns the smallest element each time. Let’s see various Operations on the heap in Python.\n"
   ]
  },
  {
   "cell_type": "code",
   "execution_count": 43,
   "metadata": {},
   "outputs": [
    {
     "name": "stdout",
     "output_type": "stream",
     "text": [
      "The created heap is :  [1, 3, 9, 7, 5]\n"
     ]
    }
   ],
   "source": [
    "# importing \"heapq\" to implement heap queue\n",
    "import heapq\n",
    "\n",
    "# initializing list\n",
    "li = [5, 7, 9, 1, 3]\n",
    "\n",
    "# using heapify to convert list into heap\n",
    "heapq.heapify(li)\n",
    "\n",
    "# printing created heap\n",
    "print (\"The created heap is : \",(list(li)))\n"
   ]
  },
  {
   "attachments": {},
   "cell_type": "markdown",
   "metadata": {},
   "source": [
    "heappush(heap, ele): \n",
    "\n",
    "This function is used to insert the element mentioned in its arguments into a heap. The order is adjusted, so that heap structure is maintained.\n",
    "\n",
    "heappop(heap): \n",
    "\n",
    "This function is used to remove and return the smallest element from the heap. The order is adjusted, so that heap structure is maintained."
   ]
  },
  {
   "cell_type": "code",
   "execution_count": 44,
   "metadata": {},
   "outputs": [
    {
     "name": "stdout",
     "output_type": "stream",
     "text": [
      "The created heap is : [1, 3, 9, 7, 5]\n",
      "The modified heap after push is : [1, 3, 4, 7, 5, 9]\n",
      "The popped and smallest element is : 1\n"
     ]
    }
   ],
   "source": [
    "# importing \"heapq\" to implement heap queue\n",
    "import heapq\n",
    "\n",
    "# initializing list\n",
    "li = [5, 7, 9, 1, 3]\n",
    "\n",
    "# using heapify to convert list into heap\n",
    "heapq.heapify(li)\n",
    "\n",
    "# printing created heap\n",
    "print(\"The created heap is : \", end=\"\")\n",
    "print(list(li))\n",
    "\n",
    "# using heappush() to push elements into heap\n",
    "# pushes 4\n",
    "heapq.heappush(li, 4)\n",
    "\n",
    "# printing modified heap\n",
    "print(\"The modified heap after push is : \", end=\"\")\n",
    "print(list(li))\n",
    "\n",
    "# using heappop() to pop smallest element\n",
    "print(\"The popped and smallest element is : \", end=\"\")\n",
    "print(heapq.heappop(li))\n"
   ]
  },
  {
   "cell_type": "code",
   "execution_count": 45,
   "metadata": {},
   "outputs": [
    {
     "name": "stdout",
     "output_type": "stream",
     "text": [
      "The popped item using heappushpop() is : 1\n",
      "The popped item using heapreplace() is : 3\n"
     ]
    }
   ],
   "source": [
    "# importing \"heapq\" to implement heap queue\n",
    "import heapq\n",
    "\n",
    "# initializing list 1\n",
    "li1 = [5, 1, 9, 4, 3]\n",
    "\n",
    "# initializing list 2\n",
    "li2 = [5, 7, 9, 4, 3]\n",
    "\n",
    "# using heapify() to convert list into heap\n",
    "heapq.heapify(li1)\n",
    "heapq.heapify(li2)\n",
    "\n",
    "# using heappushpop() to push and pop items simultaneously\n",
    "# pops 2\n",
    "print(\"The popped item using heappushpop() is : \", end=\"\")\n",
    "print(heapq.heappushpop(li1, 2))\n",
    "\n",
    "# using heapreplace() to push and pop items simultaneously\n",
    "# pops 3\n",
    "print(\"The popped item using heapreplace() is : \", end=\"\")\n",
    "print(heapq.heapreplace(li2, 2))\n"
   ]
  },
  {
   "cell_type": "code",
   "execution_count": 46,
   "metadata": {},
   "outputs": [
    {
     "name": "stdout",
     "output_type": "stream",
     "text": [
      "The 3 largest numbers in list are : [10, 9, 8]\n",
      "The 3 smallest numbers in list are : [1, 3, 4]\n"
     ]
    }
   ],
   "source": [
    "# Python code to demonstrate working of\n",
    "# nlargest() and nsmallest()\n",
    "\n",
    "# importing \"heapq\" to implement heap queue\n",
    "import heapq\n",
    "\n",
    "# initializing list\n",
    "li1 = [6, 7, 9, 4, 3, 5, 8, 10, 1]\n",
    "\n",
    "# using heapify() to convert list into heap\n",
    "heapq.heapify(li1)\n",
    "\n",
    "# using nlargest to print 3 largest numbers\n",
    "# prints 10, 9 and 8\n",
    "print(\"The 3 largest numbers in list are : \", end=\"\")\n",
    "print(heapq.nlargest(3, li1))\n",
    "\n",
    "# using nsmallest to print 3 smallest numbers\n",
    "# prints 1, 3 and 4\n",
    "print(\"The 3 smallest numbers in list are : \", end=\"\")\n",
    "print(heapq.nsmallest(3, li1))\n"
   ]
  },
  {
   "cell_type": "code",
   "execution_count": 47,
   "metadata": {},
   "outputs": [
    {
     "name": "stdout",
     "output_type": "stream",
     "text": [
      "Heap: [1, 4, 2, 7, 5, 3]\n",
      "Heap after push: [1, 4, 2, 7, 5, 3, 6]\n",
      "Smallest element: 1\n",
      "Heap after pop: [2, 4, 3, 7, 5, 6]\n",
      "Smallest 3 elements: [2, 3, 4]\n",
      "Largest 2 elements: [7, 6]\n"
     ]
    }
   ],
   "source": [
    "import heapq\n",
    "\n",
    "# Initialize a list with some values\n",
    "values = [5, 1, 3, 7, 4, 2]\n",
    "\n",
    "# Convert the list into a heap\n",
    "heapq.heapify(values)\n",
    "\n",
    "# Print the heap\n",
    "print(\"Heap:\", values)\n",
    "\n",
    "# Add a new value to the heap\n",
    "heapq.heappush(values, 6)\n",
    "\n",
    "# Print the updated heap\n",
    "print(\"Heap after push:\", values)\n",
    "\n",
    "# Remove and return the smallest element from the heap\n",
    "smallest = heapq.heappop(values)\n",
    "\n",
    "# Print the smallest element and the updated heap\n",
    "print(\"Smallest element:\", smallest)\n",
    "print(\"Heap after pop:\", values)\n",
    "\n",
    "# Get the n smallest elements from the heap\n",
    "n_smallest = heapq.nsmallest(3, values)\n",
    "\n",
    "# Print the n smallest elements\n",
    "print(\"Smallest 3 elements:\", n_smallest)\n",
    "\n",
    "# Get the n largest elements from the heap\n",
    "n_largest = heapq.nlargest(2, values)\n",
    "\n",
    "# Print the n largest elements\n",
    "print(\"Largest 2 elements:\", n_largest)\n"
   ]
  },
  {
   "attachments": {},
   "cell_type": "markdown",
   "metadata": {},
   "source": [
    "Advantages of using a heap queue (or heapq) in Python:\n",
    "\n",
    "- Efficient: A heap queue is a highly efficient data structure for managing priority queues and heaps in Python. It provides logarithmic time complexity for many operations, making it a popular choice for many applications.\n",
    "- Space-efficient: Heap queues are space-efficient, as they store elements in an array-based representation, minimizing the overhead associated with node-based data structures like linked lists.\n",
    "- Easy to use: Heap queues in Python are easy to use, with a simple and intuitive API that makes it easy to perform basic operations like inserting, deleting, and retrieving elements from the heap.\n",
    "- Flexible: Heap queues in Python can be used to implement various data structures like priority queues, heaps, and binary trees, making them a versatile tool for many applications.\n",
    "\n",
    "\n",
    "Disadvantages of using a heap queue (or heapq) in Python:\n",
    "\n",
    "- Limited functionality: Heap queues are primarily designed for managing priority queues and heaps, and may not be suitable for more complex data structures and algorithms.\n",
    "- No random access: Heap queues do not support random access to elements, making it difficult to access elements in the middle of the heap or modify elements that are not at the top of the heap.\n",
    "- No sorting: Heap queues do not support sorting, so if you need to sort elements in a specific order, you will need to use a different data structure or algorithm.\n",
    "- Not thread-safe: Heap queues are not thread-safe, meaning that they may not be suitable for use in multi-threaded applications where data synchronization is critical."
   ]
  },
  {
   "attachments": {},
   "cell_type": "markdown",
   "metadata": {},
   "source": [
    "# # Collections.UserDict in Python\n"
   ]
  },
  {
   "attachments": {},
   "cell_type": "markdown",
   "metadata": {},
   "source": [
    "# # Collections.UserList in Python\n"
   ]
  },
  {
   "attachments": {},
   "cell_type": "markdown",
   "metadata": {},
   "source": [
    "# # Collections.UserString in Python\n",
    "\n",
    "\n",
    "Strings are the arrays of bytes representing Unicode characters. However, Python does not support the character data type. A character is a string of length one. "
   ]
  },
  {
   "cell_type": "code",
   "execution_count": 48,
   "metadata": {},
   "outputs": [
    {
     "name": "stdout",
     "output_type": "stream",
     "text": [
      "String with the use of Single Quotes: \n",
      "Welcome to the Geeks World\n",
      "\n",
      "String with the use of Double Quotes: \n",
      "I'm a Geek\n"
     ]
    }
   ],
   "source": [
    "# Python program to demonstrate\n",
    "# string\n",
    "\n",
    "# Creating a String\n",
    "# with single Quotes\n",
    "String1 = 'Welcome to the Geeks World'\n",
    "print(\"String with the use of Single Quotes: \")\n",
    "print(String1)\n",
    "\n",
    "# Creating a String\n",
    "# with double Quotes\n",
    "String1 = \"I'm a Geek\"\n",
    "print(\"\\nString with the use of Double Quotes: \")\n",
    "print(String1)\n"
   ]
  },
  {
   "attachments": {},
   "cell_type": "markdown",
   "metadata": {},
   "source": [
    "Collections.UserString\n",
    "\n",
    "- Python supports a String like a container called UserString present in the collections module. \n",
    "- This class acts as a wrapper class around the string objects.\n",
    "- This class is useful when one wants to create a string of their own with some modified functionality or with some new functionality. \n",
    "- It can be considered as a way of adding new behaviors for the string. This class takes any argument that can be converted to string and simulates a string whose content is kept in a regular string.\n",
    "- The string is accessible by the data attribute of this class."
   ]
  },
  {
   "cell_type": "code",
   "execution_count": 49,
   "metadata": {},
   "outputs": [
    {
     "name": "stdout",
     "output_type": "stream",
     "text": [
      "12344\n",
      "\n"
     ]
    }
   ],
   "source": [
    "# Python program to demonstrate\n",
    "# userstring\n",
    "\n",
    "\n",
    "from collections import UserString\n",
    "\n",
    "\n",
    "d = 12344\n",
    "\n",
    "# Creating an UserDict\n",
    "userS = UserString(d)\n",
    "print(userS.data)\n",
    "\n",
    "\n",
    "# Creating an empty UserDict\n",
    "userS = UserString(\"\")\n",
    "print(userS.data)\n"
   ]
  },
  {
   "cell_type": "code",
   "execution_count": 50,
   "metadata": {},
   "outputs": [
    {
     "name": "stdout",
     "output_type": "stream",
     "text": [
      "Original String: Geeks\n",
      "String After Appending: Geekss\n",
      "String after Removing: Gkss\n"
     ]
    }
   ],
   "source": [
    "# Python program to demonstrate\n",
    "# userstring\n",
    "\n",
    "\n",
    "from collections import UserString\n",
    "\n",
    "\n",
    "# Creating a Mutable String\n",
    "class Mystring(UserString):\n",
    "\t\n",
    "\t# Function to append to\n",
    "\t# string\n",
    "\tdef append(self, s):\n",
    "\t\tself.data += s\n",
    "\t\t\n",
    "\t# Function to remove from\n",
    "\t# string\n",
    "\tdef remove(self, s):\n",
    "\t\tself.data = self.data.replace(s, \"\")\n",
    "\t\n",
    "# Driver's code\n",
    "s1 = Mystring(\"Geeks\")\n",
    "print(\"Original String:\", s1.data)\n",
    "\n",
    "# Appending to string\n",
    "s1.append(\"s\")\n",
    "print(\"String After Appending:\", s1.data)\n",
    "\n",
    "# Removing from string\n",
    "s1.remove(\"e\")\n",
    "print(\"String after Removing:\", s1.data)\n"
   ]
  },
  {
   "cell_type": "code",
   "execution_count": null,
   "metadata": {},
   "outputs": [],
   "source": []
  }
 ],
 "metadata": {
  "kernelspec": {
   "display_name": "Python 3",
   "language": "python",
   "name": "python3"
  },
  "language_info": {
   "codemirror_mode": {
    "name": "ipython",
    "version": 3
   },
   "file_extension": ".py",
   "mimetype": "text/x-python",
   "name": "python",
   "nbconvert_exporter": "python",
   "pygments_lexer": "ipython3",
   "version": "3.10.6"
  },
  "orig_nbformat": 4
 },
 "nbformat": 4,
 "nbformat_minor": 2
}
