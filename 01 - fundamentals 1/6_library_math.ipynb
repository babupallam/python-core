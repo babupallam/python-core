{
 "cells": [
  {
   "attachments": {},
   "cell_type": "markdown",
   "metadata": {},
   "source": [
    "# Python Math\n",
    "\n",
    "    - along with build in math functions in python, math module extends the funcationalities\n",
    "    - import math"
   ]
  },
  {
   "cell_type": "code",
   "execution_count": 5,
   "metadata": {},
   "outputs": [
    {
     "name": "stdout",
     "output_type": "stream",
     "text": [
      "45\n",
      "1\n",
      "50\n",
      "1024\n",
      "1024\n"
     ]
    }
   ],
   "source": [
    "# BuildIn Math functions\n",
    "\n",
    "print(max(32,2,1,45))#45\n",
    "print(min(32,2,1,45))#1\n",
    "print(abs(-50))#50\n",
    "print(pow(2,10))#1024\n",
    "# ob:\n",
    "print(2**10)#1024 ---- alternate to pow()\n",
    "\n"
   ]
  },
  {
   "cell_type": "code",
   "execution_count": 15,
   "metadata": {},
   "outputs": [
    {
     "name": "stdout",
     "output_type": "stream",
     "text": [
      "6.0\n",
      "4\n",
      "3\n",
      "3.141592653589793\n",
      "inf\n",
      "720\n",
      "False\n",
      "True\n"
     ]
    }
   ],
   "source": [
    "import math\n",
    "\n",
    "print(math.sqrt(36))#6.0 -- float\n",
    "print(math.ceil(3.4))#4\n",
    "print(math.floor(3.4))#3\n",
    "\n",
    "print(math.pi)#3.141592653589793\n",
    "print(math.inf)#inf -- positive inf\n",
    "print(math.factorial(6))#720\n",
    "print(math.isclose(45,100))#False\n",
    "print(math.isclose(45,45))#True"
   ]
  },
  {
   "cell_type": "code",
   "execution_count": null,
   "metadata": {},
   "outputs": [],
   "source": []
  }
 ],
 "metadata": {
  "kernelspec": {
   "display_name": "Python 3",
   "language": "python",
   "name": "python3"
  },
  "language_info": {
   "codemirror_mode": {
    "name": "ipython",
    "version": 3
   },
   "file_extension": ".py",
   "mimetype": "text/x-python",
   "name": "python",
   "nbconvert_exporter": "python",
   "pygments_lexer": "ipython3",
   "version": "3.10.6"
  },
  "orig_nbformat": 4
 },
 "nbformat": 4,
 "nbformat_minor": 2
}
