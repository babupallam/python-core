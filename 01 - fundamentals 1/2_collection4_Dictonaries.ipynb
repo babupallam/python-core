{
 "cells": [
  {
   "cell_type": "code",
   "execution_count": null,
   "metadata": {},
   "outputs": [],
   "source": [
    "# Python Collections (Arrays)\n",
    "# ===========================\n",
    "# There are four collection data types in the Python programming language:\n",
    "    # 1. List is a collection \n",
    "    #       which is ordered and changeable. \n",
    "    #        Allows duplicate members.\n",
    "    # 2. Tuple is a collection \n",
    "    #        which is ordered and unchangeable. \n",
    "    #        Allows duplicate members.\n",
    "    # 3. Set is a collection \n",
    "    #       which is unordered, unchangeable*, and unindexed. \n",
    "    #       No duplicate members.\n",
    "    # 4. Dictionary is a collection \n",
    "    #       which is ordered** and changeable. \n",
    "    #       No duplicate members.\n",
    "\n",
    "#========================================\n"
   ]
  },
  {
   "attachments": {},
   "cell_type": "markdown",
   "metadata": {},
   "source": [
    "# PYTHON DICTIONARY\n",
    "# ============="
   ]
  },
  {
   "cell_type": "code",
   "execution_count": 2,
   "metadata": {},
   "outputs": [
    {
     "name": "stdout",
     "output_type": "stream",
     "text": [
      "{'brand': 'Ford', 'model': 'Mustang', 'year': 1964}\n",
      "<class 'dict'>\n"
     ]
    }
   ],
   "source": [
    "# A Dictionary is a collection \n",
    "    # which is ordered, \n",
    "    #         non duplicate items\n",
    "    #         changeable*, and\n",
    "    #         indexed\n",
    "#ordered => can be track with index\n",
    "#dictionary is in curly bracket as key:value pairs\n",
    "\n",
    "myDict = {\n",
    "  \"brand\": \"Ford\",\n",
    "  \"model\": \"Mustang\",\n",
    "  \"year\": 1964\n",
    "}\n",
    "print(myDict)#{'brand': 'Ford', 'model': 'Mustang', 'year': 1964}\n",
    "print(type(myDict))#<class 'dict'>\n",
    "\n"
   ]
  },
  {
   "cell_type": "code",
   "execution_count": 2,
   "metadata": {},
   "outputs": [
    {
     "name": "stdout",
     "output_type": "stream",
     "text": [
      "3\n"
     ]
    }
   ],
   "source": [
    "myDict = {\n",
    "  \"brand\": \"Ford\",\n",
    "  \"model\": \"Mustang\",\n",
    "  \"year\": 1964\n",
    "}\n",
    "print(len(myDict))#3"
   ]
  },
  {
   "cell_type": "code",
   "execution_count": 4,
   "metadata": {},
   "outputs": [],
   "source": [
    "#assigning to set\n",
    "# - the dict item can be of any type\n",
    "thisdict = {\n",
    "  \"brand\": \"Ford\",\n",
    "  \"electric\": False,\n",
    "  \"year\": 1964,\n",
    "  \"colors\": [\"red\", \"white\", \"blue\"]\n",
    "}\n",
    "\n",
    "#create dict using a dict constructor\n",
    "\n",
    "myDict = dict(name=\"babu\",age=\"34\",country=\"India\")\n"
   ]
  },
  {
   "cell_type": "code",
   "execution_count": 12,
   "metadata": {},
   "outputs": [
    {
     "name": "stdout",
     "output_type": "stream",
     "text": [
      "1964\n",
      "Ford\n",
      "None\n"
     ]
    }
   ],
   "source": [
    "#accessing items from a set\n",
    "thisdict = {\n",
    "  \"brand\": \"Ford\",\n",
    "  \"electric\": False,\n",
    "  \"year\": 1964,\n",
    "  \"colors\": [\"red\", \"white\", \"blue\"]\n",
    "}\n",
    "#using key\n",
    "print(thisdict[\"year\"])#1964\n",
    "\n",
    "#using get\n",
    "print(thisdict.get(\"brand\"))#ford\n",
    "print(thisdict.get(\"model\"))#None -- since key is not present\n"
   ]
  },
  {
   "cell_type": "code",
   "execution_count": 14,
   "metadata": {},
   "outputs": [
    {
     "name": "stdout",
     "output_type": "stream",
     "text": [
      "dict_keys(['brand', 'electric', 'year', 'colors'])\n",
      "dict_keys(['brand', 'electric', 'year', 'colors', 'model'])\n"
     ]
    }
   ],
   "source": [
    "#get Keys\n",
    "\n",
    "thisdict = {\n",
    "  \"brand\": \"Ford\",\n",
    "  \"electric\": False,\n",
    "  \"year\": 1964,\n",
    "  \"colors\": [\"red\", \"white\", \"blue\"]\n",
    "}\n",
    "x= thisdict.keys()\n",
    "print(x)#dict_keys(['brand', 'electric', 'year', 'colors'])\n",
    "thisdict[\"model\"]=\"CSR\"\n",
    "print(x)#dict_keys(['brand', 'electric', 'year', 'colors', 'model'])\n",
    "\n",
    "#ob: list of keys in x is just a view of the keys\n",
    "#ob: any change in the dictionary will be reflected the x variable too"
   ]
  },
  {
   "cell_type": "code",
   "execution_count": 16,
   "metadata": {},
   "outputs": [
    {
     "name": "stdout",
     "output_type": "stream",
     "text": [
      "dict_values(['Ford', False, 1964, ['red', 'white', 'blue']])\n",
      "dict_values(['Ford', False, 1964, ['red', 'white', 'blue'], 'CSR'])\n"
     ]
    }
   ],
   "source": [
    "#get Values\n",
    "\n",
    "thisdict = {\n",
    "  \"brand\": \"Ford\",\n",
    "  \"electric\": False,\n",
    "  \"year\": 1964,\n",
    "  \"colors\": [\"red\", \"white\", \"blue\"]\n",
    "}\n",
    "x= thisdict.values()\n",
    "print(x)#dict_values(['Ford', False, 1964, ['red', 'white', 'blue']])\n",
    "thisdict[\"model\"]=\"CSR\"\n",
    "print(x)#dict_values(['Ford', False, 1964, ['red', 'white', 'blue'], 'CSR'])\n",
    "\n",
    "#ob: list of values in x is just a view of the values\n",
    "#ob: any change in the dictionary will be reflected the x variable too"
   ]
  },
  {
   "cell_type": "code",
   "execution_count": 18,
   "metadata": {},
   "outputs": [
    {
     "name": "stdout",
     "output_type": "stream",
     "text": [
      "dict_items([('brand', 'Ford'), ('electric', False), ('year', 1964)])\n",
      "dict_items([('brand', 'Ford'), ('electric', False), ('year', 1964), ('model', 'CSR')])\n"
     ]
    }
   ],
   "source": [
    "#get items\n",
    "\n",
    "thisdict = {\n",
    "  \"brand\": \"Ford\",\n",
    "  \"electric\": False,\n",
    "  \"year\": 1964,\n",
    "}\n",
    "\n",
    "x = thisdict.items()\n",
    "print(x)#dict_items([('brand', 'Ford'), ('electric', False), ('year', 1964)])\n",
    "thisdict[\"model\"]=\"CSR\"\n",
    "print(x)#dict_items([('brand', 'Ford'), ('electric', False), ('year', 1964), ('model', 'CSR')])\n",
    "\n",
    "#ob: items() will produce a list with each item as a tuple in the list\n",
    "#ob: list of values in x is just a view of the items\n",
    "#ob: any change in the dictionary will be reflected the x variable too"
   ]
  },
  {
   "cell_type": "code",
   "execution_count": 23,
   "metadata": {},
   "outputs": [
    {
     "name": "stdout",
     "output_type": "stream",
     "text": [
      "{'brand': 'Ford', 'model': 'Mustang', 'year': 2018}\n",
      "{'brand': 'Ford', 'model': 'ecosport', 'year': 2018}\n"
     ]
    }
   ],
   "source": [
    "#change values of items \n",
    "\n",
    "#simple assign using index key\n",
    "thisdict = {\n",
    "  \"brand\": \"Ford\",\n",
    "  \"model\": \"Mustang\",\n",
    "  \"year\": 1964\n",
    "}\n",
    "thisdict[\"year\"] = 2018\n",
    "print(thisdict)\n",
    "\n",
    "#using update\n",
    "thisdict.update({\"model\":\"ecosport\"})\n",
    "print(thisdict)"
   ]
  },
  {
   "cell_type": "code",
   "execution_count": 25,
   "metadata": {},
   "outputs": [
    {
     "name": "stdout",
     "output_type": "stream",
     "text": [
      "{'brand': 'Ford', 'model': 'Mustang', 'year': 1964, 'color': 'red'}\n",
      "{'brand': 'Ford', 'model': 'Mustang', 'year': 1964, 'color': 'red'}\n"
     ]
    }
   ],
   "source": [
    "#Adding items\n",
    "#simple assign using index key\n",
    "thisdict = {\n",
    "  \"brand\": \"Ford\",\n",
    "  \"model\": \"Mustang\",\n",
    "  \"year\": 1964\n",
    "}\n",
    "thisdict[\"color\"]=\"red\"\n",
    "print(thisdict)\n",
    "\n",
    "#using update()\n",
    "thisdict.update({\"color\":\"red\"})\n",
    "print(thisdict)\n"
   ]
  },
  {
   "cell_type": "code",
   "execution_count": 29,
   "metadata": {},
   "outputs": [
    {
     "name": "stdout",
     "output_type": "stream",
     "text": [
      "{'brand': 'Ford', 'year': 1964}\n",
      "poped item is  Mustang\n",
      "{'brand': 'Ford', 'year': 1964}\n"
     ]
    }
   ],
   "source": [
    "#Removing Items\n",
    "\n",
    "#using pop\n",
    "thisdict = {\n",
    "  \"brand\": \"Ford\",\n",
    "  \"model\": \"Mustang\",\n",
    "  \"year\": 1964\n",
    "}\n",
    "item = thisdict.pop(\"model\")\n",
    "print(thisdict)\n",
    "print(\"poped item is \", item)\n",
    "\n",
    "# using del keyword\n",
    "thisdict = {\n",
    "  \"brand\": \"Ford\",\n",
    "  \"model\": \"Mustang\",\n",
    "  \"year\": 1964\n",
    "}\n",
    "del thisdict[\"model\"]\n",
    "print(thisdict)\n"
   ]
  },
  {
   "cell_type": "code",
   "execution_count": 30,
   "metadata": {},
   "outputs": [
    {
     "name": "stdout",
     "output_type": "stream",
     "text": [
      "{}\n"
     ]
    }
   ],
   "source": [
    "#clearing a dict\n",
    "thisdict = {\n",
    "  \"brand\": \"Ford\",\n",
    "  \"model\": \"Mustang\",\n",
    "  \"year\": 1964\n",
    "}\n",
    "thisdict.clear()\n",
    "print(thisdict)\n",
    "\n",
    "\n",
    "#delete a dict\n",
    "thisdict = {\n",
    "  \"brand\": \"Ford\",\n",
    "  \"model\": \"Mustang\",\n",
    "  \"year\": 1964\n",
    "}\n",
    "del thisdict\n",
    "# print(thisdict) #this will cause an error because \"thisdict\" no longer exists."
   ]
  },
  {
   "cell_type": "code",
   "execution_count": 34,
   "metadata": {},
   "outputs": [
    {
     "name": "stdout",
     "output_type": "stream",
     "text": [
      "brand  :  Ford\n",
      "model  :  Mustang\n",
      "year  :  1964\n",
      "Ford\n",
      "Mustang\n",
      "1964\n",
      "brand\n",
      "model\n",
      "year\n",
      "brand : Ford\n",
      "model : Mustang\n",
      "year : 1964\n"
     ]
    }
   ],
   "source": [
    "# Loop through a dict\n",
    "thisdict = {\n",
    "  \"brand\": \"Ford\",\n",
    "  \"model\": \"Mustang\",\n",
    "  \"year\": 1964\n",
    "}\n",
    "\n",
    "for i in thisdict:\n",
    "    print(i,\" : \", thisdict[i])\n",
    "#ob: i gives key \n",
    "\n",
    "# output:\n",
    "#     brand  :  Ford\n",
    "#     model  :  Mustang\n",
    "#     year  :  1964\n",
    "\n",
    "\n",
    "#loop through values\n",
    "for x in thisdict.values():\n",
    "    print(x)\n",
    "\n",
    "# output:\n",
    "#     Ford\n",
    "#     Mustang\n",
    "#     1964\n",
    "\n",
    "#loop though keys\n",
    "for x in thisdict.keys():\n",
    "    print(x)\n",
    "\n",
    "# output:\n",
    "#     brand\n",
    "#     model\n",
    "#     year\n",
    "\n",
    "\n",
    "#loop though items\n",
    "for x,y in thisdict.items():\n",
    "    print(x,\":\",y)\n",
    "\n",
    "# output:\n",
    "#     brand : Ford\n",
    "#     model : Mustang\n",
    "#     year : 1964\n",
    "\n"
   ]
  },
  {
   "cell_type": "code",
   "execution_count": 36,
   "metadata": {},
   "outputs": [
    {
     "name": "stdout",
     "output_type": "stream",
     "text": [
      "{'name': 'babu', 'age': 34, 'country': 'India'}\n",
      "{'name': 'babu', 'age': 34, 'country': 'India'}\n"
     ]
    }
   ],
   "source": [
    "# Copying Dictionary\n",
    "myDict ={\n",
    "    \"name\":\"babu\",\n",
    "    \"age\":34,\n",
    "    \"country\":\"India\"\n",
    "}\n",
    "\n",
    "#using copy()\n",
    "dict2 = myDict.copy()\n",
    "print(dict2)#{'name': 'babu', 'age': 34, 'country': 'India'}\n",
    "\n",
    "\n",
    "#using dict constructor\n",
    "dict3 =dict(myDict)\n",
    "print(dict3)#{'name': 'babu', 'age': 34, 'country': 'India'}\n",
    "\n",
    "\n"
   ]
  },
  {
   "cell_type": "code",
   "execution_count": 39,
   "metadata": {},
   "outputs": [
    {
     "name": "stdout",
     "output_type": "stream",
     "text": [
      "Tobias\n"
     ]
    }
   ],
   "source": [
    "# Nested dictionaties\n",
    "#way -1\n",
    "myfamily = {\n",
    "  \"child1\" : {\n",
    "    \"name\" : \"Emil\",\n",
    "    \"year\" : 2004\n",
    "  },\n",
    "  \"child2\" : {\n",
    "    \"name\" : \"Tobias\",\n",
    "    \"year\" : 2007\n",
    "  },\n",
    "  \"child3\" : {\n",
    "    \"name\" : \"Linus\",\n",
    "    \"year\" : 2011\n",
    "  }\n",
    "}\n",
    "\n",
    "#way-2\n",
    "child1 = {\n",
    "  \"name\" : \"Emil\",\n",
    "  \"year\" : 2004\n",
    "}\n",
    "child2 = {\n",
    "  \"name\" : \"Tobias\",\n",
    "  \"year\" : 2007\n",
    "}\n",
    "child3 = {\n",
    "  \"name\" : \"Linus\",\n",
    "  \"year\" : 2011\n",
    "}\n",
    "\n",
    "myfamily = {\n",
    "  \"child1\" : child1,\n",
    "  \"child2\" : child2,\n",
    "  \"child3\" : child3\n",
    "}\n",
    "\n",
    "print(myfamily[\"child2\"][\"name\"])#Tobias"
   ]
  },
  {
   "cell_type": "code",
   "execution_count": 4,
   "metadata": {},
   "outputs": [
    {
     "name": "stdout",
     "output_type": "stream",
     "text": [
      "{1: 'Geeks', 2: 'For', 3: 'Geeks'}\n"
     ]
    }
   ],
   "source": [
    "Dict = {\n",
    "    1: 'Geeks', \n",
    "    2: 'For', \n",
    "    3: 'Geeks'}\n",
    "print(Dict)\n"
   ]
  },
  {
   "cell_type": "code",
   "execution_count": 6,
   "metadata": {},
   "outputs": [
    {
     "name": "stdout",
     "output_type": "stream",
     "text": [
      "\n",
      "Dictionary with the use of Integer Keys: \n",
      "{1: 'Geeks', 2: 'For', 3: 'Geeks'}\n",
      "\n",
      "Dictionary with the use of Mixed Keys: \n",
      "{'Name': 'Geeks', 1: [1, 2, 3, 4]}\n"
     ]
    }
   ],
   "source": [
    "# Creating a Dictionary\n",
    "# with Integer Keys\n",
    "Dict = {1: 'Geeks', 2: 'For', 3: 'Geeks'}\n",
    "print(\"\\nDictionary with the use of Integer Keys: \")\n",
    "print(Dict)\n",
    "\n",
    "# Creating a Dictionary\n",
    "# with Mixed keys\n",
    "Dict = {'Name': 'Geeks', 1: [1, 2, 3, 4]}\n",
    "print(\"\\nDictionary with the use of Mixed Keys: \")\n",
    "print(Dict)\n",
    "\n"
   ]
  },
  {
   "cell_type": "code",
   "execution_count": null,
   "metadata": {},
   "outputs": [],
   "source": []
  }
 ],
 "metadata": {
  "kernelspec": {
   "display_name": "Python 3",
   "language": "python",
   "name": "python3"
  },
  "language_info": {
   "codemirror_mode": {
    "name": "ipython",
    "version": 3
   },
   "file_extension": ".py",
   "mimetype": "text/x-python",
   "name": "python",
   "nbconvert_exporter": "python",
   "pygments_lexer": "ipython3",
   "version": "3.10.6"
  },
  "orig_nbformat": 4
 },
 "nbformat": 4,
 "nbformat_minor": 2
}
