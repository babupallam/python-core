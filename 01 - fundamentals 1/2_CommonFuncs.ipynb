{
 "cells": [
  {
   "cell_type": "code",
   "execution_count": null,
   "metadata": {},
   "outputs": [],
   "source": [
    "n = int(input(\"Enter the size of list : \"))\n",
    "lst = list(map(int, input(\"Enter the integer\\\n",
    "elements:\").strip().split()))[:n]\n",
    "\n",
    "# printing the list\n",
    "print('The list is:', lst)\n"
   ]
  },
  {
   "attachments": {},
   "cell_type": "markdown",
   "metadata": {},
   "source": [
    "# map function\n",
    "    # - for manipulation of a list, tuple\n",
    "    # - map(fun, iter)\n",
    "            - fun: manipulating function\n",
    "            - iter: the list/tuple\n",
    "    # - return => an object \n",
    "            - after applying fun to each item in it\n",
    "    # the resulting object will be in list so list(Result) is mantatory\n"
   ]
  },
  {
   "cell_type": "code",
   "execution_count": null,
   "metadata": {},
   "outputs": [],
   "source": [
    "\n",
    "\n",
    "#example- 1 double the items in a list\n",
    "# using list\n",
    "def doubleFun(n):\n",
    "    return n+n\n",
    "numbers=[1,4,2,56,33]\n",
    "result = map(doubleFun, numbers)\n",
    "print(list(result))\n",
    "\n",
    "#using tuple\n",
    "def doubleFun(n):\n",
    "    return n+n\n",
    "numbers=(1,4,2,56,33)\n",
    "result = map(doubleFun, numbers)\n",
    "print(list(result))"
   ]
  },
  {
   "cell_type": "code",
   "execution_count": null,
   "metadata": {},
   "outputs": [],
   "source": [
    "#example2\n",
    "numbers=(1,4,2,56,33)\n",
    "result = map(lambda x:x+x, numbers)\n",
    "print(list(result))"
   ]
  },
  {
   "cell_type": "code",
   "execution_count": null,
   "metadata": {},
   "outputs": [],
   "source": [
    "#adding two lists\n",
    "\n",
    "numbers1 = [1, 2, 3]\n",
    "numbers2 = [4, 5, 6]\n",
    "\n",
    "result = map(lambda x,y:x+y, numbers1, numbers2)\n",
    "print(list(result))"
   ]
  },
  {
   "cell_type": "code",
   "execution_count": null,
   "metadata": {},
   "outputs": [],
   "source": [
    "# List of strings\n",
    "strings = ['sat', 'bat', 'cat', 'mat']\n",
    "\n",
    "# map() can listify the list of strings individually\n",
    "test = list(map(list, strings))\n",
    "print(test)\n"
   ]
  },
  {
   "cell_type": "code",
   "execution_count": null,
   "metadata": {},
   "outputs": [],
   "source": [
    "# Q Define a function that doubles even numbers\n",
    "#           and leaves odd numbers as is\n",
    "\n",
    "#Method-1\n",
    "numbers =(2,3,4,5,6)\n",
    "def fun(n):\n",
    "    return n+n if n%2==0 else n\n",
    "result =map(fun, numbers)\n",
    "print(list(result))\n",
    "\n",
    "#method2 using lambda\n",
    "numbers =(2,3,4,5,6)\n",
    "result =map(lambda x: x+x if x%2==0 else x, numbers)\n",
    "print(list(result))\n",
    "\n",
    "\n"
   ]
  },
  {
   "attachments": {},
   "cell_type": "markdown",
   "metadata": {},
   "source": [
    "# filter()\n",
    "    - filters subset form a list/tuple/sets/containers of any iterator using a specific function"
   ]
  },
  {
   "cell_type": "code",
   "execution_count": null,
   "metadata": {},
   "outputs": [],
   "source": [
    "\n",
    "#program to filter vowels\n",
    "sequence = [\"b\",\"a\",\"b\",\"u\"]\n",
    "#same as above\n",
    "# sequence = list(\"babu\")\n",
    "def fun(x):\n",
    "    return True if x in ['a','e','i','o','u'] else False\n",
    "result = filter(fun, sequence)\n",
    "# print(list(result))\n",
    "for i in result:\n",
    "    print(i, end=\" \")\n"
   ]
  },
  {
   "cell_type": "code",
   "execution_count": null,
   "metadata": {},
   "outputs": [],
   "source": [
    "# seperate odd numbers form a set of numbers\n",
    "\n",
    "numbers ={1,3,2,5,6,7,3,8}\n",
    "\n",
    "oddNumbes = filter(lambda x: x if x%2!=0 else \"\", numbers)\n",
    "print(list(oddNumbes))\n",
    "\n",
    "# ob: here the duplicate 3 has been avoided since it is set instead of list/tuple\n"
   ]
  },
  {
   "attachments": {},
   "cell_type": "markdown",
   "metadata": {},
   "source": [
    "# Enumerate()\n",
    "    - helps to keep the count of iteration\n",
    "    - this method adds a counter to an iterable and return it\n",
    "        in a form of enumerating objec\n",
    "        enumerate(iterable, start=0)\n",
    "            iterable: an object that support iteration"
   ]
  },
  {
   "cell_type": "code",
   "execution_count": null,
   "metadata": {},
   "outputs": [],
   "source": [
    "# Python program to illustrate\n",
    "# enumerate function\n",
    "l1 = [\"eat\", \"sleep\", \"repeat\"]\n",
    "s1 = \"geek\"\n",
    "  \n",
    "# creating enumerate objects\n",
    "obj1 = enumerate(l1)\n",
    "obj2 = enumerate(s1)\n",
    "  \n",
    "print (\"Return type:\", type(obj1))\n",
    "print (list(enumerate(l1)))\n",
    "  \n",
    "# changing start index to 2 from 0\n",
    "print (list(enumerate(s1, 2)))"
   ]
  },
  {
   "cell_type": "code",
   "execution_count": null,
   "metadata": {},
   "outputs": [],
   "source": [
    "l1 = [\"eat\", \"sleep\", \"repeat\"]\n",
    "\n",
    "for ele in enumerate(l1):\n",
    "    print(ele)\n",
    "\n",
    "for count, ele in enumerate(l1):\n",
    "    print(count,\" \",ele)\n",
    "\n",
    "\n",
    "for count, ele in enumerate(l1,10):\n",
    "    print(count,\" \",ele)"
   ]
  },
  {
   "attachments": {},
   "cell_type": "markdown",
   "metadata": {},
   "source": [
    "# lambda function\n",
    "    lambda (input arguments):(expression)\n",
    "     - arguments: can have any numbers of arguments\n",
    "     - expression: only one expression is allowed\n",
    "     "
   ]
  },
  {
   "cell_type": "code",
   "execution_count": null,
   "metadata": {},
   "outputs": [],
   "source": [
    "# SEQUENCE [START: STOP: STEP]\n",
    "# [::-1]\n",
    "\n",
    "# Difference between a[-1] and a[::-1] in Python\n",
    "# [-1]      => last element\n",
    "# [::-1]    => in reverse order\n",
    "\n",
    "string = \"babu pallam\"\n",
    "print(string.upper())#BABU PALLAM\n",
    "print(string.upper()[::-1])#MALLAP UBAB\n",
    "\n",
    "#create fun which capitalize a string\n",
    "\n",
    "capitalizeAString = lambda str:str.upper()\n",
    "print(capitalizeAString(\"babu pallam\"))#BABU PALLAM\n",
    "\n",
    "#capitalize and reverse the string\n",
    "capitalizeAndReverseAString = lambda str:str.upper()[::-1]\n",
    "print(capitalizeAndReverseAString(\"babu pallam\"))#MALLAP UBAB\n",
    "\n",
    "\n",
    "# ob:\n",
    "    # - lamba takes any number of arguments\n",
    "    # - lambda takes only one expression\n",
    "    # - lambda uses for shorter functions\n",
    "    # - lambda uses when the code readability needs to be reduced\n",
    "\n"
   ]
  },
  {
   "cell_type": "code",
   "execution_count": null,
   "metadata": {},
   "outputs": [],
   "source": [
    "#create a list of 5 with common different is 10\n",
    "\n",
    "list1 = [lambda arg=x:arg+10 for x in range(1,6)]\n",
    "for item in list1:\n",
    "    print(item)\n",
    "#returns function\n",
    "\n",
    "for item in list1:\n",
    "    print(item())\n",
    "#returns value\n",
    "\n",
    "#assign list1 to list2 for reuse\n",
    "list2=[]\n",
    "for item in list1:\n",
    "    list2.append(item())\n",
    "\n",
    "print(list2)\n"
   ]
  },
  {
   "attachments": {},
   "cell_type": "markdown",
   "metadata": {},
   "source": [
    "# Sum()\n",
    "    - sum(iterable, start)\n",
    "        iterable: list/tuple/dictionaries\n",
    "        start: initialValue\n",
    "    - mainly used with numbers"
   ]
  },
  {
   "cell_type": "code",
   "execution_count": null,
   "metadata": {},
   "outputs": [],
   "source": [
    "# Python code to demonstrate the working of\n",
    "# sum()\n",
    "\n",
    "numbers = [1,2,3,4,5,1,4,5]\n",
    "# start parameter is not provided\n",
    "Sum = sum(numbers)\n",
    "print(Sum)#25\n",
    "\n",
    "# start = 10\n",
    "Sum = sum(numbers, 10)\n",
    "print(Sum)#35\n"
   ]
  },
  {
   "cell_type": "code",
   "execution_count": null,
   "metadata": {},
   "outputs": [],
   "source": [
    "#test1\n",
    "# //================================\n",
    "#ob: if comma comes at the end, it will get ignored by the compiler\n",
    "numbers =[1,2,3,4,]\n",
    "print(numbers)\n"
   ]
  },
  {
   "cell_type": "code",
   "execution_count": null,
   "metadata": {},
   "outputs": [],
   "source": [
    "#test2\n",
    "# //================================\n",
    "#ob: the functionname change to something else\n",
    "numbers =[1,2,3,4,5]\n",
    "#result store to same keyword sum\n",
    "sum = sum(numbers)\n",
    "#explanation: at first it will get exicute, but later if we exicute again, it will produce error \n",
    "# since sum keyword points to an integer from now on\n",
    "print(sum)"
   ]
  },
  {
   "cell_type": "code",
   "execution_count": null,
   "metadata": {},
   "outputs": [],
   "source": [
    "#test3\n",
    "arr = [\"a\"]\n",
    "Sum = sum(arr)\n",
    "print(Sum)\n",
    "\n",
    "# start = 10\n",
    "Sum = sum(arr, 10)\n",
    "print(Sum)\n",
    "\n",
    "# ob: TypeError : This error is raised in the \n",
    "#   case when there is anything other than numbers \n",
    "#   in the list. \n",
    "\n"
   ]
  },
  {
   "attachments": {},
   "cell_type": "markdown",
   "metadata": {},
   "source": [
    "# ord()\n",
    "    - ord(ch)\n",
    "        ch = a unicode char\n",
    "    - This function \n",
    "        - accepts a string of unit length as an argument\n",
    "        - returns the Unicode equivalence of the passed argument. \n",
    "        \n",
    "    - In other words, given a string of length 1, the ord() function returns an integer representing the Unicode code point of the character when an argument is a Unicode object, or the value of the byte when the argument is an 8-bit string."
   ]
  },
  {
   "cell_type": "code",
   "execution_count": null,
   "metadata": {},
   "outputs": [],
   "source": [
    "print(ord(\"A\"))#65\n"
   ]
  },
  {
   "cell_type": "code",
   "execution_count": null,
   "metadata": {},
   "outputs": [],
   "source": [
    "#Type Error\n",
    "ptint(ord(\"AB\"))    "
   ]
  },
  {
   "cell_type": "code",
   "execution_count": null,
   "metadata": {},
   "outputs": [],
   "source": [
    "value = ord(\"A\")\n",
    "print(value)#65\n",
    "char = chr(value)\n",
    "print(char)#A\n",
    "\n",
    "# ob:\n",
    "#     ord => char to unicode integer\n",
    "#     chr => unicode integer to char"
   ]
  },
  {
   "attachments": {},
   "cell_type": "markdown",
   "metadata": {},
   "source": [
    "# reduce()  \n",
    "    The reduce(fun,seq) function is used to apply a particular function passed in its argument to all of the list elements mentioned in the sequence passed along.This function is defined in “functools” module.\n",
    "\n",
    "Working :  \n",
    "\n",
    "At first step, first two elements of sequence are picked and the result is obtained.\n",
    "\n",
    "Next step is to apply the same function to the previously attained result and the number just succeeding the second element and the result is again stored.\n",
    "\n",
    "This process continues till no more elements are left in the container.\n",
    "\n",
    "The final returned result is returned and printed on console."
   ]
  },
  {
   "cell_type": "code",
   "execution_count": null,
   "metadata": {},
   "outputs": [],
   "source": [
    "import functools\n",
    "\n",
    "list1 =[1,3,5,6,2]\n",
    "\n",
    "#sum of elements\n",
    "print(functools.reduce(lambda a,b:a+b, list1))#17\n",
    "\n",
    "# largest from the list\n",
    "def largest(a,b):\n",
    "    if a<b:\n",
    "        return b\n",
    "    else:\n",
    "        return a\n",
    "print(functools.reduce(largest, list1))#6"
   ]
  },
  {
   "cell_type": "code",
   "execution_count": null,
   "metadata": {},
   "outputs": [],
   "source": [
    "#using operator functions with reduce()\n",
    "import functools, operator\n",
    "\n",
    "lis = [1,3,5,7,9]\n",
    "#sum of all items in the list\n",
    "print(functools.reduce(operator.add,lis))#25\n",
    "#product of all items in the list\n",
    "print(functools.reduce(operator.mul,lis))#945\n",
    "\n",
    "#concate the given list of string\n",
    "# lis= [\"babu\",\"is\",\"a\",\"good\",\"boy\"]\n",
    "lis = \"babu is a good boy\".split(\" \")\n",
    "print(functools.reduce(operator.add, lis))#babuisagoodboy\n",
    "#using lambda function\n",
    "print(functools.reduce(lambda a,b:a+b, lis))#babuisagoodboy\n"
   ]
  },
  {
   "cell_type": "code",
   "execution_count": 35,
   "metadata": {},
   "outputs": [
    {
     "name": "stdout",
     "output_type": "stream",
     "text": [
      "The summation of list using accumulate is :"
     ]
    },
    {
     "ename": "TypeError",
     "evalue": "'list' object is not callable",
     "output_type": "error",
     "traceback": [
      "\u001b[0;31m---------------------------------------------------------------------------\u001b[0m",
      "\u001b[0;31mTypeError\u001b[0m                                 Traceback (most recent call last)",
      "Cell \u001b[0;32mIn[35], line 28\u001b[0m\n\u001b[1;32m     26\u001b[0m \u001b[39m# printing summation using accumulate()\u001b[39;00m\n\u001b[1;32m     27\u001b[0m \u001b[39mprint\u001b[39m(\u001b[39m\"\u001b[39m\u001b[39mThe summation of list using accumulate is :\u001b[39m\u001b[39m\"\u001b[39m, end\u001b[39m=\u001b[39m\u001b[39m\"\u001b[39m\u001b[39m\"\u001b[39m)\n\u001b[0;32m---> 28\u001b[0m \u001b[39mprint\u001b[39m(\u001b[39mlist\u001b[39;49m(itertools\u001b[39m.\u001b[39;49maccumulate(lis, \u001b[39mlambda\u001b[39;49;00m x, y: x\u001b[39m+\u001b[39;49my)))\n\u001b[1;32m     30\u001b[0m \u001b[39m# printing summation using reduce()\u001b[39;00m\n\u001b[1;32m     31\u001b[0m \u001b[39mprint\u001b[39m(\u001b[39m\"\u001b[39m\u001b[39mThe summation of list using reduce is :\u001b[39m\u001b[39m\"\u001b[39m, end\u001b[39m=\u001b[39m\u001b[39m\"\u001b[39m\u001b[39m\"\u001b[39m)\n",
      "\u001b[0;31mTypeError\u001b[0m: 'list' object is not callable"
     ]
    }
   ],
   "source": [
    "# reduce() vs accumulate() \n",
    "    # - Both reduce() and accumulate() can be used to calculate the summation of a sequence elements.\n",
    "    # - both have different implementation\n",
    "    # - diff1:\n",
    "    #     - reduce() => from functools module\n",
    "    #     - accumulate() => from itertools module\n",
    "    # - diff2:\n",
    "    #     - reduce() => give final summation value\n",
    "    #     -accumulate()   => gives iterator contain intermediate results\n",
    "    #             last number will be the result\n",
    "    # - diff3:\n",
    "    #     - reduce() => recude(fun, seq)\n",
    "    #     -accumulate() => accumulate(seq, fun)\n",
    "\n",
    "import functools    # for reduce\n",
    "import itertools    #m for accumulator\n",
    "\n",
    "lis=[1,3,5,6,13,7,9]\n",
    "\n",
    "#sum\n",
    "print(functools.reduce(lambda x, y: x+y, lis))\n",
    "print(list(itertools.accumulate(lis, lambda x, y: x+y)))"
   ]
  },
  {
   "cell_type": "code",
   "execution_count": null,
   "metadata": {},
   "outputs": [],
   "source": []
  }
 ],
 "metadata": {
  "kernelspec": {
   "display_name": "Python 3",
   "language": "python",
   "name": "python3"
  },
  "language_info": {
   "codemirror_mode": {
    "name": "ipython",
    "version": 3
   },
   "file_extension": ".py",
   "mimetype": "text/x-python",
   "name": "python",
   "nbconvert_exporter": "python",
   "pygments_lexer": "ipython3",
   "version": "3.10.6"
  },
  "orig_nbformat": 4
 },
 "nbformat": 4,
 "nbformat_minor": 2
}
