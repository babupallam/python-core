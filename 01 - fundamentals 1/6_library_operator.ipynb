{
 "cells": [
  {
   "attachments": {},
   "cell_type": "markdown",
   "metadata": {},
   "source": [
    "# Operator Functions"
   ]
  },
  {
   "cell_type": "code",
   "execution_count": 1,
   "metadata": {},
   "outputs": [],
   "source": [
    "import operator"
   ]
  },
  {
   "cell_type": "code",
   "execution_count": 15,
   "metadata": {},
   "outputs": [
    {
     "name": "stdout",
     "output_type": "stream",
     "text": [
      "7\n",
      "1\n",
      "12\n",
      "1.3333333333333333\n",
      "1\n",
      "64\n",
      "2\n",
      "False\n",
      "True\n",
      "True\n",
      "True\n",
      "True\n",
      "True\n",
      "False\n"
     ]
    }
   ],
   "source": [
    "a=4\n",
    "b=3\n",
    "print(operator.add(a,b))#7\n",
    "print(operator.sub(a,b))#1\n",
    "print(operator.mul(a,b))#12\n",
    "\n",
    "print(operator.truediv(a,b))#1.333333333\n",
    "print(operator.floordiv(a,b))#1\n",
    "print(operator.pow(a,b))#64\n",
    "print(operator.mod(12,5))#2\n",
    "\n",
    "print(operator.lt(12,10))#False -- less than\n",
    "print(operator.le(10,10))#True -- less than or equal to\n",
    "print(operator.gt(12,10))#True  -- greater than\n",
    "print(operator.ge(12,10))#True  -- greater than or eual to\n",
    "print(operator.eq(10,10))#True  -- equal\n",
    "print(operator.eq(10,10))#True  -- equal\n",
    "print(operator.ne(10,10))#False  -- not equal\n",
    "\n"
   ]
  },
  {
   "cell_type": "code",
   "execution_count": 23,
   "metadata": {},
   "outputs": [
    {
     "name": "stdout",
     "output_type": "stream",
     "text": [
      "[1, 5, 6, 7, 8]\n",
      "[1, 5, 6, 5, 8]\n",
      "[1, 5, 6, 8]\n",
      "6\n"
     ]
    }
   ],
   "source": [
    "import operator\n",
    "#list\n",
    "li = [1, 5, 6, 7, 8]\n",
    "\n",
    "print(li)#[1, 5, 6, 7, 8]\n",
    "operator.setitem(li,3,5)#update index 3 with value 5\n",
    "print(li)#[1, 5, 6, 5, 8]\n",
    "operator.delitem(li,3)#delete the item at index\n",
    "print(li)#[1, 5, 6, 8]\n",
    "print(operator.getitem(li,2))#6\n",
    "\n",
    "\n",
    "\n"
   ]
  },
  {
   "cell_type": "code",
   "execution_count": 30,
   "metadata": {},
   "outputs": [
    {
     "name": "stdout",
     "output_type": "stream",
     "text": [
      "[1, 5, 6, 7, 8]\n",
      "[1, 20, 30, 40, 50, 6, 7, 8]\n",
      "[1, 20, 50, 6, 7, 8]\n",
      "[1, 20, 50]\n"
     ]
    }
   ],
   "source": [
    "li = [1, 5, 6, 7, 8]\n",
    "print(li)#[1, 5, 6, 7, 8]\n",
    "# using setitem() to assign 20,30,40,50 at 1st and 2nd index\n",
    "operator.setitem(li,slice(1,2),[20,30,40,50])\n",
    "print(li)#[1, 20, 30, 40, 50, 6, 7, 8]\n",
    "# using delitem() to delete value at 3rd and 4th index\n",
    "operator.delitem(li,slice(2,4))\n",
    "print(li)#[1, 20, 50, 6, 7, 8]\n",
    "# using getitem() to access 1st to 3rd element\n",
    "print(operator.getitem(li, slice(0,3)))#[1, 20, 50]\n"
   ]
  },
  {
   "cell_type": "code",
   "execution_count": 33,
   "metadata": {},
   "outputs": [
    {
     "name": "stdout",
     "output_type": "stream",
     "text": [
      "[1, 5, 6, 7, 8, 10, 20, 30]\n",
      "True\n",
      "False\n"
     ]
    }
   ],
   "source": [
    "li1 = [1, 5, 6, 7, 8]\n",
    "li2 =[10,20,30]\n",
    "print(operator.concat(li1,li2))#[1, 5, 6, 7, 8, 10, 20, 30]\n",
    "\n",
    "print(operator.contains(li, 6))#True"
   ]
  },
  {
   "cell_type": "code",
   "execution_count": 36,
   "metadata": {},
   "outputs": [
    {
     "name": "stdout",
     "output_type": "stream",
     "text": [
      "babuabu\n",
      "True\n"
     ]
    }
   ],
   "source": [
    "str1 =\"babu\"\n",
    "str2 =\"abu\"\n",
    "\n",
    "# print(operator.concat(str1,\" \",str2))#error\n",
    "print(operator.concat(str1,str2))#babuabu\n",
    "print(operator.contains(str1,str2))#True"
   ]
  },
  {
   "cell_type": "code",
   "execution_count": 39,
   "metadata": {},
   "outputs": [
    {
     "name": "stdout",
     "output_type": "stream",
     "text": [
      "0\n",
      "1\n",
      "1\n",
      "-2\n"
     ]
    }
   ],
   "source": [
    "a = 1\n",
    "  \n",
    "b = 0\n",
    "  \n",
    "# using and_() to display bitwise and operation\n",
    "print (operator.and_(a,b))#0\n",
    "# using or_() to display bitwise or operation\n",
    "print (operator.or_(a,b))#1\n",
    "# using xor() to display bitwise exclusive or operation\n",
    "print (operator.xor(a,b))#1\n",
    "# using invert() to invert value of a\n",
    "# printing modified value\n",
    "print (operator.invert(a))#-2"
   ]
  },
  {
   "attachments": {},
   "cell_type": "markdown",
   "metadata": {},
   "source": [
    "# Difference between == and is operator in Python\n"
   ]
  },
  {
   "cell_type": "code",
   "execution_count": 8,
   "metadata": {},
   "outputs": [
    {
     "name": "stdout",
     "output_type": "stream",
     "text": [
      "True\n",
      "True\n",
      "140519654031888\n",
      "140519654031888\n",
      "140519654031888\n",
      "True\n"
     ]
    }
   ],
   "source": [
    "# ==    => known as euality operator\n",
    "#       => compare object based on their values\n",
    "# is \n",
    "#       => known as identity operator\n",
    "#       => compare object based on their identities\n",
    "            #  when variabled on either side of the operator point at the exact same object\n",
    "        \n",
    "a=10\n",
    "b=10\n",
    "print(a==b)#True\n",
    "print(a is b)#True\n",
    "\n",
    "print(id(a))#140519654031888\n",
    "print(id(b))#140519654031888\n",
    "# ob: because both a and b is pointing to the same object   \n",
    "\n",
    "c=a\n",
    "print(id(c))#140519654031888\n",
    "print(c is a)#True"
   ]
  },
  {
   "cell_type": "code",
   "execution_count": 6,
   "metadata": {},
   "outputs": [
    {
     "name": "stdout",
     "output_type": "stream",
     "text": [
      "True\n",
      "False\n",
      "True\n",
      "False\n"
     ]
    }
   ],
   "source": [
    "list1 = []\n",
    "list2 = []\n",
    "list3 = list1\n",
    "\n",
    "# case 1\n",
    "print(list1== list2)#True\n",
    "# case 2\n",
    "print(list1 is list2)#False\n",
    "# case 3\n",
    "print(list1 is list3)#True\n",
    "# case 4\n",
    "list3 = list3 + list2\n",
    "print(list1 is list3)#False"
   ]
  },
  {
   "cell_type": "code",
   "execution_count": null,
   "metadata": {},
   "outputs": [],
   "source": []
  }
 ],
 "metadata": {
  "kernelspec": {
   "display_name": "Python 3",
   "language": "python",
   "name": "python3"
  },
  "language_info": {
   "codemirror_mode": {
    "name": "ipython",
    "version": 3
   },
   "file_extension": ".py",
   "mimetype": "text/x-python",
   "name": "python",
   "nbconvert_exporter": "python",
   "pygments_lexer": "ipython3",
   "version": "3.10.6"
  },
  "orig_nbformat": 4
 },
 "nbformat": 4,
 "nbformat_minor": 2
}
