{
 "cells": [
  {
   "attachments": {},
   "cell_type": "markdown",
   "metadata": {},
   "source": [
    "# Python Arrays\n",
    "    - module importing:     \n",
    "        import array as arr\n",
    "    - An array is a collection of items stored at contiguous memory locations\n",
    "    - This makes it easier to calculate the position of each element by simply adding an offset to a base value, i.e., the memory location of the first element of the array\n",
    "    - Syntax: \n",
    "        array(data_type, value_list)\n",
    "\n",
    "        data_type:\n",
    "            Type    Code\t            C Type\t        Python Type\tMin. size(bytes)\n",
    "            b\t    signed char\t        int\t            1\n",
    "            B\t    unsigned char\t    int\t            1\n",
    "            u\t    Py_UNICODE\t        Unicode char;   2\n",
    "            h\t    signed short\t    int\t            2\n",
    "            H\t    unsigned short\t    int\t            2\n",
    "            i\t    signed int\t        int\t            2\n",
    "            I\t    unsigned int\t    int\t            2\n",
    "            l\t    signed long\t        int\t            4\n",
    "            L\t    unsigned long\t    int\t            4\n",
    "            q\t    signed long long\tint\t            8\n",
    "            Q\t    unsigned long long\tint\t            8\n",
    "            f\t    float\t            float\t        4\n",
    "            d\t    double\t            float\t        8\n",
    "        \n"
   ]
  },
  {
   "cell_type": "code",
   "execution_count": 5,
   "metadata": {},
   "outputs": [
    {
     "name": "stdout",
     "output_type": "stream",
     "text": [
      "int array\n",
      "1 2 3 \n",
      "double array\n",
      "1.0 2.0 3.0 "
     ]
    }
   ],
   "source": [
    "import array as arr\n",
    "\n",
    "print(\"int array\")\n",
    "a= arr.array('i',[1,2,3])\n",
    "for i in range(len(a)):\n",
    "    print(a[i], end=\" \")\n",
    "\n",
    "print(\"\\ndouble array\")\n",
    "a= arr.array('d',[1,2,3])\n",
    "for i in range(len(a)):\n",
    "    print(a[i], end=\" \")\n",
    "\n"
   ]
  },
  {
   "cell_type": "code",
   "execution_count": 8,
   "metadata": {},
   "outputs": [
    {
     "name": "stdout",
     "output_type": "stream",
     "text": [
      "2\n",
      "1\n"
     ]
    }
   ],
   "source": [
    "#accessing element\n",
    "a= arr.array('i',[1,2,3])\n",
    "print(a[1])\n",
    "print(a[0])\n",
    "# print(a[5])#error"
   ]
  },
  {
   "cell_type": "code",
   "execution_count": 13,
   "metadata": {},
   "outputs": [
    {
     "name": "stdout",
     "output_type": "stream",
     "text": [
      "array('I', [4, 7, 8, 4])\n",
      "Element at 0th index:  4\n",
      "Element at 1st  index:  7\n",
      "Element at 2nd index:  8\n"
     ]
    }
   ],
   "source": [
    "import array as arr\n",
    "\n",
    "a= arr.array('I',[4,7,8,4])\n",
    "print(a)\n",
    "#ob: duplications are allowed\n",
    "#accessing elements\n",
    "print(\"Element at 0th index: \" , a[0])\n",
    "print(\"Element at 1st  index: \" , a[1])\n",
    "print(\"Element at 2nd index: \" , a[2])\n"
   ]
  },
  {
   "cell_type": "code",
   "execution_count": 14,
   "metadata": {},
   "outputs": [
    {
     "name": "stdout",
     "output_type": "stream",
     "text": [
      "4 7 8 4 "
     ]
    }
   ],
   "source": [
    "#looping through array\n",
    "import array as arr\n",
    "a= arr.array('I',[4,7,8,4])\n",
    "for z in a:\n",
    "    print(z, end=\" \")"
   ]
  },
  {
   "cell_type": "code",
   "execution_count": 17,
   "metadata": {},
   "outputs": [
    {
     "name": "stdout",
     "output_type": "stream",
     "text": [
      "array('I', [4, 7, 8, 4])\n",
      "array('I', [4, 7, 8, 34])\n"
     ]
    }
   ],
   "source": [
    "import array as arr\n",
    "a= arr.array('I',[4,7,8,4])\n",
    "print(a)\n",
    "a[3]=34\n",
    "# a[4]=34#error\n",
    "print(a)"
   ]
  },
  {
   "cell_type": "code",
   "execution_count": 21,
   "metadata": {},
   "outputs": [
    {
     "name": "stdout",
     "output_type": "stream",
     "text": [
      "array('I', [4, 7, 8, 4])\n",
      "array('I', [4, 7, 8, 4, 30, 23])\n",
      "array('I', [4, 7, 8, 4, 30, 23, 33])\n"
     ]
    }
   ],
   "source": [
    "import array as arr\n",
    "a= arr.array('I',[4,7,8,4])\n",
    "print(a)\n",
    "a.append(30)#add at the end of the array\n",
    "a.append(23)\n",
    "print(a)"
   ]
  },
  {
   "cell_type": "code",
   "execution_count": 22,
   "metadata": {},
   "outputs": [
    {
     "name": "stdout",
     "output_type": "stream",
     "text": [
      "array('I', [4, 7, 8, 4])\n",
      "array('I', [4, 7, 8, 4, 33, 89, 788])\n"
     ]
    }
   ],
   "source": [
    "import array as arr\n",
    "a= arr.array('I',[4,7,8,4])\n",
    "print(a)\n",
    "a.extend([33,89,788])#updatin array\n",
    "print(a)"
   ]
  },
  {
   "cell_type": "code",
   "execution_count": 28,
   "metadata": {},
   "outputs": [
    {
     "name": "stdout",
     "output_type": "stream",
     "text": [
      "array('I', [4, 7, 8, 4])\n",
      "array('I', [4, 7, 4])\n",
      "array('I', [4, 7])\n"
     ]
    }
   ],
   "source": [
    "import array as arr\n",
    "a= arr.array('I',[4,7,8,4])\n",
    "print(a)\n",
    "a.remove(8)#delete element\n",
    "print(a)\n",
    "# a.remove(9)#error since element is not present\n",
    "del a[2]#delete element\n",
    "print(a)\n"
   ]
  },
  {
   "cell_type": "code",
   "execution_count": null,
   "metadata": {},
   "outputs": [],
   "source": [
    "#list vs Array\n",
    "    # 1. \n",
    "    #     list can have multiple data types\n",
    "    #     array can have only one type\n",
    "    # 2.\n",
    "    #     list can not manage aithmetic operations\n",
    "    #     array can manage aithmetic operations\n",
    "    # 3.\n",
    "    #     modification of data is flexible in list\n",
    "    #     modification of data is not flexible with array\n",
    "    # 4.\n",
    "    #     list consumes large memory\n",
    "    #     array consumes less compared to list\n",
    "    # 5.\n",
    "    #     list allocate data may not be contiguous memory\n",
    "    #     arrayallocate data in contiguous memory\n"
   ]
  }
 ],
 "metadata": {
  "kernelspec": {
   "display_name": "Python 3",
   "language": "python",
   "name": "python3"
  },
  "language_info": {
   "codemirror_mode": {
    "name": "ipython",
    "version": 3
   },
   "file_extension": ".py",
   "mimetype": "text/x-python",
   "name": "python",
   "nbconvert_exporter": "python",
   "pygments_lexer": "ipython3",
   "version": "3.10.6"
  },
  "orig_nbformat": 4
 },
 "nbformat": 4,
 "nbformat_minor": 2
}
