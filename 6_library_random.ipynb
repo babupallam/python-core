{
 "cells": [
  {
   "attachments": {},
   "cell_type": "markdown",
   "metadata": {},
   "source": [
    "# The random module has a set of methods:\n",
    "\n"
   ]
  },
  {
   "cell_type": "code",
   "execution_count": 2,
   "metadata": {},
   "outputs": [
    {
     "name": "stdout",
     "output_type": "stream",
     "text": [
      "0.27451642940269794\n"
     ]
    }
   ],
   "source": [
    "import random\n",
    "\n",
    "print(random.random())"
   ]
  },
  {
   "cell_type": "code",
   "execution_count": 6,
   "metadata": {},
   "outputs": [
    {
     "name": "stdout",
     "output_type": "stream",
     "text": [
      "0.5714025946899135\n"
     ]
    }
   ],
   "source": [
    "import random\n",
    "\n",
    "#The seed() method is used to initialize the random number generator.\n",
    "#Use the seed() method to customize the start number of the random number generator.\n",
    "random.seed(10)\n",
    "print(random.random())\n"
   ]
  },
  {
   "cell_type": "code",
   "execution_count": 12,
   "metadata": {},
   "outputs": [
    {
     "name": "stdout",
     "output_type": "stream",
     "text": [
      "0.5714025946899135\n",
      "0.5714025946899135\n"
     ]
    }
   ],
   "source": [
    "# Demonstrate that if you use the same seed value twice,\n",
    "#  you will get the same random number twice:\n",
    "import random\n",
    "\n",
    "random.seed(10)\n",
    "print(random.random())\n",
    "\n",
    "random.seed(10)\n",
    "print(random.random())\n",
    "\n"
   ]
  },
  {
   "cell_type": "code",
   "execution_count": 14,
   "metadata": {},
   "outputs": [
    {
     "name": "stdout",
     "output_type": "stream",
     "text": [
      "(3, (2910518045, 2919558713, 592432859, 1634426085, 3924201493, 2436393689, 1577666200, 2922410003, 974169664, 795094350, 229866157, 130904809, 1313496028, 151893204, 3486739395, 1254617844, 3741002464, 4043461294, 940567236, 3349574631, 3489906999, 3261599347, 2403221536, 670872903, 3291149686, 2850655986, 2300538667, 1966995484, 175963536, 924945844, 1168257397, 2243822545, 2476790015, 2148121793, 3534563085, 1634343159, 2195478836, 1940344654, 370949334, 790535762, 1834814106, 4193214965, 3695000399, 2646949069, 1255132785, 3590688196, 3614018245, 1434516408, 1253983818, 2914647727, 2606531973, 2406691187, 1975526356, 189193241, 1108539432, 2680589103, 1694965793, 1270659808, 2973657439, 2369101683, 3184678051, 2395301497, 3818025635, 2083282924, 2495703181, 2124728846, 2038113894, 4244989963, 1156889065, 862609957, 2423551262, 3819059707, 663961624, 1681714007, 956580344, 1691052737, 2131558558, 654187240, 632833144, 3714198047, 567096537, 899554154, 1802427323, 749355744, 2193727072, 814094773, 1966673377, 3483188262, 3304963165, 1367177032, 3891513754, 2505812233, 2020523939, 1985742846, 626704061, 2653107502, 369960010, 286620024, 1371527384, 3694698447, 857611653, 869587454, 2700337194, 2374526720, 49116546, 643099391, 182535168, 3408150791, 1262701388, 2044935380, 66933741, 1206230504, 3689390267, 3730160777, 1209037781, 3887489275, 4160956783, 3262330543, 1378506881, 213395142, 4003002911, 1240622885, 1127976482, 862859126, 951706629, 423108747, 795053686, 963998611, 1732453326, 736754916, 848978347, 3030738943, 3997094088, 3230629491, 2362366182, 380869993, 1437617939, 4032723754, 2655721859, 494454313, 3031980635, 3186607144, 1650607978, 4217776597, 4190195720, 725273803, 4006933892, 2918307247, 2612992595, 3215906428, 2851350426, 138902605, 1697094929, 2328216144, 394484776, 1652463476, 1630639266, 3699042210, 290713434, 3556002357, 1343746095, 1326206488, 655702823, 104936293, 2562826877, 1655598022, 3369850420, 2464204480, 3646132136, 3777599822, 3250707394, 1311671700, 660106068, 2666540169, 3855967181, 3367262877, 3654600570, 4182463737, 2035454178, 3131455025, 3350888983, 2034228846, 3896381437, 553700319, 1513975352, 696913668, 899881025, 2219743994, 1037817141, 1134907302, 393009801, 1982642987, 2425999375, 791671476, 3795955847, 1034404248, 4020367997, 27481502, 1351841369, 2355714421, 2404611283, 479609721, 1112463824, 3928318551, 938984560, 719567750, 110352693, 1639696170, 3186598251, 761292111, 475645688, 2270995138, 728894833, 2926173947, 1320936647, 3383250105, 65720013, 2671014330, 2847387027, 2969121075, 3329352935, 3770288520, 3964206281, 4168182361, 1707359060, 1408257001, 3450715693, 628449203, 610896409, 588905957, 1322830820, 3640462283, 4044750620, 2988164925, 4083824041, 1990129261, 4156233382, 3627401237, 3211010341, 1666616239, 2972480848, 844583042, 44704583, 3282062939, 2321904370, 13127913, 2065944849, 2364468384, 476631061, 3534359369, 1647310850, 266968272, 3454720710, 1795924682, 1820316222, 2507582687, 1496785810, 3992024104, 2288242718, 1335683996, 723170702, 1489652666, 3949068654, 320306710, 4039547071, 1817806802, 3128530084, 1963667656, 2299476734, 2214544820, 256065957, 976636793, 438871982, 3257022782, 3658046347, 1888125657, 3003359985, 3232519787, 2193873780, 2536958314, 612736659, 1757352080, 4126160663, 4208600692, 3357929051, 1349803408, 709797723, 2862193196, 2733865338, 1847917732, 2982838690, 756992610, 416120390, 1772328840, 3511192812, 3639215236, 581323757, 3429866854, 3299034763, 81263526, 2143662131, 3509206122, 1142149236, 2288638797, 2314182509, 3192068459, 2648103877, 31364268, 2871284653, 1933723073, 3554926164, 3163027549, 896467848, 3570120642, 4038118284, 392098617, 1167346532, 1785455384, 2033872205, 1693658308, 2059628508, 2889657430, 2071562487, 4113666792, 3822310955, 3533962258, 1371655696, 1403861461, 421464014, 3959461194, 4149058179, 1086465771, 1015946246, 2621382350, 2000582283, 2881047661, 1627167598, 3039242003, 870964291, 3355521124, 2260981, 1193867314, 1982094414, 3007508121, 2789947772, 167554690, 3028775942, 3246523627, 3674172133, 2758002636, 1559765501, 2027717592, 2915111825, 1190458685, 1058903556, 2432688681, 971451939, 1888620569, 975460118, 1624467345, 136309091, 3997234029, 598318846, 2989382797, 3608316101, 45266846, 1528146332, 1965658838, 3637786198, 2524595919, 4232358541, 1631453446, 1639144870, 4020252532, 3236917143, 1360250576, 2788984411, 3762745571, 3613352771, 3217621372, 301525683, 1343328237, 376601489, 1111565393, 3852204545, 425855701, 3603214514, 336697868, 803277263, 4248673218, 3324796209, 1656738380, 3899708684, 4031041788, 2708835100, 1110160947, 1298501877, 1740735328, 862669803, 3200748959, 1070336453, 1445010694, 780106578, 153499529, 1688823727, 3505867478, 2474839954, 4132413130, 3784848098, 2090083651, 4108657297, 1011350285, 1479116717, 988654479, 1105442054, 380740504, 3203487161, 2643610060, 3322988986, 3221217626, 3592249213, 2779884253, 2044186223, 3076165135, 3806351734, 3060357717, 2863011615, 1169058161, 1113969302, 1045981805, 311464233, 2236176646, 1435805243, 3509008257, 2512719556, 3206195232, 1171330831, 3022981576, 3076049986, 1677146765, 3823183119, 1331676465, 774674370, 2425031589, 3005427466, 3407759373, 3141051671, 3903949247, 3364298405, 1079187575, 3726093522, 2717490088, 3888044370, 1773096918, 123582274, 3938703114, 116639222, 1093335968, 4230241756, 592927768, 1215086274, 990026541, 2309421364, 1242303966, 996591525, 4178510717, 3476836050, 2178247059, 3556310446, 2628742925, 122665979, 1780590194, 2922761788, 1222392510, 631653315, 3959254022, 3653793144, 612798403, 3314303312, 3895051139, 1208878662, 484620038, 3626750088, 3921956316, 3904249617, 3353478870, 249377279, 1753034227, 3565445698, 2095500303, 2480455683, 1292245244, 946291267, 684375320, 104145271, 2913686448, 2225127489, 2472333904, 750174656, 4004286304, 4085497527, 3271252141, 1864494644, 4199917053, 1358886282, 358292498, 2284423264, 797448349, 2293886434, 2336156133, 2389862705, 1443734706, 1644943784, 4261302510, 3324227082, 2865938428, 3042091860, 454590046, 1243572319, 1931670576, 709576968, 1404809709, 434868187, 2115929572, 4209433267, 1742225740, 824328396, 2952650178, 3096666239, 2887532264, 4149344548, 2648994466, 1276043052, 2495228838, 3764729951, 730275817, 4277707459, 1591279516, 312613621, 1748807698, 397249599, 3326824925, 892425536, 1889212692, 1705415062, 2399075847, 2028569480, 2077597603, 559770995, 216133874, 813523529, 1663090043, 1327536309, 1126315189, 3535249660, 1641628170, 348337888, 3109355426, 4058285115, 859672864, 2699711497, 816683043, 2182992420, 1814760603, 3746802868, 3646961272, 3713358315, 492059394, 1300908413, 3272406897, 1809600926, 2628610618, 244337251, 1948103926, 991353850, 543539075, 1534159671, 1747272920, 4028644690, 2570417421, 2025455257, 1249379269, 2357813788, 266006694, 1706446538, 1938738160, 2482161797, 3559851357, 3073890391, 227514435, 152405858, 1227333167, 261909105, 3384151334, 1102033054, 197708743, 1157470553, 478563148, 440882900, 686627002, 357675544, 477440013, 1561143843, 2428402127, 3322010885, 3820876946, 3288851063, 2607677986, 222929805, 4257935406, 3469582068, 3578401122, 3245095917, 1435026106, 1525707182, 1550874090, 3218908085, 1476614429, 1169975610, 1160989991, 1383567367, 4084887544, 2096043608, 2194693540, 2), None)\n"
     ]
    }
   ],
   "source": [
    "# The getstate() method returns an object with the current state of the random number generator.\n",
    "\n",
    "import random\n",
    "\n",
    "print(random.getstate())"
   ]
  },
  {
   "cell_type": "code",
   "execution_count": 16,
   "metadata": {},
   "outputs": [
    {
     "name": "stdout",
     "output_type": "stream",
     "text": [
      "0.20609823213950174\n",
      "0.81332125135732\n",
      "0.81332125135732\n"
     ]
    }
   ],
   "source": [
    "# The setstate() method is used to restore the state of the random number generator back to the specified state\n",
    "\n",
    "\n",
    "import random\n",
    "\n",
    "#print a random number:\n",
    "print(random.random())\n",
    "\n",
    "#capture the state:\n",
    "state = random.getstate()\n",
    "\n",
    "#print another random number:\n",
    "print(random.random())\n",
    "\n",
    "#restore the state:\n",
    "random.setstate(state)\n",
    "\n",
    "#and the next random number should be the same as when you captured the state:\n",
    "print(random.random())\n"
   ]
  },
  {
   "cell_type": "code",
   "execution_count": 20,
   "metadata": {},
   "outputs": [
    {
     "name": "stdout",
     "output_type": "stream",
     "text": [
      "41\n",
      "0\n",
      "4\n"
     ]
    }
   ],
   "source": [
    "# random.getrandbits() Return an 8 bits sized integer:\n",
    "\n",
    "import random\n",
    "\n",
    "print(random.getrandbits(8))\n",
    "print(random.getrandbits(2))\n",
    "print(random.getrandbits(3))"
   ]
  },
  {
   "cell_type": "code",
   "execution_count": 22,
   "metadata": {},
   "outputs": [
    {
     "name": "stdout",
     "output_type": "stream",
     "text": [
      "5\n"
     ]
    }
   ],
   "source": [
    "# The randrange() method returns a randomly selected element from the specified range.\n",
    "import random\n",
    "\n",
    "print(random.randrange(3, 9))"
   ]
  },
  {
   "cell_type": "code",
   "execution_count": 24,
   "metadata": {},
   "outputs": [
    {
     "name": "stdout",
     "output_type": "stream",
     "text": [
      "4\n"
     ]
    }
   ],
   "source": [
    "# The randint() method returns an integer number selected element from the specified range.\n",
    "import random\n",
    "\n",
    "print(random.randint(3, 9))"
   ]
  },
  {
   "cell_type": "code",
   "execution_count": 25,
   "metadata": {},
   "outputs": [
    {
     "name": "stdout",
     "output_type": "stream",
     "text": [
      "cherry\n"
     ]
    }
   ],
   "source": [
    "# The choice() method returns a randomly selected element from the specified sequence.\n",
    "\n",
    "import random\n",
    "\n",
    "mylist = [\"apple\", \"banana\", \"cherry\"]\n",
    "\n",
    "print(random.choice(mylist))"
   ]
  },
  {
   "cell_type": "code",
   "execution_count": 26,
   "metadata": {},
   "outputs": [
    {
     "name": "stdout",
     "output_type": "stream",
     "text": [
      "L\n"
     ]
    }
   ],
   "source": [
    "import random\n",
    "\n",
    "x = \"WELCOME\"\n",
    "\n",
    "print(random.choice(x))"
   ]
  },
  {
   "cell_type": "code",
   "execution_count": 39,
   "metadata": {},
   "outputs": [
    {
     "name": "stdout",
     "output_type": "stream",
     "text": [
      "['apple', 'apple', 'apple', 'apple', 'apple', 'apple', 'cherry', 'apple', 'banana', 'apple', 'banana', 'apple', 'banana', 'apple']\n"
     ]
    }
   ],
   "source": [
    "# The choices() method returns a list with the randomly selected element from the specified sequence.\n",
    "    # Syntax: random.choices(sequence, weights=None, cum_weights=None, k=1)\n",
    "        # sequence:\tRequired. A sequence like a list, a tuple, a range of numbers etc.\n",
    "        # weights :\tOptional. A list were you can weigh the possibility for each value.\n",
    "                    #   Default None\n",
    "        # cum_weights:\tOptional. A list were you can weigh the possibility for each value, only this time the possibility is accumulated.\n",
    "                    #   Example: normal weights list: [2, 1, 1] is the same as this cum_weights list; [2, 3, 4].\n",
    "                    # Default None\n",
    "        # k\tOptional. An integer defining the length of the returned list\n",
    "\n",
    "\n",
    "import random\n",
    "\n",
    "mylist = [\"apple\", \"banana\", \"cherry\"]\n",
    "\n",
    "print(random.choices(mylist, weights = [10, 1, 1], k = 14))\n"
   ]
  },
  {
   "cell_type": "code",
   "execution_count": 47,
   "metadata": {},
   "outputs": [
    {
     "name": "stdout",
     "output_type": "stream",
     "text": [
      "['apple', 'apple', 'banana', 'apple']\n"
     ]
    }
   ],
   "source": [
    "\n",
    "import random\n",
    "\n",
    "mylist = [\"apple\", \"banana\", \"cherry\"]\n",
    "\n",
    "print(random.choices(mylist, weights = [2, 1, 1], k = 4))"
   ]
  },
  {
   "cell_type": "code",
   "execution_count": 48,
   "metadata": {},
   "outputs": [
    {
     "name": "stdout",
     "output_type": "stream",
     "text": [
      "['apple', 'cherry', 'banana']\n"
     ]
    }
   ],
   "source": [
    "import random\n",
    "\n",
    "mylist = [\"apple\", \"banana\", \"cherry\"]\n",
    "random.shuffle(mylist)\n",
    "\n",
    "print(mylist)"
   ]
  },
  {
   "cell_type": "code",
   "execution_count": 49,
   "metadata": {},
   "outputs": [
    {
     "name": "stdout",
     "output_type": "stream",
     "text": [
      "['banana', 'cherry', 'apple']\n"
     ]
    },
    {
     "name": "stderr",
     "output_type": "stream",
     "text": [
      "/tmp/ipykernel_22225/1563022612.py:7: DeprecationWarning: The *random* parameter to shuffle() has been deprecated\n",
      "since Python 3.9 and will be removed in a subsequent version.\n",
      "  random.shuffle(mylist, myfunction)\n"
     ]
    }
   ],
   "source": [
    "import random\n",
    "\n",
    "def myfunction():\n",
    "  return 0.1\n",
    "\n",
    "mylist = [\"apple\", \"banana\", \"cherry\"]\n",
    "random.shuffle(mylist, myfunction)\n",
    "\n",
    "print(mylist)"
   ]
  },
  {
   "cell_type": "code",
   "execution_count": 50,
   "metadata": {},
   "outputs": [
    {
     "name": "stdout",
     "output_type": "stream",
     "text": [
      "['cherry', 'banana']\n"
     ]
    }
   ],
   "source": [
    "import random\n",
    "\n",
    "mylist = [\"apple\", \"banana\", \"cherry\"]\n",
    "\n",
    "print(random.sample(mylist, k=2))"
   ]
  },
  {
   "cell_type": "code",
   "execution_count": 52,
   "metadata": {},
   "outputs": [
    {
     "name": "stdout",
     "output_type": "stream",
     "text": [
      "41.59228376145592\n"
     ]
    }
   ],
   "source": [
    "# Return a random number between, and included, 20 and 60:\n",
    "#The uniform() method returns a random floating number between the two specified numbers (both included).\n",
    "\n",
    "import random\n",
    "\n",
    "print(random.uniform(20, 60))"
   ]
  },
  {
   "cell_type": "code",
   "execution_count": 56,
   "metadata": {},
   "outputs": [
    {
     "name": "stdout",
     "output_type": "stream",
     "text": [
      "28.209978957757258\n"
     ]
    }
   ],
   "source": [
    "# The triangular() method returns a random floating number between the two specified numbers (both included), but you can also specify a third parameter, the mode parameter.\n",
    "# The mode parameter gives you the opportunity to weigh the possible outcome closer to one of the other two parameter values.\n",
    "\n",
    "\n",
    "import random\n",
    "\n",
    "print(random.triangular(20, 60, 30))"
   ]
  },
  {
   "cell_type": "code",
   "execution_count": null,
   "metadata": {},
   "outputs": [],
   "source": [
    "# "
   ]
  }
 ],
 "metadata": {
  "kernelspec": {
   "display_name": "Python 3",
   "language": "python",
   "name": "python3"
  },
  "language_info": {
   "name": "python",
   "version": "3.10.6"
  },
  "orig_nbformat": 4
 },
 "nbformat": 4,
 "nbformat_minor": 2
}
